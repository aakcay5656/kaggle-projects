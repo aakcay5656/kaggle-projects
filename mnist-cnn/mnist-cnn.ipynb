{
 "cells": [
  {
   "cell_type": "code",
   "execution_count": 1,
   "id": "18c03c7f",
   "metadata": {
    "_cell_guid": "b1076dfc-b9ad-4769-8c92-a6c4dae69d19",
    "_uuid": "8f2839f25d086af736a60e9eeb907d3b93b6e0e5",
    "execution": {
     "iopub.execute_input": "2024-07-19T08:32:08.151983Z",
     "iopub.status.busy": "2024-07-19T08:32:08.151467Z",
     "iopub.status.idle": "2024-07-19T08:32:26.722543Z",
     "shell.execute_reply": "2024-07-19T08:32:26.721180Z"
    },
    "papermill": {
     "duration": 18.580939,
     "end_time": "2024-07-19T08:32:26.726229",
     "exception": false,
     "start_time": "2024-07-19T08:32:08.145290",
     "status": "completed"
    },
    "tags": []
   },
   "outputs": [
    {
     "name": "stderr",
     "output_type": "stream",
     "text": [
      "2024-07-19 08:32:10.861197: E external/local_xla/xla/stream_executor/cuda/cuda_dnn.cc:9261] Unable to register cuDNN factory: Attempting to register factory for plugin cuDNN when one has already been registered\n",
      "2024-07-19 08:32:10.861340: E external/local_xla/xla/stream_executor/cuda/cuda_fft.cc:607] Unable to register cuFFT factory: Attempting to register factory for plugin cuFFT when one has already been registered\n",
      "2024-07-19 08:32:11.037095: E external/local_xla/xla/stream_executor/cuda/cuda_blas.cc:1515] Unable to register cuBLAS factory: Attempting to register factory for plugin cuBLAS when one has already been registered\n"
     ]
    }
   ],
   "source": [
    "from tensorflow.keras.models import Sequential\n",
    "from tensorflow.keras.layers import Conv2D, MaxPooling2D, Activation, Dropout, Flatten, Dense, BatchNormalization\n",
    "from tensorflow.keras.preprocessing.image import ImageDataGenerator, img_to_array, load_img\n",
    "from keras.utils import to_categorical\n",
    "import matplotlib.pyplot as plt\n",
    "import numpy as np\n",
    "import warnings\n",
    "\n",
    "warnings.filterwarnings(\"ignore\")"
   ]
  },
  {
   "cell_type": "code",
   "execution_count": 2,
   "id": "d9489578",
   "metadata": {
    "execution": {
     "iopub.execute_input": "2024-07-19T08:32:26.740110Z",
     "iopub.status.busy": "2024-07-19T08:32:26.738532Z",
     "iopub.status.idle": "2024-07-19T08:32:26.745607Z",
     "shell.execute_reply": "2024-07-19T08:32:26.743978Z"
    },
    "papermill": {
     "duration": 0.015757,
     "end_time": "2024-07-19T08:32:26.748516",
     "exception": false,
     "start_time": "2024-07-19T08:32:26.732759",
     "status": "completed"
    },
    "tags": []
   },
   "outputs": [],
   "source": [
    "import pandas as pd\n",
    "\n",
    "train_path = '/kaggle/input/mnist-in-csv/mnist_train.csv'\n",
    "test_path = '/kaggle/input/mnist-in-csv/mnist_train.csv'\n"
   ]
  },
  {
   "cell_type": "code",
   "execution_count": 3,
   "id": "30cbe11a",
   "metadata": {
    "execution": {
     "iopub.execute_input": "2024-07-19T08:32:26.758563Z",
     "iopub.status.busy": "2024-07-19T08:32:26.758069Z",
     "iopub.status.idle": "2024-07-19T08:32:26.768978Z",
     "shell.execute_reply": "2024-07-19T08:32:26.767318Z"
    },
    "papermill": {
     "duration": 0.019448,
     "end_time": "2024-07-19T08:32:26.771945",
     "exception": false,
     "start_time": "2024-07-19T08:32:26.752497",
     "status": "completed"
    },
    "tags": []
   },
   "outputs": [],
   "source": [
    "# load and preprocess\n",
    "def load_and_preprocess(data_path):\n",
    "    data = pd.read_csv(data_path)\n",
    "    data = data.to_numpy()\n",
    "    np.random.shuffle(data)\n",
    "    x = data[:,1:].reshape(-1,28,28,1)/255.0\n",
    "    y = data[:,0].astype(np.int32)\n",
    "    y = to_categorical(y,num_classes = len(set(y)))\n",
    "    \n",
    "    return x,y\n"
   ]
  },
  {
   "cell_type": "code",
   "execution_count": 4,
   "id": "ac8ab09b",
   "metadata": {
    "execution": {
     "iopub.execute_input": "2024-07-19T08:32:26.782659Z",
     "iopub.status.busy": "2024-07-19T08:32:26.782192Z",
     "iopub.status.idle": "2024-07-19T08:32:40.117846Z",
     "shell.execute_reply": "2024-07-19T08:32:40.116590Z"
    },
    "papermill": {
     "duration": 13.344453,
     "end_time": "2024-07-19T08:32:40.120905",
     "exception": false,
     "start_time": "2024-07-19T08:32:26.776452",
     "status": "completed"
    },
    "tags": []
   },
   "outputs": [],
   "source": [
    "x_train,y_train = load_and_preprocess(train_path)\n",
    "x_test,y_test = load_and_preprocess(test_path)"
   ]
  },
  {
   "cell_type": "code",
   "execution_count": 5,
   "id": "38c470d5",
   "metadata": {
    "execution": {
     "iopub.execute_input": "2024-07-19T08:32:40.130379Z",
     "iopub.status.busy": "2024-07-19T08:32:40.129986Z",
     "iopub.status.idle": "2024-07-19T08:32:40.243579Z",
     "shell.execute_reply": "2024-07-19T08:32:40.242185Z"
    },
    "papermill": {
     "duration": 0.123946,
     "end_time": "2024-07-19T08:32:40.248791",
     "exception": false,
     "start_time": "2024-07-19T08:32:40.124845",
     "status": "completed"
    },
    "tags": []
   },
   "outputs": [
    {
     "data": {
      "image/png": "[encoded data removed]",
      "text/plain": [
       "<Figure size 640x480 with 1 Axes>"
      ]
     },
     "metadata": {},
     "output_type": "display_data"
    },
    {
     "name": "stdout",
     "output_type": "stream",
     "text": [
      "9\n"
     ]
    }
   ],
   "source": [
    "index = 3\n",
    "vis = x_train.reshape(60000,28,28)\n",
    "plt.imshow(vis[index,:,:])\n",
    "plt.legend()\n",
    "plt.axis(\"off\")\n",
    "plt.show()\n",
    "print(np.argmax(y_train[index]))"
   ]
  },
  {
   "cell_type": "code",
   "execution_count": 6,
   "id": "92de389f",
   "metadata": {
    "execution": {
     "iopub.execute_input": "2024-07-19T08:32:40.259271Z",
     "iopub.status.busy": "2024-07-19T08:32:40.258852Z",
     "iopub.status.idle": "2024-07-19T09:19:03.536485Z",
     "shell.execute_reply": "2024-07-19T09:19:03.534932Z"
    },
    "papermill": {
     "duration": 2783.342068,
     "end_time": "2024-07-19T09:19:03.594943",
     "exception": false,
     "start_time": "2024-07-19T08:32:40.252875",
     "status": "completed"
    },
    "tags": []
   },
   "outputs": [
    {
     "name": "stdout",
     "output_type": "stream",
     "text": [
      "Epoch 1/50\n",
      "\u001b[1m15/15\u001b[0m \u001b[32m━━━━━━━━━━━━━━━━━━━━\u001b[0m\u001b[37m\u001b[0m \u001b[1m50s\u001b[0m 3s/step - accuracy: 0.5300 - loss: 1.4788 - val_accuracy: 0.6351 - val_loss: 2.0043\n",
      "Epoch 2/50\n",
      "\u001b[1m15/15\u001b[0m \u001b[32m━━━━━━━━━━━━━━━━━━━━\u001b[0m\u001b[37m\u001b[0m \u001b[1m46s\u001b[0m 3s/step - accuracy: 0.9162 - loss: 0.2911 - val_accuracy: 0.1223 - val_loss: 2.1449\n",
      "Epoch 3/50\n",
      "\u001b[1m15/15\u001b[0m \u001b[32m━━━━━━━━━━━━━━━━━━━━\u001b[0m\u001b[37m\u001b[0m \u001b[1m82s\u001b[0m 3s/step - accuracy: 0.9531 - loss: 0.1575 - val_accuracy: 0.1124 - val_loss: 2.5156\n",
      "Epoch 4/50\n",
      "\u001b[1m15/15\u001b[0m \u001b[32m━━━━━━━━━━━━━━━━━━━━\u001b[0m\u001b[37m\u001b[0m \u001b[1m47s\u001b[0m 3s/step - accuracy: 0.9656 - loss: 0.1123 - val_accuracy: 0.1124 - val_loss: 2.8547\n",
      "Epoch 5/50\n",
      "\u001b[1m15/15\u001b[0m \u001b[32m━━━━━━━━━━━━━━━━━━━━\u001b[0m\u001b[37m\u001b[0m \u001b[1m47s\u001b[0m 3s/step - accuracy: 0.9744 - loss: 0.0872 - val_accuracy: 0.1124 - val_loss: 3.1039\n",
      "Epoch 6/50\n",
      "\u001b[1m15/15\u001b[0m \u001b[32m━━━━━━━━━━━━━━━━━━━━\u001b[0m\u001b[37m\u001b[0m \u001b[1m47s\u001b[0m 3s/step - accuracy: 0.9784 - loss: 0.0720 - val_accuracy: 0.1124 - val_loss: 3.3834\n",
      "Epoch 7/50\n",
      "\u001b[1m15/15\u001b[0m \u001b[32m━━━━━━━━━━━━━━━━━━━━\u001b[0m\u001b[37m\u001b[0m \u001b[1m45s\u001b[0m 3s/step - accuracy: 0.9813 - loss: 0.0636 - val_accuracy: 0.1124 - val_loss: 3.6520\n",
      "Epoch 8/50\n",
      "\u001b[1m15/15\u001b[0m \u001b[32m━━━━━━━━━━━━━━━━━━━━\u001b[0m\u001b[37m\u001b[0m \u001b[1m44s\u001b[0m 3s/step - accuracy: 0.9837 - loss: 0.0542 - val_accuracy: 0.1124 - val_loss: 3.8257\n",
      "Epoch 9/50\n",
      "\u001b[1m15/15\u001b[0m \u001b[32m━━━━━━━━━━━━━━━━━━━━\u001b[0m\u001b[37m\u001b[0m \u001b[1m45s\u001b[0m 3s/step - accuracy: 0.9862 - loss: 0.0475 - val_accuracy: 0.1124 - val_loss: 3.9221\n",
      "Epoch 10/50\n",
      "\u001b[1m15/15\u001b[0m \u001b[32m━━━━━━━━━━━━━━━━━━━━\u001b[0m\u001b[37m\u001b[0m \u001b[1m81s\u001b[0m 3s/step - accuracy: 0.9880 - loss: 0.0419 - val_accuracy: 0.1124 - val_loss: 4.1678\n",
      "Epoch 11/50\n",
      "\u001b[1m15/15\u001b[0m \u001b[32m━━━━━━━━━━━━━━━━━━━━\u001b[0m\u001b[37m\u001b[0m \u001b[1m47s\u001b[0m 3s/step - accuracy: 0.9901 - loss: 0.0354 - val_accuracy: 0.1124 - val_loss: 4.2911\n",
      "Epoch 12/50\n",
      "\u001b[1m15/15\u001b[0m \u001b[32m━━━━━━━━━━━━━━━━━━━━\u001b[0m\u001b[37m\u001b[0m \u001b[1m45s\u001b[0m 3s/step - accuracy: 0.9917 - loss: 0.0314 - val_accuracy: 0.1124 - val_loss: 4.4034\n",
      "Epoch 13/50\n",
      "\u001b[1m15/15\u001b[0m \u001b[32m━━━━━━━━━━━━━━━━━━━━\u001b[0m\u001b[37m\u001b[0m \u001b[1m46s\u001b[0m 3s/step - accuracy: 0.9928 - loss: 0.0279 - val_accuracy: 0.1124 - val_loss: 4.6135\n",
      "Epoch 14/50\n",
      "\u001b[1m15/15\u001b[0m \u001b[32m━━━━━━━━━━━━━━━━━━━━\u001b[0m\u001b[37m\u001b[0m \u001b[1m45s\u001b[0m 3s/step - accuracy: 0.9933 - loss: 0.0248 - val_accuracy: 0.1124 - val_loss: 4.6073\n",
      "Epoch 15/50\n",
      "\u001b[1m15/15\u001b[0m \u001b[32m━━━━━━━━━━━━━━━━━━━━\u001b[0m\u001b[37m\u001b[0m \u001b[1m44s\u001b[0m 3s/step - accuracy: 0.9943 - loss: 0.0213 - val_accuracy: 0.1124 - val_loss: 4.6089\n",
      "Epoch 16/50\n",
      "\u001b[1m15/15\u001b[0m \u001b[32m━━━━━━━━━━━━━━━━━━━━\u001b[0m\u001b[37m\u001b[0m \u001b[1m82s\u001b[0m 3s/step - accuracy: 0.9950 - loss: 0.0177 - val_accuracy: 0.1124 - val_loss: 4.4486\n",
      "Epoch 17/50\n",
      "\u001b[1m15/15\u001b[0m \u001b[32m━━━━━━━━━━━━━━━━━━━━\u001b[0m\u001b[37m\u001b[0m \u001b[1m82s\u001b[0m 3s/step - accuracy: 0.9960 - loss: 0.0171 - val_accuracy: 0.1124 - val_loss: 4.3801\n",
      "Epoch 18/50\n",
      "\u001b[1m15/15\u001b[0m \u001b[32m━━━━━━━━━━━━━━━━━━━━\u001b[0m\u001b[37m\u001b[0m \u001b[1m45s\u001b[0m 3s/step - accuracy: 0.9970 - loss: 0.0135 - val_accuracy: 0.1124 - val_loss: 4.3421\n",
      "Epoch 19/50\n",
      "\u001b[1m15/15\u001b[0m \u001b[32m━━━━━━━━━━━━━━━━━━━━\u001b[0m\u001b[37m\u001b[0m \u001b[1m82s\u001b[0m 3s/step - accuracy: 0.9974 - loss: 0.0124 - val_accuracy: 0.1133 - val_loss: 4.1064\n",
      "Epoch 20/50\n",
      "\u001b[1m15/15\u001b[0m \u001b[32m━━━━━━━━━━━━━━━━━━━━\u001b[0m\u001b[37m\u001b[0m \u001b[1m45s\u001b[0m 3s/step - accuracy: 0.9978 - loss: 0.0108 - val_accuracy: 0.1180 - val_loss: 3.7728\n",
      "Epoch 21/50\n",
      "\u001b[1m15/15\u001b[0m \u001b[32m━━━━━━━━━━━━━━━━━━━━\u001b[0m\u001b[37m\u001b[0m \u001b[1m82s\u001b[0m 3s/step - accuracy: 0.9980 - loss: 0.0095 - val_accuracy: 0.1376 - val_loss: 3.5277\n",
      "Epoch 22/50\n",
      "\u001b[1m15/15\u001b[0m \u001b[32m━━━━━━━━━━━━━━━━━━━━\u001b[0m\u001b[37m\u001b[0m \u001b[1m81s\u001b[0m 3s/step - accuracy: 0.9989 - loss: 0.0087 - val_accuracy: 0.1592 - val_loss: 3.3321\n",
      "Epoch 23/50\n",
      "\u001b[1m15/15\u001b[0m \u001b[32m━━━━━━━━━━━━━━━━━━━━\u001b[0m\u001b[37m\u001b[0m \u001b[1m45s\u001b[0m 3s/step - accuracy: 0.9984 - loss: 0.0077 - val_accuracy: 0.1988 - val_loss: 2.9864\n",
      "Epoch 24/50\n",
      "\u001b[1m15/15\u001b[0m \u001b[32m━━━━━━━━━━━━━━━━━━━━\u001b[0m\u001b[37m\u001b[0m \u001b[1m45s\u001b[0m 3s/step - accuracy: 0.9987 - loss: 0.0073 - val_accuracy: 0.2510 - val_loss: 2.4707\n",
      "Epoch 25/50\n",
      "\u001b[1m15/15\u001b[0m \u001b[32m━━━━━━━━━━━━━━━━━━━━\u001b[0m\u001b[37m\u001b[0m \u001b[1m44s\u001b[0m 3s/step - accuracy: 0.9991 - loss: 0.0062 - val_accuracy: 0.3603 - val_loss: 1.9770\n",
      "Epoch 26/50\n",
      "\u001b[1m15/15\u001b[0m \u001b[32m━━━━━━━━━━━━━━━━━━━━\u001b[0m\u001b[37m\u001b[0m \u001b[1m45s\u001b[0m 3s/step - accuracy: 0.9992 - loss: 0.0055 - val_accuracy: 0.4631 - val_loss: 1.6284\n",
      "Epoch 27/50\n",
      "\u001b[1m15/15\u001b[0m \u001b[32m━━━━━━━━━━━━━━━━━━━━\u001b[0m\u001b[37m\u001b[0m \u001b[1m82s\u001b[0m 3s/step - accuracy: 0.9993 - loss: 0.0052 - val_accuracy: 0.5596 - val_loss: 1.2669\n",
      "Epoch 28/50\n",
      "\u001b[1m15/15\u001b[0m \u001b[32m━━━━━━━━━━━━━━━━━━━━\u001b[0m\u001b[37m\u001b[0m \u001b[1m45s\u001b[0m 3s/step - accuracy: 0.9995 - loss: 0.0047 - val_accuracy: 0.6768 - val_loss: 0.8950\n",
      "Epoch 29/50\n",
      "\u001b[1m15/15\u001b[0m \u001b[32m━━━━━━━━━━━━━━━━━━━━\u001b[0m\u001b[37m\u001b[0m \u001b[1m45s\u001b[0m 3s/step - accuracy: 0.9996 - loss: 0.0040 - val_accuracy: 0.7555 - val_loss: 0.6794\n",
      "Epoch 30/50\n",
      "\u001b[1m15/15\u001b[0m \u001b[32m━━━━━━━━━━━━━━━━━━━━\u001b[0m\u001b[37m\u001b[0m \u001b[1m82s\u001b[0m 3s/step - accuracy: 0.9998 - loss: 0.0033 - val_accuracy: 0.7898 - val_loss: 0.5937\n",
      "Epoch 31/50\n",
      "\u001b[1m15/15\u001b[0m \u001b[32m━━━━━━━━━━━━━━━━━━━━\u001b[0m\u001b[37m\u001b[0m \u001b[1m45s\u001b[0m 3s/step - accuracy: 0.9999 - loss: 0.0030 - val_accuracy: 0.8793 - val_loss: 0.3424\n",
      "Epoch 32/50\n",
      "\u001b[1m15/15\u001b[0m \u001b[32m━━━━━━━━━━━━━━━━━━━━\u001b[0m\u001b[37m\u001b[0m \u001b[1m82s\u001b[0m 3s/step - accuracy: 0.9997 - loss: 0.0030 - val_accuracy: 0.8997 - val_loss: 0.2862\n",
      "Epoch 33/50\n",
      "\u001b[1m15/15\u001b[0m \u001b[32m━━━━━━━━━━━━━━━━━━━━\u001b[0m\u001b[37m\u001b[0m \u001b[1m45s\u001b[0m 3s/step - accuracy: 0.9998 - loss: 0.0027 - val_accuracy: 0.9368 - val_loss: 0.1826\n",
      "Epoch 34/50\n",
      "\u001b[1m15/15\u001b[0m \u001b[32m━━━━━━━━━━━━━━━━━━━━\u001b[0m\u001b[37m\u001b[0m \u001b[1m46s\u001b[0m 3s/step - accuracy: 0.9998 - loss: 0.0024 - val_accuracy: 0.9552 - val_loss: 0.1276\n",
      "Epoch 35/50\n",
      "\u001b[1m15/15\u001b[0m \u001b[32m━━━━━━━━━━━━━━━━━━━━\u001b[0m\u001b[37m\u001b[0m \u001b[1m45s\u001b[0m 3s/step - accuracy: 0.9997 - loss: 0.0024 - val_accuracy: 0.9718 - val_loss: 0.0810\n",
      "Epoch 36/50\n",
      "\u001b[1m15/15\u001b[0m \u001b[32m━━━━━━━━━━━━━━━━━━━━\u001b[0m\u001b[37m\u001b[0m \u001b[1m44s\u001b[0m 3s/step - accuracy: 0.9998 - loss: 0.0022 - val_accuracy: 0.9676 - val_loss: 0.0920\n",
      "Epoch 37/50\n",
      "\u001b[1m15/15\u001b[0m \u001b[32m━━━━━━━━━━━━━━━━━━━━\u001b[0m\u001b[37m\u001b[0m \u001b[1m45s\u001b[0m 3s/step - accuracy: 0.9999 - loss: 0.0020 - val_accuracy: 0.9822 - val_loss: 0.0507\n",
      "Epoch 38/50\n",
      "\u001b[1m15/15\u001b[0m \u001b[32m━━━━━━━━━━━━━━━━━━━━\u001b[0m\u001b[37m\u001b[0m \u001b[1m45s\u001b[0m 3s/step - accuracy: 0.9999 - loss: 0.0018 - val_accuracy: 0.9894 - val_loss: 0.0304\n",
      "Epoch 39/50\n",
      "\u001b[1m15/15\u001b[0m \u001b[32m━━━━━━━━━━━━━━━━━━━━\u001b[0m\u001b[37m\u001b[0m \u001b[1m81s\u001b[0m 3s/step - accuracy: 1.0000 - loss: 0.0016 - val_accuracy: 0.9923 - val_loss: 0.0235\n",
      "Epoch 40/50\n",
      "\u001b[1m15/15\u001b[0m \u001b[32m━━━━━━━━━━━━━━━━━━━━\u001b[0m\u001b[37m\u001b[0m \u001b[1m83s\u001b[0m 3s/step - accuracy: 0.9999 - loss: 0.0015 - val_accuracy: 0.9943 - val_loss: 0.0176\n",
      "Epoch 41/50\n",
      "\u001b[1m15/15\u001b[0m \u001b[32m━━━━━━━━━━━━━━━━━━━━\u001b[0m\u001b[37m\u001b[0m \u001b[1m44s\u001b[0m 3s/step - accuracy: 0.9999 - loss: 0.0014 - val_accuracy: 0.9960 - val_loss: 0.0138\n",
      "Epoch 42/50\n",
      "\u001b[1m15/15\u001b[0m \u001b[32m━━━━━━━━━━━━━━━━━━━━\u001b[0m\u001b[37m\u001b[0m \u001b[1m83s\u001b[0m 3s/step - accuracy: 1.0000 - loss: 0.0013 - val_accuracy: 0.9956 - val_loss: 0.0136\n",
      "Epoch 43/50\n",
      "\u001b[1m15/15\u001b[0m \u001b[32m━━━━━━━━━━━━━━━━━━━━\u001b[0m\u001b[37m\u001b[0m \u001b[1m44s\u001b[0m 3s/step - accuracy: 0.9999 - loss: 0.0012 - val_accuracy: 0.9965 - val_loss: 0.0119\n",
      "Epoch 44/50\n",
      "\u001b[1m15/15\u001b[0m \u001b[32m━━━━━━━━━━━━━━━━━━━━\u001b[0m\u001b[37m\u001b[0m \u001b[1m45s\u001b[0m 3s/step - accuracy: 0.9999 - loss: 0.0013 - val_accuracy: 0.9988 - val_loss: 0.0054\n",
      "Epoch 45/50\n",
      "\u001b[1m15/15\u001b[0m \u001b[32m━━━━━━━━━━━━━━━━━━━━\u001b[0m\u001b[37m\u001b[0m \u001b[1m45s\u001b[0m 3s/step - accuracy: 1.0000 - loss: 0.0012 - val_accuracy: 0.9997 - val_loss: 0.0031\n",
      "Epoch 46/50\n",
      "\u001b[1m15/15\u001b[0m \u001b[32m━━━━━━━━━━━━━━━━━━━━\u001b[0m\u001b[37m\u001b[0m \u001b[1m83s\u001b[0m 3s/step - accuracy: 1.0000 - loss: 0.0011 - val_accuracy: 1.0000 - val_loss: 0.0013\n",
      "Epoch 47/50\n",
      "\u001b[1m15/15\u001b[0m \u001b[32m━━━━━━━━━━━━━━━━━━━━\u001b[0m\u001b[37m\u001b[0m \u001b[1m45s\u001b[0m 3s/step - accuracy: 1.0000 - loss: 0.0010 - val_accuracy: 1.0000 - val_loss: 0.0011\n",
      "Epoch 48/50\n",
      "\u001b[1m15/15\u001b[0m \u001b[32m━━━━━━━━━━━━━━━━━━━━\u001b[0m\u001b[37m\u001b[0m \u001b[1m45s\u001b[0m 3s/step - accuracy: 1.0000 - loss: 0.0010 - val_accuracy: 1.0000 - val_loss: 7.7853e-04\n",
      "Epoch 49/50\n",
      "\u001b[1m15/15\u001b[0m \u001b[32m━━━━━━━━━━━━━━━━━━━━\u001b[0m\u001b[37m\u001b[0m \u001b[1m48s\u001b[0m 3s/step - accuracy: 1.0000 - loss: 9.2784e-04 - val_accuracy: 1.0000 - val_loss: 8.2452e-04\n",
      "Epoch 50/50\n",
      "\u001b[1m15/15\u001b[0m \u001b[32m━━━━━━━━━━━━━━━━━━━━\u001b[0m\u001b[37m\u001b[0m \u001b[1m46s\u001b[0m 3s/step - accuracy: 1.0000 - loss: 8.9082e-04 - val_accuracy: 1.0000 - val_loss: 5.7138e-04\n"
     ]
    }
   ],
   "source": [
    "numberOfClass = y_train.shape[1]\n",
    "\n",
    "model = Sequential()\n",
    "\n",
    "model.add(Conv2D(input_shape=(28,28,1),filters=16,kernel_size=(3,3)))\n",
    "model.add(BatchNormalization())\n",
    "model.add(Activation(\"relu\"))\n",
    "model.add(MaxPooling2D())\n",
    "\n",
    "model.add(Conv2D(filters=64,kernel_size=(3,3)))\n",
    "model.add(BatchNormalization())\n",
    "model.add(Activation(\"relu\"))\n",
    "model.add(MaxPooling2D())\n",
    "\n",
    "model.add(Conv2D(filters=128,kernel_size=(3,3)))\n",
    "model.add(BatchNormalization())\n",
    "model.add(Activation(\"relu\"))\n",
    "model.add(MaxPooling2D())\n",
    "\n",
    "model.add(Flatten())\n",
    "model.add(Dense(units=256))\n",
    "model.add(Activation(\"relu\"))\n",
    "model.add(Dropout(0.2))\n",
    "model.add(Dense(units = numberOfClass))\n",
    "model.add(Activation(\"softmax\"))\n",
    "\n",
    "model.compile(loss = \"categorical_crossentropy\",\n",
    "             optimizer = \"adam\",\n",
    "             metrics = [\"accuracy\"])\n",
    "\n",
    "\n",
    "hist = model.fit(x_train,y_train,validation_data=(x_test,y_test),epochs= 50, batch_size= 4000)"
   ]
  },
  {
   "cell_type": "code",
   "execution_count": 7,
   "id": "6c996ffb",
   "metadata": {
    "execution": {
     "iopub.execute_input": "2024-07-19T09:19:03.773069Z",
     "iopub.status.busy": "2024-07-19T09:19:03.772639Z",
     "iopub.status.idle": "2024-07-19T09:19:04.303804Z",
     "shell.execute_reply": "2024-07-19T09:19:04.302498Z"
    },
    "papermill": {
     "duration": 0.622535,
     "end_time": "2024-07-19T09:19:04.306341",
     "exception": false,
     "start_time": "2024-07-19T09:19:03.683806",
     "status": "completed"
    },
    "tags": []
   },
   "outputs": [
    {
     "name": "stdout",
     "output_type": "stream",
     "text": [
      "dict_keys(['accuracy', 'loss', 'val_accuracy', 'val_loss'])\n"
     ]
    },
    {
     "data": {
      "image/png": "[encoded data removed]",
      "text/plain": [
       "<Figure size 640x480 with 1 Axes>"
      ]
     },
     "metadata": {},
     "output_type": "display_data"
    },
    {
     "data": {
      "image/png": "[encoded data removed]",
      "text/plain": [
       "<Figure size 640x480 with 1 Axes>"
      ]
     },
     "metadata": {},
     "output_type": "display_data"
    }
   ],
   "source": [
    "print(hist.history.keys())\n",
    "\n",
    "plt.plot(hist.history[\"loss\"],label = \"Train Loss\")\n",
    "plt.plot(hist.history[\"val_loss\"],label=\"Validation Loss\")\n",
    "plt.legend()\n",
    "plt.show()\n",
    "\n",
    "plt.plot(hist.history[\"accuracy\"],label = \"Train Accuracy\")\n",
    "plt.plot(hist.history[\"val_accuracy\"],label=\"Validation Accuracy\")\n",
    "plt.legend()\n",
    "plt.show()\n"
   ]
  }
 ],
 "metadata": {
  "kaggle": {
   "accelerator": "none",
   "dataSources": [
    {
     "datasetId": 27352,
     "sourceId": 34877,
     "sourceType": "datasetVersion"
    }
   ],
   "dockerImageVersionId": 30746,
   "isGpuEnabled": false,
   "isInternetEnabled": true,
   "language": "python",
   "sourceType": "notebook"
  },
  "kernelspec": {
   "display_name": "Python 3",
   "language": "python",
   "name": "python3"
  },
  "language_info": {
   "codemirror_mode": {
    "name": "ipython",
    "version": 3
   },
   "file_extension": ".py",
   "mimetype": "text/x-python",
   "name": "python",
   "nbconvert_exporter": "python",
   "pygments_lexer": "ipython3",
   "version": "3.10.13"
  },
  "papermill": {
   "default_parameters": {},
   "duration": 2823.031865,
   "end_time": "2024-07-19T09:19:06.920278",
   "environment_variables": {},
   "exception": null,
   "input_path": "__notebook__.ipynb",
   "output_path": "__notebook__.ipynb",
   "parameters": {},
   "start_time": "2024-07-19T08:32:03.888413",
   "version": "2.5.0"
  }
 },
 "nbformat": 4,
 "nbformat_minor": 5
}
