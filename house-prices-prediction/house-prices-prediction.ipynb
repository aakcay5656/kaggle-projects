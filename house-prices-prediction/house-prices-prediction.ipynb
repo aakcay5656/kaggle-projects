{
 "cells": [
  {
   "cell_type": "code",
   "execution_count": 1,
   "id": "57245e16",
   "metadata": {
    "_cell_guid": "b1076dfc-b9ad-4769-8c92-a6c4dae69d19",
    "_uuid": "8f2839f25d086af736a60e9eeb907d3b93b6e0e5",
    "execution": {
     "iopub.execute_input": "2024-10-02T15:00:27.067464Z",
     "iopub.status.busy": "2024-10-02T15:00:27.067071Z",
     "iopub.status.idle": "2024-10-02T15:00:29.357541Z",
     "shell.execute_reply": "2024-10-02T15:00:29.356618Z"
    },
    "papermill": {
     "duration": 2.302602,
     "end_time": "2024-10-02T15:00:29.360128",
     "exception": false,
     "start_time": "2024-10-02T15:00:27.057526",
     "status": "completed"
    },
    "tags": []
   },
   "outputs": [],
   "source": [
    "import pandas as pd\n",
    "import seaborn as sns\n",
    "import numpy as np\n",
    "import matplotlib.pyplot as plt\n"
   ]
  },
  {
   "cell_type": "markdown",
   "id": "8ffae738",
   "metadata": {
    "papermill": {
     "duration": 0.006858,
     "end_time": "2024-10-02T15:00:29.374692",
     "exception": false,
     "start_time": "2024-10-02T15:00:29.367834",
     "status": "completed"
    },
    "tags": []
   },
   "source": [
    "# Load and Check Data"
   ]
  },
  {
   "cell_type": "code",
   "execution_count": 2,
   "id": "65b08235",
   "metadata": {
    "execution": {
     "iopub.execute_input": "2024-10-02T15:00:29.391076Z",
     "iopub.status.busy": "2024-10-02T15:00:29.390558Z",
     "iopub.status.idle": "2024-10-02T15:00:29.456463Z",
     "shell.execute_reply": "2024-10-02T15:00:29.455399Z"
    },
    "papermill": {
     "duration": 0.077047,
     "end_time": "2024-10-02T15:00:29.458883",
     "exception": false,
     "start_time": "2024-10-02T15:00:29.381836",
     "status": "completed"
    },
    "tags": []
   },
   "outputs": [],
   "source": [
    "df1 = pd.read_csv(\"/kaggle/input/house-prices-advanced-regression-techniques/train.csv\")\n",
    "df2 = pd.read_csv(\"/kaggle/input/house-prices-advanced-regression-techniques/test.csv\")"
   ]
  },
  {
   "cell_type": "code",
   "execution_count": 3,
   "id": "45a4cf4b",
   "metadata": {
    "execution": {
     "iopub.execute_input": "2024-10-02T15:00:29.475794Z",
     "iopub.status.busy": "2024-10-02T15:00:29.474863Z",
     "iopub.status.idle": "2024-10-02T15:00:29.531290Z",
     "shell.execute_reply": "2024-10-02T15:00:29.530126Z"
    },
    "papermill": {
     "duration": 0.068652,
     "end_time": "2024-10-02T15:00:29.535072",
     "exception": false,
     "start_time": "2024-10-02T15:00:29.466420",
     "status": "completed"
    },
    "tags": []
   },
   "outputs": [
    {
     "name": "stdout",
     "output_type": "stream",
     "text": [
      "   Id  MSSubClass MSZoning  LotFrontage  LotArea Street Alley LotShape  \\\n",
      "0   1          60       RL         65.0     8450   Pave   NaN      Reg   \n",
      "1   2          20       RL         80.0     9600   Pave   NaN      Reg   \n",
      "2   3          60       RL         68.0    11250   Pave   NaN      IR1   \n",
      "3   4          70       RL         60.0     9550   Pave   NaN      IR1   \n",
      "4   5          60       RL         84.0    14260   Pave   NaN      IR1   \n",
      "\n",
      "  LandContour Utilities  ... PoolArea PoolQC Fence MiscFeature MiscVal MoSold  \\\n",
      "0         Lvl    AllPub  ...        0    NaN   NaN         NaN       0      2   \n",
      "1         Lvl    AllPub  ...        0    NaN   NaN         NaN       0      5   \n",
      "2         Lvl    AllPub  ...        0    NaN   NaN         NaN       0      9   \n",
      "3         Lvl    AllPub  ...        0    NaN   NaN         NaN       0      2   \n",
      "4         Lvl    AllPub  ...        0    NaN   NaN         NaN       0     12   \n",
      "\n",
      "  YrSold  SaleType  SaleCondition  SalePrice  \n",
      "0   2008        WD         Normal     208500  \n",
      "1   2007        WD         Normal     181500  \n",
      "2   2008        WD         Normal     223500  \n",
      "3   2006        WD        Abnorml     140000  \n",
      "4   2008        WD         Normal     250000  \n",
      "\n",
      "[5 rows x 81 columns]\n",
      "     Id  MSSubClass MSZoning  LotFrontage  LotArea Street Alley LotShape  \\\n",
      "0  1461          20       RH         80.0    11622   Pave   NaN      Reg   \n",
      "1  1462          20       RL         81.0    14267   Pave   NaN      IR1   \n",
      "2  1463          60       RL         74.0    13830   Pave   NaN      IR1   \n",
      "3  1464          60       RL         78.0     9978   Pave   NaN      IR1   \n",
      "4  1465         120       RL         43.0     5005   Pave   NaN      IR1   \n",
      "\n",
      "  LandContour Utilities  ... ScreenPorch PoolArea PoolQC  Fence MiscFeature  \\\n",
      "0         Lvl    AllPub  ...         120        0    NaN  MnPrv         NaN   \n",
      "1         Lvl    AllPub  ...           0        0    NaN    NaN        Gar2   \n",
      "2         Lvl    AllPub  ...           0        0    NaN  MnPrv         NaN   \n",
      "3         Lvl    AllPub  ...           0        0    NaN    NaN         NaN   \n",
      "4         HLS    AllPub  ...         144        0    NaN    NaN         NaN   \n",
      "\n",
      "  MiscVal MoSold  YrSold  SaleType  SaleCondition  \n",
      "0       0      6    2010        WD         Normal  \n",
      "1   12500      6    2010        WD         Normal  \n",
      "2       0      3    2010        WD         Normal  \n",
      "3       0      6    2010        WD         Normal  \n",
      "4       0      1    2010        WD         Normal  \n",
      "\n",
      "[5 rows x 80 columns]\n",
      "<class 'pandas.core.frame.DataFrame'>\n",
      "RangeIndex: 1460 entries, 0 to 1459\n",
      "Data columns (total 81 columns):\n",
      " #   Column         Non-Null Count  Dtype  \n",
      "---  ------         --------------  -----  \n",
      " 0   Id             1460 non-null   int64  \n",
      " 1   MSSubClass     1460 non-null   int64  \n",
      " 2   MSZoning       1460 non-null   object \n",
      " 3   LotFrontage    1201 non-null   float64\n",
      " 4   LotArea        1460 non-null   int64  \n",
      " 5   Street         1460 non-null   object \n",
      " 6   Alley          91 non-null     object \n",
      " 7   LotShape       1460 non-null   object \n",
      " 8   LandContour    1460 non-null   object \n",
      " 9   Utilities      1460 non-null   object \n",
      " 10  LotConfig      1460 non-null   object \n",
      " 11  LandSlope      1460 non-null   object \n",
      " 12  Neighborhood   1460 non-null   object \n",
      " 13  Condition1     1460 non-null   object \n",
      " 14  Condition2     1460 non-null   object \n",
      " 15  BldgType       1460 non-null   object \n",
      " 16  HouseStyle     1460 non-null   object \n",
      " 17  OverallQual    1460 non-null   int64  \n",
      " 18  OverallCond    1460 non-null   int64  \n",
      " 19  YearBuilt      1460 non-null   int64  \n",
      " 20  YearRemodAdd   1460 non-null   int64  \n",
      " 21  RoofStyle      1460 non-null   object \n",
      " 22  RoofMatl       1460 non-null   object \n",
      " 23  Exterior1st    1460 non-null   object \n",
      " 24  Exterior2nd    1460 non-null   object \n",
      " 25  MasVnrType     588 non-null    object \n",
      " 26  MasVnrArea     1452 non-null   float64\n",
      " 27  ExterQual      1460 non-null   object \n",
      " 28  ExterCond      1460 non-null   object \n",
      " 29  Foundation     1460 non-null   object \n",
      " 30  BsmtQual       1423 non-null   object \n",
      " 31  BsmtCond       1423 non-null   object \n",
      " 32  BsmtExposure   1422 non-null   object \n",
      " 33  BsmtFinType1   1423 non-null   object \n",
      " 34  BsmtFinSF1     1460 non-null   int64  \n",
      " 35  BsmtFinType2   1422 non-null   object \n",
      " 36  BsmtFinSF2     1460 non-null   int64  \n",
      " 37  BsmtUnfSF      1460 non-null   int64  \n",
      " 38  TotalBsmtSF    1460 non-null   int64  \n",
      " 39  Heating        1460 non-null   object \n",
      " 40  HeatingQC      1460 non-null   object \n",
      " 41  CentralAir     1460 non-null   object \n",
      " 42  Electrical     1459 non-null   object \n",
      " 43  1stFlrSF       1460 non-null   int64  \n",
      " 44  2ndFlrSF       1460 non-null   int64  \n",
      " 45  LowQualFinSF   1460 non-null   int64  \n",
      " 46  GrLivArea      1460 non-null   int64  \n",
      " 47  BsmtFullBath   1460 non-null   int64  \n",
      " 48  BsmtHalfBath   1460 non-null   int64  \n",
      " 49  FullBath       1460 non-null   int64  \n",
      " 50  HalfBath       1460 non-null   int64  \n",
      " 51  BedroomAbvGr   1460 non-null   int64  \n",
      " 52  KitchenAbvGr   1460 non-null   int64  \n",
      " 53  KitchenQual    1460 non-null   object \n",
      " 54  TotRmsAbvGrd   1460 non-null   int64  \n",
      " 55  Functional     1460 non-null   object \n",
      " 56  Fireplaces     1460 non-null   int64  \n",
      " 57  FireplaceQu    770 non-null    object \n",
      " 58  GarageType     1379 non-null   object \n",
      " 59  GarageYrBlt    1379 non-null   float64\n",
      " 60  GarageFinish   1379 non-null   object \n",
      " 61  GarageCars     1460 non-null   int64  \n",
      " 62  GarageArea     1460 non-null   int64  \n",
      " 63  GarageQual     1379 non-null   object \n",
      " 64  GarageCond     1379 non-null   object \n",
      " 65  PavedDrive     1460 non-null   object \n",
      " 66  WoodDeckSF     1460 non-null   int64  \n",
      " 67  OpenPorchSF    1460 non-null   int64  \n",
      " 68  EnclosedPorch  1460 non-null   int64  \n",
      " 69  3SsnPorch      1460 non-null   int64  \n",
      " 70  ScreenPorch    1460 non-null   int64  \n",
      " 71  PoolArea       1460 non-null   int64  \n",
      " 72  PoolQC         7 non-null      object \n",
      " 73  Fence          281 non-null    object \n",
      " 74  MiscFeature    54 non-null     object \n",
      " 75  MiscVal        1460 non-null   int64  \n",
      " 76  MoSold         1460 non-null   int64  \n",
      " 77  YrSold         1460 non-null   int64  \n",
      " 78  SaleType       1460 non-null   object \n",
      " 79  SaleCondition  1460 non-null   object \n",
      " 80  SalePrice      1460 non-null   int64  \n",
      "dtypes: float64(3), int64(35), object(43)\n",
      "memory usage: 924.0+ KB\n"
     ]
    }
   ],
   "source": [
    "print(df1.head())\n",
    "print(df2.head())\n",
    "\n",
    "df1.info()"
   ]
  },
  {
   "cell_type": "code",
   "execution_count": 4,
   "id": "a33f992e",
   "metadata": {
    "execution": {
     "iopub.execute_input": "2024-10-02T15:00:29.552889Z",
     "iopub.status.busy": "2024-10-02T15:00:29.552527Z",
     "iopub.status.idle": "2024-10-02T15:00:29.569806Z",
     "shell.execute_reply": "2024-10-02T15:00:29.568901Z"
    },
    "papermill": {
     "duration": 0.028451,
     "end_time": "2024-10-02T15:00:29.572147",
     "exception": false,
     "start_time": "2024-10-02T15:00:29.543696",
     "status": "completed"
    },
    "tags": []
   },
   "outputs": [],
   "source": [
    "if 'SalePrice' not in df2.columns:\n",
    "    df2['SalePrice'] = 0\n",
    "df = pd.concat([df1, df2], axis = 0)\n",
    "df = df.set_index('Id')"
   ]
  },
  {
   "cell_type": "code",
   "execution_count": 5,
   "id": "adc70f83",
   "metadata": {
    "execution": {
     "iopub.execute_input": "2024-10-02T15:00:29.589210Z",
     "iopub.status.busy": "2024-10-02T15:00:29.588668Z",
     "iopub.status.idle": "2024-10-02T15:00:29.615623Z",
     "shell.execute_reply": "2024-10-02T15:00:29.614654Z"
    },
    "papermill": {
     "duration": 0.038019,
     "end_time": "2024-10-02T15:00:29.617880",
     "exception": false,
     "start_time": "2024-10-02T15:00:29.579861",
     "status": "completed"
    },
    "tags": []
   },
   "outputs": [
    {
     "data": {
      "text/html": [
       "<div>\n",
       "<style scoped>\n",
       "    .dataframe tbody tr th:only-of-type {\n",
       "        vertical-align: middle;\n",
       "    }\n",
       "\n",
       "    .dataframe tbody tr th {\n",
       "        vertical-align: top;\n",
       "    }\n",
       "\n",
       "    .dataframe thead th {\n",
       "        text-align: right;\n",
       "    }\n",
       "</style>\n",
       "<table border=\"1\" class=\"dataframe\">\n",
       "  <thead>\n",
       "    <tr style=\"text-align: right;\">\n",
       "      <th></th>\n",
       "      <th>MSSubClass</th>\n",
       "      <th>MSZoning</th>\n",
       "      <th>LotFrontage</th>\n",
       "      <th>LotArea</th>\n",
       "      <th>Street</th>\n",
       "      <th>Alley</th>\n",
       "      <th>LotShape</th>\n",
       "      <th>LandContour</th>\n",
       "      <th>Utilities</th>\n",
       "      <th>LotConfig</th>\n",
       "      <th>...</th>\n",
       "      <th>PoolArea</th>\n",
       "      <th>PoolQC</th>\n",
       "      <th>Fence</th>\n",
       "      <th>MiscFeature</th>\n",
       "      <th>MiscVal</th>\n",
       "      <th>MoSold</th>\n",
       "      <th>YrSold</th>\n",
       "      <th>SaleType</th>\n",
       "      <th>SaleCondition</th>\n",
       "      <th>SalePrice</th>\n",
       "    </tr>\n",
       "    <tr>\n",
       "      <th>Id</th>\n",
       "      <th></th>\n",
       "      <th></th>\n",
       "      <th></th>\n",
       "      <th></th>\n",
       "      <th></th>\n",
       "      <th></th>\n",
       "      <th></th>\n",
       "      <th></th>\n",
       "      <th></th>\n",
       "      <th></th>\n",
       "      <th></th>\n",
       "      <th></th>\n",
       "      <th></th>\n",
       "      <th></th>\n",
       "      <th></th>\n",
       "      <th></th>\n",
       "      <th></th>\n",
       "      <th></th>\n",
       "      <th></th>\n",
       "      <th></th>\n",
       "      <th></th>\n",
       "    </tr>\n",
       "  </thead>\n",
       "  <tbody>\n",
       "    <tr>\n",
       "      <th>1</th>\n",
       "      <td>60</td>\n",
       "      <td>RL</td>\n",
       "      <td>65.0</td>\n",
       "      <td>8450</td>\n",
       "      <td>Pave</td>\n",
       "      <td>NaN</td>\n",
       "      <td>Reg</td>\n",
       "      <td>Lvl</td>\n",
       "      <td>AllPub</td>\n",
       "      <td>Inside</td>\n",
       "      <td>...</td>\n",
       "      <td>0</td>\n",
       "      <td>NaN</td>\n",
       "      <td>NaN</td>\n",
       "      <td>NaN</td>\n",
       "      <td>0</td>\n",
       "      <td>2</td>\n",
       "      <td>2008</td>\n",
       "      <td>WD</td>\n",
       "      <td>Normal</td>\n",
       "      <td>208500</td>\n",
       "    </tr>\n",
       "    <tr>\n",
       "      <th>2</th>\n",
       "      <td>20</td>\n",
       "      <td>RL</td>\n",
       "      <td>80.0</td>\n",
       "      <td>9600</td>\n",
       "      <td>Pave</td>\n",
       "      <td>NaN</td>\n",
       "      <td>Reg</td>\n",
       "      <td>Lvl</td>\n",
       "      <td>AllPub</td>\n",
       "      <td>FR2</td>\n",
       "      <td>...</td>\n",
       "      <td>0</td>\n",
       "      <td>NaN</td>\n",
       "      <td>NaN</td>\n",
       "      <td>NaN</td>\n",
       "      <td>0</td>\n",
       "      <td>5</td>\n",
       "      <td>2007</td>\n",
       "      <td>WD</td>\n",
       "      <td>Normal</td>\n",
       "      <td>181500</td>\n",
       "    </tr>\n",
       "    <tr>\n",
       "      <th>3</th>\n",
       "      <td>60</td>\n",
       "      <td>RL</td>\n",
       "      <td>68.0</td>\n",
       "      <td>11250</td>\n",
       "      <td>Pave</td>\n",
       "      <td>NaN</td>\n",
       "      <td>IR1</td>\n",
       "      <td>Lvl</td>\n",
       "      <td>AllPub</td>\n",
       "      <td>Inside</td>\n",
       "      <td>...</td>\n",
       "      <td>0</td>\n",
       "      <td>NaN</td>\n",
       "      <td>NaN</td>\n",
       "      <td>NaN</td>\n",
       "      <td>0</td>\n",
       "      <td>9</td>\n",
       "      <td>2008</td>\n",
       "      <td>WD</td>\n",
       "      <td>Normal</td>\n",
       "      <td>223500</td>\n",
       "    </tr>\n",
       "    <tr>\n",
       "      <th>4</th>\n",
       "      <td>70</td>\n",
       "      <td>RL</td>\n",
       "      <td>60.0</td>\n",
       "      <td>9550</td>\n",
       "      <td>Pave</td>\n",
       "      <td>NaN</td>\n",
       "      <td>IR1</td>\n",
       "      <td>Lvl</td>\n",
       "      <td>AllPub</td>\n",
       "      <td>Corner</td>\n",
       "      <td>...</td>\n",
       "      <td>0</td>\n",
       "      <td>NaN</td>\n",
       "      <td>NaN</td>\n",
       "      <td>NaN</td>\n",
       "      <td>0</td>\n",
       "      <td>2</td>\n",
       "      <td>2006</td>\n",
       "      <td>WD</td>\n",
       "      <td>Abnorml</td>\n",
       "      <td>140000</td>\n",
       "    </tr>\n",
       "    <tr>\n",
       "      <th>5</th>\n",
       "      <td>60</td>\n",
       "      <td>RL</td>\n",
       "      <td>84.0</td>\n",
       "      <td>14260</td>\n",
       "      <td>Pave</td>\n",
       "      <td>NaN</td>\n",
       "      <td>IR1</td>\n",
       "      <td>Lvl</td>\n",
       "      <td>AllPub</td>\n",
       "      <td>FR2</td>\n",
       "      <td>...</td>\n",
       "      <td>0</td>\n",
       "      <td>NaN</td>\n",
       "      <td>NaN</td>\n",
       "      <td>NaN</td>\n",
       "      <td>0</td>\n",
       "      <td>12</td>\n",
       "      <td>2008</td>\n",
       "      <td>WD</td>\n",
       "      <td>Normal</td>\n",
       "      <td>250000</td>\n",
       "    </tr>\n",
       "  </tbody>\n",
       "</table>\n",
       "<p>5 rows × 80 columns</p>\n",
       "</div>"
      ],
      "text/plain": [
       "    MSSubClass MSZoning  LotFrontage  LotArea Street Alley LotShape  \\\n",
       "Id                                                                    \n",
       "1           60       RL         65.0     8450   Pave   NaN      Reg   \n",
       "2           20       RL         80.0     9600   Pave   NaN      Reg   \n",
       "3           60       RL         68.0    11250   Pave   NaN      IR1   \n",
       "4           70       RL         60.0     9550   Pave   NaN      IR1   \n",
       "5           60       RL         84.0    14260   Pave   NaN      IR1   \n",
       "\n",
       "   LandContour Utilities LotConfig  ... PoolArea PoolQC Fence MiscFeature  \\\n",
       "Id                                  ...                                     \n",
       "1          Lvl    AllPub    Inside  ...        0    NaN   NaN         NaN   \n",
       "2          Lvl    AllPub       FR2  ...        0    NaN   NaN         NaN   \n",
       "3          Lvl    AllPub    Inside  ...        0    NaN   NaN         NaN   \n",
       "4          Lvl    AllPub    Corner  ...        0    NaN   NaN         NaN   \n",
       "5          Lvl    AllPub       FR2  ...        0    NaN   NaN         NaN   \n",
       "\n",
       "   MiscVal MoSold  YrSold  SaleType  SaleCondition  SalePrice  \n",
       "Id                                                             \n",
       "1        0      2    2008        WD         Normal     208500  \n",
       "2        0      5    2007        WD         Normal     181500  \n",
       "3        0      9    2008        WD         Normal     223500  \n",
       "4        0      2    2006        WD        Abnorml     140000  \n",
       "5        0     12    2008        WD         Normal     250000  \n",
       "\n",
       "[5 rows x 80 columns]"
      ]
     },
     "execution_count": 5,
     "metadata": {},
     "output_type": "execute_result"
    }
   ],
   "source": [
    "df.head()"
   ]
  },
  {
   "cell_type": "markdown",
   "id": "21284b1e",
   "metadata": {
    "papermill": {
     "duration": 0.007451,
     "end_time": "2024-10-02T15:00:29.633324",
     "exception": false,
     "start_time": "2024-10-02T15:00:29.625873",
     "status": "completed"
    },
    "tags": []
   },
   "source": [
    "# Missing Value"
   ]
  },
  {
   "cell_type": "code",
   "execution_count": 6,
   "id": "83d19581",
   "metadata": {
    "execution": {
     "iopub.execute_input": "2024-10-02T15:00:29.650383Z",
     "iopub.status.busy": "2024-10-02T15:00:29.649983Z",
     "iopub.status.idle": "2024-10-02T15:00:29.671986Z",
     "shell.execute_reply": "2024-10-02T15:00:29.671136Z"
    },
    "papermill": {
     "duration": 0.033147,
     "end_time": "2024-10-02T15:00:29.674207",
     "exception": false,
     "start_time": "2024-10-02T15:00:29.641060",
     "status": "completed"
    },
    "tags": []
   },
   "outputs": [],
   "source": [
    "df_null  = df[df.isnull().sum()[df.isnull().sum()>0].index]"
   ]
  },
  {
   "cell_type": "code",
   "execution_count": 7,
   "id": "a620498a",
   "metadata": {
    "execution": {
     "iopub.execute_input": "2024-10-02T15:00:29.691589Z",
     "iopub.status.busy": "2024-10-02T15:00:29.691191Z",
     "iopub.status.idle": "2024-10-02T15:00:29.716404Z",
     "shell.execute_reply": "2024-10-02T15:00:29.715432Z"
    },
    "papermill": {
     "duration": 0.036451,
     "end_time": "2024-10-02T15:00:29.718530",
     "exception": false,
     "start_time": "2024-10-02T15:00:29.682079",
     "status": "completed"
    },
    "tags": []
   },
   "outputs": [
    {
     "data": {
      "text/html": [
       "<div>\n",
       "<style scoped>\n",
       "    .dataframe tbody tr th:only-of-type {\n",
       "        vertical-align: middle;\n",
       "    }\n",
       "\n",
       "    .dataframe tbody tr th {\n",
       "        vertical-align: top;\n",
       "    }\n",
       "\n",
       "    .dataframe thead th {\n",
       "        text-align: right;\n",
       "    }\n",
       "</style>\n",
       "<table border=\"1\" class=\"dataframe\">\n",
       "  <thead>\n",
       "    <tr style=\"text-align: right;\">\n",
       "      <th></th>\n",
       "      <th>MSZoning</th>\n",
       "      <th>LotFrontage</th>\n",
       "      <th>Alley</th>\n",
       "      <th>Utilities</th>\n",
       "      <th>Exterior1st</th>\n",
       "      <th>Exterior2nd</th>\n",
       "      <th>MasVnrType</th>\n",
       "      <th>MasVnrArea</th>\n",
       "      <th>BsmtQual</th>\n",
       "      <th>BsmtCond</th>\n",
       "      <th>...</th>\n",
       "      <th>GarageYrBlt</th>\n",
       "      <th>GarageFinish</th>\n",
       "      <th>GarageCars</th>\n",
       "      <th>GarageArea</th>\n",
       "      <th>GarageQual</th>\n",
       "      <th>GarageCond</th>\n",
       "      <th>PoolQC</th>\n",
       "      <th>Fence</th>\n",
       "      <th>MiscFeature</th>\n",
       "      <th>SaleType</th>\n",
       "    </tr>\n",
       "    <tr>\n",
       "      <th>Id</th>\n",
       "      <th></th>\n",
       "      <th></th>\n",
       "      <th></th>\n",
       "      <th></th>\n",
       "      <th></th>\n",
       "      <th></th>\n",
       "      <th></th>\n",
       "      <th></th>\n",
       "      <th></th>\n",
       "      <th></th>\n",
       "      <th></th>\n",
       "      <th></th>\n",
       "      <th></th>\n",
       "      <th></th>\n",
       "      <th></th>\n",
       "      <th></th>\n",
       "      <th></th>\n",
       "      <th></th>\n",
       "      <th></th>\n",
       "      <th></th>\n",
       "      <th></th>\n",
       "    </tr>\n",
       "  </thead>\n",
       "  <tbody>\n",
       "    <tr>\n",
       "      <th>1</th>\n",
       "      <td>RL</td>\n",
       "      <td>65.0</td>\n",
       "      <td>NaN</td>\n",
       "      <td>AllPub</td>\n",
       "      <td>VinylSd</td>\n",
       "      <td>VinylSd</td>\n",
       "      <td>BrkFace</td>\n",
       "      <td>196.0</td>\n",
       "      <td>Gd</td>\n",
       "      <td>TA</td>\n",
       "      <td>...</td>\n",
       "      <td>2003.0</td>\n",
       "      <td>RFn</td>\n",
       "      <td>2.0</td>\n",
       "      <td>548.0</td>\n",
       "      <td>TA</td>\n",
       "      <td>TA</td>\n",
       "      <td>NaN</td>\n",
       "      <td>NaN</td>\n",
       "      <td>NaN</td>\n",
       "      <td>WD</td>\n",
       "    </tr>\n",
       "    <tr>\n",
       "      <th>2</th>\n",
       "      <td>RL</td>\n",
       "      <td>80.0</td>\n",
       "      <td>NaN</td>\n",
       "      <td>AllPub</td>\n",
       "      <td>MetalSd</td>\n",
       "      <td>MetalSd</td>\n",
       "      <td>NaN</td>\n",
       "      <td>0.0</td>\n",
       "      <td>Gd</td>\n",
       "      <td>TA</td>\n",
       "      <td>...</td>\n",
       "      <td>1976.0</td>\n",
       "      <td>RFn</td>\n",
       "      <td>2.0</td>\n",
       "      <td>460.0</td>\n",
       "      <td>TA</td>\n",
       "      <td>TA</td>\n",
       "      <td>NaN</td>\n",
       "      <td>NaN</td>\n",
       "      <td>NaN</td>\n",
       "      <td>WD</td>\n",
       "    </tr>\n",
       "    <tr>\n",
       "      <th>3</th>\n",
       "      <td>RL</td>\n",
       "      <td>68.0</td>\n",
       "      <td>NaN</td>\n",
       "      <td>AllPub</td>\n",
       "      <td>VinylSd</td>\n",
       "      <td>VinylSd</td>\n",
       "      <td>BrkFace</td>\n",
       "      <td>162.0</td>\n",
       "      <td>Gd</td>\n",
       "      <td>TA</td>\n",
       "      <td>...</td>\n",
       "      <td>2001.0</td>\n",
       "      <td>RFn</td>\n",
       "      <td>2.0</td>\n",
       "      <td>608.0</td>\n",
       "      <td>TA</td>\n",
       "      <td>TA</td>\n",
       "      <td>NaN</td>\n",
       "      <td>NaN</td>\n",
       "      <td>NaN</td>\n",
       "      <td>WD</td>\n",
       "    </tr>\n",
       "    <tr>\n",
       "      <th>4</th>\n",
       "      <td>RL</td>\n",
       "      <td>60.0</td>\n",
       "      <td>NaN</td>\n",
       "      <td>AllPub</td>\n",
       "      <td>Wd Sdng</td>\n",
       "      <td>Wd Shng</td>\n",
       "      <td>NaN</td>\n",
       "      <td>0.0</td>\n",
       "      <td>TA</td>\n",
       "      <td>Gd</td>\n",
       "      <td>...</td>\n",
       "      <td>1998.0</td>\n",
       "      <td>Unf</td>\n",
       "      <td>3.0</td>\n",
       "      <td>642.0</td>\n",
       "      <td>TA</td>\n",
       "      <td>TA</td>\n",
       "      <td>NaN</td>\n",
       "      <td>NaN</td>\n",
       "      <td>NaN</td>\n",
       "      <td>WD</td>\n",
       "    </tr>\n",
       "    <tr>\n",
       "      <th>5</th>\n",
       "      <td>RL</td>\n",
       "      <td>84.0</td>\n",
       "      <td>NaN</td>\n",
       "      <td>AllPub</td>\n",
       "      <td>VinylSd</td>\n",
       "      <td>VinylSd</td>\n",
       "      <td>BrkFace</td>\n",
       "      <td>350.0</td>\n",
       "      <td>Gd</td>\n",
       "      <td>TA</td>\n",
       "      <td>...</td>\n",
       "      <td>2000.0</td>\n",
       "      <td>RFn</td>\n",
       "      <td>3.0</td>\n",
       "      <td>836.0</td>\n",
       "      <td>TA</td>\n",
       "      <td>TA</td>\n",
       "      <td>NaN</td>\n",
       "      <td>NaN</td>\n",
       "      <td>NaN</td>\n",
       "      <td>WD</td>\n",
       "    </tr>\n",
       "  </tbody>\n",
       "</table>\n",
       "<p>5 rows × 34 columns</p>\n",
       "</div>"
      ],
      "text/plain": [
       "   MSZoning  LotFrontage Alley Utilities Exterior1st Exterior2nd MasVnrType  \\\n",
       "Id                                                                            \n",
       "1        RL         65.0   NaN    AllPub     VinylSd     VinylSd    BrkFace   \n",
       "2        RL         80.0   NaN    AllPub     MetalSd     MetalSd        NaN   \n",
       "3        RL         68.0   NaN    AllPub     VinylSd     VinylSd    BrkFace   \n",
       "4        RL         60.0   NaN    AllPub     Wd Sdng     Wd Shng        NaN   \n",
       "5        RL         84.0   NaN    AllPub     VinylSd     VinylSd    BrkFace   \n",
       "\n",
       "    MasVnrArea BsmtQual BsmtCond  ... GarageYrBlt GarageFinish  GarageCars  \\\n",
       "Id                                ...                                        \n",
       "1        196.0       Gd       TA  ...      2003.0          RFn         2.0   \n",
       "2          0.0       Gd       TA  ...      1976.0          RFn         2.0   \n",
       "3        162.0       Gd       TA  ...      2001.0          RFn         2.0   \n",
       "4          0.0       TA       Gd  ...      1998.0          Unf         3.0   \n",
       "5        350.0       Gd       TA  ...      2000.0          RFn         3.0   \n",
       "\n",
       "   GarageArea  GarageQual  GarageCond  PoolQC Fence  MiscFeature  SaleType  \n",
       "Id                                                                          \n",
       "1       548.0          TA          TA     NaN   NaN          NaN        WD  \n",
       "2       460.0          TA          TA     NaN   NaN          NaN        WD  \n",
       "3       608.0          TA          TA     NaN   NaN          NaN        WD  \n",
       "4       642.0          TA          TA     NaN   NaN          NaN        WD  \n",
       "5       836.0          TA          TA     NaN   NaN          NaN        WD  \n",
       "\n",
       "[5 rows x 34 columns]"
      ]
     },
     "execution_count": 7,
     "metadata": {},
     "output_type": "execute_result"
    }
   ],
   "source": [
    "df_null.head()"
   ]
  },
  {
   "cell_type": "code",
   "execution_count": 8,
   "id": "14520989",
   "metadata": {
    "execution": {
     "iopub.execute_input": "2024-10-02T15:00:29.736680Z",
     "iopub.status.busy": "2024-10-02T15:00:29.735803Z",
     "iopub.status.idle": "2024-10-02T15:00:30.445605Z",
     "shell.execute_reply": "2024-10-02T15:00:30.444567Z"
    },
    "papermill": {
     "duration": 0.721767,
     "end_time": "2024-10-02T15:00:30.448425",
     "exception": false,
     "start_time": "2024-10-02T15:00:29.726658",
     "status": "completed"
    },
    "tags": []
   },
   "outputs": [
    {
     "data": {
      "text/plain": [
       "<Axes: ylabel='Id'>"
      ]
     },
     "execution_count": 8,
     "metadata": {},
     "output_type": "execute_result"
    },
    {
     "data": {
      "image/png": "[encoded data removed]",
      "text/plain": [
       "<Figure size 640x480 with 2 Axes>"
      ]
     },
     "metadata": {},
     "output_type": "display_data"
    }
   ],
   "source": [
    "sns.heatmap(df_null.isnull())"
   ]
  },
  {
   "cell_type": "code",
   "execution_count": 9,
   "id": "3fb55a4e",
   "metadata": {
    "execution": {
     "iopub.execute_input": "2024-10-02T15:00:30.468442Z",
     "iopub.status.busy": "2024-10-02T15:00:30.468048Z",
     "iopub.status.idle": "2024-10-02T15:00:30.496578Z",
     "shell.execute_reply": "2024-10-02T15:00:30.495675Z"
    },
    "papermill": {
     "duration": 0.041434,
     "end_time": "2024-10-02T15:00:30.499177",
     "exception": false,
     "start_time": "2024-10-02T15:00:30.457743",
     "status": "completed"
    },
    "tags": []
   },
   "outputs": [],
   "source": [
    "df_objects =  df[df.select_dtypes(include=['object']).columns]\n",
    "df = df.drop(df[df_objects.isna().sum()[df_objects.isna().sum() > 1100].index], axis = 1)"
   ]
  },
  {
   "cell_type": "code",
   "execution_count": 10,
   "id": "f5d1f59d",
   "metadata": {
    "execution": {
     "iopub.execute_input": "2024-10-02T15:00:30.519663Z",
     "iopub.status.busy": "2024-10-02T15:00:30.519273Z",
     "iopub.status.idle": "2024-10-02T15:00:30.589364Z",
     "shell.execute_reply": "2024-10-02T15:00:30.588267Z"
    },
    "papermill": {
     "duration": 0.083268,
     "end_time": "2024-10-02T15:00:30.591854",
     "exception": false,
     "start_time": "2024-10-02T15:00:30.508586",
     "status": "completed"
    },
    "tags": []
   },
   "outputs": [],
   "source": [
    "df_objects = df_objects.drop(df_objects[df_objects.isna().sum()[df_objects.isna().sum() > 1100].index], axis = 1)\n",
    "\n",
    "df_objects = df_objects.fillna('null')\n",
    "\n",
    "df_objects_encoded = pd.get_dummies(df_objects)"
   ]
  },
  {
   "cell_type": "code",
   "execution_count": 11,
   "id": "e4685288",
   "metadata": {
    "execution": {
     "iopub.execute_input": "2024-10-02T15:00:30.612118Z",
     "iopub.status.busy": "2024-10-02T15:00:30.611703Z",
     "iopub.status.idle": "2024-10-02T15:00:30.620697Z",
     "shell.execute_reply": "2024-10-02T15:00:30.619448Z"
    },
    "papermill": {
     "duration": 0.021678,
     "end_time": "2024-10-02T15:00:30.622899",
     "exception": false,
     "start_time": "2024-10-02T15:00:30.601221",
     "status": "completed"
    },
    "tags": []
   },
   "outputs": [
    {
     "data": {
      "text/plain": [
       "Utilities\n",
       "AllPub    2916\n",
       "null         2\n",
       "NoSeWa       1\n",
       "Name: count, dtype: int64"
      ]
     },
     "execution_count": 11,
     "metadata": {},
     "output_type": "execute_result"
    }
   ],
   "source": [
    "df_objects['Utilities'].value_counts()"
   ]
  },
  {
   "cell_type": "code",
   "execution_count": 12,
   "id": "966a7b0c",
   "metadata": {
    "execution": {
     "iopub.execute_input": "2024-10-02T15:00:30.643154Z",
     "iopub.status.busy": "2024-10-02T15:00:30.642762Z",
     "iopub.status.idle": "2024-10-02T15:00:30.677304Z",
     "shell.execute_reply": "2024-10-02T15:00:30.676187Z"
    },
    "papermill": {
     "duration": 0.047164,
     "end_time": "2024-10-02T15:00:30.679536",
     "exception": false,
     "start_time": "2024-10-02T15:00:30.632372",
     "status": "completed"
    },
    "tags": []
   },
   "outputs": [
    {
     "name": "stdout",
     "output_type": "stream",
     "text": [
      "MSZoning_null\n",
      "Utilities_null\n",
      "Exterior1st_null\n",
      "Exterior2nd_null\n",
      "BsmtQual_null\n",
      "BsmtCond_null\n",
      "BsmtExposure_null\n",
      "BsmtFinType1_null\n",
      "BsmtFinType2_null\n",
      "Electrical_null\n",
      "KitchenQual_null\n",
      "Functional_null\n",
      "GarageType_null\n",
      "GarageFinish_null\n",
      "GarageQual_null\n",
      "GarageCond_null\n",
      "SaleType_null\n"
     ]
    }
   ],
   "source": [
    "for i in df_objects_encoded.columns:\n",
    "    if 'null' in i:\n",
    "        df_objects_encoded = df_objects_encoded.drop(i, axis = 1)\n",
    "        print(i)"
   ]
  },
  {
   "cell_type": "code",
   "execution_count": 13,
   "id": "48c545d1",
   "metadata": {
    "execution": {
     "iopub.execute_input": "2024-10-02T15:00:30.700055Z",
     "iopub.status.busy": "2024-10-02T15:00:30.699664Z",
     "iopub.status.idle": "2024-10-02T15:00:30.712510Z",
     "shell.execute_reply": "2024-10-02T15:00:30.711559Z"
    },
    "papermill": {
     "duration": 0.025764,
     "end_time": "2024-10-02T15:00:30.714774",
     "exception": false,
     "start_time": "2024-10-02T15:00:30.689010",
     "status": "completed"
    },
    "tags": []
   },
   "outputs": [],
   "source": [
    "new_df = pd.concat([df, df_objects_encoded], axis = 1)"
   ]
  },
  {
   "cell_type": "code",
   "execution_count": 14,
   "id": "cbc53500",
   "metadata": {
    "execution": {
     "iopub.execute_input": "2024-10-02T15:00:30.734940Z",
     "iopub.status.busy": "2024-10-02T15:00:30.734553Z",
     "iopub.status.idle": "2024-10-02T15:00:30.740788Z",
     "shell.execute_reply": "2024-10-02T15:00:30.739884Z"
    },
    "papermill": {
     "duration": 0.018505,
     "end_time": "2024-10-02T15:00:30.742768",
     "exception": false,
     "start_time": "2024-10-02T15:00:30.724263",
     "status": "completed"
    },
    "tags": []
   },
   "outputs": [
    {
     "data": {
      "text/plain": [
       "304"
      ]
     },
     "execution_count": 14,
     "metadata": {},
     "output_type": "execute_result"
    }
   ],
   "source": [
    "len(new_df.columns)"
   ]
  },
  {
   "cell_type": "code",
   "execution_count": 15,
   "id": "4b4aea37",
   "metadata": {
    "execution": {
     "iopub.execute_input": "2024-10-02T15:00:30.763422Z",
     "iopub.status.busy": "2024-10-02T15:00:30.762589Z",
     "iopub.status.idle": "2024-10-02T15:00:30.769500Z",
     "shell.execute_reply": "2024-10-02T15:00:30.768361Z"
    },
    "papermill": {
     "duration": 0.019375,
     "end_time": "2024-10-02T15:00:30.771508",
     "exception": false,
     "start_time": "2024-10-02T15:00:30.752133",
     "status": "completed"
    },
    "tags": []
   },
   "outputs": [
    {
     "data": {
      "text/plain": [
       "(74, 230)"
      ]
     },
     "execution_count": 15,
     "metadata": {},
     "output_type": "execute_result"
    }
   ],
   "source": [
    "len(df.columns), len(df_objects_encoded.columns)"
   ]
  },
  {
   "cell_type": "code",
   "execution_count": 16,
   "id": "89342bf9",
   "metadata": {
    "execution": {
     "iopub.execute_input": "2024-10-02T15:00:30.792852Z",
     "iopub.status.busy": "2024-10-02T15:00:30.791906Z",
     "iopub.status.idle": "2024-10-02T15:00:30.809409Z",
     "shell.execute_reply": "2024-10-02T15:00:30.808371Z"
    },
    "papermill": {
     "duration": 0.030312,
     "end_time": "2024-10-02T15:00:30.811490",
     "exception": false,
     "start_time": "2024-10-02T15:00:30.781178",
     "status": "completed"
    },
    "tags": []
   },
   "outputs": [
    {
     "data": {
      "text/plain": [
       "LotFrontage     486\n",
       "MasVnrArea       23\n",
       "BsmtFinSF1        1\n",
       "BsmtFinSF2        1\n",
       "BsmtUnfSF         1\n",
       "TotalBsmtSF       1\n",
       "BsmtFullBath      2\n",
       "BsmtHalfBath      2\n",
       "GarageYrBlt     159\n",
       "GarageCars        1\n",
       "GarageArea        1\n",
       "dtype: int64"
      ]
     },
     "execution_count": 16,
     "metadata": {},
     "output_type": "execute_result"
    }
   ],
   "source": [
    "new_df = new_df.drop(df.select_dtypes(include=['object']), axis = 1)\n",
    "\n",
    "new_df.isna().sum()[new_df.isna().sum() > 0]"
   ]
  },
  {
   "cell_type": "code",
   "execution_count": 17,
   "id": "4e2e83c2",
   "metadata": {
    "execution": {
     "iopub.execute_input": "2024-10-02T15:00:30.832483Z",
     "iopub.status.busy": "2024-10-02T15:00:30.832058Z",
     "iopub.status.idle": "2024-10-02T15:00:30.854262Z",
     "shell.execute_reply": "2024-10-02T15:00:30.853237Z"
    },
    "papermill": {
     "duration": 0.035174,
     "end_time": "2024-10-02T15:00:30.856368",
     "exception": false,
     "start_time": "2024-10-02T15:00:30.821194",
     "status": "completed"
    },
    "tags": []
   },
   "outputs": [
    {
     "data": {
      "text/plain": [
       "Series([], dtype: int64)"
      ]
     },
     "execution_count": 17,
     "metadata": {},
     "output_type": "execute_result"
    }
   ],
   "source": [
    "Mode_columns = ['GarageCars', 'GarageYrBlt', 'BsmtFullBath', 'BsmtHalfBath']\n",
    "Mean_columns = ['LotFrontage', 'MasVnrArea', 'BsmtFinSF1', 'BsmtFinSF2', 'BsmtUnfSF',\n",
    "                'TotalBsmtSF', 'GarageArea']\n",
    "\n",
    "for i in Mode_columns:\n",
    "    new_df[i] = new_df[i].fillna(new_df[i].mode()[0])\n",
    "\n",
    "for i in Mean_columns:\n",
    "    new_df[i] = new_df[i].fillna(np.round(new_df[i].mean()))\n",
    "\n",
    "new_df.isna().sum()[new_df.isna().sum() > 0] "
   ]
  },
  {
   "cell_type": "code",
   "execution_count": 18,
   "id": "c874992d",
   "metadata": {
    "execution": {
     "iopub.execute_input": "2024-10-02T15:00:30.877294Z",
     "iopub.status.busy": "2024-10-02T15:00:30.876895Z",
     "iopub.status.idle": "2024-10-02T15:00:30.884292Z",
     "shell.execute_reply": "2024-10-02T15:00:30.883406Z"
    },
    "papermill": {
     "duration": 0.020213,
     "end_time": "2024-10-02T15:00:30.886452",
     "exception": false,
     "start_time": "2024-10-02T15:00:30.866239",
     "status": "completed"
    },
    "tags": []
   },
   "outputs": [],
   "source": [
    "training_data = new_df[0:len(df1)]\n",
    "testing_data = new_df[len(df1):]\n",
    "testing_data = testing_data.drop(columns='SalePrice')"
   ]
  },
  {
   "cell_type": "code",
   "execution_count": 19,
   "id": "05001635",
   "metadata": {
    "execution": {
     "iopub.execute_input": "2024-10-02T15:00:30.907244Z",
     "iopub.status.busy": "2024-10-02T15:00:30.906851Z",
     "iopub.status.idle": "2024-10-02T15:00:31.556897Z",
     "shell.execute_reply": "2024-10-02T15:00:31.555740Z"
    },
    "papermill": {
     "duration": 0.663291,
     "end_time": "2024-10-02T15:00:31.559526",
     "exception": false,
     "start_time": "2024-10-02T15:00:30.896235",
     "status": "completed"
    },
    "tags": []
   },
   "outputs": [],
   "source": [
    "from sklearn.model_selection import train_test_split\n",
    "from sklearn.metrics import mean_squared_error, r2_score\n",
    "from sklearn.linear_model import LinearRegression\n",
    "from xgboost import XGBRegressor\n",
    "from sklearn.ensemble import RandomForestRegressor\n",
    "from sklearn.svm import SVR\n",
    "from sklearn.ensemble import GradientBoostingRegressor\n",
    "from sklearn.neighbors import KNeighborsRegressor\n",
    "from sklearn.tree import DecisionTreeRegressor"
   ]
  },
  {
   "cell_type": "code",
   "execution_count": 20,
   "id": "c7cfa015",
   "metadata": {
    "execution": {
     "iopub.execute_input": "2024-10-02T15:00:31.581095Z",
     "iopub.status.busy": "2024-10-02T15:00:31.580654Z",
     "iopub.status.idle": "2024-10-02T15:00:31.594891Z",
     "shell.execute_reply": "2024-10-02T15:00:31.593836Z"
    },
    "papermill": {
     "duration": 0.027513,
     "end_time": "2024-10-02T15:00:31.597113",
     "exception": false,
     "start_time": "2024-10-02T15:00:31.569600",
     "status": "completed"
    },
    "tags": []
   },
   "outputs": [
    {
     "data": {
      "text/plain": [
       "((1168, 266), (1168, 1))"
      ]
     },
     "execution_count": 20,
     "metadata": {},
     "output_type": "execute_result"
    }
   ],
   "source": [
    "X = training_data.drop(columns='SalePrice')\n",
    "y = training_data['SalePrice']\n",
    "X_train, X_test, Y_train, Y_test = train_test_split(X, y, test_size = 0.2)\n",
    "Y_train = np.reshape(Y_train,(-1, 1))\n",
    "Y_test = np.reshape(Y_test,(-1, 1))\n",
    "X_train.shape, Y_train.shape"
   ]
  },
  {
   "cell_type": "markdown",
   "id": "3bb43b21",
   "metadata": {
    "papermill": {
     "duration": 0.009544,
     "end_time": "2024-10-02T15:00:31.616685",
     "exception": false,
     "start_time": "2024-10-02T15:00:31.607141",
     "status": "completed"
    },
    "tags": []
   },
   "source": [
    "# Predictions"
   ]
  },
  {
   "cell_type": "code",
   "execution_count": 21,
   "id": "fc6761af",
   "metadata": {
    "execution": {
     "iopub.execute_input": "2024-10-02T15:00:31.638598Z",
     "iopub.status.busy": "2024-10-02T15:00:31.637519Z",
     "iopub.status.idle": "2024-10-02T15:00:31.741145Z",
     "shell.execute_reply": "2024-10-02T15:00:31.740024Z"
    },
    "papermill": {
     "duration": 0.117313,
     "end_time": "2024-10-02T15:00:31.743785",
     "exception": false,
     "start_time": "2024-10-02T15:00:31.626472",
     "status": "completed"
    },
    "tags": []
   },
   "outputs": [
    {
     "name": "stdout",
     "output_type": "stream",
     "text": [
      "MSE: 266357285.66377175, R² Score: 0.941376879046271\n"
     ]
    }
   ],
   "source": [
    "model_1 = LinearRegression()\n",
    "model_1.fit(X, y)\n",
    "y_pred1 = model_1.predict(X_test)\n",
    "mse = mean_squared_error(Y_test, y_pred1)\n",
    "r2 = r2_score(Y_test, y_pred1)\n",
    "print(f\"MSE: {mse}, R² Score: {r2}\")"
   ]
  },
  {
   "cell_type": "code",
   "execution_count": 22,
   "id": "ecf58c94",
   "metadata": {
    "execution": {
     "iopub.execute_input": "2024-10-02T15:00:31.806594Z",
     "iopub.status.busy": "2024-10-02T15:00:31.806023Z",
     "iopub.status.idle": "2024-10-02T15:00:36.763691Z",
     "shell.execute_reply": "2024-10-02T15:00:36.762513Z"
    },
    "papermill": {
     "duration": 4.992285,
     "end_time": "2024-10-02T15:00:36.766036",
     "exception": false,
     "start_time": "2024-10-02T15:00:31.773751",
     "status": "completed"
    },
    "tags": []
   },
   "outputs": [
    {
     "name": "stdout",
     "output_type": "stream",
     "text": [
      "MSE: 3579.362680200028, R² Score: 0.9999992122107311\n"
     ]
    }
   ],
   "source": [
    "model_2 = XGBRegressor(n_estimators=1000, learning_rate=0.1, random_state=42)\n",
    "model_2.fit(X, y)\n",
    "y_pred2 = model_2.predict(X_test)\n",
    "mse = mean_squared_error(Y_test, y_pred2)\n",
    "r2 = r2_score(Y_test, y_pred2)\n",
    "print(f\"MSE: {mse}, R² Score: {r2}\")"
   ]
  },
  {
   "cell_type": "code",
   "execution_count": 23,
   "id": "015e11ca",
   "metadata": {
    "execution": {
     "iopub.execute_input": "2024-10-02T15:00:36.787936Z",
     "iopub.status.busy": "2024-10-02T15:00:36.787554Z",
     "iopub.status.idle": "2024-10-02T16:20:48.489575Z",
     "shell.execute_reply": "2024-10-02T16:20:48.488330Z"
    },
    "papermill": {
     "duration": 4811.723407,
     "end_time": "2024-10-02T16:20:48.499686",
     "exception": false,
     "start_time": "2024-10-02T15:00:36.776279",
     "status": "completed"
    },
    "tags": []
   },
   "outputs": [
    {
     "name": "stdout",
     "output_type": "stream",
     "text": [
      "Fitting 5 folds for each of 243 candidates, totalling 1215 fits\n",
      "Optimized MSE: 64031358.48528133, Optimized R² Score: 0.9859072070660285\n",
      "Best parameters: {'colsample_bytree': 0.6, 'learning_rate': 0.1, 'max_depth': 3, 'n_estimators': 500, 'subsample': 1.0}\n"
     ]
    }
   ],
   "source": [
    "from sklearn.model_selection import GridSearchCV\n",
    "from xgboost import XGBRegressor\n",
    "\n",
    "param_grid = {\n",
    "    'n_estimators': [500, 1000, 1500],\n",
    "    'learning_rate': [0.01, 0.1, 0.2],\n",
    "    'max_depth': [3, 5, 7],\n",
    "    'subsample': [0.6, 0.8, 1.0],\n",
    "    'colsample_bytree': [0.6, 0.8, 1.0]\n",
    "}\n",
    "\n",
    "model_2 = XGBRegressor(random_state=42)\n",
    "grid_search = GridSearchCV(estimator=model_2, param_grid=param_grid, scoring='neg_mean_squared_error', cv=5, verbose=1)\n",
    "\n",
    "grid_search.fit(X, y)\n",
    "\n",
    "best_model = grid_search.best_estimator_\n",
    "\n",
    "y_pred2 = best_model.predict(X_test)\n",
    "mse = mean_squared_error(Y_test, y_pred2)\n",
    "r2 = r2_score(Y_test, y_pred2)\n",
    "\n",
    "print(f\"Optimized MSE: {mse}, Optimized R² Score: {r2}\")\n",
    "print(f\"Best parameters: {grid_search.best_params_}\")"
   ]
  },
  {
   "cell_type": "code",
   "execution_count": 24,
   "id": "9ff1265e",
   "metadata": {
    "execution": {
     "iopub.execute_input": "2024-10-02T16:20:48.521737Z",
     "iopub.status.busy": "2024-10-02T16:20:48.520758Z",
     "iopub.status.idle": "2024-10-02T16:21:23.815689Z",
     "shell.execute_reply": "2024-10-02T16:21:23.814652Z"
    },
    "papermill": {
     "duration": 35.317086,
     "end_time": "2024-10-02T16:21:23.826600",
     "exception": false,
     "start_time": "2024-10-02T16:20:48.509514",
     "status": "completed"
    },
    "tags": []
   },
   "outputs": [
    {
     "name": "stdout",
     "output_type": "stream",
     "text": [
      "MSE: 119062798.57103851, R² Score: 0.9737952246197228\n"
     ]
    }
   ],
   "source": [
    "model_3 = RandomForestRegressor(n_estimators=1000)\n",
    "model_3.fit(X, y)\n",
    "y_pred3 = model_3.predict(X_test)\n",
    "mse = mean_squared_error(Y_test, y_pred3)\n",
    "r2 = r2_score(Y_test, y_pred3)\n",
    "print(f\"MSE: {mse}, R² Score: {r2}\")"
   ]
  },
  {
   "cell_type": "code",
   "execution_count": 25,
   "id": "2568692a",
   "metadata": {
    "execution": {
     "iopub.execute_input": "2024-10-02T16:21:23.848064Z",
     "iopub.status.busy": "2024-10-02T16:21:23.847660Z",
     "iopub.status.idle": "2024-10-02T16:21:24.282124Z",
     "shell.execute_reply": "2024-10-02T16:21:24.280911Z"
    },
    "papermill": {
     "duration": 0.447719,
     "end_time": "2024-10-02T16:21:24.284336",
     "exception": false,
     "start_time": "2024-10-02T16:21:23.836617",
     "status": "completed"
    },
    "tags": []
   },
   "outputs": [
    {
     "name": "stdout",
     "output_type": "stream",
     "text": [
      "MSE: 4743214862.222449, R² Score: -0.04394388118444437\n"
     ]
    }
   ],
   "source": [
    "model_4 = SVR()\n",
    "model_4.fit(X, y)\n",
    "y_pred4 = model_4.predict(X_test)\n",
    "mse = mean_squared_error(Y_test, y_pred4)\n",
    "r2 = r2_score(Y_test, y_pred4)\n",
    "print(f\"MSE: {mse}, R² Score: {r2}\")"
   ]
  },
  {
   "cell_type": "code",
   "execution_count": 26,
   "id": "f22fa816",
   "metadata": {
    "execution": {
     "iopub.execute_input": "2024-10-02T16:21:24.307046Z",
     "iopub.status.busy": "2024-10-02T16:21:24.306091Z",
     "iopub.status.idle": "2024-10-02T16:21:25.437215Z",
     "shell.execute_reply": "2024-10-02T16:21:25.436048Z"
    },
    "papermill": {
     "duration": 1.144781,
     "end_time": "2024-10-02T16:21:25.439425",
     "exception": false,
     "start_time": "2024-10-02T16:21:24.294644",
     "status": "completed"
    },
    "tags": []
   },
   "outputs": [
    {
     "name": "stdout",
     "output_type": "stream",
     "text": [
      "MSE: 208992994.16434497, R² Score: 0.954002303541852\n"
     ]
    }
   ],
   "source": [
    "model_5 = GradientBoostingRegressor()\n",
    "model_5.fit(X, y)\n",
    "y_pred5 = model_5.predict(X_test)\n",
    "mse = mean_squared_error(Y_test, y_pred5)\n",
    "r2 = r2_score(Y_test, y_pred5)\n",
    "print(f\"MSE: {mse}, R² Score: {r2}\")"
   ]
  },
  {
   "cell_type": "code",
   "execution_count": 27,
   "id": "ab3b0445",
   "metadata": {
    "execution": {
     "iopub.execute_input": "2024-10-02T16:21:25.461700Z",
     "iopub.status.busy": "2024-10-02T16:21:25.461315Z",
     "iopub.status.idle": "2024-10-02T16:21:25.526807Z",
     "shell.execute_reply": "2024-10-02T16:21:25.525750Z"
    },
    "papermill": {
     "duration": 0.079222,
     "end_time": "2024-10-02T16:21:25.529188",
     "exception": false,
     "start_time": "2024-10-02T16:21:25.449966",
     "status": "completed"
    },
    "tags": []
   },
   "outputs": [
    {
     "name": "stdout",
     "output_type": "stream",
     "text": [
      "MSE: 1070422515.2005482, R² Score: 0.7644085145866478\n"
     ]
    }
   ],
   "source": [
    "model_6 = KNeighborsRegressor(n_neighbors=5)\n",
    "model_6.fit(X, y)\n",
    "y_pred6 = model_6.predict(X_test)\n",
    "mse = mean_squared_error(Y_test, y_pred6)\n",
    "r2 = r2_score(Y_test, y_pred6)\n",
    "print(f\"MSE: {mse}, R² Score: {r2}\")"
   ]
  },
  {
   "cell_type": "code",
   "execution_count": 28,
   "id": "2ffe02d9",
   "metadata": {
    "execution": {
     "iopub.execute_input": "2024-10-02T16:21:25.551720Z",
     "iopub.status.busy": "2024-10-02T16:21:25.550939Z",
     "iopub.status.idle": "2024-10-02T16:21:25.601382Z",
     "shell.execute_reply": "2024-10-02T16:21:25.600296Z"
    },
    "papermill": {
     "duration": 0.063765,
     "end_time": "2024-10-02T16:21:25.603453",
     "exception": false,
     "start_time": "2024-10-02T16:21:25.539688",
     "status": "completed"
    },
    "tags": []
   },
   "outputs": [
    {
     "name": "stdout",
     "output_type": "stream",
     "text": [
      "MSE: 113919809.63910455, R² Score: 0.9749271555953262\n"
     ]
    }
   ],
   "source": [
    "model_7 = DecisionTreeRegressor(max_depth=10)\n",
    "model_7.fit(X, y)\n",
    "y_pred7 = model_7.predict(X_test)\n",
    "mse = mean_squared_error(Y_test, y_pred7)\n",
    "r2 = r2_score(Y_test, y_pred7)\n",
    "print(f\"MSE: {mse}, R² Score: {r2}\")"
   ]
  },
  {
   "cell_type": "code",
   "execution_count": 29,
   "id": "945c857b",
   "metadata": {
    "execution": {
     "iopub.execute_input": "2024-10-02T16:21:25.625945Z",
     "iopub.status.busy": "2024-10-02T16:21:25.625210Z",
     "iopub.status.idle": "2024-10-02T16:21:25.924101Z",
     "shell.execute_reply": "2024-10-02T16:21:25.923089Z"
    },
    "papermill": {
     "duration": 0.313381,
     "end_time": "2024-10-02T16:21:25.927222",
     "exception": false,
     "start_time": "2024-10-02T16:21:25.613841",
     "status": "completed"
    },
    "tags": []
   },
   "outputs": [
    {
     "data": {
      "image/png": "[encoded data removed]",
      "text/plain": [
       "<Figure size 1000x600 with 1 Axes>"
      ]
     },
     "metadata": {},
     "output_type": "display_data"
    }
   ],
   "source": [
    "sort_indices = np.argsort(Y_test)\n",
    "\n",
    "# Plot\n",
    "plt.figure(figsize=(10, 6))\n",
    "plt.plot(np.arange(len(Y_test)), Y_test, label='Original')\n",
    "plt.plot(np.arange(len(Y_test)), y_pred2, label='Predicted')\n",
    "plt.xlabel('Index')\n",
    "plt.ylabel('Price')\n",
    "plt.title('Original vs Predicted Prices')\n",
    "plt.legend()\n",
    "plt.show()"
   ]
  },
  {
   "cell_type": "code",
   "execution_count": 30,
   "id": "5fe3ea94",
   "metadata": {
    "execution": {
     "iopub.execute_input": "2024-10-02T16:21:25.954840Z",
     "iopub.status.busy": "2024-10-02T16:21:25.953956Z",
     "iopub.status.idle": "2024-10-02T16:21:26.025018Z",
     "shell.execute_reply": "2024-10-02T16:21:26.024141Z"
    },
    "papermill": {
     "duration": 0.086902,
     "end_time": "2024-10-02T16:21:26.027354",
     "exception": false,
     "start_time": "2024-10-02T16:21:25.940452",
     "status": "completed"
    },
    "tags": []
   },
   "outputs": [],
   "source": [
    "pred = best_model.predict(testing_data)\n",
    "\n",
    "final = pd.DataFrame()\n",
    "final['Id'] = testing_data.index\n",
    "final['SalePrice'] = pred\n",
    "\n",
    "# Write DataFrame to a CSV file without index\n",
    "final.to_csv('output.csv', index=False)"
   ]
  }
 ],
 "metadata": {
  "kaggle": {
   "accelerator": "none",
   "dataSources": [
    {
     "databundleVersionId": 868283,
     "sourceId": 5407,
     "sourceType": "competition"
    }
   ],
   "dockerImageVersionId": 30775,
   "isGpuEnabled": false,
   "isInternetEnabled": true,
   "language": "python",
   "sourceType": "notebook"
  },
  "kernelspec": {
   "display_name": "Python 3",
   "language": "python",
   "name": "python3"
  },
  "language_info": {
   "codemirror_mode": {
    "name": "ipython",
    "version": 3
   },
   "file_extension": ".py",
   "mimetype": "text/x-python",
   "name": "python",
   "nbconvert_exporter": "python",
   "pygments_lexer": "ipython3",
   "version": "3.10.14"
  },
  "papermill": {
   "default_parameters": {},
   "duration": 4862.156215,
   "end_time": "2024-10-02T16:21:26.660267",
   "environment_variables": {},
   "exception": null,
   "input_path": "__notebook__.ipynb",
   "output_path": "__notebook__.ipynb",
   "parameters": {},
   "start_time": "2024-10-02T15:00:24.504052",
   "version": "2.6.0"
  }
 },
 "nbformat": 4,
 "nbformat_minor": 5
}
