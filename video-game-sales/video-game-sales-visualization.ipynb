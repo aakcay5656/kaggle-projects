{
 "cells": [
  {
   "cell_type": "code",
   "execution_count": 1,
   "id": "c98b90fe",
   "metadata": {
    "_cell_guid": "b1076dfc-b9ad-4769-8c92-a6c4dae69d19",
    "_uuid": "8f2839f25d086af736a60e9eeb907d3b93b6e0e5",
    "execution": {
     "iopub.execute_input": "2025-02-28T22:18:40.334438Z",
     "iopub.status.busy": "2025-02-28T22:18:40.333948Z",
     "iopub.status.idle": "2025-02-28T22:18:43.847132Z",
     "shell.execute_reply": "2025-02-28T22:18:43.845856Z"
    },
    "papermill": {
     "duration": 3.527567,
     "end_time": "2025-02-28T22:18:43.850254",
     "exception": false,
     "start_time": "2025-02-28T22:18:40.322687",
     "status": "completed"
    },
    "tags": []
   },
   "outputs": [
    {
     "name": "stderr",
     "output_type": "stream",
     "text": [
      "/opt/conda/lib/python3.7/site-packages/geopandas/_compat.py:115: UserWarning:\n",
      "\n",
      "The Shapely GEOS version (3.9.1-CAPI-1.14.2) is incompatible with the GEOS version PyGEOS was compiled with (3.10.1-CAPI-1.16.0). Conversions between both will be slow.\n",
      "\n"
     ]
    }
   ],
   "source": [
    "import numpy as np \n",
    "import pandas as pd\n",
    "import seaborn as sns\n",
    "import matplotlib.pyplot as plt\n",
    "from plotly.offline import init_notebook_mode, iplot \n",
    "import plotly.graph_objs as go\n",
    "import plotly.express as px\n",
    "import plotly.figure_factory as ff\n",
    "import missingno as msno\n",
    "from wordcloud import WordCloud\n",
    "import warnings\n",
    "warnings.filterwarnings('ignore') "
   ]
  },
  {
   "cell_type": "markdown",
   "id": "3edf7233",
   "metadata": {
    "papermill": {
     "duration": 0.009703,
     "end_time": "2025-02-28T22:18:43.868192",
     "exception": false,
     "start_time": "2025-02-28T22:18:43.858489",
     "status": "completed"
    },
    "tags": []
   },
   "source": [
    "# Load and Check Data"
   ]
  },
  {
   "cell_type": "code",
   "execution_count": 2,
   "id": "265fab10",
   "metadata": {
    "execution": {
     "iopub.execute_input": "2025-02-28T22:18:43.886653Z",
     "iopub.status.busy": "2025-02-28T22:18:43.886258Z",
     "iopub.status.idle": "2025-02-28T22:18:43.957108Z",
     "shell.execute_reply": "2025-02-28T22:18:43.955884Z"
    },
    "papermill": {
     "duration": 0.083244,
     "end_time": "2025-02-28T22:18:43.959884",
     "exception": false,
     "start_time": "2025-02-28T22:18:43.876640",
     "status": "completed"
    },
    "tags": []
   },
   "outputs": [],
   "source": [
    "data=pd.read_csv('../input/videogamesales/vgsales.csv')"
   ]
  },
  {
   "cell_type": "code",
   "execution_count": 3,
   "id": "3f95e511",
   "metadata": {
    "execution": {
     "iopub.execute_input": "2025-02-28T22:18:43.977322Z",
     "iopub.status.busy": "2025-02-28T22:18:43.976893Z",
     "iopub.status.idle": "2025-02-28T22:18:44.008660Z",
     "shell.execute_reply": "2025-02-28T22:18:44.007409Z"
    },
    "papermill": {
     "duration": 0.043212,
     "end_time": "2025-02-28T22:18:44.011025",
     "exception": false,
     "start_time": "2025-02-28T22:18:43.967813",
     "status": "completed"
    },
    "tags": []
   },
   "outputs": [
    {
     "name": "stdout",
     "output_type": "stream",
     "text": [
      "<class 'pandas.core.frame.DataFrame'>\n",
      "RangeIndex: 16598 entries, 0 to 16597\n",
      "Data columns (total 11 columns):\n",
      " #   Column        Non-Null Count  Dtype  \n",
      "---  ------        --------------  -----  \n",
      " 0   Rank          16598 non-null  int64  \n",
      " 1   Name          16598 non-null  object \n",
      " 2   Platform      16598 non-null  object \n",
      " 3   Year          16327 non-null  float64\n",
      " 4   Genre         16598 non-null  object \n",
      " 5   Publisher     16540 non-null  object \n",
      " 6   NA_Sales      16598 non-null  float64\n",
      " 7   EU_Sales      16598 non-null  float64\n",
      " 8   JP_Sales      16598 non-null  float64\n",
      " 9   Other_Sales   16598 non-null  float64\n",
      " 10  Global_Sales  16598 non-null  float64\n",
      "dtypes: float64(6), int64(1), object(4)\n",
      "memory usage: 1.4+ MB\n"
     ]
    }
   ],
   "source": [
    "data.info()"
   ]
  },
  {
   "cell_type": "code",
   "execution_count": 4,
   "id": "dd2f3a69",
   "metadata": {
    "execution": {
     "iopub.execute_input": "2025-02-28T22:18:44.030551Z",
     "iopub.status.busy": "2025-02-28T22:18:44.029341Z",
     "iopub.status.idle": "2025-02-28T22:18:44.053176Z",
     "shell.execute_reply": "2025-02-28T22:18:44.052076Z"
    },
    "papermill": {
     "duration": 0.035614,
     "end_time": "2025-02-28T22:18:44.055741",
     "exception": false,
     "start_time": "2025-02-28T22:18:44.020127",
     "status": "completed"
    },
    "tags": []
   },
   "outputs": [
    {
     "data": {
      "text/html": [
       "<div>\n",
       "<style scoped>\n",
       "    .dataframe tbody tr th:only-of-type {\n",
       "        vertical-align: middle;\n",
       "    }\n",
       "\n",
       "    .dataframe tbody tr th {\n",
       "        vertical-align: top;\n",
       "    }\n",
       "\n",
       "    .dataframe thead th {\n",
       "        text-align: right;\n",
       "    }\n",
       "</style>\n",
       "<table border=\"1\" class=\"dataframe\">\n",
       "  <thead>\n",
       "    <tr style=\"text-align: right;\">\n",
       "      <th></th>\n",
       "      <th>Rank</th>\n",
       "      <th>Name</th>\n",
       "      <th>Platform</th>\n",
       "      <th>Year</th>\n",
       "      <th>Genre</th>\n",
       "      <th>Publisher</th>\n",
       "      <th>NA_Sales</th>\n",
       "      <th>EU_Sales</th>\n",
       "      <th>JP_Sales</th>\n",
       "      <th>Other_Sales</th>\n",
       "      <th>Global_Sales</th>\n",
       "    </tr>\n",
       "  </thead>\n",
       "  <tbody>\n",
       "    <tr>\n",
       "      <th>0</th>\n",
       "      <td>1</td>\n",
       "      <td>Wii Sports</td>\n",
       "      <td>Wii</td>\n",
       "      <td>2006.0</td>\n",
       "      <td>Sports</td>\n",
       "      <td>Nintendo</td>\n",
       "      <td>41.49</td>\n",
       "      <td>29.02</td>\n",
       "      <td>3.77</td>\n",
       "      <td>8.46</td>\n",
       "      <td>82.74</td>\n",
       "    </tr>\n",
       "    <tr>\n",
       "      <th>1</th>\n",
       "      <td>2</td>\n",
       "      <td>Super Mario Bros.</td>\n",
       "      <td>NES</td>\n",
       "      <td>1985.0</td>\n",
       "      <td>Platform</td>\n",
       "      <td>Nintendo</td>\n",
       "      <td>29.08</td>\n",
       "      <td>3.58</td>\n",
       "      <td>6.81</td>\n",
       "      <td>0.77</td>\n",
       "      <td>40.24</td>\n",
       "    </tr>\n",
       "    <tr>\n",
       "      <th>2</th>\n",
       "      <td>3</td>\n",
       "      <td>Mario Kart Wii</td>\n",
       "      <td>Wii</td>\n",
       "      <td>2008.0</td>\n",
       "      <td>Racing</td>\n",
       "      <td>Nintendo</td>\n",
       "      <td>15.85</td>\n",
       "      <td>12.88</td>\n",
       "      <td>3.79</td>\n",
       "      <td>3.31</td>\n",
       "      <td>35.82</td>\n",
       "    </tr>\n",
       "    <tr>\n",
       "      <th>3</th>\n",
       "      <td>4</td>\n",
       "      <td>Wii Sports Resort</td>\n",
       "      <td>Wii</td>\n",
       "      <td>2009.0</td>\n",
       "      <td>Sports</td>\n",
       "      <td>Nintendo</td>\n",
       "      <td>15.75</td>\n",
       "      <td>11.01</td>\n",
       "      <td>3.28</td>\n",
       "      <td>2.96</td>\n",
       "      <td>33.00</td>\n",
       "    </tr>\n",
       "    <tr>\n",
       "      <th>4</th>\n",
       "      <td>5</td>\n",
       "      <td>Pokemon Red/Pokemon Blue</td>\n",
       "      <td>GB</td>\n",
       "      <td>1996.0</td>\n",
       "      <td>Role-Playing</td>\n",
       "      <td>Nintendo</td>\n",
       "      <td>11.27</td>\n",
       "      <td>8.89</td>\n",
       "      <td>10.22</td>\n",
       "      <td>1.00</td>\n",
       "      <td>31.37</td>\n",
       "    </tr>\n",
       "  </tbody>\n",
       "</table>\n",
       "</div>"
      ],
      "text/plain": [
       "   Rank                      Name Platform    Year         Genre Publisher  \\\n",
       "0     1                Wii Sports      Wii  2006.0        Sports  Nintendo   \n",
       "1     2         Super Mario Bros.      NES  1985.0      Platform  Nintendo   \n",
       "2     3            Mario Kart Wii      Wii  2008.0        Racing  Nintendo   \n",
       "3     4         Wii Sports Resort      Wii  2009.0        Sports  Nintendo   \n",
       "4     5  Pokemon Red/Pokemon Blue       GB  1996.0  Role-Playing  Nintendo   \n",
       "\n",
       "   NA_Sales  EU_Sales  JP_Sales  Other_Sales  Global_Sales  \n",
       "0     41.49     29.02      3.77         8.46         82.74  \n",
       "1     29.08      3.58      6.81         0.77         40.24  \n",
       "2     15.85     12.88      3.79         3.31         35.82  \n",
       "3     15.75     11.01      3.28         2.96         33.00  \n",
       "4     11.27      8.89     10.22         1.00         31.37  "
      ]
     },
     "execution_count": 4,
     "metadata": {},
     "output_type": "execute_result"
    }
   ],
   "source": [
    "data.head()"
   ]
  },
  {
   "cell_type": "code",
   "execution_count": 5,
   "id": "d5a36868",
   "metadata": {
    "execution": {
     "iopub.execute_input": "2025-02-28T22:18:44.073926Z",
     "iopub.status.busy": "2025-02-28T22:18:44.073463Z",
     "iopub.status.idle": "2025-02-28T22:18:44.094647Z",
     "shell.execute_reply": "2025-02-28T22:18:44.093433Z"
    },
    "papermill": {
     "duration": 0.033214,
     "end_time": "2025-02-28T22:18:44.097277",
     "exception": false,
     "start_time": "2025-02-28T22:18:44.064063",
     "status": "completed"
    },
    "tags": []
   },
   "outputs": [
    {
     "data": {
      "text/html": [
       "<div>\n",
       "<style scoped>\n",
       "    .dataframe tbody tr th:only-of-type {\n",
       "        vertical-align: middle;\n",
       "    }\n",
       "\n",
       "    .dataframe tbody tr th {\n",
       "        vertical-align: top;\n",
       "    }\n",
       "\n",
       "    .dataframe thead th {\n",
       "        text-align: right;\n",
       "    }\n",
       "</style>\n",
       "<table border=\"1\" class=\"dataframe\">\n",
       "  <thead>\n",
       "    <tr style=\"text-align: right;\">\n",
       "      <th></th>\n",
       "      <th>Rank</th>\n",
       "      <th>Year</th>\n",
       "      <th>NA_Sales</th>\n",
       "      <th>EU_Sales</th>\n",
       "      <th>JP_Sales</th>\n",
       "      <th>Other_Sales</th>\n",
       "      <th>Global_Sales</th>\n",
       "    </tr>\n",
       "  </thead>\n",
       "  <tbody>\n",
       "    <tr>\n",
       "      <th>Rank</th>\n",
       "      <td>1.000000</td>\n",
       "      <td>0.178814</td>\n",
       "      <td>-0.401362</td>\n",
       "      <td>-0.379123</td>\n",
       "      <td>-0.267785</td>\n",
       "      <td>-0.332986</td>\n",
       "      <td>-0.427407</td>\n",
       "    </tr>\n",
       "    <tr>\n",
       "      <th>Year</th>\n",
       "      <td>0.178814</td>\n",
       "      <td>1.000000</td>\n",
       "      <td>-0.091402</td>\n",
       "      <td>0.006014</td>\n",
       "      <td>-0.169316</td>\n",
       "      <td>0.041058</td>\n",
       "      <td>-0.074735</td>\n",
       "    </tr>\n",
       "    <tr>\n",
       "      <th>NA_Sales</th>\n",
       "      <td>-0.401362</td>\n",
       "      <td>-0.091402</td>\n",
       "      <td>1.000000</td>\n",
       "      <td>0.767727</td>\n",
       "      <td>0.449787</td>\n",
       "      <td>0.634737</td>\n",
       "      <td>0.941047</td>\n",
       "    </tr>\n",
       "    <tr>\n",
       "      <th>EU_Sales</th>\n",
       "      <td>-0.379123</td>\n",
       "      <td>0.006014</td>\n",
       "      <td>0.767727</td>\n",
       "      <td>1.000000</td>\n",
       "      <td>0.435584</td>\n",
       "      <td>0.726385</td>\n",
       "      <td>0.902836</td>\n",
       "    </tr>\n",
       "    <tr>\n",
       "      <th>JP_Sales</th>\n",
       "      <td>-0.267785</td>\n",
       "      <td>-0.169316</td>\n",
       "      <td>0.449787</td>\n",
       "      <td>0.435584</td>\n",
       "      <td>1.000000</td>\n",
       "      <td>0.290186</td>\n",
       "      <td>0.611816</td>\n",
       "    </tr>\n",
       "    <tr>\n",
       "      <th>Other_Sales</th>\n",
       "      <td>-0.332986</td>\n",
       "      <td>0.041058</td>\n",
       "      <td>0.634737</td>\n",
       "      <td>0.726385</td>\n",
       "      <td>0.290186</td>\n",
       "      <td>1.000000</td>\n",
       "      <td>0.748331</td>\n",
       "    </tr>\n",
       "    <tr>\n",
       "      <th>Global_Sales</th>\n",
       "      <td>-0.427407</td>\n",
       "      <td>-0.074735</td>\n",
       "      <td>0.941047</td>\n",
       "      <td>0.902836</td>\n",
       "      <td>0.611816</td>\n",
       "      <td>0.748331</td>\n",
       "      <td>1.000000</td>\n",
       "    </tr>\n",
       "  </tbody>\n",
       "</table>\n",
       "</div>"
      ],
      "text/plain": [
       "                  Rank      Year  NA_Sales  EU_Sales  JP_Sales  Other_Sales  \\\n",
       "Rank          1.000000  0.178814 -0.401362 -0.379123 -0.267785    -0.332986   \n",
       "Year          0.178814  1.000000 -0.091402  0.006014 -0.169316     0.041058   \n",
       "NA_Sales     -0.401362 -0.091402  1.000000  0.767727  0.449787     0.634737   \n",
       "EU_Sales     -0.379123  0.006014  0.767727  1.000000  0.435584     0.726385   \n",
       "JP_Sales     -0.267785 -0.169316  0.449787  0.435584  1.000000     0.290186   \n",
       "Other_Sales  -0.332986  0.041058  0.634737  0.726385  0.290186     1.000000   \n",
       "Global_Sales -0.427407 -0.074735  0.941047  0.902836  0.611816     0.748331   \n",
       "\n",
       "              Global_Sales  \n",
       "Rank             -0.427407  \n",
       "Year             -0.074735  \n",
       "NA_Sales          0.941047  \n",
       "EU_Sales          0.902836  \n",
       "JP_Sales          0.611816  \n",
       "Other_Sales       0.748331  \n",
       "Global_Sales      1.000000  "
      ]
     },
     "execution_count": 5,
     "metadata": {},
     "output_type": "execute_result"
    }
   ],
   "source": [
    "data.corr()"
   ]
  },
  {
   "cell_type": "code",
   "execution_count": null,
   "id": "3a27f739",
   "metadata": {
    "papermill": {
     "duration": 0.00789,
     "end_time": "2025-02-28T22:18:44.113727",
     "exception": false,
     "start_time": "2025-02-28T22:18:44.105837",
     "status": "completed"
    },
    "tags": []
   },
   "outputs": [],
   "source": []
  },
  {
   "cell_type": "code",
   "execution_count": null,
   "id": "223f3327",
   "metadata": {
    "papermill": {
     "duration": 0.00794,
     "end_time": "2025-02-28T22:18:44.130029",
     "exception": false,
     "start_time": "2025-02-28T22:18:44.122089",
     "status": "completed"
    },
    "tags": []
   },
   "outputs": [],
   "source": []
  },
  {
   "cell_type": "code",
   "execution_count": 6,
   "id": "1ce9183a",
   "metadata": {
    "execution": {
     "iopub.execute_input": "2025-02-28T22:18:44.148513Z",
     "iopub.status.busy": "2025-02-28T22:18:44.148093Z",
     "iopub.status.idle": "2025-02-28T22:18:44.162592Z",
     "shell.execute_reply": "2025-02-28T22:18:44.161336Z"
    },
    "papermill": {
     "duration": 0.026612,
     "end_time": "2025-02-28T22:18:44.165042",
     "exception": false,
     "start_time": "2025-02-28T22:18:44.138430",
     "status": "completed"
    },
    "tags": []
   },
   "outputs": [
    {
     "data": {
      "text/plain": [
       "Rank            False\n",
       "Name            False\n",
       "Platform        False\n",
       "Year             True\n",
       "Genre           False\n",
       "Publisher        True\n",
       "NA_Sales        False\n",
       "EU_Sales        False\n",
       "JP_Sales        False\n",
       "Other_Sales     False\n",
       "Global_Sales    False\n",
       "dtype: bool"
      ]
     },
     "execution_count": 6,
     "metadata": {},
     "output_type": "execute_result"
    }
   ],
   "source": [
    "data.isnull().any()"
   ]
  },
  {
   "cell_type": "code",
   "execution_count": 7,
   "id": "1406007b",
   "metadata": {
    "execution": {
     "iopub.execute_input": "2025-02-28T22:18:44.184018Z",
     "iopub.status.busy": "2025-02-28T22:18:44.183236Z",
     "iopub.status.idle": "2025-02-28T22:18:44.198276Z",
     "shell.execute_reply": "2025-02-28T22:18:44.196949Z"
    },
    "papermill": {
     "duration": 0.027392,
     "end_time": "2025-02-28T22:18:44.200913",
     "exception": false,
     "start_time": "2025-02-28T22:18:44.173521",
     "status": "completed"
    },
    "tags": []
   },
   "outputs": [
    {
     "data": {
      "text/plain": [
       "Rank              0\n",
       "Name              0\n",
       "Platform          0\n",
       "Year            271\n",
       "Genre             0\n",
       "Publisher        58\n",
       "NA_Sales          0\n",
       "EU_Sales          0\n",
       "JP_Sales          0\n",
       "Other_Sales       0\n",
       "Global_Sales      0\n",
       "dtype: int64"
      ]
     },
     "execution_count": 7,
     "metadata": {},
     "output_type": "execute_result"
    }
   ],
   "source": [
    "data.isnull().sum()"
   ]
  },
  {
   "cell_type": "markdown",
   "id": "8c9a20ed",
   "metadata": {
    "papermill": {
     "duration": 0.00802,
     "end_time": "2025-02-28T22:18:44.217716",
     "exception": false,
     "start_time": "2025-02-28T22:18:44.209696",
     "status": "completed"
    },
    "tags": []
   },
   "source": [
    "# Variable Description\n",
    "\n",
    "* Rank - Ranking of overall sales\n",
    "* Name - The games name\n",
    "* Platform - Platform of the games release (i.e. PC,PS4, etc.)\n",
    "* Year - Year of the game's release\n",
    "* Genre - Genre of the game\n",
    "* Publisher - Publisher of the game\n",
    "* NA_Sales - Sales in North America (in millions)\n",
    "* EU_Sales - Sales in Europe (in millions)\n",
    "* JP_Sales - Sales in Japan (in millions)\n",
    "* Other_Sales - Sales in the rest of the world (in millions)\n",
    "* Global_Sales - Total worldwide sales."
   ]
  },
  {
   "cell_type": "code",
   "execution_count": 8,
   "id": "75887b61",
   "metadata": {
    "execution": {
     "iopub.execute_input": "2025-02-28T22:18:44.236807Z",
     "iopub.status.busy": "2025-02-28T22:18:44.235963Z",
     "iopub.status.idle": "2025-02-28T22:18:44.251508Z",
     "shell.execute_reply": "2025-02-28T22:18:44.250327Z"
    },
    "papermill": {
     "duration": 0.028136,
     "end_time": "2025-02-28T22:18:44.254425",
     "exception": false,
     "start_time": "2025-02-28T22:18:44.226289",
     "status": "completed"
    },
    "tags": []
   },
   "outputs": [
    {
     "name": "stdout",
     "output_type": "stream",
     "text": [
      "Name:\n",
      "['Wii Sports' 'Super Mario Bros.' 'Mario Kart Wii' ... 'Plushees'\n",
      " 'Woody Woodpecker in Crazy Castle 5' 'Know How 2'] \n",
      "**************************************************\n",
      "Platform:\n",
      "['Wii' 'NES' 'GB' 'DS' 'X360' 'PS3' 'PS2' 'SNES' 'GBA' '3DS' 'PS4' 'N64'\n",
      " 'PS' 'XB' 'PC' '2600' 'PSP' 'XOne' 'GC' 'WiiU' 'GEN' 'DC' 'PSV' 'SAT'\n",
      " 'SCD' 'WS' 'NG' 'TG16' '3DO' 'GG' 'PCFX'] \n",
      "**************************************************\n",
      "Genre:\n",
      "['Sports' 'Platform' 'Racing' 'Role-Playing' 'Puzzle' 'Misc' 'Shooter'\n",
      " 'Simulation' 'Action' 'Fighting' 'Adventure' 'Strategy'] \n",
      "**************************************************\n",
      "Publisher:\n",
      "['Nintendo' 'Microsoft Game Studios' 'Take-Two Interactive'\n",
      " 'Sony Computer Entertainment' 'Activision' 'Ubisoft' 'Bethesda Softworks'\n",
      " 'Electronic Arts' 'Sega' 'SquareSoft' 'Atari' '505 Games' 'Capcom'\n",
      " 'GT Interactive' 'Konami Digital Entertainment'\n",
      " 'Sony Computer Entertainment Europe' 'Square Enix' 'LucasArts'\n",
      " 'Virgin Interactive' 'Warner Bros. Interactive Entertainment'\n",
      " 'Universal Interactive' 'Eidos Interactive' 'RedOctane' 'Vivendi Games'\n",
      " 'Enix Corporation' 'Namco Bandai Games' 'Palcom' 'Hasbro Interactive'\n",
      " 'THQ' 'Fox Interactive' 'Acclaim Entertainment' 'MTV Games'\n",
      " 'Disney Interactive Studios' nan 'Majesco Entertainment' 'Codemasters'\n",
      " 'Red Orb' 'Level 5' 'Arena Entertainment' 'Midway Games' 'JVC'\n",
      " 'Deep Silver' '989 Studios' 'NCSoft' 'UEP Systems' 'Parker Bros.' 'Maxis'\n",
      " 'Imagic' 'Tecmo Koei' 'Valve Software' 'ASCII Entertainment' 'Mindscape'\n",
      " 'Infogrames' 'Unknown' 'Square' 'Valve' 'Activision Value' 'Banpresto'\n",
      " 'D3Publisher' 'Oxygen Interactive' 'Red Storm Entertainment'\n",
      " 'Video System' 'Hello Games' 'Global Star' 'Gotham Games'\n",
      " 'Westwood Studios' 'GungHo' 'Crave Entertainment' 'Hudson Soft' 'Coleco'\n",
      " 'Rising Star Games' 'Atlus' 'TDK Mediactive' 'ASC Games' 'Zoo Games'\n",
      " 'Accolade' 'Sony Online Entertainment' '3DO' 'RTL' 'Natsume'\n",
      " 'Focus Home Interactive' 'Alchemist' 'Black Label Games'\n",
      " 'SouthPeak Games' 'Mastertronic' 'Ocean' 'Zoo Digital Publishing'\n",
      " 'Psygnosis' 'City Interactive' 'Empire Interactive' 'Success' 'Compile'\n",
      " 'Russel' 'Taito' 'Agetec' 'GSP' 'Microprose' 'Play It'\n",
      " 'Slightly Mad Studios' 'Tomy Corporation' 'Sammy Corporation'\n",
      " 'Koch Media' 'Game Factory' 'Titus' 'Marvelous Entertainment' 'Genki'\n",
      " 'Mojang' 'Pinnacle' 'CTO SpA' 'TalonSoft' 'Crystal Dynamics' 'SCi'\n",
      " 'Quelle' 'mixi, Inc' 'Rage Software' 'Ubisoft Annecy' 'Scholastic Inc.'\n",
      " 'Interplay' 'Mystique' 'ChunSoft' 'Square EA'\n",
      " '20th Century Fox Video Games' 'Avanquest Software'\n",
      " 'Hudson Entertainment' 'Nordic Games' 'Men-A-Vision' 'Nobilis'\n",
      " 'Big Ben Interactive' 'Touchstone' 'Spike' 'Jester Interactive'\n",
      " 'Nippon Ichi Software' 'LEGO Media' 'Quest' 'Illusion Softworks'\n",
      " 'Tigervision' 'Funbox Media' 'Rocket Company' 'Metro 3D'\n",
      " 'Mattel Interactive' 'IE Institute' 'Rondomedia'\n",
      " 'Sony Computer Entertainment America' 'Universal Gamex' 'Ghostlight'\n",
      " 'Wizard Video Games' 'BMG Interactive Entertainment' 'PQube'\n",
      " 'Trion Worlds' 'Laguna' 'Ignition Entertainment' 'Takara'\n",
      " 'Kadokawa Shoten' 'Destineer' 'Enterbrain' 'Xseed Games' 'Imagineer'\n",
      " 'System 3 Arcade Software' 'CPG Products' 'Aruze Corp' 'Gamebridge'\n",
      " 'Midas Interactive Entertainment' 'Jaleco' 'Answer Software' 'XS Games'\n",
      " 'Activision Blizzard' 'Pack In Soft' 'Rebellion' 'Xplosiv' 'Ultravision'\n",
      " 'GameMill Entertainment' 'Wanadoo' 'NovaLogic' 'Telltale Games' 'Epoch'\n",
      " 'BAM! Entertainment' 'Knowledge Adventure' 'Mastiff' 'Tetris Online'\n",
      " 'Harmonix Music Systems' 'ESP' 'TYO' 'Telegames' 'Mud Duck Productions'\n",
      " 'Screenlife' 'Pioneer LDC' 'Magical Company' 'Mentor Interactive' 'Kemco'\n",
      " 'Human Entertainment' 'Avanquest' 'Data Age' 'Electronic Arts Victor'\n",
      " 'Black Bean Games' 'Jack of All Games' '989 Sports' 'Takara Tomy'\n",
      " 'Media Rings' 'Elf' 'Kalypso Media' 'Starfish' 'Zushi Games' 'Jorudan'\n",
      " 'Destination Software, Inc' 'New' 'Brash Entertainment'\n",
      " 'ITT Family Games' 'PopCap Games' 'Home Entertainment Suppliers'\n",
      " 'Ackkstudios' 'Starpath Corp.' 'P2 Games' 'BPS' 'Gathering of Developers'\n",
      " 'NewKidCo' 'Storm City Games' 'CokeM Interactive' 'CBS Electronics'\n",
      " 'Magix' 'Marvelous Interactive' 'Nihon Falcom Corporation'\n",
      " 'Wargaming.net' 'Angel Studios' 'Arc System Works' 'Playmates'\n",
      " 'SNK Playmore' 'Hamster Corporation' 'From Software' 'Nippon Columbia'\n",
      " 'Nichibutsu' 'Little Orbit' 'Conspiracy Entertainment'\n",
      " 'DTP Entertainment' 'Hect' 'Mumbo Jumbo' 'Pacific Century Cyber Works'\n",
      " 'Indie Games' 'Liquid Games' 'NEC' 'Axela' 'ArtDink' 'Sunsoft' 'Gust'\n",
      " 'SNK' 'NEC Interchannel' 'FuRyu' 'Xing Entertainment' 'ValuSoft'\n",
      " 'Victor Interactive' 'Detn8 Games' 'American Softworks' 'Nordcurrent'\n",
      " 'Bomb' 'Falcom Corporation' 'AQ Interactive' 'CCP' 'Milestone S.r.l.'\n",
      " 'Sears' 'JoWood Productions' 'Seta Corporation' 'On Demand' 'NCS' 'Aspyr'\n",
      " 'Gremlin Interactive Ltd' 'Agatsuma Entertainment' 'Compile Heart'\n",
      " 'Culture Brain' 'Mad Catz' 'Shogakukan' 'Merscom LLC'\n",
      " 'Rebellion Developments' 'Nippon Telenet' 'TDK Core' 'bitComposer Games'\n",
      " 'Foreign Media Games' 'Astragon' 'SSI' 'Kadokawa Games' 'Idea Factory'\n",
      " 'Performance Designed Products' 'Asylum Entertainment' 'Core Design Ltd.'\n",
      " 'PlayV' 'UFO Interactive' 'Idea Factory International'\n",
      " 'Playlogic Game Factory' 'Essential Games' 'Adeline Software' 'Funcom'\n",
      " 'Panther Software' 'Blast! Entertainment Ltd' 'Game Life' 'DSI Games'\n",
      " 'Avalon Interactive' 'Popcorn Arcade' 'Neko Entertainment'\n",
      " 'Vir2L Studios' 'Aques' 'Syscom' 'White Park Bay Software' 'System 3'\n",
      " 'Vatical Entertainment' 'Daedalic' 'EA Games' 'Media Factory' 'Vic Tokai'\n",
      " 'The Adventure Company' 'Game Arts' 'Broccoli' 'Acquire'\n",
      " 'General Entertainment' 'Excalibur Publishing' 'Imadio'\n",
      " 'Swing! Entertainment' 'Sony Music Entertainment' 'Aqua Plus'\n",
      " 'Paradox Interactive' 'Hip Interactive' 'DreamCatcher Interactive'\n",
      " 'Tripwire Interactive' 'Sting' 'Yacht Club Games' 'SCS Software'\n",
      " 'Bigben Interactive' 'Havas Interactive' 'Slitherine Software' 'Graffiti'\n",
      " 'Funsta' 'Telstar' 'U.S. Gold' 'DreamWorks Interactive'\n",
      " 'Data Design Interactive' 'MTO' 'DHM Interactive' 'FunSoft' 'SPS'\n",
      " 'Bohemia Interactive' 'Reef Entertainment' 'Tru Blu Entertainment' 'Moss'\n",
      " 'T&E Soft' 'O-Games' 'Aksys Games' 'NDA Productions' 'Data East'\n",
      " 'Time Warner Interactive' 'Gainax Network Systems' 'Daito'\n",
      " 'O3 Entertainment' 'Gameloft' 'Xicat Interactive'\n",
      " 'Simon & Schuster Interactive' 'Valcon Games' 'PopTop Software' 'TOHO'\n",
      " 'HMH Interactive' '5pb' 'Cave' 'CDV Software Entertainment' 'Microids'\n",
      " 'PM Studios' 'Paon' 'Micro Cabin' 'GameTek' 'Benesse' 'Type-Moon'\n",
      " 'Enjoy Gaming ltd.' 'Asmik Corp' 'Interplay Productions'\n",
      " 'Asmik Ace Entertainment' 'inXile Entertainment' 'Image Epoch'\n",
      " 'Phantom EFX' 'Evolved Games' 'responDESIGN' 'Culture Publishers'\n",
      " 'Griffin International' 'Hackberry' 'Hearty Robin' 'Nippon Amuse'\n",
      " 'Origin Systems' 'Seventh Chord' 'Mitsui' 'Milestone' 'Abylight'\n",
      " 'Flight-Plan' 'Glams' 'Locus' 'Warp' 'Daedalic Entertainment'\n",
      " 'Alternative Software' 'Myelin Media' 'Mercury Games'\n",
      " 'Irem Software Engineering' 'Sunrise Interactive' 'Elite'\n",
      " 'Evolution Games' 'Tivola' 'Global A Entertainment' 'Edia' 'Athena'\n",
      " 'Aria' 'Gamecock' 'Tommo' 'Altron' 'Happinet' 'iWin' 'Media Works'\n",
      " 'Fortyfive' 'Revolution Software' 'Imax' 'Crimson Cow' '10TACLE Studios'\n",
      " 'Groove Games' 'Pack-In-Video' 'Insomniac Games'\n",
      " 'Ascaron Entertainment GmbH' 'Asgard' 'Ecole' 'Yumedia' 'Phenomedia'\n",
      " 'HAL Laboratory' 'Grand Prix Games' 'DigiCube' 'Creative Core'\n",
      " 'Kaga Create' 'WayForward Technologies' 'LSP Games' 'ASCII Media Works'\n",
      " 'Coconuts Japan' 'Arika' 'Ertain' 'Marvel Entertainment' 'Prototype'\n",
      " 'TopWare Interactive' 'Phantagram' '1C Company' 'The Learning Company'\n",
      " 'TechnoSoft' 'Vap' 'Misawa' 'Tradewest' 'Team17 Software' 'Yeti' 'Pow'\n",
      " 'Navarre Corp' 'MediaQuest' 'Max Five' 'Comfort'\n",
      " 'Monte Christo Multimedia' 'Pony Canyon' 'Riverhillsoft' 'Summitsoft'\n",
      " 'Milestone S.r.l' 'Playmore' 'MLB.com' 'Kool Kizz' 'Flashpoint Games'\n",
      " '49Games' 'Legacy Interactive' 'Alawar Entertainment' 'CyberFront'\n",
      " 'Cloud Imperium Games Corporation' 'Societa' 'Virtual Play Games'\n",
      " 'Interchannel' 'Sonnet' 'Experience Inc.' 'Zenrin' 'Iceberg Interactive'\n",
      " 'Ivolgamus' '2D Boy' 'MC2 Entertainment' 'Kando Games' 'Just Flight'\n",
      " 'Office Create' 'Mamba Games' 'Fields' 'Princess Soft'\n",
      " 'Maximum Family Games' 'Berkeley' 'Fuji' 'Dusenberry Martin Racing'\n",
      " 'imageepoch Inc.' 'Big Fish Games' 'Her Interactive' 'Kamui' 'ASK'\n",
      " 'Headup Games' 'KSS' 'Cygames' 'KID' 'Quinrose' 'Sunflowers'\n",
      " 'dramatic create' 'TGL' 'Encore' 'Extreme Entertainment Group'\n",
      " 'Intergrow' 'G.Rev' 'Sweets' 'Kokopeli Digital Studios' 'Number None'\n",
      " 'Nexon' 'id Software' 'BushiRoad' 'Tryfirst' 'Strategy First' '7G//AMES'\n",
      " 'GN Software' \"Yuke's\" 'Easy Interactive' 'Licensed 4U'\n",
      " 'FuRyu Corporation' 'Lexicon Entertainment' 'Paon Corporation'\n",
      " 'Kids Station' 'GOA' 'Graphsim Entertainment' 'King Records'\n",
      " 'Introversion Software' 'Minato Station' 'Devolver Digital' 'Blue Byte'\n",
      " 'Gaga' 'Yamasa Entertainment' 'Plenty' 'Views' 'fonfun' 'NetRevo'\n",
      " 'Codemasters Online' 'Quintet' 'Phoenix Games' 'Dorart' 'Marvelous Games'\n",
      " 'Focus Multimedia' 'Imageworks' 'Karin Entertainment' 'Aerosoft'\n",
      " 'Technos Japan Corporation' 'Gakken' 'Mirai Shounen' 'Datam Polystar'\n",
      " 'Saurus' 'HuneX' 'Revolution (Japan)' 'Giza10' 'Visco' 'Alvion' 'Mycom'\n",
      " 'Giga' 'Warashi' 'System Soft' 'Sold Out' 'Lighthouse Interactive'\n",
      " 'Masque Publishing' 'RED Entertainment' 'Michaelsoft'\n",
      " 'Media Entertainment' 'New World Computing' 'Genterprise'\n",
      " 'Interworks Unlimited, Inc.' 'Boost On' 'Stainless Games'\n",
      " 'EON Digital Entertainment' 'Epic Games' 'Naxat Soft'\n",
      " 'Ascaron Entertainment' 'Piacci' 'Nitroplus' 'Paradox Development'\n",
      " 'Otomate' 'Ongakukan' 'Commseed' 'Inti Creates' 'Takuyo'\n",
      " 'Interchannel-Holon' 'Rain Games' 'UIG Entertainment'] \n",
      "**************************************************\n"
     ]
    }
   ],
   "source": [
    "# unique values of categorical titles\n",
    "for i in data.select_dtypes(include=(object)).columns:\n",
    "    print(f\"{i}:\\n{data[i].unique()} \\n{'*'*50}\")"
   ]
  },
  {
   "cell_type": "markdown",
   "id": "05932b40",
   "metadata": {
    "papermill": {
     "duration": 0.00865,
     "end_time": "2025-02-28T22:18:44.272324",
     "exception": false,
     "start_time": "2025-02-28T22:18:44.263674",
     "status": "completed"
    },
    "tags": []
   },
   "source": [
    "# Missing Value"
   ]
  },
  {
   "cell_type": "code",
   "execution_count": 9,
   "id": "3e5c5253",
   "metadata": {
    "execution": {
     "iopub.execute_input": "2025-02-28T22:18:44.291607Z",
     "iopub.status.busy": "2025-02-28T22:18:44.291224Z",
     "iopub.status.idle": "2025-02-28T22:18:44.304737Z",
     "shell.execute_reply": "2025-02-28T22:18:44.303673Z"
    },
    "papermill": {
     "duration": 0.025943,
     "end_time": "2025-02-28T22:18:44.307087",
     "exception": false,
     "start_time": "2025-02-28T22:18:44.281144",
     "status": "completed"
    },
    "tags": []
   },
   "outputs": [
    {
     "data": {
      "text/plain": [
       "Rank              0\n",
       "Name              0\n",
       "Platform          0\n",
       "Year            271\n",
       "Genre             0\n",
       "Publisher        58\n",
       "NA_Sales          0\n",
       "EU_Sales          0\n",
       "JP_Sales          0\n",
       "Other_Sales       0\n",
       "Global_Sales      0\n",
       "dtype: int64"
      ]
     },
     "execution_count": 9,
     "metadata": {},
     "output_type": "execute_result"
    }
   ],
   "source": [
    "data.isnull().sum()"
   ]
  },
  {
   "cell_type": "code",
   "execution_count": 10,
   "id": "bdd56651",
   "metadata": {
    "execution": {
     "iopub.execute_input": "2025-02-28T22:18:44.327097Z",
     "iopub.status.busy": "2025-02-28T22:18:44.326658Z",
     "iopub.status.idle": "2025-02-28T22:18:45.025455Z",
     "shell.execute_reply": "2025-02-28T22:18:45.024374Z"
    },
    "papermill": {
     "duration": 0.712014,
     "end_time": "2025-02-28T22:18:45.028418",
     "exception": false,
     "start_time": "2025-02-28T22:18:44.316404",
     "status": "completed"
    },
    "tags": []
   },
   "outputs": [
    {
     "data": {
      "image/png": "[encoded data removed]",
      "text/plain": [
       "<Figure size 1728x720 with 3 Axes>"
      ]
     },
     "metadata": {
      "needs_background": "light"
     },
     "output_type": "display_data"
    }
   ],
   "source": [
    "msno.bar(data)\n",
    "plt.show()"
   ]
  },
  {
   "cell_type": "code",
   "execution_count": 11,
   "id": "8bd63f9b",
   "metadata": {
    "execution": {
     "iopub.execute_input": "2025-02-28T22:18:45.049907Z",
     "iopub.status.busy": "2025-02-28T22:18:45.049476Z",
     "iopub.status.idle": "2025-02-28T22:18:45.059563Z",
     "shell.execute_reply": "2025-02-28T22:18:45.058237Z"
    },
    "papermill": {
     "duration": 0.023572,
     "end_time": "2025-02-28T22:18:45.061968",
     "exception": false,
     "start_time": "2025-02-28T22:18:45.038396",
     "status": "completed"
    },
    "tags": []
   },
   "outputs": [
    {
     "data": {
      "text/plain": [
       "array([2006., 1985., 2008., 2009., 1996., 1989., 1984., 2005., 1999.,\n",
       "       2007., 2010., 2013., 2004., 1990., 1988., 2002., 2001., 2011.,\n",
       "       1998., 2015., 2012., 2014., 1992., 1997., 1993., 1994., 1982.,\n",
       "       2003., 1986., 2000.,   nan, 1995., 2016., 1991., 1981., 1987.,\n",
       "       1980., 1983., 2020., 2017.])"
      ]
     },
     "execution_count": 11,
     "metadata": {},
     "output_type": "execute_result"
    }
   ],
   "source": [
    "data.Year.unique()"
   ]
  },
  {
   "cell_type": "code",
   "execution_count": 12,
   "id": "e5b5b502",
   "metadata": {
    "execution": {
     "iopub.execute_input": "2025-02-28T22:18:45.083659Z",
     "iopub.status.busy": "2025-02-28T22:18:45.083227Z",
     "iopub.status.idle": "2025-02-28T22:18:45.103415Z",
     "shell.execute_reply": "2025-02-28T22:18:45.102165Z"
    },
    "papermill": {
     "duration": 0.033876,
     "end_time": "2025-02-28T22:18:45.105886",
     "exception": false,
     "start_time": "2025-02-28T22:18:45.072010",
     "status": "completed"
    },
    "tags": []
   },
   "outputs": [
    {
     "data": {
      "text/html": [
       "<div>\n",
       "<style scoped>\n",
       "    .dataframe tbody tr th:only-of-type {\n",
       "        vertical-align: middle;\n",
       "    }\n",
       "\n",
       "    .dataframe tbody tr th {\n",
       "        vertical-align: top;\n",
       "    }\n",
       "\n",
       "    .dataframe thead th {\n",
       "        text-align: right;\n",
       "    }\n",
       "</style>\n",
       "<table border=\"1\" class=\"dataframe\">\n",
       "  <thead>\n",
       "    <tr style=\"text-align: right;\">\n",
       "      <th></th>\n",
       "      <th>Rank</th>\n",
       "      <th>Name</th>\n",
       "      <th>Platform</th>\n",
       "      <th>Year</th>\n",
       "      <th>Genre</th>\n",
       "      <th>Publisher</th>\n",
       "      <th>NA_Sales</th>\n",
       "      <th>EU_Sales</th>\n",
       "      <th>JP_Sales</th>\n",
       "      <th>Other_Sales</th>\n",
       "      <th>Global_Sales</th>\n",
       "    </tr>\n",
       "  </thead>\n",
       "  <tbody>\n",
       "    <tr>\n",
       "      <th>470</th>\n",
       "      <td>471</td>\n",
       "      <td>wwe Smackdown vs. Raw 2006</td>\n",
       "      <td>PS2</td>\n",
       "      <td>NaN</td>\n",
       "      <td>Fighting</td>\n",
       "      <td>NaN</td>\n",
       "      <td>1.57</td>\n",
       "      <td>1.02</td>\n",
       "      <td>0.0</td>\n",
       "      <td>0.41</td>\n",
       "      <td>3.00</td>\n",
       "    </tr>\n",
       "    <tr>\n",
       "      <th>1303</th>\n",
       "      <td>1305</td>\n",
       "      <td>Triple Play 99</td>\n",
       "      <td>PS</td>\n",
       "      <td>NaN</td>\n",
       "      <td>Sports</td>\n",
       "      <td>NaN</td>\n",
       "      <td>0.81</td>\n",
       "      <td>0.55</td>\n",
       "      <td>0.0</td>\n",
       "      <td>0.10</td>\n",
       "      <td>1.46</td>\n",
       "    </tr>\n",
       "    <tr>\n",
       "      <th>1662</th>\n",
       "      <td>1664</td>\n",
       "      <td>Shrek / Shrek 2 2-in-1 Gameboy Advance Video</td>\n",
       "      <td>GBA</td>\n",
       "      <td>2007.0</td>\n",
       "      <td>Misc</td>\n",
       "      <td>NaN</td>\n",
       "      <td>0.87</td>\n",
       "      <td>0.32</td>\n",
       "      <td>0.0</td>\n",
       "      <td>0.02</td>\n",
       "      <td>1.21</td>\n",
       "    </tr>\n",
       "    <tr>\n",
       "      <th>2222</th>\n",
       "      <td>2224</td>\n",
       "      <td>Bentley's Hackpack</td>\n",
       "      <td>GBA</td>\n",
       "      <td>2005.0</td>\n",
       "      <td>Misc</td>\n",
       "      <td>NaN</td>\n",
       "      <td>0.67</td>\n",
       "      <td>0.25</td>\n",
       "      <td>0.0</td>\n",
       "      <td>0.02</td>\n",
       "      <td>0.93</td>\n",
       "    </tr>\n",
       "    <tr>\n",
       "      <th>3159</th>\n",
       "      <td>3161</td>\n",
       "      <td>Nicktoons Collection: Game Boy Advance Video V...</td>\n",
       "      <td>GBA</td>\n",
       "      <td>2004.0</td>\n",
       "      <td>Misc</td>\n",
       "      <td>NaN</td>\n",
       "      <td>0.46</td>\n",
       "      <td>0.17</td>\n",
       "      <td>0.0</td>\n",
       "      <td>0.01</td>\n",
       "      <td>0.64</td>\n",
       "    </tr>\n",
       "  </tbody>\n",
       "</table>\n",
       "</div>"
      ],
      "text/plain": [
       "      Rank                                               Name Platform  \\\n",
       "470    471                         wwe Smackdown vs. Raw 2006      PS2   \n",
       "1303  1305                                     Triple Play 99       PS   \n",
       "1662  1664       Shrek / Shrek 2 2-in-1 Gameboy Advance Video      GBA   \n",
       "2222  2224                                 Bentley's Hackpack      GBA   \n",
       "3159  3161  Nicktoons Collection: Game Boy Advance Video V...      GBA   \n",
       "\n",
       "        Year     Genre Publisher  NA_Sales  EU_Sales  JP_Sales  Other_Sales  \\\n",
       "470      NaN  Fighting       NaN      1.57      1.02       0.0         0.41   \n",
       "1303     NaN    Sports       NaN      0.81      0.55       0.0         0.10   \n",
       "1662  2007.0      Misc       NaN      0.87      0.32       0.0         0.02   \n",
       "2222  2005.0      Misc       NaN      0.67      0.25       0.0         0.02   \n",
       "3159  2004.0      Misc       NaN      0.46      0.17       0.0         0.01   \n",
       "\n",
       "      Global_Sales  \n",
       "470           3.00  \n",
       "1303          1.46  \n",
       "1662          1.21  \n",
       "2222          0.93  \n",
       "3159          0.64  "
      ]
     },
     "execution_count": 12,
     "metadata": {},
     "output_type": "execute_result"
    }
   ],
   "source": [
    "data[data.Publisher.isnull()].iloc[:5,:]"
   ]
  },
  {
   "cell_type": "code",
   "execution_count": 13,
   "id": "2ffb9d0e",
   "metadata": {
    "execution": {
     "iopub.execute_input": "2025-02-28T22:18:45.127994Z",
     "iopub.status.busy": "2025-02-28T22:18:45.127583Z",
     "iopub.status.idle": "2025-02-28T22:18:45.137907Z",
     "shell.execute_reply": "2025-02-28T22:18:45.136839Z"
    },
    "papermill": {
     "duration": 0.023959,
     "end_time": "2025-02-28T22:18:45.140145",
     "exception": false,
     "start_time": "2025-02-28T22:18:45.116186",
     "status": "completed"
    },
    "tags": []
   },
   "outputs": [
    {
     "data": {
      "text/plain": [
       "Electronic Arts                           1351\n",
       "Activision                                 975\n",
       "Namco Bandai Games                         932\n",
       "Ubisoft                                    921\n",
       "Konami Digital Entertainment               832\n",
       "THQ                                        715\n",
       "Nintendo                                   703\n",
       "Sony Computer Entertainment                683\n",
       "Sega                                       639\n",
       "Take-Two Interactive                       413\n",
       "Capcom                                     381\n",
       "Atari                                      363\n",
       "Tecmo Koei                                 338\n",
       "Square Enix                                233\n",
       "Warner Bros. Interactive Entertainment     232\n",
       "Disney Interactive Studios                 218\n",
       "Unknown                                    203\n",
       "Midway Games                               198\n",
       "Eidos Interactive                          198\n",
       "505 Games                                  192\n",
       "Name: Publisher, dtype: int64"
      ]
     },
     "execution_count": 13,
     "metadata": {},
     "output_type": "execute_result"
    }
   ],
   "source": [
    "data.Publisher.value_counts().head(20)"
   ]
  },
  {
   "cell_type": "code",
   "execution_count": 14,
   "id": "bc30b362",
   "metadata": {
    "execution": {
     "iopub.execute_input": "2025-02-28T22:18:45.162667Z",
     "iopub.status.busy": "2025-02-28T22:18:45.161933Z",
     "iopub.status.idle": "2025-02-28T22:18:45.170407Z",
     "shell.execute_reply": "2025-02-28T22:18:45.169300Z"
    },
    "papermill": {
     "duration": 0.022335,
     "end_time": "2025-02-28T22:18:45.172758",
     "exception": false,
     "start_time": "2025-02-28T22:18:45.150423",
     "status": "completed"
    },
    "tags": []
   },
   "outputs": [
    {
     "data": {
      "text/plain": [
       "2006.0"
      ]
     },
     "execution_count": 14,
     "metadata": {},
     "output_type": "execute_result"
    }
   ],
   "source": [
    "round(np.mean(data.Year),0)"
   ]
  },
  {
   "cell_type": "code",
   "execution_count": 15,
   "id": "2f1b069a",
   "metadata": {
    "execution": {
     "iopub.execute_input": "2025-02-28T22:18:45.196069Z",
     "iopub.status.busy": "2025-02-28T22:18:45.195134Z",
     "iopub.status.idle": "2025-02-28T22:18:45.204959Z",
     "shell.execute_reply": "2025-02-28T22:18:45.203551Z"
    },
    "papermill": {
     "duration": 0.024022,
     "end_time": "2025-02-28T22:18:45.207623",
     "exception": false,
     "start_time": "2025-02-28T22:18:45.183601",
     "status": "completed"
    },
    "tags": []
   },
   "outputs": [],
   "source": [
    "# fill Missing Value\n",
    "data.Publisher=data.Publisher.fillna('Unknown')\n",
    "data.Year=data.Year.fillna(round(np.mean(data.Year),0)) \n"
   ]
  },
  {
   "cell_type": "code",
   "execution_count": 16,
   "id": "3e5a8e0e",
   "metadata": {
    "execution": {
     "iopub.execute_input": "2025-02-28T22:18:45.230429Z",
     "iopub.status.busy": "2025-02-28T22:18:45.229558Z",
     "iopub.status.idle": "2025-02-28T22:18:45.242833Z",
     "shell.execute_reply": "2025-02-28T22:18:45.241532Z"
    },
    "papermill": {
     "duration": 0.026996,
     "end_time": "2025-02-28T22:18:45.245188",
     "exception": false,
     "start_time": "2025-02-28T22:18:45.218192",
     "status": "completed"
    },
    "tags": []
   },
   "outputs": [
    {
     "data": {
      "text/html": [
       "<div>\n",
       "<style scoped>\n",
       "    .dataframe tbody tr th:only-of-type {\n",
       "        vertical-align: middle;\n",
       "    }\n",
       "\n",
       "    .dataframe tbody tr th {\n",
       "        vertical-align: top;\n",
       "    }\n",
       "\n",
       "    .dataframe thead th {\n",
       "        text-align: right;\n",
       "    }\n",
       "</style>\n",
       "<table border=\"1\" class=\"dataframe\">\n",
       "  <thead>\n",
       "    <tr style=\"text-align: right;\">\n",
       "      <th></th>\n",
       "      <th>Rank</th>\n",
       "      <th>Name</th>\n",
       "      <th>Platform</th>\n",
       "      <th>Year</th>\n",
       "      <th>Genre</th>\n",
       "      <th>Publisher</th>\n",
       "      <th>NA_Sales</th>\n",
       "      <th>EU_Sales</th>\n",
       "      <th>JP_Sales</th>\n",
       "      <th>Other_Sales</th>\n",
       "      <th>Global_Sales</th>\n",
       "    </tr>\n",
       "  </thead>\n",
       "  <tbody>\n",
       "  </tbody>\n",
       "</table>\n",
       "</div>"
      ],
      "text/plain": [
       "Empty DataFrame\n",
       "Columns: [Rank, Name, Platform, Year, Genre, Publisher, NA_Sales, EU_Sales, JP_Sales, Other_Sales, Global_Sales]\n",
       "Index: []"
      ]
     },
     "execution_count": 16,
     "metadata": {},
     "output_type": "execute_result"
    }
   ],
   "source": [
    "data[data.Publisher.isnull()]"
   ]
  },
  {
   "cell_type": "code",
   "execution_count": 17,
   "id": "f647b72e",
   "metadata": {
    "execution": {
     "iopub.execute_input": "2025-02-28T22:18:45.268541Z",
     "iopub.status.busy": "2025-02-28T22:18:45.267619Z",
     "iopub.status.idle": "2025-02-28T22:18:45.275822Z",
     "shell.execute_reply": "2025-02-28T22:18:45.274674Z"
    },
    "papermill": {
     "duration": 0.021979,
     "end_time": "2025-02-28T22:18:45.277965",
     "exception": false,
     "start_time": "2025-02-28T22:18:45.255986",
     "status": "completed"
    },
    "tags": []
   },
   "outputs": [
    {
     "data": {
      "text/plain": [
       "array([2006., 1985., 2008., 2009., 1996., 1989., 1984., 2005., 1999.,\n",
       "       2007., 2010., 2013., 2004., 1990., 1988., 2002., 2001., 2011.,\n",
       "       1998., 2015., 2012., 2014., 1992., 1997., 1993., 1994., 1982.,\n",
       "       2003., 1986., 2000., 1995., 2016., 1991., 1981., 1987., 1980.,\n",
       "       1983., 2020., 2017.])"
      ]
     },
     "execution_count": 17,
     "metadata": {},
     "output_type": "execute_result"
    }
   ],
   "source": [
    "data.Year.unique()"
   ]
  },
  {
   "cell_type": "markdown",
   "id": "76936113",
   "metadata": {
    "papermill": {
     "duration": 0.010048,
     "end_time": "2025-02-28T22:18:45.298241",
     "exception": false,
     "start_time": "2025-02-28T22:18:45.288193",
     "status": "completed"
    },
    "tags": []
   },
   "source": [
    "# Univariate Description Analysis\n",
    "\n",
    "* Numeric variable: Rank , Year , NA_Sales , EU_Sales , JP_Sales , Other_Sales , Global_Sales\n",
    "* Categorical variable: Name , Platform , Genre , Publisher"
   ]
  },
  {
   "cell_type": "code",
   "execution_count": 18,
   "id": "94bbda31",
   "metadata": {
    "execution": {
     "iopub.execute_input": "2025-02-28T22:18:45.321073Z",
     "iopub.status.busy": "2025-02-28T22:18:45.320279Z",
     "iopub.status.idle": "2025-02-28T22:18:45.329487Z",
     "shell.execute_reply": "2025-02-28T22:18:45.328171Z"
    },
    "papermill": {
     "duration": 0.023278,
     "end_time": "2025-02-28T22:18:45.331907",
     "exception": false,
     "start_time": "2025-02-28T22:18:45.308629",
     "status": "completed"
    },
    "tags": []
   },
   "outputs": [],
   "source": [
    "data_numeric=data.select_dtypes(include=np.number)\n",
    "data_categorical=data.select_dtypes(include=object)"
   ]
  },
  {
   "cell_type": "markdown",
   "id": "2ba620aa",
   "metadata": {
    "papermill": {
     "duration": 0.011632,
     "end_time": "2025-02-28T22:18:45.354059",
     "exception": false,
     "start_time": "2025-02-28T22:18:45.342427",
     "status": "completed"
    },
    "tags": []
   },
   "source": [
    "# Numeric Description"
   ]
  },
  {
   "cell_type": "code",
   "execution_count": 19,
   "id": "608f9ffd",
   "metadata": {
    "execution": {
     "iopub.execute_input": "2025-02-28T22:18:45.377436Z",
     "iopub.status.busy": "2025-02-28T22:18:45.376086Z",
     "iopub.status.idle": "2025-02-28T22:18:45.407084Z",
     "shell.execute_reply": "2025-02-28T22:18:45.405862Z"
    },
    "papermill": {
     "duration": 0.044902,
     "end_time": "2025-02-28T22:18:45.409571",
     "exception": false,
     "start_time": "2025-02-28T22:18:45.364669",
     "status": "completed"
    },
    "tags": []
   },
   "outputs": [
    {
     "data": {
      "text/html": [
       "<div>\n",
       "<style scoped>\n",
       "    .dataframe tbody tr th:only-of-type {\n",
       "        vertical-align: middle;\n",
       "    }\n",
       "\n",
       "    .dataframe tbody tr th {\n",
       "        vertical-align: top;\n",
       "    }\n",
       "\n",
       "    .dataframe thead th {\n",
       "        text-align: right;\n",
       "    }\n",
       "</style>\n",
       "<table border=\"1\" class=\"dataframe\">\n",
       "  <thead>\n",
       "    <tr style=\"text-align: right;\">\n",
       "      <th></th>\n",
       "      <th>Year</th>\n",
       "      <th>NA_Sales</th>\n",
       "      <th>EU_Sales</th>\n",
       "      <th>JP_Sales</th>\n",
       "      <th>Other_Sales</th>\n",
       "      <th>Global_Sales</th>\n",
       "    </tr>\n",
       "  </thead>\n",
       "  <tbody>\n",
       "    <tr>\n",
       "      <th>9</th>\n",
       "      <td>1989.0</td>\n",
       "      <td>2.655882</td>\n",
       "      <td>0.496471</td>\n",
       "      <td>1.080000</td>\n",
       "      <td>0.088235</td>\n",
       "      <td>4.320588</td>\n",
       "    </tr>\n",
       "    <tr>\n",
       "      <th>5</th>\n",
       "      <td>1985.0</td>\n",
       "      <td>2.409286</td>\n",
       "      <td>0.338571</td>\n",
       "      <td>1.040000</td>\n",
       "      <td>0.065714</td>\n",
       "      <td>3.852857</td>\n",
       "    </tr>\n",
       "    <tr>\n",
       "      <th>4</th>\n",
       "      <td>1984.0</td>\n",
       "      <td>2.377143</td>\n",
       "      <td>0.150000</td>\n",
       "      <td>1.019286</td>\n",
       "      <td>0.050000</td>\n",
       "      <td>3.597143</td>\n",
       "    </tr>\n",
       "    <tr>\n",
       "      <th>8</th>\n",
       "      <td>1988.0</td>\n",
       "      <td>1.591333</td>\n",
       "      <td>0.439333</td>\n",
       "      <td>1.050667</td>\n",
       "      <td>0.066000</td>\n",
       "      <td>3.148000</td>\n",
       "    </tr>\n",
       "    <tr>\n",
       "      <th>10</th>\n",
       "      <td>1990.0</td>\n",
       "      <td>1.591250</td>\n",
       "      <td>0.476875</td>\n",
       "      <td>0.930000</td>\n",
       "      <td>0.087500</td>\n",
       "      <td>3.086875</td>\n",
       "    </tr>\n",
       "    <tr>\n",
       "      <th>12</th>\n",
       "      <td>1992.0</td>\n",
       "      <td>0.787674</td>\n",
       "      <td>0.272326</td>\n",
       "      <td>0.672326</td>\n",
       "      <td>0.038372</td>\n",
       "      <td>1.771163</td>\n",
       "    </tr>\n",
       "    <tr>\n",
       "      <th>6</th>\n",
       "      <td>1986.0</td>\n",
       "      <td>0.595238</td>\n",
       "      <td>0.135238</td>\n",
       "      <td>0.943333</td>\n",
       "      <td>0.091905</td>\n",
       "      <td>1.765238</td>\n",
       "    </tr>\n",
       "    <tr>\n",
       "      <th>7</th>\n",
       "      <td>1987.0</td>\n",
       "      <td>0.528750</td>\n",
       "      <td>0.088125</td>\n",
       "      <td>0.726875</td>\n",
       "      <td>0.012500</td>\n",
       "      <td>1.358750</td>\n",
       "    </tr>\n",
       "    <tr>\n",
       "      <th>0</th>\n",
       "      <td>1980.0</td>\n",
       "      <td>1.176667</td>\n",
       "      <td>0.074444</td>\n",
       "      <td>0.000000</td>\n",
       "      <td>0.013333</td>\n",
       "      <td>1.264444</td>\n",
       "    </tr>\n",
       "    <tr>\n",
       "      <th>3</th>\n",
       "      <td>1983.0</td>\n",
       "      <td>0.456471</td>\n",
       "      <td>0.047059</td>\n",
       "      <td>0.476471</td>\n",
       "      <td>0.008235</td>\n",
       "      <td>0.987647</td>\n",
       "    </tr>\n",
       "    <tr>\n",
       "      <th>2</th>\n",
       "      <td>1982.0</td>\n",
       "      <td>0.747778</td>\n",
       "      <td>0.045833</td>\n",
       "      <td>0.000000</td>\n",
       "      <td>0.008611</td>\n",
       "      <td>0.801667</td>\n",
       "    </tr>\n",
       "    <tr>\n",
       "      <th>11</th>\n",
       "      <td>1991.0</td>\n",
       "      <td>0.311220</td>\n",
       "      <td>0.096341</td>\n",
       "      <td>0.360488</td>\n",
       "      <td>0.018049</td>\n",
       "      <td>0.786098</td>\n",
       "    </tr>\n",
       "    <tr>\n",
       "      <th>1</th>\n",
       "      <td>1981.0</td>\n",
       "      <td>0.726087</td>\n",
       "      <td>0.042609</td>\n",
       "      <td>0.000000</td>\n",
       "      <td>0.006957</td>\n",
       "      <td>0.777609</td>\n",
       "    </tr>\n",
       "    <tr>\n",
       "      <th>13</th>\n",
       "      <td>1993.0</td>\n",
       "      <td>0.252000</td>\n",
       "      <td>0.077500</td>\n",
       "      <td>0.422167</td>\n",
       "      <td>0.014833</td>\n",
       "      <td>0.766333</td>\n",
       "    </tr>\n",
       "    <tr>\n",
       "      <th>16</th>\n",
       "      <td>1996.0</td>\n",
       "      <td>0.329886</td>\n",
       "      <td>0.179696</td>\n",
       "      <td>0.218403</td>\n",
       "      <td>0.029240</td>\n",
       "      <td>0.757224</td>\n",
       "    </tr>\n",
       "    <tr>\n",
       "      <th>19</th>\n",
       "      <td>1999.0</td>\n",
       "      <td>0.372959</td>\n",
       "      <td>0.185414</td>\n",
       "      <td>0.154852</td>\n",
       "      <td>0.029734</td>\n",
       "      <td>0.743402</td>\n",
       "    </tr>\n",
       "    <tr>\n",
       "      <th>17</th>\n",
       "      <td>1997.0</td>\n",
       "      <td>0.327855</td>\n",
       "      <td>0.167197</td>\n",
       "      <td>0.169100</td>\n",
       "      <td>0.031592</td>\n",
       "      <td>0.695433</td>\n",
       "    </tr>\n",
       "    <tr>\n",
       "      <th>21</th>\n",
       "      <td>2001.0</td>\n",
       "      <td>0.360954</td>\n",
       "      <td>0.196867</td>\n",
       "      <td>0.082697</td>\n",
       "      <td>0.047220</td>\n",
       "      <td>0.687697</td>\n",
       "    </tr>\n",
       "    <tr>\n",
       "      <th>18</th>\n",
       "      <td>1998.0</td>\n",
       "      <td>0.338681</td>\n",
       "      <td>0.176517</td>\n",
       "      <td>0.132032</td>\n",
       "      <td>0.029103</td>\n",
       "      <td>0.676702</td>\n",
       "    </tr>\n",
       "    <tr>\n",
       "      <th>33</th>\n",
       "      <td>2013.0</td>\n",
       "      <td>0.283462</td>\n",
       "      <td>0.230403</td>\n",
       "      <td>0.087161</td>\n",
       "      <td>0.072930</td>\n",
       "      <td>0.674194</td>\n",
       "    </tr>\n",
       "    <tr>\n",
       "      <th>14</th>\n",
       "      <td>1994.0</td>\n",
       "      <td>0.232645</td>\n",
       "      <td>0.122975</td>\n",
       "      <td>0.280909</td>\n",
       "      <td>0.018182</td>\n",
       "      <td>0.654298</td>\n",
       "    </tr>\n",
       "    <tr>\n",
       "      <th>34</th>\n",
       "      <td>2014.0</td>\n",
       "      <td>0.226753</td>\n",
       "      <td>0.215893</td>\n",
       "      <td>0.067801</td>\n",
       "      <td>0.068763</td>\n",
       "      <td>0.579124</td>\n",
       "    </tr>\n",
       "    <tr>\n",
       "      <th>20</th>\n",
       "      <td>2000.0</td>\n",
       "      <td>0.270745</td>\n",
       "      <td>0.151146</td>\n",
       "      <td>0.122550</td>\n",
       "      <td>0.033295</td>\n",
       "      <td>0.577536</td>\n",
       "    </tr>\n",
       "    <tr>\n",
       "      <th>32</th>\n",
       "      <td>2012.0</td>\n",
       "      <td>0.235860</td>\n",
       "      <td>0.180791</td>\n",
       "      <td>0.078752</td>\n",
       "      <td>0.057565</td>\n",
       "      <td>0.553333</td>\n",
       "    </tr>\n",
       "    <tr>\n",
       "      <th>24</th>\n",
       "      <td>2004.0</td>\n",
       "      <td>0.291730</td>\n",
       "      <td>0.140655</td>\n",
       "      <td>0.054587</td>\n",
       "      <td>0.061979</td>\n",
       "      <td>0.549554</td>\n",
       "    </tr>\n",
       "    <tr>\n",
       "      <th>27</th>\n",
       "      <td>2007.0</td>\n",
       "      <td>0.259609</td>\n",
       "      <td>0.133527</td>\n",
       "      <td>0.050158</td>\n",
       "      <td>0.064559</td>\n",
       "      <td>0.508428</td>\n",
       "    </tr>\n",
       "    <tr>\n",
       "      <th>25</th>\n",
       "      <td>2005.0</td>\n",
       "      <td>0.257821</td>\n",
       "      <td>0.129586</td>\n",
       "      <td>0.057683</td>\n",
       "      <td>0.043124</td>\n",
       "      <td>0.488778</td>\n",
       "    </tr>\n",
       "    <tr>\n",
       "      <th>26</th>\n",
       "      <td>2006.0</td>\n",
       "      <td>0.252260</td>\n",
       "      <td>0.120602</td>\n",
       "      <td>0.062901</td>\n",
       "      <td>0.049390</td>\n",
       "      <td>0.485629</td>\n",
       "    </tr>\n",
       "    <tr>\n",
       "      <th>22</th>\n",
       "      <td>2002.0</td>\n",
       "      <td>0.260784</td>\n",
       "      <td>0.132376</td>\n",
       "      <td>0.050374</td>\n",
       "      <td>0.032907</td>\n",
       "      <td>0.477105</td>\n",
       "    </tr>\n",
       "    <tr>\n",
       "      <th>30</th>\n",
       "      <td>2010.0</td>\n",
       "      <td>0.241652</td>\n",
       "      <td>0.140373</td>\n",
       "      <td>0.047252</td>\n",
       "      <td>0.047577</td>\n",
       "      <td>0.476926</td>\n",
       "    </tr>\n",
       "    <tr>\n",
       "      <th>28</th>\n",
       "      <td>2008.0</td>\n",
       "      <td>0.246106</td>\n",
       "      <td>0.129132</td>\n",
       "      <td>0.042199</td>\n",
       "      <td>0.057696</td>\n",
       "      <td>0.475420</td>\n",
       "    </tr>\n",
       "    <tr>\n",
       "      <th>29</th>\n",
       "      <td>2009.0</td>\n",
       "      <td>0.236792</td>\n",
       "      <td>0.133885</td>\n",
       "      <td>0.043249</td>\n",
       "      <td>0.052250</td>\n",
       "      <td>0.466317</td>\n",
       "    </tr>\n",
       "    <tr>\n",
       "      <th>23</th>\n",
       "      <td>2003.0</td>\n",
       "      <td>0.249794</td>\n",
       "      <td>0.133948</td>\n",
       "      <td>0.044129</td>\n",
       "      <td>0.033561</td>\n",
       "      <td>0.461742</td>\n",
       "    </tr>\n",
       "    <tr>\n",
       "      <th>31</th>\n",
       "      <td>2011.0</td>\n",
       "      <td>0.211642</td>\n",
       "      <td>0.147006</td>\n",
       "      <td>0.046567</td>\n",
       "      <td>0.047752</td>\n",
       "      <td>0.453020</td>\n",
       "    </tr>\n",
       "    <tr>\n",
       "      <th>35</th>\n",
       "      <td>2015.0</td>\n",
       "      <td>0.167459</td>\n",
       "      <td>0.159137</td>\n",
       "      <td>0.054919</td>\n",
       "      <td>0.048876</td>\n",
       "      <td>0.430684</td>\n",
       "    </tr>\n",
       "    <tr>\n",
       "      <th>15</th>\n",
       "      <td>1995.0</td>\n",
       "      <td>0.113333</td>\n",
       "      <td>0.068037</td>\n",
       "      <td>0.208904</td>\n",
       "      <td>0.012055</td>\n",
       "      <td>0.402329</td>\n",
       "    </tr>\n",
       "    <tr>\n",
       "      <th>38</th>\n",
       "      <td>2020.0</td>\n",
       "      <td>0.270000</td>\n",
       "      <td>0.000000</td>\n",
       "      <td>0.000000</td>\n",
       "      <td>0.020000</td>\n",
       "      <td>0.290000</td>\n",
       "    </tr>\n",
       "    <tr>\n",
       "      <th>36</th>\n",
       "      <td>2016.0</td>\n",
       "      <td>0.065872</td>\n",
       "      <td>0.077791</td>\n",
       "      <td>0.039826</td>\n",
       "      <td>0.022529</td>\n",
       "      <td>0.206192</td>\n",
       "    </tr>\n",
       "    <tr>\n",
       "      <th>37</th>\n",
       "      <td>2017.0</td>\n",
       "      <td>0.000000</td>\n",
       "      <td>0.000000</td>\n",
       "      <td>0.016667</td>\n",
       "      <td>0.000000</td>\n",
       "      <td>0.016667</td>\n",
       "    </tr>\n",
       "  </tbody>\n",
       "</table>\n",
       "</div>"
      ],
      "text/plain": [
       "      Year  NA_Sales  EU_Sales  JP_Sales  Other_Sales  Global_Sales\n",
       "9   1989.0  2.655882  0.496471  1.080000     0.088235      4.320588\n",
       "5   1985.0  2.409286  0.338571  1.040000     0.065714      3.852857\n",
       "4   1984.0  2.377143  0.150000  1.019286     0.050000      3.597143\n",
       "8   1988.0  1.591333  0.439333  1.050667     0.066000      3.148000\n",
       "10  1990.0  1.591250  0.476875  0.930000     0.087500      3.086875\n",
       "12  1992.0  0.787674  0.272326  0.672326     0.038372      1.771163\n",
       "6   1986.0  0.595238  0.135238  0.943333     0.091905      1.765238\n",
       "7   1987.0  0.528750  0.088125  0.726875     0.012500      1.358750\n",
       "0   1980.0  1.176667  0.074444  0.000000     0.013333      1.264444\n",
       "3   1983.0  0.456471  0.047059  0.476471     0.008235      0.987647\n",
       "2   1982.0  0.747778  0.045833  0.000000     0.008611      0.801667\n",
       "11  1991.0  0.311220  0.096341  0.360488     0.018049      0.786098\n",
       "1   1981.0  0.726087  0.042609  0.000000     0.006957      0.777609\n",
       "13  1993.0  0.252000  0.077500  0.422167     0.014833      0.766333\n",
       "16  1996.0  0.329886  0.179696  0.218403     0.029240      0.757224\n",
       "19  1999.0  0.372959  0.185414  0.154852     0.029734      0.743402\n",
       "17  1997.0  0.327855  0.167197  0.169100     0.031592      0.695433\n",
       "21  2001.0  0.360954  0.196867  0.082697     0.047220      0.687697\n",
       "18  1998.0  0.338681  0.176517  0.132032     0.029103      0.676702\n",
       "33  2013.0  0.283462  0.230403  0.087161     0.072930      0.674194\n",
       "14  1994.0  0.232645  0.122975  0.280909     0.018182      0.654298\n",
       "34  2014.0  0.226753  0.215893  0.067801     0.068763      0.579124\n",
       "20  2000.0  0.270745  0.151146  0.122550     0.033295      0.577536\n",
       "32  2012.0  0.235860  0.180791  0.078752     0.057565      0.553333\n",
       "24  2004.0  0.291730  0.140655  0.054587     0.061979      0.549554\n",
       "27  2007.0  0.259609  0.133527  0.050158     0.064559      0.508428\n",
       "25  2005.0  0.257821  0.129586  0.057683     0.043124      0.488778\n",
       "26  2006.0  0.252260  0.120602  0.062901     0.049390      0.485629\n",
       "22  2002.0  0.260784  0.132376  0.050374     0.032907      0.477105\n",
       "30  2010.0  0.241652  0.140373  0.047252     0.047577      0.476926\n",
       "28  2008.0  0.246106  0.129132  0.042199     0.057696      0.475420\n",
       "29  2009.0  0.236792  0.133885  0.043249     0.052250      0.466317\n",
       "23  2003.0  0.249794  0.133948  0.044129     0.033561      0.461742\n",
       "31  2011.0  0.211642  0.147006  0.046567     0.047752      0.453020\n",
       "35  2015.0  0.167459  0.159137  0.054919     0.048876      0.430684\n",
       "15  1995.0  0.113333  0.068037  0.208904     0.012055      0.402329\n",
       "38  2020.0  0.270000  0.000000  0.000000     0.020000      0.290000\n",
       "36  2016.0  0.065872  0.077791  0.039826     0.022529      0.206192\n",
       "37  2017.0  0.000000  0.000000  0.016667     0.000000      0.016667"
      ]
     },
     "execution_count": 19,
     "metadata": {},
     "output_type": "execute_result"
    }
   ],
   "source": [
    "# average sales over the years\n",
    "data_numeric[['Year','NA_Sales','EU_Sales','JP_Sales','Other_Sales','Global_Sales']].groupby(['Year'],as_index=False).mean().sort_values(by='Global_Sales',ascending=False)"
   ]
  },
  {
   "cell_type": "code",
   "execution_count": 20,
   "id": "4f623446",
   "metadata": {
    "execution": {
     "iopub.execute_input": "2025-02-28T22:18:45.433461Z",
     "iopub.status.busy": "2025-02-28T22:18:45.432633Z",
     "iopub.status.idle": "2025-02-28T22:18:46.128627Z",
     "shell.execute_reply": "2025-02-28T22:18:46.127348Z"
    },
    "papermill": {
     "duration": 0.710525,
     "end_time": "2025-02-28T22:18:46.131239",
     "exception": false,
     "start_time": "2025-02-28T22:18:45.420714",
     "status": "completed"
    },
    "tags": []
   },
   "outputs": [
    {
     "data": {
      "image/png": "[encoded data removed]",
      "text/plain": [
       "<Figure size 1080x1080 with 7 Axes>"
      ]
     },
     "metadata": {
      "needs_background": "light"
     },
     "output_type": "display_data"
    }
   ],
   "source": [
    "plt.figure(figsize=(15,15))\n",
    "col=data_numeric.columns     \n",
    "for i in range(len(col)):\n",
    "        \n",
    "    plt.subplot(3,3,i+1)\n",
    "    \n",
    "    sns.boxplot(x=data[col[i]])\n",
    "       \n",
    "    plt.xlabel(col[i].replace('_',\" \"))\n",
    "    plt.ylabel(' ')"
   ]
  },
  {
   "cell_type": "markdown",
   "id": "b7cd1a8a",
   "metadata": {
    "papermill": {
     "duration": 0.015559,
     "end_time": "2025-02-28T22:18:46.159207",
     "exception": false,
     "start_time": "2025-02-28T22:18:46.143648",
     "status": "completed"
    },
    "tags": []
   },
   "source": [
    "# Categorical Description"
   ]
  },
  {
   "cell_type": "code",
   "execution_count": 21,
   "id": "d86b93af",
   "metadata": {
    "execution": {
     "iopub.execute_input": "2025-02-28T22:18:46.189900Z",
     "iopub.status.busy": "2025-02-28T22:18:46.188594Z",
     "iopub.status.idle": "2025-02-28T22:18:46.808596Z",
     "shell.execute_reply": "2025-02-28T22:18:46.807464Z"
    },
    "papermill": {
     "duration": 0.638746,
     "end_time": "2025-02-28T22:18:46.812460",
     "exception": false,
     "start_time": "2025-02-28T22:18:46.173714",
     "status": "completed"
    },
    "tags": []
   },
   "outputs": [
    {
     "data": {
      "image/png": "[encoded data removed]",
      "text/plain": [
       "<Figure size 720x504 with 1 Axes>"
      ]
     },
     "metadata": {
      "needs_background": "light"
     },
     "output_type": "display_data"
    },
    {
     "data": {
      "image/png": "[encoded data removed]",
      "text/plain": [
       "<Figure size 720x504 with 1 Axes>"
      ]
     },
     "metadata": {
      "needs_background": "light"
     },
     "output_type": "display_data"
    }
   ],
   "source": [
    "# Genre and Platform count\n",
    "a=[\"Genre\",\"Platform\"]\n",
    "for i in a:\n",
    "    plt.figure(figsize=(10,7))\n",
    "    sns.barplot(x=data_categorical[i].value_counts().index,y=data_categorical[i].value_counts().values)\n",
    "    plt.xlabel(f'{i}')\n",
    "    plt.ylabel('Count')\n",
    "    plt.xticks(rotation=90)"
   ]
  },
  {
   "cell_type": "markdown",
   "id": "01224664",
   "metadata": {
    "papermill": {
     "duration": 0.011736,
     "end_time": "2025-02-28T22:18:46.841543",
     "exception": false,
     "start_time": "2025-02-28T22:18:46.829807",
     "status": "completed"
    },
    "tags": []
   },
   "source": [
    "### 20 Publishers with the Most Games "
   ]
  },
  {
   "cell_type": "code",
   "execution_count": 22,
   "id": "b201af64",
   "metadata": {
    "execution": {
     "iopub.execute_input": "2025-02-28T22:18:46.868430Z",
     "iopub.status.busy": "2025-02-28T22:18:46.866876Z",
     "iopub.status.idle": "2025-02-28T22:18:46.880982Z",
     "shell.execute_reply": "2025-02-28T22:18:46.879841Z"
    },
    "papermill": {
     "duration": 0.030001,
     "end_time": "2025-02-28T22:18:46.883509",
     "exception": false,
     "start_time": "2025-02-28T22:18:46.853508",
     "status": "completed"
    },
    "tags": []
   },
   "outputs": [
    {
     "data": {
      "text/plain": [
       "Electronic Arts                           1351\n",
       "Activision                                 975\n",
       "Namco Bandai Games                         932\n",
       "Ubisoft                                    921\n",
       "Konami Digital Entertainment               832\n",
       "THQ                                        715\n",
       "Nintendo                                   703\n",
       "Sony Computer Entertainment                683\n",
       "Sega                                       639\n",
       "Take-Two Interactive                       413\n",
       "Capcom                                     381\n",
       "Atari                                      363\n",
       "Tecmo Koei                                 338\n",
       "Unknown                                    261\n",
       "Square Enix                                233\n",
       "Warner Bros. Interactive Entertainment     232\n",
       "Disney Interactive Studios                 218\n",
       "Eidos Interactive                          198\n",
       "Midway Games                               198\n",
       "505 Games                                  192\n",
       "Name: Publisher, dtype: int64"
      ]
     },
     "execution_count": 22,
     "metadata": {},
     "output_type": "execute_result"
    }
   ],
   "source": [
    "publishers=data_categorical.Publisher.value_counts().head(20)\n",
    "publishers"
   ]
  },
  {
   "cell_type": "code",
   "execution_count": 23,
   "id": "558108e2",
   "metadata": {
    "execution": {
     "iopub.execute_input": "2025-02-28T22:18:46.910356Z",
     "iopub.status.busy": "2025-02-28T22:18:46.909337Z",
     "iopub.status.idle": "2025-02-28T22:18:47.296901Z",
     "shell.execute_reply": "2025-02-28T22:18:47.295641Z"
    },
    "papermill": {
     "duration": 0.40403,
     "end_time": "2025-02-28T22:18:47.299514",
     "exception": false,
     "start_time": "2025-02-28T22:18:46.895484",
     "status": "completed"
    },
    "tags": []
   },
   "outputs": [
    {
     "data": {
      "image/png": "[encoded data removed]",
      "text/plain": [
       "<Figure size 720x504 with 1 Axes>"
      ]
     },
     "metadata": {
      "needs_background": "light"
     },
     "output_type": "display_data"
    }
   ],
   "source": [
    "plt.figure(figsize=(10,7))\n",
    "\n",
    "sns.barplot(x=publishers.index,y=publishers.values)\n",
    "plt.xticks(rotation=90)\n",
    "plt.xlabel('Publishers')\n",
    "plt.ylabel('Count')\n",
    "plt.title(\"20 Publishers with the Most Games\")\n",
    "plt.show()"
   ]
  },
  {
   "cell_type": "markdown",
   "id": "e37ab04f",
   "metadata": {
    "papermill": {
     "duration": 0.012482,
     "end_time": "2025-02-28T22:18:47.324902",
     "exception": false,
     "start_time": "2025-02-28T22:18:47.312420",
     "status": "completed"
    },
    "tags": []
   },
   "source": [
    "# Visualization"
   ]
  },
  {
   "cell_type": "code",
   "execution_count": 24,
   "id": "353b39c9",
   "metadata": {
    "execution": {
     "iopub.execute_input": "2025-02-28T22:18:47.352818Z",
     "iopub.status.busy": "2025-02-28T22:18:47.351817Z",
     "iopub.status.idle": "2025-02-28T22:18:47.910433Z",
     "shell.execute_reply": "2025-02-28T22:18:47.909100Z"
    },
    "papermill": {
     "duration": 0.57593,
     "end_time": "2025-02-28T22:18:47.913378",
     "exception": false,
     "start_time": "2025-02-28T22:18:47.337448",
     "status": "completed"
    },
    "tags": []
   },
   "outputs": [
    {
     "data": {
      "image/png": "[encoded data removed]",
      "text/plain": [
       "<Figure size 720x1080 with 1 Axes>"
      ]
     },
     "metadata": {
      "needs_background": "light"
     },
     "output_type": "display_data"
    }
   ],
   "source": [
    "# word cloud for Publishers\n",
    "plt.subplots(figsize=(10,15))\n",
    "wordcloud=WordCloud(background_color=\"black\",\n",
    "                    width=512,\n",
    "                    height=384).generate(' '.join(data.Platform))\n",
    "plt.imshow(wordcloud)\n",
    "plt.axis(\"off\")\n",
    "\n",
    "plt.savefig('graph.png')\n",
    "plt.show()"
   ]
  },
  {
   "cell_type": "code",
   "execution_count": 25,
   "id": "c69a989d",
   "metadata": {
    "execution": {
     "iopub.execute_input": "2025-02-28T22:18:47.944451Z",
     "iopub.status.busy": "2025-02-28T22:18:47.944062Z",
     "iopub.status.idle": "2025-02-28T22:18:48.176539Z",
     "shell.execute_reply": "2025-02-28T22:18:48.175200Z"
    },
    "papermill": {
     "duration": 0.251746,
     "end_time": "2025-02-28T22:18:48.179257",
     "exception": false,
     "start_time": "2025-02-28T22:18:47.927511",
     "status": "completed"
    },
    "tags": []
   },
   "outputs": [
    {
     "data": {
      "image/png": "[encoded data removed]",
      "text/plain": [
       "<Figure size 720x720 with 2 Axes>"
      ]
     },
     "metadata": {
      "needs_background": "light"
     },
     "output_type": "display_data"
    }
   ],
   "source": [
    "sales=data[['NA_Sales','EU_Sales','JP_Sales','Other_Sales']] \n",
    "f,ax = plt.subplots(figsize=(10, 10))\n",
    "sns.heatmap(sales.corr(), annot=True, linewidths=0.5,linecolor=\"red\", fmt= '.1f',ax=ax)\n",
    "plt.show()"
   ]
  },
  {
   "cell_type": "markdown",
   "id": "9cf794ca",
   "metadata": {
    "papermill": {
     "duration": 0.014111,
     "end_time": "2025-02-28T22:18:48.208270",
     "exception": false,
     "start_time": "2025-02-28T22:18:48.194159",
     "status": "completed"
    },
    "tags": []
   },
   "source": [
    "# Top 20 Publisher and Sales"
   ]
  },
  {
   "cell_type": "code",
   "execution_count": 26,
   "id": "edda22e3",
   "metadata": {
    "execution": {
     "iopub.execute_input": "2025-02-28T22:18:48.239366Z",
     "iopub.status.busy": "2025-02-28T22:18:48.238524Z",
     "iopub.status.idle": "2025-02-28T22:18:48.249947Z",
     "shell.execute_reply": "2025-02-28T22:18:48.249040Z"
    },
    "papermill": {
     "duration": 0.02961,
     "end_time": "2025-02-28T22:18:48.252473",
     "exception": false,
     "start_time": "2025-02-28T22:18:48.222863",
     "status": "completed"
    },
    "tags": []
   },
   "outputs": [],
   "source": [
    "list_publisher=list(publishers.index)\n",
    "d_publisher=data[['Publisher','NA_Sales','EU_Sales','JP_Sales','Other_Sales']].groupby(['Publisher'],as_index=False).sum()\n"
   ]
  },
  {
   "cell_type": "code",
   "execution_count": 27,
   "id": "c7ddffb5",
   "metadata": {
    "execution": {
     "iopub.execute_input": "2025-02-28T22:18:48.283704Z",
     "iopub.status.busy": "2025-02-28T22:18:48.283138Z",
     "iopub.status.idle": "2025-02-28T22:18:48.933269Z",
     "shell.execute_reply": "2025-02-28T22:18:48.932120Z"
    },
    "papermill": {
     "duration": 0.668654,
     "end_time": "2025-02-28T22:18:48.935732",
     "exception": false,
     "start_time": "2025-02-28T22:18:48.267078",
     "status": "completed"
    },
    "tags": []
   },
   "outputs": [
    {
     "data": {
      "image/png": "[encoded data removed]",
      "text/plain": [
       "<Figure size 864x720 with 1 Axes>"
      ]
     },
     "metadata": {
      "needs_background": "light"
     },
     "output_type": "display_data"
    }
   ],
   "source": [
    "\n",
    "publisher_NA_Sales=[]\n",
    "publisher_EU_Sales=[]\n",
    "publisher_JP_Sales=[]\n",
    "publisher_Other_Sales=[]\n",
    "\n",
    "for i in list_publisher:\n",
    "    publisher=d_publisher[d_publisher.Publisher==i]\n",
    "    publisher_NA_Sales.append(int(publisher.NA_Sales))\n",
    "    publisher_EU_Sales.append(int(publisher.EU_Sales))\n",
    "    publisher_JP_Sales.append(int(publisher.JP_Sales))\n",
    "    publisher_Other_Sales.append(int(publisher.Other_Sales))\n",
    "    \n",
    "new_publishers=pd.DataFrame({'Publishers':list_publisher,'North America':publisher_NA_Sales,\n",
    "                             'Europe':publisher_EU_Sales,\n",
    "                             'Japan':publisher_JP_Sales,'Other':publisher_Other_Sales})\n",
    "\n",
    "top20_publisher=pd.melt(new_publishers,id_vars=['Publishers'],value_vars=['North America', 'Europe', 'Japan', 'Other'],\n",
    "                    var_name='Sales_Area', value_name='Sales_Price')\n",
    "\n",
    "plt.figure(figsize=(12,10))\n",
    "sns.barplot(data=top20_publisher,x='Publishers',y='Sales_Price',hue='Sales_Area')\n",
    "plt.ylabel('Sales Price')\n",
    "plt.xticks(rotation=90)\n",
    "plt.show()"
   ]
  },
  {
   "cell_type": "code",
   "execution_count": 28,
   "id": "fb3a6f25",
   "metadata": {
    "execution": {
     "iopub.execute_input": "2025-02-28T22:18:48.968816Z",
     "iopub.status.busy": "2025-02-28T22:18:48.968380Z",
     "iopub.status.idle": "2025-02-28T22:18:49.478833Z",
     "shell.execute_reply": "2025-02-28T22:18:49.477505Z"
    },
    "papermill": {
     "duration": 0.529738,
     "end_time": "2025-02-28T22:18:49.481499",
     "exception": false,
     "start_time": "2025-02-28T22:18:48.951761",
     "status": "completed"
    },
    "tags": []
   },
   "outputs": [
    {
     "data": {
      "image/png": "[encoded data removed]",
      "text/plain": [
       "<Figure size 720x576 with 1 Axes>"
      ]
     },
     "metadata": {
      "needs_background": "light"
     },
     "output_type": "display_data"
    }
   ],
   "source": [
    "# Number of video games by year \n",
    "plt.figure(figsize=(10,8))\n",
    "sns.countplot(data=data,x='Year')\n",
    "plt.xticks(rotation=90)\n",
    "plt.show()\n"
   ]
  },
  {
   "cell_type": "code",
   "execution_count": 29,
   "id": "552b72f9",
   "metadata": {
    "execution": {
     "iopub.execute_input": "2025-02-28T22:18:49.514841Z",
     "iopub.status.busy": "2025-02-28T22:18:49.513703Z",
     "iopub.status.idle": "2025-02-28T22:18:49.954431Z",
     "shell.execute_reply": "2025-02-28T22:18:49.953233Z"
    },
    "papermill": {
     "duration": 0.459673,
     "end_time": "2025-02-28T22:18:49.956665",
     "exception": false,
     "start_time": "2025-02-28T22:18:49.496992",
     "status": "completed"
    },
    "tags": []
   },
   "outputs": [
    {
     "data": {
      "image/png": "[encoded data removed]",
      "text/plain": [
       "<Figure size 864x720 with 1 Axes>"
      ]
     },
     "metadata": {
      "needs_background": "light"
     },
     "output_type": "display_data"
    }
   ],
   "source": [
    "# Total Sales by Genres\n",
    "genre_sales=data[['Genre','NA_Sales','EU_Sales','JP_Sales','Other_Sales']].groupby(['Genre'],as_index=False).sum()\n",
    "genre_sales=genre_sales.set_axis(['Genre', 'North America', 'Europe', 'Japan','Other'], axis=1, inplace=False)\n",
    "Genre_Sales=pd.melt(genre_sales,\n",
    "                    id_vars=['Genre'],\n",
    "                    value_vars=['North America', 'Europe', 'Japan', 'Other'],\n",
    "                    var_name='Sales_Area', value_name='Sales_Price')\n",
    "plt.figure(figsize=(12,10))\n",
    "sns.barplot(data=Genre_Sales,x='Genre',y='Sales_Price',hue='Sales_Area')\n",
    "plt.ylabel('Sales Price')\n",
    "plt.show()"
   ]
  },
  {
   "cell_type": "code",
   "execution_count": 30,
   "id": "97ba0b9c",
   "metadata": {
    "execution": {
     "iopub.execute_input": "2025-02-28T22:18:49.991018Z",
     "iopub.status.busy": "2025-02-28T22:18:49.990198Z",
     "iopub.status.idle": "2025-02-28T22:18:50.800462Z",
     "shell.execute_reply": "2025-02-28T22:18:50.799211Z"
    },
    "papermill": {
     "duration": 0.830241,
     "end_time": "2025-02-28T22:18:50.803126",
     "exception": false,
     "start_time": "2025-02-28T22:18:49.972885",
     "status": "completed"
    },
    "tags": []
   },
   "outputs": [
    {
     "data": {
      "image/png": "[encoded data removed]",
      "text/plain": [
       "<Figure size 864x720 with 1 Axes>"
      ]
     },
     "metadata": {
      "needs_background": "light"
     },
     "output_type": "display_data"
    }
   ],
   "source": [
    "# Total Sales by Platforms\n",
    "platform_sales=data[['Platform','NA_Sales','EU_Sales','JP_Sales','Other_Sales']].groupby(['Platform'],as_index=False).sum()\n",
    "platform_sales=platform_sales.set_axis(['Platform', 'North America', 'Europe', 'Japan','Other'], axis=1, inplace=False)\n",
    "Platform_Sales=pd.melt(platform_sales,\n",
    "                    id_vars=['Platform'], \n",
    "                    value_vars=['North America', 'Europe', 'Japan', 'Other'],\n",
    "                    var_name='Sales_Area', value_name='Sales_Price')\n",
    "plt.figure(figsize=(12,10))\n",
    "sns.barplot(data=Platform_Sales,x='Platform',y='Sales_Price',hue='Sales_Area')\n",
    "plt.ylabel('Sales Price')\n",
    "plt.xticks(rotation=90)\n",
    "plt.show()"
   ]
  },
  {
   "cell_type": "code",
   "execution_count": 31,
   "id": "0b691133",
   "metadata": {
    "execution": {
     "iopub.execute_input": "2025-02-28T22:18:50.841976Z",
     "iopub.status.busy": "2025-02-28T22:18:50.841543Z",
     "iopub.status.idle": "2025-02-28T22:18:51.653158Z",
     "shell.execute_reply": "2025-02-28T22:18:51.651697Z"
    },
    "papermill": {
     "duration": 0.835846,
     "end_time": "2025-02-28T22:18:51.655830",
     "exception": false,
     "start_time": "2025-02-28T22:18:50.819984",
     "status": "completed"
    },
    "tags": []
   },
   "outputs": [
    {
     "data": {
      "text/html": [
       "        <script type=\"text/javascript\">\n",
       "        window.PlotlyConfig = {MathJaxConfig: 'local'};\n",
       "        if (window.MathJax && window.MathJax.Hub && window.MathJax.Hub.Config) {window.MathJax.Hub.Config({SVG: {font: \"STIX-Web\"}});}\n",
       "        if (typeof require !== 'undefined') {\n",
       "        require.undef(\"plotly\");\n",
       "        requirejs.config({\n",
       "            paths: {\n",
       "                'plotly': ['https://cdn.plot.ly/plotly-2.12.1.min']\n",
       "            }\n",
       "        });\n",
       "        require(['plotly'], function(Plotly) {\n",
       "            window._Plotly = Plotly;\n",
       "        });\n",
       "        }\n",
       "        </script>\n",
       "        "
      ]
     },
     "metadata": {},
     "output_type": "display_data"
    },
    {
     "data": {
      "text/html": [
       "<div>                            <div id=\"581b2697-cf8d-4657-9a29-901322cc14e7\" class=\"plotly-graph-div\" style=\"height:525px; width:100%;\"></div>            <script type=\"text/javascript\">                require([\"plotly\"], function(Plotly) {                    window.PLOTLYENV=window.PLOTLYENV || {};                                    if (document.getElementById(\"581b2697-cf8d-4657-9a29-901322cc14e7\")) {                    Plotly.newPlot(                        \"581b2697-cf8d-4657-9a29-901322cc14e7\",                        [{\"name\":\"North America\",\"x\":[1980.0,1981.0,1982.0,1983.0,1984.0,1985.0,1986.0,1987.0,1988.0,1989.0,1990.0,1991.0,1992.0,1993.0,1994.0,1995.0,1996.0,1997.0,1998.0,1999.0,2000.0,2001.0,2002.0,2003.0,2004.0,2005.0,2006.0,2007.0,2008.0,2009.0,2010.0,2011.0,2012.0,2013.0,2014.0,2015.0,2016.0,2017.0,2020.0],\"y\":[10.59,33.4,26.92,7.76,33.28,33.73,12.5,8.459999999999999,23.869999999999997,45.15,25.46,12.76,33.87,15.120000000000001,28.150000000000002,24.82,86.76,94.75,128.36,126.06,94.49,173.98,216.19,193.59,222.59,242.61,322.64,312.05,351.44,338.85,304.24,241.06,154.96,154.77,131.97,102.82,22.66,0.0,0.27],\"type\":\"scatter\"},{\"name\":\"Europe\",\"x\":[1980.0,1981.0,1982.0,1983.0,1984.0,1985.0,1986.0,1987.0,1988.0,1989.0,1990.0,1991.0,1992.0,1993.0,1994.0,1995.0,1996.0,1997.0,1998.0,1999.0,2000.0,2001.0,2002.0,2003.0,2004.0,2005.0,2006.0,2007.0,2008.0,2009.0,2010.0,2011.0,2012.0,2013.0,2014.0,2015.0,2016.0,2017.0,2020.0],\"xaxis\":\"x2\",\"y\":[0.67,1.96,1.65,0.8,2.1,4.74,2.84,1.41,6.59,8.44,7.63,3.95,11.71,4.65,14.88,14.9,47.26,48.32,66.9,62.67,52.75,94.89,109.74,103.81,107.32,121.94,154.25,160.5,184.4,191.59,176.73,167.44,118.78,125.8,125.65,97.71,26.76,0.0,0.0],\"yaxis\":\"y2\",\"type\":\"scatter\"},{\"name\":\"Japan\",\"x\":[1980.0,1981.0,1982.0,1983.0,1984.0,1985.0,1986.0,1987.0,1988.0,1989.0,1990.0,1991.0,1992.0,1993.0,1994.0,1995.0,1996.0,1997.0,1998.0,1999.0,2000.0,2001.0,2002.0,2003.0,2004.0,2005.0,2006.0,2007.0,2008.0,2009.0,2010.0,2011.0,2012.0,2013.0,2014.0,2015.0,2016.0,2017.0,2020.0],\"xaxis\":\"x3\",\"y\":[0.0,0.0,0.0,8.1,14.27,14.56,19.81,11.63,15.76,18.36,14.879999999999999,14.78,28.91,25.330000000000002,33.99,45.75,57.44,48.87,50.04,52.34,42.769999999999996,39.86,41.76,34.2,41.65,54.28,80.45,60.29,60.26,61.89,59.49,53.04,51.74,47.59,39.46,33.72,13.7,0.05,0.0],\"yaxis\":\"y3\",\"type\":\"scatter\"},{\"name\":\"Other\",\"x\":[1980.0,1981.0,1982.0,1983.0,1984.0,1985.0,1986.0,1987.0,1988.0,1989.0,1990.0,1991.0,1992.0,1993.0,1994.0,1995.0,1996.0,1997.0,1998.0,1999.0,2000.0,2001.0,2002.0,2003.0,2004.0,2005.0,2006.0,2007.0,2008.0,2009.0,2010.0,2011.0,2012.0,2013.0,2014.0,2015.0,2016.0,2017.0,2020.0],\"xaxis\":\"x4\",\"y\":[0.12,0.32,0.31,0.14,0.7,0.92,1.93,0.2,0.99,1.5,1.4000000000000001,0.74,1.65,0.89,2.2,2.64,7.69,9.13,11.03,10.05,11.620000000000001,22.76,27.28,26.01,47.29,40.58,63.17,77.6,82.39,74.77,59.9,54.39,37.82,39.82,40.02,30.01,7.75,0.0,0.02],\"yaxis\":\"y4\",\"type\":\"scatter\"}],                        {\"template\":{\"data\":{\"barpolar\":[{\"marker\":{\"line\":{\"color\":\"#E5ECF6\",\"width\":0.5},\"pattern\":{\"fillmode\":\"overlay\",\"size\":10,\"solidity\":0.2}},\"type\":\"barpolar\"}],\"bar\":[{\"error_x\":{\"color\":\"#2a3f5f\"},\"error_y\":{\"color\":\"#2a3f5f\"},\"marker\":{\"line\":{\"color\":\"#E5ECF6\",\"width\":0.5},\"pattern\":{\"fillmode\":\"overlay\",\"size\":10,\"solidity\":0.2}},\"type\":\"bar\"}],\"carpet\":[{\"aaxis\":{\"endlinecolor\":\"#2a3f5f\",\"gridcolor\":\"white\",\"linecolor\":\"white\",\"minorgridcolor\":\"white\",\"startlinecolor\":\"#2a3f5f\"},\"baxis\":{\"endlinecolor\":\"#2a3f5f\",\"gridcolor\":\"white\",\"linecolor\":\"white\",\"minorgridcolor\":\"white\",\"startlinecolor\":\"#2a3f5f\"},\"type\":\"carpet\"}],\"choropleth\":[{\"colorbar\":{\"outlinewidth\":0,\"ticks\":\"\"},\"type\":\"choropleth\"}],\"contourcarpet\":[{\"colorbar\":{\"outlinewidth\":0,\"ticks\":\"\"},\"type\":\"contourcarpet\"}],\"contour\":[{\"colorbar\":{\"outlinewidth\":0,\"ticks\":\"\"},\"colorscale\":[[0.0,\"#0d0887\"],[0.1111111111111111,\"#46039f\"],[0.2222222222222222,\"#7201a8\"],[0.3333333333333333,\"#9c179e\"],[0.4444444444444444,\"#bd3786\"],[0.5555555555555556,\"#d8576b\"],[0.6666666666666666,\"#ed7953\"],[0.7777777777777778,\"#fb9f3a\"],[0.8888888888888888,\"#fdca26\"],[1.0,\"#f0f921\"]],\"type\":\"contour\"}],\"heatmapgl\":[{\"colorbar\":{\"outlinewidth\":0,\"ticks\":\"\"},\"colorscale\":[[0.0,\"#0d0887\"],[0.1111111111111111,\"#46039f\"],[0.2222222222222222,\"#7201a8\"],[0.3333333333333333,\"#9c179e\"],[0.4444444444444444,\"#bd3786\"],[0.5555555555555556,\"#d8576b\"],[0.6666666666666666,\"#ed7953\"],[0.7777777777777778,\"#fb9f3a\"],[0.8888888888888888,\"#fdca26\"],[1.0,\"#f0f921\"]],\"type\":\"heatmapgl\"}],\"heatmap\":[{\"colorbar\":{\"outlinewidth\":0,\"ticks\":\"\"},\"colorscale\":[[0.0,\"#0d0887\"],[0.1111111111111111,\"#46039f\"],[0.2222222222222222,\"#7201a8\"],[0.3333333333333333,\"#9c179e\"],[0.4444444444444444,\"#bd3786\"],[0.5555555555555556,\"#d8576b\"],[0.6666666666666666,\"#ed7953\"],[0.7777777777777778,\"#fb9f3a\"],[0.8888888888888888,\"#fdca26\"],[1.0,\"#f0f921\"]],\"type\":\"heatmap\"}],\"histogram2dcontour\":[{\"colorbar\":{\"outlinewidth\":0,\"ticks\":\"\"},\"colorscale\":[[0.0,\"#0d0887\"],[0.1111111111111111,\"#46039f\"],[0.2222222222222222,\"#7201a8\"],[0.3333333333333333,\"#9c179e\"],[0.4444444444444444,\"#bd3786\"],[0.5555555555555556,\"#d8576b\"],[0.6666666666666666,\"#ed7953\"],[0.7777777777777778,\"#fb9f3a\"],[0.8888888888888888,\"#fdca26\"],[1.0,\"#f0f921\"]],\"type\":\"histogram2dcontour\"}],\"histogram2d\":[{\"colorbar\":{\"outlinewidth\":0,\"ticks\":\"\"},\"colorscale\":[[0.0,\"#0d0887\"],[0.1111111111111111,\"#46039f\"],[0.2222222222222222,\"#7201a8\"],[0.3333333333333333,\"#9c179e\"],[0.4444444444444444,\"#bd3786\"],[0.5555555555555556,\"#d8576b\"],[0.6666666666666666,\"#ed7953\"],[0.7777777777777778,\"#fb9f3a\"],[0.8888888888888888,\"#fdca26\"],[1.0,\"#f0f921\"]],\"type\":\"histogram2d\"}],\"histogram\":[{\"marker\":{\"pattern\":{\"fillmode\":\"overlay\",\"size\":10,\"solidity\":0.2}},\"type\":\"histogram\"}],\"mesh3d\":[{\"colorbar\":{\"outlinewidth\":0,\"ticks\":\"\"},\"type\":\"mesh3d\"}],\"parcoords\":[{\"line\":{\"colorbar\":{\"outlinewidth\":0,\"ticks\":\"\"}},\"type\":\"parcoords\"}],\"pie\":[{\"automargin\":true,\"type\":\"pie\"}],\"scatter3d\":[{\"line\":{\"colorbar\":{\"outlinewidth\":0,\"ticks\":\"\"}},\"marker\":{\"colorbar\":{\"outlinewidth\":0,\"ticks\":\"\"}},\"type\":\"scatter3d\"}],\"scattercarpet\":[{\"marker\":{\"colorbar\":{\"outlinewidth\":0,\"ticks\":\"\"}},\"type\":\"scattercarpet\"}],\"scattergeo\":[{\"marker\":{\"colorbar\":{\"outlinewidth\":0,\"ticks\":\"\"}},\"type\":\"scattergeo\"}],\"scattergl\":[{\"marker\":{\"colorbar\":{\"outlinewidth\":0,\"ticks\":\"\"}},\"type\":\"scattergl\"}],\"scattermapbox\":[{\"marker\":{\"colorbar\":{\"outlinewidth\":0,\"ticks\":\"\"}},\"type\":\"scattermapbox\"}],\"scatterpolargl\":[{\"marker\":{\"colorbar\":{\"outlinewidth\":0,\"ticks\":\"\"}},\"type\":\"scatterpolargl\"}],\"scatterpolar\":[{\"marker\":{\"colorbar\":{\"outlinewidth\":0,\"ticks\":\"\"}},\"type\":\"scatterpolar\"}],\"scatter\":[{\"fillpattern\":{\"fillmode\":\"overlay\",\"size\":10,\"solidity\":0.2},\"type\":\"scatter\"}],\"scatterternary\":[{\"marker\":{\"colorbar\":{\"outlinewidth\":0,\"ticks\":\"\"}},\"type\":\"scatterternary\"}],\"surface\":[{\"colorbar\":{\"outlinewidth\":0,\"ticks\":\"\"},\"colorscale\":[[0.0,\"#0d0887\"],[0.1111111111111111,\"#46039f\"],[0.2222222222222222,\"#7201a8\"],[0.3333333333333333,\"#9c179e\"],[0.4444444444444444,\"#bd3786\"],[0.5555555555555556,\"#d8576b\"],[0.6666666666666666,\"#ed7953\"],[0.7777777777777778,\"#fb9f3a\"],[0.8888888888888888,\"#fdca26\"],[1.0,\"#f0f921\"]],\"type\":\"surface\"}],\"table\":[{\"cells\":{\"fill\":{\"color\":\"#EBF0F8\"},\"line\":{\"color\":\"white\"}},\"header\":{\"fill\":{\"color\":\"#C8D4E3\"},\"line\":{\"color\":\"white\"}},\"type\":\"table\"}]},\"layout\":{\"annotationdefaults\":{\"arrowcolor\":\"#2a3f5f\",\"arrowhead\":0,\"arrowwidth\":1},\"autotypenumbers\":\"strict\",\"coloraxis\":{\"colorbar\":{\"outlinewidth\":0,\"ticks\":\"\"}},\"colorscale\":{\"diverging\":[[0,\"#8e0152\"],[0.1,\"#c51b7d\"],[0.2,\"#de77ae\"],[0.3,\"#f1b6da\"],[0.4,\"#fde0ef\"],[0.5,\"#f7f7f7\"],[0.6,\"#e6f5d0\"],[0.7,\"#b8e186\"],[0.8,\"#7fbc41\"],[0.9,\"#4d9221\"],[1,\"#276419\"]],\"sequential\":[[0.0,\"#0d0887\"],[0.1111111111111111,\"#46039f\"],[0.2222222222222222,\"#7201a8\"],[0.3333333333333333,\"#9c179e\"],[0.4444444444444444,\"#bd3786\"],[0.5555555555555556,\"#d8576b\"],[0.6666666666666666,\"#ed7953\"],[0.7777777777777778,\"#fb9f3a\"],[0.8888888888888888,\"#fdca26\"],[1.0,\"#f0f921\"]],\"sequentialminus\":[[0.0,\"#0d0887\"],[0.1111111111111111,\"#46039f\"],[0.2222222222222222,\"#7201a8\"],[0.3333333333333333,\"#9c179e\"],[0.4444444444444444,\"#bd3786\"],[0.5555555555555556,\"#d8576b\"],[0.6666666666666666,\"#ed7953\"],[0.7777777777777778,\"#fb9f3a\"],[0.8888888888888888,\"#fdca26\"],[1.0,\"#f0f921\"]]},\"colorway\":[\"#636efa\",\"#EF553B\",\"#00cc96\",\"#ab63fa\",\"#FFA15A\",\"#19d3f3\",\"#FF6692\",\"#B6E880\",\"#FF97FF\",\"#FECB52\"],\"font\":{\"color\":\"#2a3f5f\"},\"geo\":{\"bgcolor\":\"white\",\"lakecolor\":\"white\",\"landcolor\":\"#E5ECF6\",\"showlakes\":true,\"showland\":true,\"subunitcolor\":\"white\"},\"hoverlabel\":{\"align\":\"left\"},\"hovermode\":\"closest\",\"mapbox\":{\"style\":\"light\"},\"paper_bgcolor\":\"white\",\"plot_bgcolor\":\"#E5ECF6\",\"polar\":{\"angularaxis\":{\"gridcolor\":\"white\",\"linecolor\":\"white\",\"ticks\":\"\"},\"bgcolor\":\"#E5ECF6\",\"radialaxis\":{\"gridcolor\":\"white\",\"linecolor\":\"white\",\"ticks\":\"\"}},\"scene\":{\"xaxis\":{\"backgroundcolor\":\"#E5ECF6\",\"gridcolor\":\"white\",\"gridwidth\":2,\"linecolor\":\"white\",\"showbackground\":true,\"ticks\":\"\",\"zerolinecolor\":\"white\"},\"yaxis\":{\"backgroundcolor\":\"#E5ECF6\",\"gridcolor\":\"white\",\"gridwidth\":2,\"linecolor\":\"white\",\"showbackground\":true,\"ticks\":\"\",\"zerolinecolor\":\"white\"},\"zaxis\":{\"backgroundcolor\":\"#E5ECF6\",\"gridcolor\":\"white\",\"gridwidth\":2,\"linecolor\":\"white\",\"showbackground\":true,\"ticks\":\"\",\"zerolinecolor\":\"white\"}},\"shapedefaults\":{\"line\":{\"color\":\"#2a3f5f\"}},\"ternary\":{\"aaxis\":{\"gridcolor\":\"white\",\"linecolor\":\"white\",\"ticks\":\"\"},\"baxis\":{\"gridcolor\":\"white\",\"linecolor\":\"white\",\"ticks\":\"\"},\"bgcolor\":\"#E5ECF6\",\"caxis\":{\"gridcolor\":\"white\",\"linecolor\":\"white\",\"ticks\":\"\"}},\"title\":{\"x\":0.05},\"xaxis\":{\"automargin\":true,\"gridcolor\":\"white\",\"linecolor\":\"white\",\"ticks\":\"\",\"title\":{\"standoff\":15},\"zerolinecolor\":\"white\",\"zerolinewidth\":2},\"yaxis\":{\"automargin\":true,\"gridcolor\":\"white\",\"linecolor\":\"white\",\"ticks\":\"\",\"title\":{\"standoff\":15},\"zerolinecolor\":\"white\",\"zerolinewidth\":2}}},\"title\":{\"text\":\"Total Sales by Year\"},\"xaxis\":{\"domain\":[0,0.45]},\"yaxis\":{\"domain\":[0,0.45]},\"xaxis2\":{\"domain\":[0.55,1]},\"xaxis3\":{\"anchor\":\"y3\",\"domain\":[0,0.45]},\"xaxis4\":{\"anchor\":\"y4\",\"domain\":[0.55,1]},\"yaxis2\":{\"anchor\":\"x2\",\"domain\":[0,0.45]},\"yaxis3\":{\"domain\":[0.55,1]},\"yaxis4\":{\"anchor\":\"x4\",\"domain\":[0.55,1]}},                        {\"responsive\": true}                    ).then(function(){\n",
       "                            \n",
       "var gd = document.getElementById('581b2697-cf8d-4657-9a29-901322cc14e7');\n",
       "var x = new MutationObserver(function (mutations, observer) {{\n",
       "        var display = window.getComputedStyle(gd).display;\n",
       "        if (!display || display === 'none') {{\n",
       "            console.log([gd, 'removed!']);\n",
       "            Plotly.purge(gd);\n",
       "            observer.disconnect();\n",
       "        }}\n",
       "}});\n",
       "\n",
       "// Listen for the removal of the full notebook cells\n",
       "var notebookContainer = gd.closest('#notebook-container');\n",
       "if (notebookContainer) {{\n",
       "    x.observe(notebookContainer, {childList: true});\n",
       "}}\n",
       "\n",
       "// Listen for the clearing of the current output cell\n",
       "var outputEl = gd.closest('.output');\n",
       "if (outputEl) {{\n",
       "    x.observe(outputEl, {childList: true});\n",
       "}}\n",
       "\n",
       "                        })                };                });            </script>        </div>"
      ]
     },
     "metadata": {},
     "output_type": "display_data"
    }
   ],
   "source": [
    "sales_year=data[['Year','NA_Sales','EU_Sales','JP_Sales','Other_Sales']].groupby(['Year'],as_index=False).sum()\n",
    "\n",
    "trace1 = go.Scatter(\n",
    "    x=sales_year.Year,\n",
    "    y=sales_year.NA_Sales,\n",
    "    name = \"North America\"\n",
    ")\n",
    "trace2 = go.Scatter(\n",
    "    x=sales_year.Year,\n",
    "    y=sales_year.EU_Sales,\n",
    "    xaxis='x2',\n",
    "    yaxis='y2',\n",
    "    name = \"Europe\"\n",
    ")\n",
    "trace3 = go.Scatter(\n",
    "    x=sales_year.Year,\n",
    "    y=sales_year.JP_Sales,\n",
    "    xaxis='x3',\n",
    "    yaxis='y3',\n",
    "    name = \"Japan\"\n",
    ")\n",
    "trace4 = go.Scatter(\n",
    "    x=sales_year.Year,\n",
    "    y=sales_year.Other_Sales,\n",
    "    xaxis='x4',\n",
    "    yaxis='y4',\n",
    "    name = \"Other\"\n",
    ")\n",
    "data = [trace1, trace2, trace3, trace4]\n",
    "layout = go.Layout(\n",
    "    xaxis=dict(\n",
    "        domain=[0, 0.45]\n",
    "    ),\n",
    "    yaxis=dict(\n",
    "        domain=[0, 0.45]\n",
    "    ),\n",
    "    xaxis2=dict(\n",
    "        domain=[0.55, 1]\n",
    "    ),\n",
    "    xaxis3=dict(\n",
    "        domain=[0, 0.45],\n",
    "        anchor='y3'\n",
    "    ),\n",
    "    xaxis4=dict(\n",
    "        domain=[0.55, 1],\n",
    "        anchor='y4'\n",
    "    ),\n",
    "    yaxis2=dict(\n",
    "        domain=[0, 0.45],\n",
    "        anchor='x2'\n",
    "    ),\n",
    "    yaxis3=dict(\n",
    "        domain=[0.55, 1]\n",
    "    ),\n",
    "    yaxis4=dict(\n",
    "        domain=[0.55, 1],\n",
    "        anchor='x4'\n",
    "    ),\n",
    "    title = 'Total Sales by Year'\n",
    ")\n",
    "fig = go.Figure(data=data, layout=layout)\n",
    "iplot(fig)"
   ]
  }
 ],
 "metadata": {
  "kaggle": {
   "accelerator": "none",
   "dataSources": [
    {
     "datasetId": 284,
     "sourceId": 618,
     "sourceType": "datasetVersion"
    }
   ],
   "dockerImageVersionId": 30213,
   "isGpuEnabled": false,
   "isInternetEnabled": true,
   "language": "python",
   "sourceType": "notebook"
  },
  "kernelspec": {
   "display_name": "Python 3",
   "language": "python",
   "name": "python3"
  },
  "language_info": {
   "codemirror_mode": {
    "name": "ipython",
    "version": 3
   },
   "file_extension": ".py",
   "mimetype": "text/x-python",
   "name": "python",
   "nbconvert_exporter": "python",
   "pygments_lexer": "ipython3",
   "version": "3.7.12"
  },
  "papermill": {
   "default_parameters": {},
   "duration": 22.349102,
   "end_time": "2025-02-28T22:18:53.001478",
   "environment_variables": {},
   "exception": null,
   "input_path": "__notebook__.ipynb",
   "output_path": "__notebook__.ipynb",
   "parameters": {},
   "start_time": "2025-02-28T22:18:30.652376",
   "version": "2.3.4"
  }
 },
 "nbformat": 4,
 "nbformat_minor": 5
}
