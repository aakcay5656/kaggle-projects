{
 "cells": [
  {
   "cell_type": "code",
   "execution_count": 1,
   "id": "63fefbd0",
   "metadata": {
    "_cell_guid": "b1076dfc-b9ad-4769-8c92-a6c4dae69d19",
    "_uuid": "8f2839f25d086af736a60e9eeb907d3b93b6e0e5",
    "execution": {
     "iopub.execute_input": "2024-01-31T18:50:55.325297Z",
     "iopub.status.busy": "2024-01-31T18:50:55.324529Z",
     "iopub.status.idle": "2024-01-31T18:50:58.395906Z",
     "shell.execute_reply": "2024-01-31T18:50:58.394924Z"
    },
    "papermill": {
     "duration": 3.086863,
     "end_time": "2024-01-31T18:50:58.398975",
     "exception": false,
     "start_time": "2024-01-31T18:50:55.312112",
     "status": "completed"
    },
    "tags": []
   },
   "outputs": [],
   "source": [
    "\n",
    "import numpy as np \n",
    "import pandas as pd \n",
    "import missingno as msno\n",
    "import matplotlib.pyplot as plt\n",
    "from sklearn.preprocessing import MinMaxScaler\n",
    "from sklearn.metrics  import mean_squared_error\n",
    "\n"
   ]
  },
  {
   "cell_type": "markdown",
   "id": "ce5bde7a",
   "metadata": {
    "papermill": {
     "duration": 0.009969,
     "end_time": "2024-01-31T18:50:58.419045",
     "exception": false,
     "start_time": "2024-01-31T18:50:58.409076",
     "status": "completed"
    },
    "tags": []
   },
   "source": [
    "### Read and Check Data"
   ]
  },
  {
   "cell_type": "code",
   "execution_count": 2,
   "id": "313b71e0",
   "metadata": {
    "execution": {
     "iopub.execute_input": "2024-01-31T18:50:58.440318Z",
     "iopub.status.busy": "2024-01-31T18:50:58.439717Z",
     "iopub.status.idle": "2024-01-31T18:50:59.338883Z",
     "shell.execute_reply": "2024-01-31T18:50:59.337130Z"
    },
    "papermill": {
     "duration": 0.913269,
     "end_time": "2024-01-31T18:50:59.341945",
     "exception": false,
     "start_time": "2024-01-31T18:50:58.428676",
     "status": "completed"
    },
    "tags": []
   },
   "outputs": [],
   "source": [
    "sample_submission = pd.read_csv('/kaggle/input/iyzico-datathon/sample_submission.csv')\n",
    "train = pd.read_csv('/kaggle/input/iyzico-datathon/train.csv')"
   ]
  },
  {
   "cell_type": "code",
   "execution_count": 3,
   "id": "77e752be",
   "metadata": {
    "execution": {
     "iopub.execute_input": "2024-01-31T18:50:59.363496Z",
     "iopub.status.busy": "2024-01-31T18:50:59.363050Z",
     "iopub.status.idle": "2024-01-31T18:50:59.581269Z",
     "shell.execute_reply": "2024-01-31T18:50:59.579981Z"
    },
    "papermill": {
     "duration": 0.232799,
     "end_time": "2024-01-31T18:50:59.584302",
     "exception": false,
     "start_time": "2024-01-31T18:50:59.351503",
     "status": "completed"
    },
    "tags": []
   },
   "outputs": [
    {
     "name": "stdout",
     "output_type": "stream",
     "text": [
      "<class 'pandas.core.frame.DataFrame'>\n",
      "RangeIndex: 291142 entries, 0 to 291141\n",
      "Data columns (total 8 columns):\n",
      " #   Column                Non-Null Count   Dtype \n",
      "---  ------                --------------   ----- \n",
      " 0   merchant_id           291142 non-null  object\n",
      " 1   month_id              291142 non-null  int64 \n",
      " 2   merchant_source_name  291142 non-null  object\n",
      " 3   settlement_period     291142 non-null  object\n",
      " 4   working_type          291142 non-null  object\n",
      " 5   mcc_id                291142 non-null  object\n",
      " 6   merchant_segment      291142 non-null  object\n",
      " 7   net_payment_count     291142 non-null  int64 \n",
      "dtypes: int64(2), object(6)\n",
      "memory usage: 17.8+ MB\n"
     ]
    }
   ],
   "source": [
    "train.info()"
   ]
  },
  {
   "cell_type": "code",
   "execution_count": 4,
   "id": "cb36d1af",
   "metadata": {
    "execution": {
     "iopub.execute_input": "2024-01-31T18:50:59.608145Z",
     "iopub.status.busy": "2024-01-31T18:50:59.607703Z",
     "iopub.status.idle": "2024-01-31T18:50:59.631012Z",
     "shell.execute_reply": "2024-01-31T18:50:59.629621Z"
    },
    "papermill": {
     "duration": 0.038918,
     "end_time": "2024-01-31T18:50:59.633563",
     "exception": false,
     "start_time": "2024-01-31T18:50:59.594645",
     "status": "completed"
    },
    "tags": []
   },
   "outputs": [
    {
     "data": {
      "text/html": [
       "<div>\n",
       "<style scoped>\n",
       "    .dataframe tbody tr th:only-of-type {\n",
       "        vertical-align: middle;\n",
       "    }\n",
       "\n",
       "    .dataframe tbody tr th {\n",
       "        vertical-align: top;\n",
       "    }\n",
       "\n",
       "    .dataframe thead th {\n",
       "        text-align: right;\n",
       "    }\n",
       "</style>\n",
       "<table border=\"1\" class=\"dataframe\">\n",
       "  <thead>\n",
       "    <tr style=\"text-align: right;\">\n",
       "      <th></th>\n",
       "      <th>merchant_id</th>\n",
       "      <th>month_id</th>\n",
       "      <th>merchant_source_name</th>\n",
       "      <th>settlement_period</th>\n",
       "      <th>working_type</th>\n",
       "      <th>mcc_id</th>\n",
       "      <th>merchant_segment</th>\n",
       "      <th>net_payment_count</th>\n",
       "    </tr>\n",
       "  </thead>\n",
       "  <tbody>\n",
       "    <tr>\n",
       "      <th>0</th>\n",
       "      <td>merchant_43992</td>\n",
       "      <td>202307</td>\n",
       "      <td>Merchant Source - 3</td>\n",
       "      <td>Settlement Period - 3</td>\n",
       "      <td>Working Type - 2</td>\n",
       "      <td>mcc_197</td>\n",
       "      <td>Segment - 2</td>\n",
       "      <td>15106</td>\n",
       "    </tr>\n",
       "    <tr>\n",
       "      <th>1</th>\n",
       "      <td>merchant_43992</td>\n",
       "      <td>202301</td>\n",
       "      <td>Merchant Source - 3</td>\n",
       "      <td>Settlement Period - 3</td>\n",
       "      <td>Working Type - 2</td>\n",
       "      <td>mcc_197</td>\n",
       "      <td>Segment - 2</td>\n",
       "      <td>16918</td>\n",
       "    </tr>\n",
       "    <tr>\n",
       "      <th>2</th>\n",
       "      <td>merchant_43992</td>\n",
       "      <td>202305</td>\n",
       "      <td>Merchant Source - 3</td>\n",
       "      <td>Settlement Period - 3</td>\n",
       "      <td>Working Type - 2</td>\n",
       "      <td>mcc_197</td>\n",
       "      <td>Segment - 2</td>\n",
       "      <td>13452</td>\n",
       "    </tr>\n",
       "    <tr>\n",
       "      <th>3</th>\n",
       "      <td>merchant_43992</td>\n",
       "      <td>202308</td>\n",
       "      <td>Merchant Source - 3</td>\n",
       "      <td>Settlement Period - 3</td>\n",
       "      <td>Working Type - 2</td>\n",
       "      <td>mcc_197</td>\n",
       "      <td>Segment - 2</td>\n",
       "      <td>16787</td>\n",
       "    </tr>\n",
       "    <tr>\n",
       "      <th>4</th>\n",
       "      <td>merchant_43992</td>\n",
       "      <td>202302</td>\n",
       "      <td>Merchant Source - 3</td>\n",
       "      <td>Settlement Period - 3</td>\n",
       "      <td>Working Type - 2</td>\n",
       "      <td>mcc_197</td>\n",
       "      <td>Segment - 2</td>\n",
       "      <td>12428</td>\n",
       "    </tr>\n",
       "  </tbody>\n",
       "</table>\n",
       "</div>"
      ],
      "text/plain": [
       "      merchant_id  month_id merchant_source_name      settlement_period  \\\n",
       "0  merchant_43992    202307  Merchant Source - 3  Settlement Period - 3   \n",
       "1  merchant_43992    202301  Merchant Source - 3  Settlement Period - 3   \n",
       "2  merchant_43992    202305  Merchant Source - 3  Settlement Period - 3   \n",
       "3  merchant_43992    202308  Merchant Source - 3  Settlement Period - 3   \n",
       "4  merchant_43992    202302  Merchant Source - 3  Settlement Period - 3   \n",
       "\n",
       "       working_type   mcc_id merchant_segment  net_payment_count  \n",
       "0  Working Type - 2  mcc_197      Segment - 2              15106  \n",
       "1  Working Type - 2  mcc_197      Segment - 2              16918  \n",
       "2  Working Type - 2  mcc_197      Segment - 2              13452  \n",
       "3  Working Type - 2  mcc_197      Segment - 2              16787  \n",
       "4  Working Type - 2  mcc_197      Segment - 2              12428  "
      ]
     },
     "execution_count": 4,
     "metadata": {},
     "output_type": "execute_result"
    }
   ],
   "source": [
    "train.head()"
   ]
  },
  {
   "cell_type": "code",
   "execution_count": 5,
   "id": "a3a99792",
   "metadata": {
    "execution": {
     "iopub.execute_input": "2024-01-31T18:50:59.656242Z",
     "iopub.status.busy": "2024-01-31T18:50:59.655801Z",
     "iopub.status.idle": "2024-01-31T18:50:59.668393Z",
     "shell.execute_reply": "2024-01-31T18:50:59.666646Z"
    },
    "papermill": {
     "duration": 0.027354,
     "end_time": "2024-01-31T18:50:59.671495",
     "exception": false,
     "start_time": "2024-01-31T18:50:59.644141",
     "status": "completed"
    },
    "tags": []
   },
   "outputs": [
    {
     "data": {
      "text/html": [
       "<div>\n",
       "<style scoped>\n",
       "    .dataframe tbody tr th:only-of-type {\n",
       "        vertical-align: middle;\n",
       "    }\n",
       "\n",
       "    .dataframe tbody tr th {\n",
       "        vertical-align: top;\n",
       "    }\n",
       "\n",
       "    .dataframe thead th {\n",
       "        text-align: right;\n",
       "    }\n",
       "</style>\n",
       "<table border=\"1\" class=\"dataframe\">\n",
       "  <thead>\n",
       "    <tr style=\"text-align: right;\">\n",
       "      <th></th>\n",
       "      <th>id</th>\n",
       "      <th>net_payment_count</th>\n",
       "    </tr>\n",
       "  </thead>\n",
       "  <tbody>\n",
       "    <tr>\n",
       "      <th>0</th>\n",
       "      <td>202311merchant_36004</td>\n",
       "      <td>0</td>\n",
       "    </tr>\n",
       "    <tr>\n",
       "      <th>1</th>\n",
       "      <td>202312merchant_36004</td>\n",
       "      <td>0</td>\n",
       "    </tr>\n",
       "    <tr>\n",
       "      <th>2</th>\n",
       "      <td>202310merchant_36004</td>\n",
       "      <td>0</td>\n",
       "    </tr>\n",
       "    <tr>\n",
       "      <th>3</th>\n",
       "      <td>202311merchant_23099</td>\n",
       "      <td>0</td>\n",
       "    </tr>\n",
       "    <tr>\n",
       "      <th>4</th>\n",
       "      <td>202312merchant_23099</td>\n",
       "      <td>0</td>\n",
       "    </tr>\n",
       "  </tbody>\n",
       "</table>\n",
       "</div>"
      ],
      "text/plain": [
       "                     id  net_payment_count\n",
       "0  202311merchant_36004                  0\n",
       "1  202312merchant_36004                  0\n",
       "2  202310merchant_36004                  0\n",
       "3  202311merchant_23099                  0\n",
       "4  202312merchant_23099                  0"
      ]
     },
     "execution_count": 5,
     "metadata": {},
     "output_type": "execute_result"
    }
   ],
   "source": [
    "sample_submission.head()"
   ]
  },
  {
   "cell_type": "markdown",
   "id": "dd9c06b3",
   "metadata": {
    "papermill": {
     "duration": 0.010127,
     "end_time": "2024-01-31T18:50:59.693969",
     "exception": false,
     "start_time": "2024-01-31T18:50:59.683842",
     "status": "completed"
    },
    "tags": []
   },
   "source": [
    "### searching for null values"
   ]
  },
  {
   "cell_type": "code",
   "execution_count": 6,
   "id": "8622f296",
   "metadata": {
    "execution": {
     "iopub.execute_input": "2024-01-31T18:50:59.716371Z",
     "iopub.status.busy": "2024-01-31T18:50:59.715911Z",
     "iopub.status.idle": "2024-01-31T18:50:59.904468Z",
     "shell.execute_reply": "2024-01-31T18:50:59.903096Z"
    },
    "papermill": {
     "duration": 0.202659,
     "end_time": "2024-01-31T18:50:59.906905",
     "exception": false,
     "start_time": "2024-01-31T18:50:59.704246",
     "status": "completed"
    },
    "tags": []
   },
   "outputs": [
    {
     "data": {
      "text/plain": [
       "merchant_id             False\n",
       "month_id                False\n",
       "merchant_source_name    False\n",
       "settlement_period       False\n",
       "working_type            False\n",
       "mcc_id                  False\n",
       "merchant_segment        False\n",
       "net_payment_count       False\n",
       "dtype: bool"
      ]
     },
     "execution_count": 6,
     "metadata": {},
     "output_type": "execute_result"
    }
   ],
   "source": [
    "train.isnull().any()"
   ]
  },
  {
   "cell_type": "code",
   "execution_count": 7,
   "id": "7144cb62",
   "metadata": {
    "execution": {
     "iopub.execute_input": "2024-01-31T18:50:59.929954Z",
     "iopub.status.busy": "2024-01-31T18:50:59.929539Z",
     "iopub.status.idle": "2024-01-31T18:51:01.491714Z",
     "shell.execute_reply": "2024-01-31T18:51:01.490514Z"
    },
    "papermill": {
     "duration": 1.577752,
     "end_time": "2024-01-31T18:51:01.495162",
     "exception": false,
     "start_time": "2024-01-31T18:50:59.917410",
     "status": "completed"
    },
    "tags": []
   },
   "outputs": [
    {
     "data": {
      "image/png": "[encoded data removed]",
      "text/plain": [
       "<Figure size 2500x1000 with 3 Axes>"
      ]
     },
     "metadata": {},
     "output_type": "display_data"
    }
   ],
   "source": [
    "msno.bar(train)\n",
    "plt.show()"
   ]
  },
  {
   "cell_type": "markdown",
   "id": "29dafc58",
   "metadata": {
    "papermill": {
     "duration": 0.012241,
     "end_time": "2024-01-31T18:51:01.519508",
     "exception": false,
     "start_time": "2024-01-31T18:51:01.507267",
     "status": "completed"
    },
    "tags": []
   },
   "source": [
    "### Unique values"
   ]
  },
  {
   "cell_type": "code",
   "execution_count": 8,
   "id": "87e19e06",
   "metadata": {
    "execution": {
     "iopub.execute_input": "2024-01-31T18:51:01.547067Z",
     "iopub.status.busy": "2024-01-31T18:51:01.545934Z",
     "iopub.status.idle": "2024-01-31T18:51:01.723178Z",
     "shell.execute_reply": "2024-01-31T18:51:01.722011Z"
    },
    "papermill": {
     "duration": 0.194427,
     "end_time": "2024-01-31T18:51:01.726237",
     "exception": false,
     "start_time": "2024-01-31T18:51:01.531810",
     "status": "completed"
    },
    "tags": []
   },
   "outputs": [
    {
     "name": "stdout",
     "output_type": "stream",
     "text": [
      "merchant_id:\n",
      "['merchant_43992' 'merchant_47611' 'merchant_40801' ... 'merchant_11346'\n",
      " 'merchant_21397' 'merchant_66895'] \n",
      "**************************************************\n",
      "month_id:\n",
      "[202307 202301 202305 202308 202302 202304 202207 202208 202210 202211\n",
      " 202209 202306 202212 202303 202309 202104 202202 202102 202003 202106\n",
      " 202205 202112 202012 202004 202111 202008 202009 202203 202201 202110\n",
      " 202006 202101 202001 202206 202005 202002 202105 202007 202204 202103\n",
      " 202108 202010 202011 202107 202109] \n",
      "**************************************************\n",
      "merchant_source_name:\n",
      "['Merchant Source - 3' 'Merchant Source - 2' 'Merchant Source - 1'] \n",
      "**************************************************\n",
      "settlement_period:\n",
      "['Settlement Period - 3' 'Settlement Period - 1' 'Settlement Period - 2'] \n",
      "**************************************************\n",
      "working_type:\n",
      "['Working Type - 2' 'Working Type - 6' 'Working Type - 5'\n",
      " 'Working Type - 3' 'Working Type - 4' 'Working Type - 1'] \n",
      "**************************************************\n",
      "mcc_id:\n",
      "['mcc_197' 'mcc_80' 'mcc_135' 'mcc_38' 'mcc_55' 'mcc_188' 'mcc_168'\n",
      " 'mcc_1' 'mcc_177' 'mcc_126' 'mcc_42' 'mcc_195' 'mcc_35' 'mcc_85' 'mcc_28'\n",
      " 'mcc_132' 'mcc_169' 'mcc_185' 'mcc_112' 'mcc_56' 'mcc_161' 'mcc_130'\n",
      " 'mcc_110' 'mcc_24' 'mcc_96' 'mcc_73' 'mcc_65' 'mcc_144' 'mcc_68' 'mcc_76'\n",
      " 'mcc_162' 'mcc_117' 'mcc_143' 'mcc_74' 'mcc_54' 'mcc_93' 'mcc_7'\n",
      " 'mcc_166' 'mcc_106' 'mcc_160' 'mcc_83' 'mcc_109' 'mcc_46' 'mcc_77'\n",
      " 'mcc_174' 'mcc_194' 'mcc_64' 'mcc_40' 'mcc_153' 'mcc_116' 'mcc_20'\n",
      " 'mcc_2' 'mcc_100' 'mcc_87' 'mcc_9' 'mcc_60' 'mcc_147' 'mcc_29' 'mcc_5'\n",
      " 'mcc_10' 'mcc_18' 'mcc_187' 'mcc_138' 'mcc_33' 'mcc_53' 'mcc_71'\n",
      " 'mcc_152' 'mcc_131' 'mcc_88' 'mcc_89' 'mcc_90' 'mcc_145' 'mcc_104'\n",
      " 'mcc_52' 'mcc_70' 'mcc_151' 'mcc_155' 'mcc_50' 'mcc_128' 'mcc_63'\n",
      " 'mcc_23' 'mcc_125' 'mcc_120' 'mcc_92' 'mcc_51' 'mcc_172' 'mcc_81'\n",
      " 'mcc_115' 'mcc_189' 'mcc_4' 'mcc_61' 'mcc_19' 'mcc_154' 'mcc_31'\n",
      " 'mcc_184' 'mcc_94' 'mcc_107' 'mcc_78' 'mcc_121' 'mcc_86' 'mcc_22'\n",
      " 'mcc_179' 'mcc_34' 'mcc_21' 'mcc_25' 'mcc_165' 'mcc_67' 'mcc_26'\n",
      " 'mcc_190' 'mcc_141' 'mcc_157' 'mcc_45' 'mcc_3' 'mcc_127' 'mcc_44'\n",
      " 'mcc_113' 'mcc_175' 'mcc_108' 'mcc_167' 'mcc_11' 'mcc_36' 'mcc_176'\n",
      " 'mcc_6' 'mcc_39' 'mcc_13' 'mcc_48' 'mcc_30' 'mcc_180' 'mcc_101' 'mcc_14'\n",
      " 'mcc_122' 'mcc_12' 'mcc_193' 'mcc_43' 'mcc_164' 'mcc_114' 'mcc_156'\n",
      " 'mcc_183' 'mcc_57' 'mcc_66' 'mcc_95' 'mcc_58' 'mcc_137' 'mcc_150'\n",
      " 'mcc_102' 'mcc_16' 'mcc_47' 'mcc_196' 'mcc_149' 'mcc_79' 'mcc_170'\n",
      " 'mcc_148' 'mcc_173' 'mcc_134' 'mcc_133' 'mcc_178' 'mcc_163' 'mcc_49'\n",
      " 'mcc_82' 'mcc_124' 'mcc_84' 'mcc_118' 'mcc_171' 'mcc_72' 'mcc_192'\n",
      " 'mcc_37' 'mcc_59' 'mcc_186' 'mcc_69' 'mcc_27' 'mcc_15' 'mcc_98'] \n",
      "**************************************************\n",
      "merchant_segment:\n",
      "['Segment - 2' 'Segment - 3' 'Segment - 4' 'Segment - 1'] \n",
      "**************************************************\n",
      "net_payment_count:\n",
      "[15106 16918 13452 ...  7884 10372  5475] \n",
      "**************************************************\n"
     ]
    }
   ],
   "source": [
    "\n",
    "for i in train.columns:\n",
    "    print(f\"{i}:\\n{train[i].unique()} \\n{'*'*50}\")"
   ]
  },
  {
   "cell_type": "markdown",
   "id": "4555b28c",
   "metadata": {
    "papermill": {
     "duration": 0.011684,
     "end_time": "2024-01-31T18:51:01.750806",
     "exception": false,
     "start_time": "2024-01-31T18:51:01.739122",
     "status": "completed"
    },
    "tags": []
   },
   "source": [
    "### Average number of transactions made each month for 3 years"
   ]
  },
  {
   "cell_type": "code",
   "execution_count": 9,
   "id": "37ee916d",
   "metadata": {
    "execution": {
     "iopub.execute_input": "2024-01-31T18:51:01.777656Z",
     "iopub.status.busy": "2024-01-31T18:51:01.777246Z",
     "iopub.status.idle": "2024-01-31T18:51:01.802650Z",
     "shell.execute_reply": "2024-01-31T18:51:01.801662Z"
    },
    "papermill": {
     "duration": 0.041741,
     "end_time": "2024-01-31T18:51:01.805304",
     "exception": false,
     "start_time": "2024-01-31T18:51:01.763563",
     "status": "completed"
    },
    "tags": []
   },
   "outputs": [],
   "source": [
    "train_a=train[['month_id','net_payment_count']].groupby(['month_id'],as_index=False).mean()"
   ]
  },
  {
   "cell_type": "code",
   "execution_count": 10,
   "id": "44d3834e",
   "metadata": {
    "execution": {
     "iopub.execute_input": "2024-01-31T18:51:01.833206Z",
     "iopub.status.busy": "2024-01-31T18:51:01.832289Z",
     "iopub.status.idle": "2024-01-31T18:51:02.528866Z",
     "shell.execute_reply": "2024-01-31T18:51:02.527743Z"
    },
    "papermill": {
     "duration": 0.714155,
     "end_time": "2024-01-31T18:51:02.531542",
     "exception": false,
     "start_time": "2024-01-31T18:51:01.817387",
     "status": "completed"
    },
    "tags": []
   },
   "outputs": [
    {
     "data": {
      "image/png": "[encoded data removed]",
      "text/plain": [
       "<Figure size 1200x1000 with 1 Axes>"
      ]
     },
     "metadata": {},
     "output_type": "display_data"
    }
   ],
   "source": [
    "import seaborn as sns\n",
    "plt.figure(figsize=(12,10))\n",
    "sns.barplot(data=train_a,x='month_id',y='net_payment_count')\n",
    "plt.ylabel('average number of net payments')\n",
    "plt.xticks(rotation=90)\n",
    "plt.show()"
   ]
  },
  {
   "cell_type": "markdown",
   "id": "a303ed57",
   "metadata": {
    "papermill": {
     "duration": 0.012561,
     "end_time": "2024-01-31T18:51:02.556791",
     "exception": false,
     "start_time": "2024-01-31T18:51:02.544230",
     "status": "completed"
    },
    "tags": []
   },
   "source": [
    "### Total number of transactions made each month for 3 years"
   ]
  },
  {
   "cell_type": "code",
   "execution_count": 11,
   "id": "e45eb382",
   "metadata": {
    "execution": {
     "iopub.execute_input": "2024-01-31T18:51:02.585213Z",
     "iopub.status.busy": "2024-01-31T18:51:02.584553Z",
     "iopub.status.idle": "2024-01-31T18:51:02.599368Z",
     "shell.execute_reply": "2024-01-31T18:51:02.598214Z"
    },
    "papermill": {
     "duration": 0.032629,
     "end_time": "2024-01-31T18:51:02.602149",
     "exception": false,
     "start_time": "2024-01-31T18:51:02.569520",
     "status": "completed"
    },
    "tags": []
   },
   "outputs": [],
   "source": [
    "train_t=train[['month_id','net_payment_count']].groupby(['month_id'],as_index=False).sum()"
   ]
  },
  {
   "cell_type": "code",
   "execution_count": 12,
   "id": "25013568",
   "metadata": {
    "execution": {
     "iopub.execute_input": "2024-01-31T18:51:02.629708Z",
     "iopub.status.busy": "2024-01-31T18:51:02.629041Z",
     "iopub.status.idle": "2024-01-31T18:51:02.637977Z",
     "shell.execute_reply": "2024-01-31T18:51:02.637152Z"
    },
    "papermill": {
     "duration": 0.025434,
     "end_time": "2024-01-31T18:51:02.640235",
     "exception": false,
     "start_time": "2024-01-31T18:51:02.614801",
     "status": "completed"
    },
    "tags": []
   },
   "outputs": [
    {
     "data": {
      "text/html": [
       "<div>\n",
       "<style scoped>\n",
       "    .dataframe tbody tr th:only-of-type {\n",
       "        vertical-align: middle;\n",
       "    }\n",
       "\n",
       "    .dataframe tbody tr th {\n",
       "        vertical-align: top;\n",
       "    }\n",
       "\n",
       "    .dataframe thead th {\n",
       "        text-align: right;\n",
       "    }\n",
       "</style>\n",
       "<table border=\"1\" class=\"dataframe\">\n",
       "  <thead>\n",
       "    <tr style=\"text-align: right;\">\n",
       "      <th></th>\n",
       "      <th>month_id</th>\n",
       "      <th>net_payment_count</th>\n",
       "    </tr>\n",
       "  </thead>\n",
       "  <tbody>\n",
       "    <tr>\n",
       "      <th>0</th>\n",
       "      <td>202001</td>\n",
       "      <td>775289</td>\n",
       "    </tr>\n",
       "    <tr>\n",
       "      <th>1</th>\n",
       "      <td>202002</td>\n",
       "      <td>759571</td>\n",
       "    </tr>\n",
       "    <tr>\n",
       "      <th>2</th>\n",
       "      <td>202003</td>\n",
       "      <td>784726</td>\n",
       "    </tr>\n",
       "    <tr>\n",
       "      <th>3</th>\n",
       "      <td>202004</td>\n",
       "      <td>906968</td>\n",
       "    </tr>\n",
       "    <tr>\n",
       "      <th>4</th>\n",
       "      <td>202005</td>\n",
       "      <td>1234374</td>\n",
       "    </tr>\n",
       "  </tbody>\n",
       "</table>\n",
       "</div>"
      ],
      "text/plain": [
       "   month_id  net_payment_count\n",
       "0    202001             775289\n",
       "1    202002             759571\n",
       "2    202003             784726\n",
       "3    202004             906968\n",
       "4    202005            1234374"
      ]
     },
     "execution_count": 12,
     "metadata": {},
     "output_type": "execute_result"
    }
   ],
   "source": [
    "train_t.head()"
   ]
  },
  {
   "cell_type": "code",
   "execution_count": 13,
   "id": "9831f826",
   "metadata": {
    "execution": {
     "iopub.execute_input": "2024-01-31T18:51:02.668264Z",
     "iopub.status.busy": "2024-01-31T18:51:02.667849Z",
     "iopub.status.idle": "2024-01-31T18:51:03.354117Z",
     "shell.execute_reply": "2024-01-31T18:51:03.353243Z"
    },
    "papermill": {
     "duration": 0.703918,
     "end_time": "2024-01-31T18:51:03.356888",
     "exception": false,
     "start_time": "2024-01-31T18:51:02.652970",
     "status": "completed"
    },
    "tags": []
   },
   "outputs": [
    {
     "data": {
      "image/png": "[encoded data removed]",
      "text/plain": [
       "<Figure size 1200x1000 with 1 Axes>"
      ]
     },
     "metadata": {},
     "output_type": "display_data"
    }
   ],
   "source": [
    "plt.figure(figsize=(12,10))\n",
    "sns.barplot(data=train_t,x='month_id',y='net_payment_count')\n",
    "plt.ylabel('total number of net payments')\n",
    "plt.xticks(rotation=90)\n",
    "plt.show()"
   ]
  },
  {
   "cell_type": "code",
   "execution_count": 14,
   "id": "bdbcc86f",
   "metadata": {
    "execution": {
     "iopub.execute_input": "2024-01-31T18:51:03.386248Z",
     "iopub.status.busy": "2024-01-31T18:51:03.385518Z",
     "iopub.status.idle": "2024-01-31T18:51:03.395788Z",
     "shell.execute_reply": "2024-01-31T18:51:03.394662Z"
    },
    "papermill": {
     "duration": 0.027711,
     "end_time": "2024-01-31T18:51:03.398448",
     "exception": false,
     "start_time": "2024-01-31T18:51:03.370737",
     "status": "completed"
    },
    "tags": []
   },
   "outputs": [],
   "source": [
    "train=train[['merchant_id','month_id','net_payment_count']]"
   ]
  },
  {
   "cell_type": "code",
   "execution_count": 15,
   "id": "d2d6dc6e",
   "metadata": {
    "execution": {
     "iopub.execute_input": "2024-01-31T18:51:03.428663Z",
     "iopub.status.busy": "2024-01-31T18:51:03.428245Z",
     "iopub.status.idle": "2024-01-31T18:51:03.439903Z",
     "shell.execute_reply": "2024-01-31T18:51:03.438732Z"
    },
    "papermill": {
     "duration": 0.029686,
     "end_time": "2024-01-31T18:51:03.442205",
     "exception": false,
     "start_time": "2024-01-31T18:51:03.412519",
     "status": "completed"
    },
    "tags": []
   },
   "outputs": [
    {
     "data": {
      "text/html": [
       "<div>\n",
       "<style scoped>\n",
       "    .dataframe tbody tr th:only-of-type {\n",
       "        vertical-align: middle;\n",
       "    }\n",
       "\n",
       "    .dataframe tbody tr th {\n",
       "        vertical-align: top;\n",
       "    }\n",
       "\n",
       "    .dataframe thead th {\n",
       "        text-align: right;\n",
       "    }\n",
       "</style>\n",
       "<table border=\"1\" class=\"dataframe\">\n",
       "  <thead>\n",
       "    <tr style=\"text-align: right;\">\n",
       "      <th></th>\n",
       "      <th>merchant_id</th>\n",
       "      <th>month_id</th>\n",
       "      <th>net_payment_count</th>\n",
       "    </tr>\n",
       "  </thead>\n",
       "  <tbody>\n",
       "    <tr>\n",
       "      <th>0</th>\n",
       "      <td>merchant_43992</td>\n",
       "      <td>202307</td>\n",
       "      <td>15106</td>\n",
       "    </tr>\n",
       "    <tr>\n",
       "      <th>1</th>\n",
       "      <td>merchant_43992</td>\n",
       "      <td>202301</td>\n",
       "      <td>16918</td>\n",
       "    </tr>\n",
       "    <tr>\n",
       "      <th>2</th>\n",
       "      <td>merchant_43992</td>\n",
       "      <td>202305</td>\n",
       "      <td>13452</td>\n",
       "    </tr>\n",
       "    <tr>\n",
       "      <th>3</th>\n",
       "      <td>merchant_43992</td>\n",
       "      <td>202308</td>\n",
       "      <td>16787</td>\n",
       "    </tr>\n",
       "    <tr>\n",
       "      <th>4</th>\n",
       "      <td>merchant_43992</td>\n",
       "      <td>202302</td>\n",
       "      <td>12428</td>\n",
       "    </tr>\n",
       "  </tbody>\n",
       "</table>\n",
       "</div>"
      ],
      "text/plain": [
       "      merchant_id  month_id  net_payment_count\n",
       "0  merchant_43992    202307              15106\n",
       "1  merchant_43992    202301              16918\n",
       "2  merchant_43992    202305              13452\n",
       "3  merchant_43992    202308              16787\n",
       "4  merchant_43992    202302              12428"
      ]
     },
     "execution_count": 15,
     "metadata": {},
     "output_type": "execute_result"
    }
   ],
   "source": [
    "train.head()"
   ]
  },
  {
   "cell_type": "markdown",
   "id": "12aacdac",
   "metadata": {
    "papermill": {
     "duration": 0.013235,
     "end_time": "2024-01-31T18:51:03.468874",
     "exception": false,
     "start_time": "2024-01-31T18:51:03.455639",
     "status": "completed"
    },
    "tags": []
   },
   "source": [
    "## Linear Regression Model "
   ]
  },
  {
   "cell_type": "code",
   "execution_count": 16,
   "id": "651141fe",
   "metadata": {
    "execution": {
     "iopub.execute_input": "2024-01-31T18:51:03.498431Z",
     "iopub.status.busy": "2024-01-31T18:51:03.497398Z",
     "iopub.status.idle": "2024-01-31T18:51:03.507872Z",
     "shell.execute_reply": "2024-01-31T18:51:03.506296Z"
    },
    "papermill": {
     "duration": 0.02811,
     "end_time": "2024-01-31T18:51:03.510665",
     "exception": false,
     "start_time": "2024-01-31T18:51:03.482555",
     "status": "completed"
    },
    "tags": []
   },
   "outputs": [],
   "source": [
    "def Linear_regression(merchantid,data,a):\n",
    "    data = data[data.merchant_id==merchantid]\n",
    "    x=data.iloc[:,1].values.reshape(-1,1)\n",
    "    y=data.iloc[:,2].values.reshape(-1,1)\n",
    "\n",
    "    \n",
    "\n",
    "    from sklearn.linear_model import LinearRegression\n",
    "    \n",
    "    # linear regression model\n",
    "    linear_reg = LinearRegression(random_state=a)\n",
    "    linear_reg.fit(x,y)\n",
    "    a=int(linear_reg.predict([[202310]]))\n",
    "    b=int(linear_reg.predict([[202311]]))\n",
    "    c=int(linear_reg.predict([[202312]]))\n",
    "    yeni_veri1 = '202310'+merchantid   \n",
    "    yeni_veri2 = '202311'+merchantid\n",
    "    yeni_veri3 = '202312'+merchantid\n",
    "    data={\"id\":[yeni_veri1,yeni_veri2,yeni_veri3],\"net_payment_count\":[a,b,c]}\n",
    "    result = pd.DataFrame(data)\n",
    "    return result\n",
    "    "
   ]
  },
  {
   "cell_type": "markdown",
   "id": "01054c56",
   "metadata": {
    "papermill": {
     "duration": 0.013484,
     "end_time": "2024-01-31T18:51:03.537968",
     "exception": false,
     "start_time": "2024-01-31T18:51:03.524484",
     "status": "completed"
    },
    "tags": []
   },
   "source": [
    "##  polynomial Regression Model"
   ]
  },
  {
   "cell_type": "code",
   "execution_count": 17,
   "id": "6773b179",
   "metadata": {
    "execution": {
     "iopub.execute_input": "2024-01-31T18:51:03.567454Z",
     "iopub.status.busy": "2024-01-31T18:51:03.567051Z",
     "iopub.status.idle": "2024-01-31T18:51:03.578056Z",
     "shell.execute_reply": "2024-01-31T18:51:03.576321Z"
    },
    "papermill": {
     "duration": 0.029071,
     "end_time": "2024-01-31T18:51:03.580695",
     "exception": false,
     "start_time": "2024-01-31T18:51:03.551624",
     "status": "completed"
    },
    "tags": []
   },
   "outputs": [],
   "source": [
    "def polynomial_regression(merchantid, data,a):\n",
    "    \n",
    "\n",
    "    data = data[data.merchant_id == merchantid]\n",
    "\n",
    "    x = data.iloc[:, 1].values.reshape(-1, 1)\n",
    "    y = data.iloc[:, 2].values.reshape(-1, 1)\n",
    "\n",
    "    from sklearn.preprocessing import PolynomialFeatures\n",
    "\n",
    "    polynomial_regression = PolynomialFeatures(degree=a)\n",
    "\n",
    "    x_polynomial = polynomial_regression.fit_transform(x)\n",
    "\n",
    "    from sklearn.linear_model import LinearRegression\n",
    "\n",
    "    linear_reg = LinearRegression()\n",
    "    linear_reg.fit(x_polynomial, y)\n",
    "\n",
    "    \n",
    "    a = int(linear_reg.predict(polynomial_regression.fit_transform([[202310]])))\n",
    "    b = int(linear_reg.predict(polynomial_regression.fit_transform([[202311]])))\n",
    "    c = int(linear_reg.predict(polynomial_regression.fit_transform([[202312]])))\n",
    "\n",
    "    yeni_veri1 = '202310' + merchantid\n",
    "    yeni_veri2 = '202311' + merchantid\n",
    "    yeni_veri3 = '202312' + merchantid\n",
    "\n",
    "    data = {\"id\": [yeni_veri1, yeni_veri2, yeni_veri3], \"net_payment_count\": [a, b, c]}\n",
    "    result = pd.DataFrame(data)\n",
    "    return result\n",
    "    "
   ]
  },
  {
   "cell_type": "markdown",
   "id": "2ff58245",
   "metadata": {
    "papermill": {
     "duration": 0.013852,
     "end_time": "2024-01-31T18:51:03.608376",
     "exception": false,
     "start_time": "2024-01-31T18:51:03.594524",
     "status": "completed"
    },
    "tags": []
   },
   "source": [
    "## Random Forest Regressor Model"
   ]
  },
  {
   "cell_type": "code",
   "execution_count": 18,
   "id": "4e3f0103",
   "metadata": {
    "execution": {
     "iopub.execute_input": "2024-01-31T18:51:03.638068Z",
     "iopub.status.busy": "2024-01-31T18:51:03.637373Z",
     "iopub.status.idle": "2024-01-31T18:51:03.647211Z",
     "shell.execute_reply": "2024-01-31T18:51:03.646158Z"
    },
    "papermill": {
     "duration": 0.027777,
     "end_time": "2024-01-31T18:51:03.649847",
     "exception": false,
     "start_time": "2024-01-31T18:51:03.622070",
     "status": "completed"
    },
    "tags": []
   },
   "outputs": [],
   "source": [
    "def RandomForest_Regressor(merchantid,data,a):\n",
    "    data = data[data.merchant_id==merchantid]\n",
    "    x=data.iloc[:,1].values.reshape(-1,1)\n",
    "    y = data.iloc[:, 2].values.ravel()\n",
    "\n",
    "    \n",
    "    from sklearn.ensemble import RandomForestRegressor\n",
    "\n",
    "    rf=RandomForestRegressor( n_estimators=1000,\n",
    "               max_depth=7,\n",
    "               n_jobs=-1,\n",
    "               random_state=a)\n",
    "\n",
    "    rf.fit(x,y)\n",
    "\n",
    "   \n",
    "    \n",
    "    a=int(rf.predict([[202310]]))\n",
    "    b=int(rf.predict([[202311]]))\n",
    "    c=int(rf.predict([[202312]]))\n",
    "    yeni_veri1 = '202310'+merchantid   \n",
    "    yeni_veri2 = '202311'+merchantid\n",
    "    yeni_veri3 = '202312'+merchantid\n",
    "    data={\"id\":[yeni_veri1,yeni_veri2,yeni_veri3],\"net_payment_count\":[a,b,c]}\n",
    "    result = pd.DataFrame(data)\n",
    "    return result"
   ]
  },
  {
   "cell_type": "markdown",
   "id": "6dd571d6",
   "metadata": {
    "papermill": {
     "duration": 0.013899,
     "end_time": "2024-01-31T18:51:03.677314",
     "exception": false,
     "start_time": "2024-01-31T18:51:03.663415",
     "status": "completed"
    },
    "tags": []
   },
   "source": [
    "## Decided Tree Regressor "
   ]
  },
  {
   "cell_type": "code",
   "execution_count": 19,
   "id": "3c6c471c",
   "metadata": {
    "execution": {
     "iopub.execute_input": "2024-01-31T18:51:03.708239Z",
     "iopub.status.busy": "2024-01-31T18:51:03.707813Z",
     "iopub.status.idle": "2024-01-31T18:51:03.718507Z",
     "shell.execute_reply": "2024-01-31T18:51:03.717421Z"
    },
    "papermill": {
     "duration": 0.029923,
     "end_time": "2024-01-31T18:51:03.721050",
     "exception": false,
     "start_time": "2024-01-31T18:51:03.691127",
     "status": "completed"
    },
    "tags": []
   },
   "outputs": [],
   "source": [
    "def DecidedTree_Regressor(merchantid,data):\n",
    "    data = data[data.merchant_id==merchantid]\n",
    "    x=data.iloc[:,1].values.reshape(-1,1)\n",
    "    y=data.iloc[:,2].values.reshape(-1,1)\n",
    "\n",
    "    \n",
    "    from sklearn.tree import DecisionTreeRegressor\n",
    "   \n",
    "    \n",
    "    tree_reg=DecisionTreeRegressor()\n",
    "      # get Boostrap aggregation ensemble regressor \n",
    "\n",
    "    tree_reg.fit(x,y)\n",
    "\n",
    "   \n",
    "    \n",
    "    a=int(tree_reg.predict([[202310]]))\n",
    "    b=int(tree_reg.predict([[202311]]))\n",
    "    c=int(tree_reg.predict([[202312]]))\n",
    "    yeni_veri1 = '202310'+merchantid   \n",
    "    yeni_veri2 = '202311'+merchantid\n",
    "    yeni_veri3 = '202312'+merchantid\n",
    "    data={\"id\":[yeni_veri1,yeni_veri2,yeni_veri3],\"net_payment_count\":[a,b,c]}\n",
    "    result = pd.DataFrame(data)\n",
    "    return result"
   ]
  },
  {
   "cell_type": "code",
   "execution_count": 20,
   "id": "f310e91e",
   "metadata": {
    "execution": {
     "iopub.execute_input": "2024-01-31T18:51:03.753186Z",
     "iopub.status.busy": "2024-01-31T18:51:03.752757Z",
     "iopub.status.idle": "2024-01-31T19:15:12.074750Z",
     "shell.execute_reply": "2024-01-31T19:15:12.073422Z"
    },
    "papermill": {
     "duration": 1448.341012,
     "end_time": "2024-01-31T19:15:12.078326",
     "exception": false,
     "start_time": "2024-01-31T18:51:03.737314",
     "status": "completed"
    },
    "tags": []
   },
   "outputs": [],
   "source": [
    "liste=[]\n",
    "for i in train.merchant_id.unique():\n",
    "    data = DecidedTree_Regressor(str(i),train)\n",
    "    liste.append(data)\n",
    "\n"
   ]
  },
  {
   "cell_type": "code",
   "execution_count": 21,
   "id": "b036288c",
   "metadata": {
    "execution": {
     "iopub.execute_input": "2024-01-31T19:15:12.109139Z",
     "iopub.status.busy": "2024-01-31T19:15:12.108180Z",
     "iopub.status.idle": "2024-01-31T19:15:15.235038Z",
     "shell.execute_reply": "2024-01-31T19:15:15.233804Z"
    },
    "papermill": {
     "duration": 3.14527,
     "end_time": "2024-01-31T19:15:15.238238",
     "exception": false,
     "start_time": "2024-01-31T19:15:12.092968",
     "status": "completed"
    },
    "tags": []
   },
   "outputs": [],
   "source": [
    "result = pd.concat(liste)"
   ]
  },
  {
   "cell_type": "code",
   "execution_count": 22,
   "id": "0c5094a9",
   "metadata": {
    "execution": {
     "iopub.execute_input": "2024-01-31T19:15:15.267821Z",
     "iopub.status.busy": "2024-01-31T19:15:15.267387Z",
     "iopub.status.idle": "2024-01-31T19:15:15.511374Z",
     "shell.execute_reply": "2024-01-31T19:15:15.509833Z"
    },
    "papermill": {
     "duration": 0.262049,
     "end_time": "2024-01-31T19:15:15.514211",
     "exception": false,
     "start_time": "2024-01-31T19:15:15.252162",
     "status": "completed"
    },
    "tags": []
   },
   "outputs": [],
   "source": [
    "result.to_csv(\"result.csv\",index=False)"
   ]
  }
 ],
 "metadata": {
  "kaggle": {
   "accelerator": "none",
   "dataSources": [
    {
     "databundleVersionId": 7547755,
     "sourceId": 67726,
     "sourceType": "competition"
    }
   ],
   "dockerImageVersionId": 30635,
   "isGpuEnabled": false,
   "isInternetEnabled": true,
   "language": "python",
   "sourceType": "notebook"
  },
  "kernelspec": {
   "display_name": "Python 3",
   "language": "python",
   "name": "python3"
  },
  "language_info": {
   "codemirror_mode": {
    "name": "ipython",
    "version": 3
   },
   "file_extension": ".py",
   "mimetype": "text/x-python",
   "name": "python",
   "nbconvert_exporter": "python",
   "pygments_lexer": "ipython3",
   "version": "3.10.12"
  },
  "papermill": {
   "default_parameters": {},
   "duration": 1466.131378,
   "end_time": "2024-01-31T19:15:16.655575",
   "environment_variables": {},
   "exception": null,
   "input_path": "__notebook__.ipynb",
   "output_path": "__notebook__.ipynb",
   "parameters": {},
   "start_time": "2024-01-31T18:50:50.524197",
   "version": "2.4.0"
  }
 },
 "nbformat": 4,
 "nbformat_minor": 5
}
