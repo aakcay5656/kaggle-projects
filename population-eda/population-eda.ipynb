{
 "cells": [
  {
   "cell_type": "code",
   "execution_count": 1,
   "id": "0fb0cc38",
   "metadata": {
    "_cell_guid": "b1076dfc-b9ad-4769-8c92-a6c4dae69d19",
    "_uuid": "8f2839f25d086af736a60e9eeb907d3b93b6e0e5",
    "execution": {
     "iopub.execute_input": "2022-07-09T23:25:55.050359Z",
     "iopub.status.busy": "2022-07-09T23:25:55.049928Z",
     "iopub.status.idle": "2022-07-09T23:25:56.331670Z",
     "shell.execute_reply": "2022-07-09T23:25:56.330456Z"
    },
    "papermill": {
     "duration": 1.301614,
     "end_time": "2022-07-09T23:25:56.334637",
     "exception": false,
     "start_time": "2022-07-09T23:25:55.033023",
     "status": "completed"
    },
    "tags": []
   },
   "outputs": [],
   "source": [
    "import numpy as np\n",
    "import pandas as pd\n",
    "import matplotlib.pyplot as plt\n",
    "import seaborn as sns\n"
   ]
  },
  {
   "cell_type": "markdown",
   "id": "260343b4",
   "metadata": {
    "papermill": {
     "duration": 0.012994,
     "end_time": "2022-07-09T23:25:56.361228",
     "exception": false,
     "start_time": "2022-07-09T23:25:56.348234",
     "status": "completed"
    },
    "tags": []
   },
   "source": [
    "1. [Load and Check Data](#1)\n",
    "1. [Variable Description](#2)\n",
    "1. [Basic Data Analysis](#3)\n",
    "1. [Data cleaning](#4)\n",
    "1. [Data Visualization](#5)\n",
    "    1. [Politician](#6)\n",
    "    1. [Serieal killer](#7)"
   ]
  },
  {
   "cell_type": "markdown",
   "id": "9a38079c",
   "metadata": {
    "papermill": {
     "duration": 0.01287,
     "end_time": "2022-07-09T23:25:56.387521",
     "exception": false,
     "start_time": "2022-07-09T23:25:56.374651",
     "status": "completed"
    },
    "tags": []
   },
   "source": [
    "<a id=\"1\" ></a><br>\n",
    "# Load and Check Data"
   ]
  },
  {
   "cell_type": "code",
   "execution_count": 2,
   "id": "6faf7218",
   "metadata": {
    "execution": {
     "iopub.execute_input": "2022-07-09T23:25:56.417942Z",
     "iopub.status.busy": "2022-07-09T23:25:56.417142Z",
     "iopub.status.idle": "2022-07-09T23:26:01.535694Z",
     "shell.execute_reply": "2022-07-09T23:26:01.534513Z"
    },
    "papermill": {
     "duration": 5.137609,
     "end_time": "2022-07-09T23:26:01.538465",
     "exception": false,
     "start_time": "2022-07-09T23:25:56.400856",
     "status": "completed"
    },
    "tags": []
   },
   "outputs": [],
   "source": [
    "Data=pd.read_csv('../input/age-dataset/AgeDataset-V1.csv')\n"
   ]
  },
  {
   "cell_type": "code",
   "execution_count": 3,
   "id": "dbccfbbd",
   "metadata": {
    "execution": {
     "iopub.execute_input": "2022-07-09T23:26:01.567865Z",
     "iopub.status.busy": "2022-07-09T23:26:01.567441Z",
     "iopub.status.idle": "2022-07-09T23:26:01.653839Z",
     "shell.execute_reply": "2022-07-09T23:26:01.652617Z"
    },
    "papermill": {
     "duration": 0.105236,
     "end_time": "2022-07-09T23:26:01.657566",
     "exception": false,
     "start_time": "2022-07-09T23:26:01.552330",
     "status": "completed"
    },
    "tags": []
   },
   "outputs": [
    {
     "data": {
      "text/html": [
       "<div>\n",
       "<style scoped>\n",
       "    .dataframe tbody tr th:only-of-type {\n",
       "        vertical-align: middle;\n",
       "    }\n",
       "\n",
       "    .dataframe tbody tr th {\n",
       "        vertical-align: top;\n",
       "    }\n",
       "\n",
       "    .dataframe thead th {\n",
       "        text-align: right;\n",
       "    }\n",
       "</style>\n",
       "<table border=\"1\" class=\"dataframe\">\n",
       "  <thead>\n",
       "    <tr style=\"text-align: right;\">\n",
       "      <th></th>\n",
       "      <th>Birth year</th>\n",
       "      <th>Death year</th>\n",
       "      <th>Age of death</th>\n",
       "    </tr>\n",
       "  </thead>\n",
       "  <tbody>\n",
       "    <tr>\n",
       "      <th>Birth year</th>\n",
       "      <td>1.000000</td>\n",
       "      <td>0.994152</td>\n",
       "      <td>0.172205</td>\n",
       "    </tr>\n",
       "    <tr>\n",
       "      <th>Death year</th>\n",
       "      <td>0.994152</td>\n",
       "      <td>1.000000</td>\n",
       "      <td>0.277575</td>\n",
       "    </tr>\n",
       "    <tr>\n",
       "      <th>Age of death</th>\n",
       "      <td>0.172205</td>\n",
       "      <td>0.277575</td>\n",
       "      <td>1.000000</td>\n",
       "    </tr>\n",
       "  </tbody>\n",
       "</table>\n",
       "</div>"
      ],
      "text/plain": [
       "              Birth year  Death year  Age of death\n",
       "Birth year      1.000000    0.994152      0.172205\n",
       "Death year      0.994152    1.000000      0.277575\n",
       "Age of death    0.172205    0.277575      1.000000"
      ]
     },
     "execution_count": 3,
     "metadata": {},
     "output_type": "execute_result"
    }
   ],
   "source": [
    "Data.corr()"
   ]
  },
  {
   "cell_type": "code",
   "execution_count": 4,
   "id": "bb76e183",
   "metadata": {
    "execution": {
     "iopub.execute_input": "2022-07-09T23:26:01.688840Z",
     "iopub.status.busy": "2022-07-09T23:26:01.687620Z",
     "iopub.status.idle": "2022-07-09T23:26:01.705229Z",
     "shell.execute_reply": "2022-07-09T23:26:01.703974Z"
    },
    "papermill": {
     "duration": 0.035923,
     "end_time": "2022-07-09T23:26:01.707990",
     "exception": false,
     "start_time": "2022-07-09T23:26:01.672067",
     "status": "completed"
    },
    "tags": []
   },
   "outputs": [
    {
     "data": {
      "text/html": [
       "<div>\n",
       "<style scoped>\n",
       "    .dataframe tbody tr th:only-of-type {\n",
       "        vertical-align: middle;\n",
       "    }\n",
       "\n",
       "    .dataframe tbody tr th {\n",
       "        vertical-align: top;\n",
       "    }\n",
       "\n",
       "    .dataframe thead th {\n",
       "        text-align: right;\n",
       "    }\n",
       "</style>\n",
       "<table border=\"1\" class=\"dataframe\">\n",
       "  <thead>\n",
       "    <tr style=\"text-align: right;\">\n",
       "      <th></th>\n",
       "      <th>Id</th>\n",
       "      <th>Name</th>\n",
       "      <th>Short description</th>\n",
       "      <th>Gender</th>\n",
       "      <th>Country</th>\n",
       "      <th>Occupation</th>\n",
       "      <th>Birth year</th>\n",
       "      <th>Death year</th>\n",
       "      <th>Manner of death</th>\n",
       "      <th>Age of death</th>\n",
       "    </tr>\n",
       "  </thead>\n",
       "  <tbody>\n",
       "    <tr>\n",
       "      <th>0</th>\n",
       "      <td>Q23</td>\n",
       "      <td>George Washington</td>\n",
       "      <td>1st president of the United States (1732–1799)</td>\n",
       "      <td>Male</td>\n",
       "      <td>United States of America; Kingdom of Great Bri...</td>\n",
       "      <td>Politician</td>\n",
       "      <td>1732</td>\n",
       "      <td>1799.0</td>\n",
       "      <td>natural causes</td>\n",
       "      <td>67.0</td>\n",
       "    </tr>\n",
       "    <tr>\n",
       "      <th>1</th>\n",
       "      <td>Q42</td>\n",
       "      <td>Douglas Adams</td>\n",
       "      <td>English writer and humorist</td>\n",
       "      <td>Male</td>\n",
       "      <td>United Kingdom</td>\n",
       "      <td>Artist</td>\n",
       "      <td>1952</td>\n",
       "      <td>2001.0</td>\n",
       "      <td>natural causes</td>\n",
       "      <td>49.0</td>\n",
       "    </tr>\n",
       "    <tr>\n",
       "      <th>2</th>\n",
       "      <td>Q91</td>\n",
       "      <td>Abraham Lincoln</td>\n",
       "      <td>16th president of the United States (1809-1865)</td>\n",
       "      <td>Male</td>\n",
       "      <td>United States of America</td>\n",
       "      <td>Politician</td>\n",
       "      <td>1809</td>\n",
       "      <td>1865.0</td>\n",
       "      <td>homicide</td>\n",
       "      <td>56.0</td>\n",
       "    </tr>\n",
       "    <tr>\n",
       "      <th>3</th>\n",
       "      <td>Q254</td>\n",
       "      <td>Wolfgang Amadeus Mozart</td>\n",
       "      <td>Austrian composer of the Classical period</td>\n",
       "      <td>Male</td>\n",
       "      <td>Archduchy of Austria; Archbishopric of Salzburg</td>\n",
       "      <td>Artist</td>\n",
       "      <td>1756</td>\n",
       "      <td>1791.0</td>\n",
       "      <td>NaN</td>\n",
       "      <td>35.0</td>\n",
       "    </tr>\n",
       "    <tr>\n",
       "      <th>4</th>\n",
       "      <td>Q255</td>\n",
       "      <td>Ludwig van Beethoven</td>\n",
       "      <td>German classical and romantic composer</td>\n",
       "      <td>Male</td>\n",
       "      <td>Holy Roman Empire; Austrian Empire</td>\n",
       "      <td>Artist</td>\n",
       "      <td>1770</td>\n",
       "      <td>1827.0</td>\n",
       "      <td>NaN</td>\n",
       "      <td>57.0</td>\n",
       "    </tr>\n",
       "  </tbody>\n",
       "</table>\n",
       "</div>"
      ],
      "text/plain": [
       "     Id                     Name  \\\n",
       "0   Q23        George Washington   \n",
       "1   Q42            Douglas Adams   \n",
       "2   Q91          Abraham Lincoln   \n",
       "3  Q254  Wolfgang Amadeus Mozart   \n",
       "4  Q255     Ludwig van Beethoven   \n",
       "\n",
       "                                 Short description Gender  \\\n",
       "0   1st president of the United States (1732–1799)   Male   \n",
       "1                      English writer and humorist   Male   \n",
       "2  16th president of the United States (1809-1865)   Male   \n",
       "3        Austrian composer of the Classical period   Male   \n",
       "4           German classical and romantic composer   Male   \n",
       "\n",
       "                                             Country  Occupation  Birth year  \\\n",
       "0  United States of America; Kingdom of Great Bri...  Politician        1732   \n",
       "1                                     United Kingdom      Artist        1952   \n",
       "2                           United States of America  Politician        1809   \n",
       "3    Archduchy of Austria; Archbishopric of Salzburg      Artist        1756   \n",
       "4                 Holy Roman Empire; Austrian Empire      Artist        1770   \n",
       "\n",
       "   Death year Manner of death  Age of death  \n",
       "0      1799.0  natural causes          67.0  \n",
       "1      2001.0  natural causes          49.0  \n",
       "2      1865.0        homicide          56.0  \n",
       "3      1791.0             NaN          35.0  \n",
       "4      1827.0             NaN          57.0  "
      ]
     },
     "execution_count": 4,
     "metadata": {},
     "output_type": "execute_result"
    }
   ],
   "source": [
    "Data.head()"
   ]
  },
  {
   "cell_type": "code",
   "execution_count": 5,
   "id": "a84ba35a",
   "metadata": {
    "execution": {
     "iopub.execute_input": "2022-07-09T23:26:01.738854Z",
     "iopub.status.busy": "2022-07-09T23:26:01.737693Z",
     "iopub.status.idle": "2022-07-09T23:26:01.745640Z",
     "shell.execute_reply": "2022-07-09T23:26:01.744481Z"
    },
    "papermill": {
     "duration": 0.025895,
     "end_time": "2022-07-09T23:26:01.748129",
     "exception": false,
     "start_time": "2022-07-09T23:26:01.722234",
     "status": "completed"
    },
    "tags": []
   },
   "outputs": [
    {
     "data": {
      "text/plain": [
       "Index(['Id', 'Name', 'Short description', 'Gender', 'Country', 'Occupation',\n",
       "       'Birth year', 'Death year', 'Manner of death', 'Age of death'],\n",
       "      dtype='object')"
      ]
     },
     "execution_count": 5,
     "metadata": {},
     "output_type": "execute_result"
    }
   ],
   "source": [
    "Data.columns"
   ]
  },
  {
   "cell_type": "code",
   "execution_count": 6,
   "id": "3e5c8462",
   "metadata": {
    "execution": {
     "iopub.execute_input": "2022-07-09T23:26:01.778568Z",
     "iopub.status.busy": "2022-07-09T23:26:01.778159Z",
     "iopub.status.idle": "2022-07-09T23:26:01.921484Z",
     "shell.execute_reply": "2022-07-09T23:26:01.920506Z"
    },
    "papermill": {
     "duration": 0.161089,
     "end_time": "2022-07-09T23:26:01.923856",
     "exception": false,
     "start_time": "2022-07-09T23:26:01.762767",
     "status": "completed"
    },
    "tags": []
   },
   "outputs": [
    {
     "data": {
      "text/plain": [
       "array(['Male', 'Female', nan, 'Transgender Female', 'Intersex',\n",
       "       'Transgender Person; Intersex; Transgender Male', 'Non-Binary',\n",
       "       'Eunuch; Male', 'Transgender Male', 'Eunuch', 'Intersex; Male',\n",
       "       'Transgender Female; Female', 'Transgender Female; Male',\n",
       "       'Female; Male', 'Intersex; Transgender Male',\n",
       "       'Transgender Male; Female', 'Transgender Male; Male',\n",
       "       'Intersex; Female', 'Transgender Female; Intersex',\n",
       "       'Female; Female', 'Non-Binary; Intersex'], dtype=object)"
      ]
     },
     "execution_count": 6,
     "metadata": {},
     "output_type": "execute_result"
    }
   ],
   "source": [
    "Data['Gender'].unique()\n"
   ]
  },
  {
   "cell_type": "code",
   "execution_count": 7,
   "id": "ca1e8a05",
   "metadata": {
    "execution": {
     "iopub.execute_input": "2022-07-09T23:26:01.954071Z",
     "iopub.status.busy": "2022-07-09T23:26:01.953438Z",
     "iopub.status.idle": "2022-07-09T23:26:02.126135Z",
     "shell.execute_reply": "2022-07-09T23:26:02.124935Z"
    },
    "papermill": {
     "duration": 0.190767,
     "end_time": "2022-07-09T23:26:02.128776",
     "exception": false,
     "start_time": "2022-07-09T23:26:01.938009",
     "status": "completed"
    },
    "tags": []
   },
   "outputs": [
    {
     "data": {
      "text/plain": [
       "['Politician',\n",
       " 'Artist',\n",
       " 'Egyptologist',\n",
       " 'Astronomer',\n",
       " 'Ruler',\n",
       " 'Statesperson',\n",
       " 'Regent',\n",
       " 'Athlete',\n",
       " 'Researcher',\n",
       " 'Official; french resistance fighter',\n",
       " 'Sovereign',\n",
       " 'Playwright',\n",
       " 'Military personnel',\n",
       " 'Philosopher',\n",
       " 'Businessperson',\n",
       " 'Game designer; role-playing game designer',\n",
       " 'Explorer',\n",
       " 'Architect',\n",
       " 'Teacher',\n",
       " 'Activist',\n",
       " 'Aristocrat',\n",
       " 'Racing automobile driver',\n",
       " 'Entrepreneur',\n",
       " 'Motorcycle racer; formula one driver',\n",
       " 'Formula one driver',\n",
       " 'Journalist',\n",
       " 'Geographer; explorer',\n",
       " 'Monarch',\n",
       " 'Business executive',\n",
       " 'Racing automobile driver; formula one driver',\n",
       " 'Engineer',\n",
       " 'Farmer; formula one driver',\n",
       " 'Author',\n",
       " 'Hammer thrower',\n",
       " nan,\n",
       " 'Religious figure',\n",
       " 'Resistance fighter',\n",
       " 'Sailor',\n",
       " 'Monk; ascetic',\n",
       " 'Condottiero',\n",
       " 'Puppeteer',\n",
       " 'Privateer; pirate',\n",
       " 'Navigator; explorer',\n",
       " 'Sailor; explorer',\n",
       " 'Cartographer; naval officer; explorer; seafarer',\n",
       " 'Conquistador; governor; explorer',\n",
       " 'Homekeeper',\n",
       " 'Student',\n",
       " 'Official',\n",
       " 'Nutritionist',\n",
       " 'Molecular biologist',\n",
       " 'Ruler; aristocrat',\n",
       " 'Monarch; ruler; aristocrat',\n",
       " 'Khan; regent',\n",
       " 'Khan',\n",
       " 'Drawer',\n",
       " 'Art collector',\n",
       " 'Professional wrestler',\n",
       " 'Privateer; merchant',\n",
       " 'Professional wrestler; amateur wrestler',\n",
       " 'Warrior',\n",
       " 'Statesperson; ruler',\n",
       " 'Cinematographer',\n",
       " 'Neurologist; psychoanalyst',\n",
       " 'Socialite; environmentalist; philanthropist; humanitarian',\n",
       " 'Literary critic; novelist',\n",
       " 'Calligrapher',\n",
       " 'Judge',\n",
       " 'Librarian',\n",
       " 'Correspondent',\n",
       " 'Sociologist; philosopher',\n",
       " 'Translator',\n",
       " 'Esperantist',\n",
       " 'Gynaecologist',\n",
       " 'Clarinetist',\n",
       " 'Official; ruler',\n",
       " 'Drummer',\n",
       " 'Warrior; aristocrat',\n",
       " 'Physician',\n",
       " 'Air force officer',\n",
       " 'Nun; matron',\n",
       " 'Theater director',\n",
       " 'Butcher; serial killer',\n",
       " 'Lay brother',\n",
       " 'Banker',\n",
       " 'Inventor',\n",
       " 'Trade unionist',\n",
       " 'Deacon',\n",
       " 'Ornithologist',\n",
       " 'Malacologist',\n",
       " 'Esperantist; biologist; microbiologist',\n",
       " 'Esperantist; lexicographer; music pedagogue',\n",
       " 'Patient',\n",
       " 'Merchant',\n",
       " 'Film producer',\n",
       " 'Saint; nun',\n",
       " 'Publisher',\n",
       " 'Monarch; calligrapher',\n",
       " 'Executioner',\n",
       " 'Dentist',\n",
       " 'Pastor',\n",
       " 'Autobiographer',\n",
       " 'Esperantist; lexicographer; esperantologist',\n",
       " 'Paleontologist; pathologist',\n",
       " 'Esperantist; director of uea',\n",
       " 'Jester; lady-in-waiting',\n",
       " 'Jurist',\n",
       " 'Laborer',\n",
       " 'Flying ace; air force officer',\n",
       " 'Presbyter',\n",
       " 'Archivist',\n",
       " 'Bhikkhu',\n",
       " 'Astronaut; test pilot; naval officer',\n",
       " 'Feudatory',\n",
       " 'Fencer',\n",
       " 'Rabbi',\n",
       " 'Amateur wrestler',\n",
       " 'Karateka',\n",
       " 'Preacher',\n",
       " 'Duke',\n",
       " 'Religious leader',\n",
       " 'Jockey',\n",
       " 'Psychologist',\n",
       " 'Industrialist; racing automobile driver',\n",
       " 'Ballet dancer; ballet master; choreographer',\n",
       " 'Hurdler',\n",
       " 'Human rights activist; peace activist',\n",
       " 'Homelessness',\n",
       " 'Nun; christians jehovah’s witnesses',\n",
       " 'Sprinter',\n",
       " 'Paleontologist; ichthyologist; herpetologist',\n",
       " 'Naval officer',\n",
       " 'Anarcho-syndicalist',\n",
       " 'Anthropologist',\n",
       " 'Watchmaker; master craftsman',\n",
       " 'Watchmaker',\n",
       " 'Art collector; patron of the arts',\n",
       " 'Paleontologist',\n",
       " 'Telegraphist; trade unionist',\n",
       " 'Muezzin',\n",
       " 'Stand-up comedian',\n",
       " 'Tribal chief',\n",
       " 'Serial killer; criminal',\n",
       " 'Record producer; chief executive officer; rapper; drug trafficker',\n",
       " 'Merchant; nan',\n",
       " 'Playwright; author; novelist',\n",
       " 'Geographer',\n",
       " 'Prophet; hermit',\n",
       " 'Weightlifter',\n",
       " 'Psychiatrist; psychologist; psychotherapist; essayist',\n",
       " 'Alpine skier',\n",
       " 'Tax collector',\n",
       " 'Caudillo',\n",
       " 'Margrave',\n",
       " 'Public figure; civil rights advocate; human rights activist; autobiographer',\n",
       " 'Merchant; wholesale merchant',\n",
       " 'Conductor',\n",
       " 'Cyberneticist',\n",
       " 'Pastry chef',\n",
       " 'Radio personality',\n",
       " 'Butcher; restaurateur',\n",
       " 'Clarinetist; television presenter; radio personality; saxophonist',\n",
       " 'Mountain guide',\n",
       " 'Fisher',\n",
       " 'Long-distance runner; marathon runner',\n",
       " 'Collector',\n",
       " 'Art dealer; art collector',\n",
       " 'Cowboy; serial killer; gambler; ranch hand',\n",
       " 'Conquistador; explorer',\n",
       " 'Astronomer; draper; cartographer; philosopher; explorer; cosmographer',\n",
       " 'Art collector; dignitary',\n",
       " 'Curator; sociologist; anthropologist',\n",
       " 'Sinologist',\n",
       " 'Philanthropist',\n",
       " 'Astronomer; explorer',\n",
       " 'Hatter',\n",
       " 'Farmer; resistance fighter; conscientious objection',\n",
       " 'Coppersmith',\n",
       " 'Luthier; musical instrument maker',\n",
       " 'Nurse',\n",
       " 'Restaurateur',\n",
       " 'Robber',\n",
       " 'Christians jehovah’s witnesses',\n",
       " 'Lawyer',\n",
       " 'Rower',\n",
       " 'Mufti',\n",
       " 'Competitive diver; amateur wrestler',\n",
       " 'Violinist',\n",
       " 'Socialite; consort',\n",
       " 'Merchant; cartographer; explorer',\n",
       " 'Muhaddith; mufassir',\n",
       " 'Worker; spree killer',\n",
       " 'Intelligence officer',\n",
       " 'Organizer; trade unionist',\n",
       " 'Trade unionist; social reformer',\n",
       " 'Astronomer; ophthalmologist',\n",
       " 'Geographer; cartographer; hydrographer',\n",
       " 'Nanny',\n",
       " 'Comedian; television presenter; radio personality',\n",
       " 'Consort',\n",
       " 'Lady-in-waiting',\n",
       " 'Carpenter; preacher; social activist; nan',\n",
       " 'Knight',\n",
       " 'Farmer; inventor; feminist',\n",
       " 'Literary editor',\n",
       " 'Esperantist; lexicographer',\n",
       " 'Patron of the arts',\n",
       " 'Primate; art collector',\n",
       " 'Breeder',\n",
       " 'Officer of the french navy; explorer',\n",
       " 'Nun',\n",
       " 'Music critic; music theorist',\n",
       " 'Cartographer; explorer',\n",
       " 'Esperantist; classical scholar',\n",
       " 'Pharmacologist',\n",
       " 'Resistance fighter; submariner; intelligence officer; naval officer',\n",
       " 'Cartographer; cosmographer',\n",
       " 'Motorcycle racer; racing automobile driver',\n",
       " 'Regent; aristocrat',\n",
       " 'Student; peace activist',\n",
       " 'Bodybuilder',\n",
       " 'Chairperson; organizational founder',\n",
       " 'Nurse; diarist',\n",
       " 'Biologist; physiologist; pathologist',\n",
       " 'Resistance fighter; pacifist',\n",
       " 'Surgeon; biologist',\n",
       " 'Conductor; oboist',\n",
       " 'Torturer; concentration camp guard',\n",
       " 'Student; resistance fighter',\n",
       " 'Salesperson; television presenter; television personality',\n",
       " 'Ballet dancer',\n",
       " 'Geodesist',\n",
       " 'Biologist; statistician',\n",
       " 'Freediver',\n",
       " 'Ornithologist; diarist',\n",
       " 'Companion',\n",
       " 'Serial killer; criminal; sexual predator',\n",
       " 'Flying ace',\n",
       " 'Naturalist; merchant; biologist; ornithologist; ethnologist; anthropologist; explorer',\n",
       " 'Psychologist; philosopher',\n",
       " 'Monarch; art collector',\n",
       " 'Psychiatrist; psychologist; psychotherapist',\n",
       " 'Jurist; musicologist; music theorist',\n",
       " 'Conductor; music director',\n",
       " 'Pedagogue',\n",
       " 'Conductor; concertmaster',\n",
       " 'Torturer',\n",
       " 'Conductor; pianist',\n",
       " 'Watchmaker; inventor',\n",
       " 'Monk',\n",
       " 'Regent; explorer',\n",
       " 'Jurist; resistance fighter',\n",
       " 'Jurist; lieutenant colonel',\n",
       " 'Sociologist; anthropologist',\n",
       " 'Monk; sovereign',\n",
       " 'Playwright; author; dramaturge',\n",
       " 'Criminal',\n",
       " 'Piano maker; organ builder',\n",
       " 'Advocate; resistance fighter',\n",
       " 'Javelin thrower',\n",
       " 'Serial killer',\n",
       " 'Playboy playmate; glamour model; model',\n",
       " 'Ornithologist; explorer',\n",
       " 'Sovereign; aristocrat; salonnière',\n",
       " 'Secretary',\n",
       " 'General officer',\n",
       " 'Zookeeper',\n",
       " 'Show jumper',\n",
       " 'Naturalist; ornithologist; herpetologist',\n",
       " 'Psychic',\n",
       " 'Submariner',\n",
       " 'Marineoffizier',\n",
       " 'Lady-in-waiting; art collector; patron of the arts',\n",
       " 'Typographer',\n",
       " 'Ruler; art collector',\n",
       " 'Philologist',\n",
       " 'Geographer; cartographer',\n",
       " 'Banker; explorer',\n",
       " 'Serial killer; murderer; criminal',\n",
       " 'Cartographer',\n",
       " 'Manual worker',\n",
       " 'Rock climber',\n",
       " 'Psychiatrist; psychotherapist',\n",
       " 'Salonnière',\n",
       " 'Circus performer',\n",
       " 'Weightlifter; amateur wrestler',\n",
       " 'Lepidopterist',\n",
       " 'Dominican friar',\n",
       " 'Farmer; serial killer',\n",
       " 'Psychiatrist; psychoanalyst',\n",
       " 'Conductor; music pedagogue',\n",
       " 'Philatelist',\n",
       " 'Bobsledder',\n",
       " 'Governess',\n",
       " 'Nurse; torturer; concentration camp guard',\n",
       " 'Psychoanalyst',\n",
       " 'Joiner',\n",
       " 'Motorcycle racer',\n",
       " 'Mercenary',\n",
       " 'Ruler; feudatory',\n",
       " 'Scenographer; production designer',\n",
       " 'Female guards in nazi concentration camps',\n",
       " 'Philanthropist; organizational founder',\n",
       " 'Pastor; resistance fighter',\n",
       " 'Canon',\n",
       " 'Watchmaker; aristocrat',\n",
       " 'Female guards in nazi concentration camps; concentration camp guard',\n",
       " 'Disc jockey',\n",
       " 'Brewer',\n",
       " 'Cartographer; statistician; autobiographer',\n",
       " 'Pianist; musicologist; music pedagogue',\n",
       " 'Naturalist; ornithologist; explorer',\n",
       " 'Partisan',\n",
       " 'Chairperson; banker; art collector',\n",
       " 'Pianist; musicologist',\n",
       " 'Contributing editor; music critic; musicologist',\n",
       " 'Conductor; director',\n",
       " 'Police officer; torturer',\n",
       " 'Musicologist',\n",
       " 'Mountaineer',\n",
       " 'Psychiatrist; neurologist',\n",
       " 'Waiter; restaurateur',\n",
       " 'Vicar; vicar; administrator intercalaris; parson; nan',\n",
       " 'Rabbi; banker',\n",
       " 'Pasha',\n",
       " 'Royal consort',\n",
       " 'Coxswain',\n",
       " 'Pianist; music pedagogue',\n",
       " 'Chef',\n",
       " 'Christian mystic',\n",
       " 'Assassin',\n",
       " 'Sociologist; anthropologist; racial theorist',\n",
       " 'Fighter pilot',\n",
       " 'Jurist; philosopher',\n",
       " 'Gardener',\n",
       " 'Orientalist; hebraist',\n",
       " 'Spy',\n",
       " 'Carpenter; joiner',\n",
       " 'Student; murderer; criminal',\n",
       " 'Banker; donor',\n",
       " 'Astronomer; meteorologist',\n",
       " 'Rabbi; christians jehovah’s witnesses',\n",
       " 'Organ builder; musical instrument maker',\n",
       " 'Psychiatrist; psychologist',\n",
       " 'Official; racing automobile driver',\n",
       " 'Nun; diarist',\n",
       " 'Resistance fighter; trade unionist',\n",
       " 'Civil servant',\n",
       " 'Lyricist; resistance fighter',\n",
       " 'Anthropologist; explorer; racial theorist',\n",
       " 'Librarian; sociologist; anthropologist',\n",
       " 'Count',\n",
       " 'Astrologer; surgeon',\n",
       " 'Interpreter',\n",
       " 'War chief',\n",
       " 'Police officer',\n",
       " 'Industrialist',\n",
       " 'Naturalist; ornithologist; cartographer; explorer',\n",
       " 'Brother',\n",
       " 'Serial killer; truck driver',\n",
       " 'Designer',\n",
       " 'Imam; preacher',\n",
       " 'Astronomer; cartographer',\n",
       " 'Cabinetmaker; master craftsman; brazier',\n",
       " 'Author; dressage rider',\n",
       " 'Spree killer',\n",
       " 'Piano maker; musical instrument maker',\n",
       " 'Paratrooper',\n",
       " 'Prison warden; torturer; concentration camp guard',\n",
       " 'Concertmaster; violinist; musicologist; music pedagogue',\n",
       " 'Psychiatrist; psychoanalyst; essayist',\n",
       " 'Monk; beekeeper',\n",
       " 'Inventor; musical instrument maker',\n",
       " 'Cabinetmaker; master craftsman; marqueteur',\n",
       " 'Housekeeper',\n",
       " 'Gynaecologist; ophthalmologist',\n",
       " 'Resistance fighter; oberstleutnant',\n",
       " 'Mechanic',\n",
       " 'Fighter pilot; racing automobile driver',\n",
       " 'Field marshal',\n",
       " 'Psychiatrist; psychoanalyst; philosopher',\n",
       " 'Forensic psychiatrist',\n",
       " 'Go professional',\n",
       " 'Nurse; concentration camp guard',\n",
       " 'Editor',\n",
       " 'Banker; ornithologist',\n",
       " 'Concentration camp guard',\n",
       " 'Resistance fighter; aristocrat',\n",
       " 'Police officer; serial killer',\n",
       " 'Farmer; holocaust denier',\n",
       " 'Geographer; statistician',\n",
       " 'Organ builder',\n",
       " 'Surgeon',\n",
       " 'Nurse; nun',\n",
       " 'Inventor; designer',\n",
       " 'Prison officer',\n",
       " 'Scenographer; production designer; director',\n",
       " 'Sailor; resistance fighter',\n",
       " 'Numismatist',\n",
       " 'Gangster',\n",
       " 'Watercolourist',\n",
       " 'Resistance fighter; spy',\n",
       " 'Psychiatrist',\n",
       " 'Tailor',\n",
       " 'Astronomer; jurist',\n",
       " 'Carpenter',\n",
       " 'Animator; filmmaker',\n",
       " 'Submariner; marineoffizier',\n",
       " 'Electrician; concentration camp guard',\n",
       " 'Gynaecologist; anthropologist',\n",
       " 'Neurologist',\n",
       " 'Nurse; socialite',\n",
       " 'Musher',\n",
       " 'Jurist; police officer',\n",
       " 'Medievalist',\n",
       " 'Mistress of the robes',\n",
       " 'Librarian; sinologist',\n",
       " 'Resistance fighter; activist',\n",
       " 'Conscientious objection',\n",
       " 'Luger',\n",
       " 'Machinist; inventor',\n",
       " 'Salesperson; resistance fighter',\n",
       " 'Psychologist; physiologist',\n",
       " 'Pianist',\n",
       " 'Printer',\n",
       " 'Astrologer; geodesist',\n",
       " 'Astronomer; assyriologist',\n",
       " 'Mistress',\n",
       " 'Mystic; nun',\n",
       " 'Merchant; resistance fighter',\n",
       " 'Philosopher; civil libertarianism',\n",
       " 'Engraver; medallist',\n",
       " 'Astronomer; geodesist',\n",
       " 'Television director',\n",
       " 'Pedagogue; cartographer',\n",
       " 'Resistance fighter; social worker',\n",
       " 'Resistance fighter; tool and die maker',\n",
       " 'High school student',\n",
       " 'Copperplate engraver',\n",
       " 'Manager',\n",
       " 'Freestyle skier',\n",
       " 'Mistress; lady-in-waiting',\n",
       " 'Farmer',\n",
       " 'Farmworker; mystic',\n",
       " 'Mason',\n",
       " 'Literary critic; philosopher',\n",
       " 'Terrorist',\n",
       " 'Neurologist; neurosurgeon',\n",
       " 'University student; resistance fighter',\n",
       " 'Banker; philanthropist',\n",
       " 'Orientalist; explorer',\n",
       " 'Woodwind instrument maker; musical instrument maker',\n",
       " 'Inventor; forester',\n",
       " 'Astronomer; jurist; cartographer',\n",
       " 'Carpenter; joiner; resistance fighter',\n",
       " 'Merchant; explorer',\n",
       " 'Fencing master',\n",
       " 'Printer; bookseller',\n",
       " 'Designer; industrial designer',\n",
       " 'Lepidopterist; dipterologist',\n",
       " 'Electrician; resistance fighter',\n",
       " 'Comedian',\n",
       " 'Dog breeder',\n",
       " 'Geographer; ethnologist',\n",
       " 'Pastor; nurse',\n",
       " 'Midwife',\n",
       " 'Occultist',\n",
       " 'Intendant (government official)',\n",
       " 'Militant',\n",
       " 'Wood carver',\n",
       " 'Holocaust denier',\n",
       " 'Librarian; heraldist',\n",
       " 'Gunsmith; postage stamp designer',\n",
       " 'Hofmeister',\n",
       " 'Inventor; master builder',\n",
       " 'Chamberlain; field marshal',\n",
       " 'Medallist',\n",
       " 'Conductor; violinist',\n",
       " 'Machinist',\n",
       " 'Customs officer; beekeeper',\n",
       " 'Conductor; pianist; music director',\n",
       " 'Jurist; aristocrat',\n",
       " 'Astrologer; mentalist',\n",
       " 'Primate',\n",
       " 'Psychiatrist; psychologist; academic; psychoanalyst',\n",
       " 'Conductor; concertmaster; violinist',\n",
       " 'Psychiatrist; psychologist; psychoanalyst',\n",
       " 'Psychologist; psychoanalyst',\n",
       " 'Motorcycle racer; luger; bobsledder',\n",
       " 'Art collector; ophthalmologist',\n",
       " 'Alpine skier; ski instructor',\n",
       " 'Rabbi; rabbinic literature scholar',\n",
       " 'Police officer; lumberjack',\n",
       " 'Conductor; trumpeter',\n",
       " 'Rock climber; mountaineer',\n",
       " 'Art collector; explorer',\n",
       " 'Fashion designer; model',\n",
       " 'Gangster; procurer',\n",
       " 'Revolutionary',\n",
       " 'Mountain guide; explorer; autobiographer',\n",
       " 'Courtesan; exotic dancer; dancer; spy',\n",
       " 'Sprinter; long jumper; curler',\n",
       " 'Long-distance runner',\n",
       " 'Long-distance runner; middle-distance runner',\n",
       " 'Canoeist; kayaker',\n",
       " 'Psychologist; psychoanalyst; existential therapist',\n",
       " 'Mountain guide; mountaineer',\n",
       " 'Surgeon; neurologist; anatomist',\n",
       " 'Lepidopterist; biologist',\n",
       " 'Secretary; resistance fighter',\n",
       " 'Pathologist',\n",
       " 'Political activist',\n",
       " 'Strongwoman; circus performer',\n",
       " 'Horticulturist',\n",
       " 'Ophthalmologist',\n",
       " 'Biologist; bacteriologist',\n",
       " 'Psychiatrist; geneticist',\n",
       " 'Naturalist; malacologist',\n",
       " 'Veterinarian; rower',\n",
       " 'Merchant; art collector',\n",
       " 'Dermatologist',\n",
       " 'Statistician',\n",
       " 'Luger; bobsledder',\n",
       " 'Conductor; musicologist',\n",
       " 'Alpine skier; cross-country skier',\n",
       " 'Prostitute',\n",
       " 'Airman',\n",
       " 'Piano maker; organ builder; musical instrument maker',\n",
       " 'Pianist; musicologist; music theorist',\n",
       " 'Philosopher; indologist',\n",
       " 'Psychologist; anthropologist',\n",
       " 'Antiquarian seller',\n",
       " 'Navigator',\n",
       " 'Test pilot',\n",
       " 'Biologist',\n",
       " 'Physiologist; sexologist',\n",
       " 'Theater director; intendant (government official)',\n",
       " 'Psychologist; physiologist; statistician',\n",
       " 'Butcher',\n",
       " 'Anatomist',\n",
       " 'Psychiatrist; neurologist; pathologist',\n",
       " 'Business executive; racing automobile driver',\n",
       " 'Equestrian',\n",
       " 'Author; biographer',\n",
       " 'Watchmaker; clockmaker',\n",
       " 'Naturalist; pharmacist',\n",
       " 'Crusader',\n",
       " 'Merchant; concentration camp guard',\n",
       " 'Impresario',\n",
       " 'Playwright; dramaturge',\n",
       " 'Author; homeopath',\n",
       " 'Privateer',\n",
       " 'Astronomer; geographer',\n",
       " 'Bank robber',\n",
       " 'Violinist; music pedagogue',\n",
       " 'Musical instrument maker; harpsichord maker',\n",
       " 'Conductor; pianist; music director; musicologist',\n",
       " 'Merchant; industrialist; timber merchant',\n",
       " 'Hotel manager',\n",
       " 'Engraver',\n",
       " 'Dentist; surgeon',\n",
       " 'Dressage rider',\n",
       " 'Bartender',\n",
       " 'Locksmith; concentration camp guard',\n",
       " 'Astrologer; violinist',\n",
       " 'Balloonist',\n",
       " 'Librarian; orientalist; indologist',\n",
       " 'Neurologist; physiologist',\n",
       " 'Banker; art collector',\n",
       " 'Neurologist; numismatist',\n",
       " 'Suffragette; feminist',\n",
       " 'Librarian; classical scholar; classical philologist',\n",
       " 'Parson',\n",
       " 'Choreographer; music pedagogue',\n",
       " 'Resistance fighter; interpreter',\n",
       " 'Music critic; sociologist; musicologist',\n",
       " 'Meteorologist',\n",
       " 'Dentist; inventor',\n",
       " 'Banker; financier',\n",
       " 'Psychiatrist; neurologist; psychoanalyst',\n",
       " 'Psychiatrist; psychologist; bacteriologist',\n",
       " 'Anthropologist; explorer',\n",
       " 'Type designer',\n",
       " 'Pedagogue; psychoanalyst',\n",
       " 'Psychiatrist; child psychiatrist',\n",
       " 'Psychiatrist; psychologist; neurologist; psychoanalyst',\n",
       " 'Television presenter',\n",
       " 'Orientalist',\n",
       " 'Pharmacist',\n",
       " 'Arabist; orientalist',\n",
       " 'Double agent',\n",
       " 'Mountain guide; cross-country skier',\n",
       " 'Rally driver',\n",
       " 'Metallurgist',\n",
       " 'Police officer; spy',\n",
       " 'Magician',\n",
       " 'Intelligence officer; spy',\n",
       " 'Hauptsturmführer',\n",
       " 'Optician',\n",
       " 'Geheimrat',\n",
       " 'Gardener; rose breeder',\n",
       " 'Author; gardener',\n",
       " 'Author; dramaturge',\n",
       " 'Music critic',\n",
       " 'Resistance fighter; circus performer',\n",
       " 'Librarian; archivist',\n",
       " 'Flight attendant',\n",
       " 'Art director; production designer',\n",
       " 'Art dealer',\n",
       " 'Nurse; torturer',\n",
       " 'Psychiatrist; neurologist; psychotherapist',\n",
       " 'Medium',\n",
       " 'First lady',\n",
       " 'Classical scholar; lexicographer; classical philologist',\n",
       " 'Physiologist',\n",
       " 'Winegrower',\n",
       " 'Internist',\n",
       " 'Physiologist; nutritionist',\n",
       " 'Pharmacist; pharmacologist',\n",
       " 'Art dealer; reichsleiter rosenberg taskforce; art thief',\n",
       " 'Ornithologist; anthropologist; explorer',\n",
       " 'Musicologist; music pedagogue',\n",
       " 'Assessor',\n",
       " 'Naturalist',\n",
       " 'Suffragette; suffragist',\n",
       " 'Jurist; statesperson',\n",
       " 'Dancer',\n",
       " 'Production designer',\n",
       " 'Costume designer; scenographer',\n",
       " 'Guitar maker; musical instrument maker',\n",
       " 'Goldsmith',\n",
       " 'Microbiologist',\n",
       " 'Vogt',\n",
       " 'Conductor; resistance fighter; music pedagogue',\n",
       " 'Mayor; jurist',\n",
       " 'Rabbi; philosopher',\n",
       " 'Gymnast',\n",
       " 'Concertmaster',\n",
       " 'Pedagogue; resistance fighter',\n",
       " 'Intellectual',\n",
       " 'Jurist; intelligence agent',\n",
       " 'Clarinetist; music pedagogue',\n",
       " 'Resistance fighter; political activist',\n",
       " 'Neurologist; physiologist; anatomist',\n",
       " 'Armed struggle; militant',\n",
       " 'Whaler',\n",
       " 'Gynaecologist; obstetrician',\n",
       " 'Organist',\n",
       " 'Printer; editor',\n",
       " 'Librarian; numismatist; classical scholar; classical philologist',\n",
       " 'Lens designer',\n",
       " 'Spree killer; pedagogue',\n",
       " 'Conductor; choir director',\n",
       " 'Cabinetmaker; master craftsman',\n",
       " 'Astronomer; gardener; banker',\n",
       " 'Motocross rider',\n",
       " 'Psychiatrist; psychologist; criminologist',\n",
       " 'Corvette captain; resistance fighter',\n",
       " 'Geographer; meteorologist',\n",
       " 'Anatomist; forensic pathologist',\n",
       " 'Protestant reformer',\n",
       " 'Librarian; orientalist',\n",
       " 'Bacteriologist',\n",
       " 'Surgeon; urologist',\n",
       " 'Orientalist; philologist',\n",
       " 'Arabist',\n",
       " 'Surgeon; ophthalmologist',\n",
       " 'Ballet dancer; dancer',\n",
       " 'Luthier; music pedagogue',\n",
       " 'Geographer; philosopher',\n",
       " 'Musicologist; ethnomusicologist',\n",
       " 'Banker; horse trader; philanthropist',\n",
       " 'Merchant; banker',\n",
       " 'Cook',\n",
       " 'Anthropologist; philosopher',\n",
       " 'Costume designer; director',\n",
       " 'Biologist; ornithologist; paleontologist',\n",
       " 'Intelligence agent',\n",
       " 'Neurologist; pathologist',\n",
       " 'Inventor; programmer',\n",
       " 'Cook; dietitian',\n",
       " 'Minister',\n",
       " 'Nurse; serial killer; criminal',\n",
       " 'Domestic worker; socialite',\n",
       " 'Resistance fighter; homekeeper',\n",
       " 'Berthold',\n",
       " 'Psychologist; music theorist',\n",
       " 'Urologist',\n",
       " 'Tailor; trade unionist',\n",
       " 'Sociologist',\n",
       " 'Nan; trade unionist',\n",
       " 'Author; fencer; gymnast',\n",
       " 'Dermatologist; oncologist; radiologist',\n",
       " 'Taxi driver; concentration camp guard',\n",
       " 'Canoeist',\n",
       " 'Jockey; event rider',\n",
       " 'Rower; rowing official',\n",
       " 'Cinematographer; camera operator',\n",
       " 'Farmer; resistance fighter',\n",
       " 'Ornithologist; geneticist; racial hygienist; racial theorist',\n",
       " 'Baker; socialite',\n",
       " 'Midwife; serial killer',\n",
       " 'Television presenter; radio personality',\n",
       " 'Hebraist',\n",
       " 'World traveler',\n",
       " 'Mechanic; resistance fighter; martyr',\n",
       " 'Heraldist; archivist; numismatist; philologist',\n",
       " 'Lepidopterist; explorer',\n",
       " 'Unofficial collaborator',\n",
       " 'Blacksmith',\n",
       " 'Criminal; concentration camp guard',\n",
       " 'Biologist; physiologist; pharmacologist',\n",
       " 'Classical philologist',\n",
       " 'Nurse; social worker',\n",
       " 'Lithographer',\n",
       " 'Biologist; microbiologist',\n",
       " 'Chamberlain',\n",
       " 'Resistance fighter; intelligence officer',\n",
       " 'Racing driver; racing automobile driver',\n",
       " 'Musical instrument maker',\n",
       " 'Mineralogist',\n",
       " 'Racing driver; motorcycle racer; racing automobile driver',\n",
       " 'Competitive diver',\n",
       " 'Suffragette',\n",
       " 'Medical examiner',\n",
       " 'Revolutionary; philosopher',\n",
       " 'Hornist',\n",
       " 'Librarian; classical scholar',\n",
       " 'Psychologist; author',\n",
       " 'Merchant; financier',\n",
       " 'Banker; theater director',\n",
       " 'Conductor; director of church music',\n",
       " 'Jurist; docent',\n",
       " 'Vicar general',\n",
       " 'Intelligence agent; resistance fighter',\n",
       " 'News presenter; television presenter',\n",
       " 'Biologist; internist',\n",
       " 'Graphic designer; postage stamp designer',\n",
       " 'Librarian; author',\n",
       " 'Docent',\n",
       " 'Farmer; docent',\n",
       " 'Etcher; copperplate engraver',\n",
       " 'Theatre manager',\n",
       " 'Deaconess',\n",
       " 'Art dealer; engraver; editor',\n",
       " 'Ballet dancer; choreographer; music pedagogue',\n",
       " 'Archivist; numismatist',\n",
       " 'Hospital director',\n",
       " 'Tax advisor',\n",
       " 'Anthropologist; ethnographer',\n",
       " 'Contributing editor',\n",
       " 'Orientalist; indologist',\n",
       " 'Maid',\n",
       " 'Costume designer; theater director',\n",
       " 'Neurologist; ophthalmologist',\n",
       " 'Author; theater director',\n",
       " 'Land surveyor',\n",
       " 'Prelate',\n",
       " 'Teddy bear creator',\n",
       " 'Librarian; jurist',\n",
       " 'Ethnologist; malacologist',\n",
       " 'Murderer',\n",
       " 'Veterinarian',\n",
       " 'Fighter pilot; concentration camp guard',\n",
       " 'Jurist; genealogist',\n",
       " 'Physiologist; ethologist',\n",
       " 'Criminologist',\n",
       " 'Sovereign; nan',\n",
       " 'Business executive; motivational speaker',\n",
       " 'Virologist; oncologist',\n",
       " 'Master of ceremonies; music promoter',\n",
       " 'Pathologist; oncologist',\n",
       " 'Choreographer',\n",
       " 'Chief executive officer',\n",
       " 'Judoka',\n",
       " 'Mycologist',\n",
       " 'Tailor; hotel manager',\n",
       " 'Preacher; manifestation of god; religious servant',\n",
       " 'Archivist; philosopher',\n",
       " 'Graphic designer',\n",
       " 'Showman',\n",
       " 'Gynaecologist; racial theorist',\n",
       " 'Psychologist; autobiographer',\n",
       " 'Pastor; human rights activist',\n",
       " 'Dramaturge',\n",
       " 'Guitarist; jazz guitarist',\n",
       " 'Merchant; banker; art collector',\n",
       " 'Ceramist',\n",
       " 'Farmer; official',\n",
       " 'Dramaturge; literary critic',\n",
       " 'Tribal chief; sovereign',\n",
       " 'Model',\n",
       " 'Agronomist',\n",
       " 'Impostor',\n",
       " 'Mystic',\n",
       " 'Fortepiano',\n",
       " 'Clarinetist; saxophonist',\n",
       " 'Preacher; parson',\n",
       " 'Carpenter; concentration camp guard',\n",
       " 'Gardener; pomologist',\n",
       " 'Musical instrument maker; hornist',\n",
       " 'Research fellow',\n",
       " 'Cooper',\n",
       " 'Jurist; assessor',\n",
       " 'Germanist',\n",
       " 'Lyricist',\n",
       " 'Business magnate; musical instrument maker',\n",
       " 'Pathologist; anatomist',\n",
       " 'Ballet dancer; ballet master; choreographer; music pedagogue',\n",
       " 'Blacksmith; generaloberst',\n",
       " 'Official; commandant',\n",
       " 'General practitioner',\n",
       " 'Joiner; resistance fighter; mountaineer',\n",
       " 'Plumber',\n",
       " 'Gynaecologist; pathologist',\n",
       " 'Astronomer; naturalist; explorer',\n",
       " 'Pianist; pedagogue; music pedagogue',\n",
       " 'Anthropologist; ophthalmologist',\n",
       " 'Forester',\n",
       " 'Commercial agent',\n",
       " 'Conductor; choir director; director of church music',\n",
       " 'Bookbinder',\n",
       " 'Chamberlain; geheimrat',\n",
       " 'Resistance fighter; revolutionary',\n",
       " 'Jurist; playwright',\n",
       " 'Art model; model',\n",
       " 'Shipowner; banker; dealer',\n",
       " 'Samurai',\n",
       " 'Glider pilot',\n",
       " 'Terrorism; terrorist',\n",
       " 'Welder; resistance fighter',\n",
       " 'Archivist; genealogist',\n",
       " 'Astronomer; librarian; cartographer',\n",
       " 'Frontiersman',\n",
       " 'Jurist; social worker',\n",
       " 'Functionary',\n",
       " 'Astronomer; notary',\n",
       " 'Fashion designer',\n",
       " 'Psychotherapist',\n",
       " 'Pedagogue; gymnast',\n",
       " 'Kohen',\n",
       " 'Costume designer; fashion designer',\n",
       " 'Watchmaker; goldsmith',\n",
       " 'Corvette captain',\n",
       " 'Archivist; curator',\n",
       " 'Inventor; tailor',\n",
       " 'Miner',\n",
       " 'Beekeeper',\n",
       " 'Cellist; music pedagogue',\n",
       " 'Mountaineer; himalayan mountaineer',\n",
       " 'Classical scholar; bibliophile',\n",
       " 'Physiologist; pharmacologist',\n",
       " 'Barrister',\n",
       " 'Religious servant',\n",
       " 'Nun; prioress',\n",
       " 'Abbess',\n",
       " 'Costume designer; fashion designer; designer',\n",
       " 'Privateer; colonial administrator',\n",
       " 'Joiner; cabinetmaker; designer',\n",
       " 'Psychiatrist; t4-gutachter',\n",
       " 'Typesetter',\n",
       " 'Costume designer',\n",
       " 'Conductor; pianist; music pedagogue',\n",
       " 'Pedagogue; agronomist',\n",
       " 'Goldsmith; jeweller',\n",
       " 'Colonial administrator',\n",
       " 'Broker',\n",
       " 'Piano maker; piano tuner; musical instrument maker',\n",
       " 'Psychiatrist; essayist; existential therapist',\n",
       " 'Surgeon; meteorologist',\n",
       " 'Graphic designer; typographer',\n",
       " 'Pharmacologist; pathologist',\n",
       " 'Pastor; pianist',\n",
       " 'Naturalist; biologist',\n",
       " 'Alpine skier; ski mountaineer',\n",
       " 'Neurologist; psychotherapist',\n",
       " 'Art dealer; editor',\n",
       " 'Bassist',\n",
       " 'Librarian; editor; collector',\n",
       " 'Astronomer; philosopher',\n",
       " 'Art dealer; art collector; patron of the arts',\n",
       " 'Artisan',\n",
       " 'Psychiatrist; psychologist; psychoanalyst; existential therapist',\n",
       " 'Type designer; graphic designer; typographer',\n",
       " 'Marineoffizier; air force officer',\n",
       " 'Illuminator',\n",
       " 'Boatswain',\n",
       " 'Perfumer; grand couturier',\n",
       " 'Domnitor',\n",
       " 'Inventor; geodesist',\n",
       " 'Watchmaker; revolutionary',\n",
       " 'Director',\n",
       " 'Inventor; typographer',\n",
       " 'Clockmaker',\n",
       " 'Ethnologist',\n",
       " 'President',\n",
       " 'Bandleader',\n",
       " 'Hairdresser',\n",
       " 'Bookseller',\n",
       " 'Surgeon; plastic surgeon',\n",
       " 'Aristocrat; art collector',\n",
       " 'Cook; restaurateur',\n",
       " 'Biologist; pharmacologist',\n",
       " 'Humorist',\n",
       " 'Alpine skier; skier; mountaineer',\n",
       " 'Pastor; encyclopédistes',\n",
       " 'Jurist; hebraist',\n",
       " 'Farmer; shopkeeper',\n",
       " 'Sommelier',\n",
       " 'Cathedral dean',\n",
       " 'Naturalist; coin collecting; numismatist; mineralogist',\n",
       " 'Lieutenant general',\n",
       " 'Kayaker',\n",
       " 'Graphic designer; counterfeiter',\n",
       " 'Midwife; surgeon',\n",
       " 'Mechanician',\n",
       " 'Town doctor',\n",
       " 'Christian martyr',\n",
       " 'Software developer; inventor; programmer',\n",
       " 'Propagandist',\n",
       " 'Heilpraktiker; faith healing',\n",
       " 'Cantor',\n",
       " 'Collecting; art collector',\n",
       " 'Monarch; astronomer',\n",
       " 'Political activist; newspaper editor',\n",
       " 'Socialite; cultural institutions studies',\n",
       " 'Type designer; graphic designer',\n",
       " 'Surgeon; philanthropist',\n",
       " 'Governor',\n",
       " 'Patent inventor; organ builder',\n",
       " 'Dramaturge; glider pilot',\n",
       " 'Astronomer; academic',\n",
       " 'Psychiatrist; essayist',\n",
       " 'Astrologer',\n",
       " 'Choreographer; dancer',\n",
       " 'Alpine skier; mountaineer; explorer',\n",
       " 'Dressage rider; event rider',\n",
       " 'Hotel manager; restaurateur',\n",
       " 'Amateur wrestler; swiss wrestler',\n",
       " 'Engraver; cartographer',\n",
       " 'Ballet dancer; choreographer; ballerina',\n",
       " 'Visitor',\n",
       " 'Speleologist',\n",
       " 'Graphic designer; lithographer',\n",
       " 'Master builder',\n",
       " 'Political commissar',\n",
       " 'Ornithologist; paleontologist',\n",
       " 'Event rider',\n",
       " 'Curator',\n",
       " 'Paralegal',\n",
       " 'Organ builder; musical instrument maker; harpsichord maker',\n",
       " 'Ruler; art collector; patron of the arts',\n",
       " 'Jurist; suffragette; feminist',\n",
       " 'Hydrographer; naval officer; explorer; seafarer',\n",
       " 'Novelist',\n",
       " 'Psychoanalyst; child psychiatrist',\n",
       " 'Lady-in-waiting; aristocrat',\n",
       " 'Geodesist; explorer',\n",
       " 'Head of state',\n",
       " 'Monarch; aristocrat',\n",
       " 'Typographer; trade unionist',\n",
       " 'Navigator; cartographer; explorer; polar explorer',\n",
       " 'Police officer; ornithologist',\n",
       " 'Criminal; smuggler',\n",
       " 'Rhetorician; philosopher',\n",
       " 'Hermit',\n",
       " 'Monk; presbyter',\n",
       " 'Ship captain',\n",
       " 'Inventor; instrument maker; grinder of lenses',\n",
       " 'Fencer; french resistance fighter',\n",
       " 'Functionary; trade unionist',\n",
       " 'Secret service agent',\n",
       " 'Naval officer; explorer',\n",
       " 'Treasurer',\n",
       " 'Human rights activist; radio personality',\n",
       " 'Administrator of the government',\n",
       " 'Human rights activist',\n",
       " 'Coin collecting; aristocrat',\n",
       " 'Ballet dancer; choreographer; the dancer',\n",
       " 'Social work; clinical nurse specialist; social worker; social activist; activist',\n",
       " 'Empress consort',\n",
       " 'Psychiatrist; psychotherapist; ophthalmologist',\n",
       " 'Motorcycle racer; racing automobile driver; formula one driver; rally driver',\n",
       " 'Philosopher; nun',\n",
       " 'High jumper',\n",
       " 'Conductor; music director; theater director',\n",
       " 'Merchant; murderer',\n",
       " 'Sociologist; anthropologist; philosopher',\n",
       " 'Peace activist',\n",
       " 'Monarch; patron of the arts',\n",
       " 'Political activist; trade unionist',\n",
       " 'Astronaut; fighter pilot',\n",
       " 'Domestic worker',\n",
       " 'Nurse; philanthropist',\n",
       " 'Sovereign; count',\n",
       " 'Submariner; naval officer',\n",
       " 'Psychotherapist; anthropologist',\n",
       " 'Music pedagogue',\n",
       " 'Homeopath',\n",
       " 'Violinist; rapist',\n",
       " ...]"
      ]
     },
     "execution_count": 7,
     "metadata": {},
     "output_type": "execute_result"
    }
   ],
   "source": [
    "Data['Occupation'].unique().tolist()"
   ]
  },
  {
   "cell_type": "markdown",
   "id": "f2cc8244",
   "metadata": {
    "papermill": {
     "duration": 0.015498,
     "end_time": "2022-07-09T23:26:02.160049",
     "exception": false,
     "start_time": "2022-07-09T23:26:02.144551",
     "status": "completed"
    },
    "tags": []
   },
   "source": [
    "<a id=\"2\" ></a><br>\n",
    "# Variable Description"
   ]
  },
  {
   "cell_type": "markdown",
   "id": "481cdcf6",
   "metadata": {
    "papermill": {
     "duration": 0.015743,
     "end_time": "2022-07-09T23:26:02.192015",
     "exception": false,
     "start_time": "2022-07-09T23:26:02.176272",
     "status": "completed"
    },
    "tags": []
   },
   "source": [
    "1. Id: unique id number of the each person\n",
    "1. Name: name of person\n",
    "1. Short Description:personel information\n",
    "1. Gender: gender of the person\n",
    "1. country: country of the person\n",
    "1. Occupation: job of the person\n",
    "1. Birth year: year of birth\n",
    "1. Death year: year of death\n",
    "1. Manner of death: cause of death\n",
    "1. Age of death: age at death"
   ]
  },
  {
   "cell_type": "code",
   "execution_count": 8,
   "id": "b673139d",
   "metadata": {
    "execution": {
     "iopub.execute_input": "2022-07-09T23:26:02.225591Z",
     "iopub.status.busy": "2022-07-09T23:26:02.225163Z",
     "iopub.status.idle": "2022-07-09T23:26:03.047079Z",
     "shell.execute_reply": "2022-07-09T23:26:03.045405Z"
    },
    "papermill": {
     "duration": 0.841964,
     "end_time": "2022-07-09T23:26:03.050259",
     "exception": false,
     "start_time": "2022-07-09T23:26:02.208295",
     "status": "completed"
    },
    "tags": []
   },
   "outputs": [
    {
     "name": "stdout",
     "output_type": "stream",
     "text": [
      "<class 'pandas.core.frame.DataFrame'>\n",
      "RangeIndex: 1223009 entries, 0 to 1223008\n",
      "Data columns (total 10 columns):\n",
      " #   Column             Non-Null Count    Dtype  \n",
      "---  ------             --------------    -----  \n",
      " 0   Id                 1223009 non-null  object \n",
      " 1   Name               1223009 non-null  object \n",
      " 2   Short description  1155109 non-null  object \n",
      " 3   Gender             1089363 non-null  object \n",
      " 4   Country            887500 non-null   object \n",
      " 5   Occupation         1016095 non-null  object \n",
      " 6   Birth year         1223009 non-null  int64  \n",
      " 7   Death year         1223008 non-null  float64\n",
      " 8   Manner of death    53603 non-null    object \n",
      " 9   Age of death       1223008 non-null  float64\n",
      "dtypes: float64(2), int64(1), object(7)\n",
      "memory usage: 93.3+ MB\n"
     ]
    }
   ],
   "source": [
    "Data.info()"
   ]
  },
  {
   "cell_type": "markdown",
   "id": "4b83ae11",
   "metadata": {
    "papermill": {
     "duration": 0.015476,
     "end_time": "2022-07-09T23:26:03.082235",
     "exception": false,
     "start_time": "2022-07-09T23:26:03.066759",
     "status": "completed"
    },
    "tags": []
   },
   "source": [
    "* float64(2): Age of death, Death year\n",
    "* int64(1): Birth year\n",
    "* object(7): Id, Name, Short description, Gender , Country, Occupation, Manner of death"
   ]
  },
  {
   "cell_type": "markdown",
   "id": "a79e7c65",
   "metadata": {
    "papermill": {
     "duration": 0.016263,
     "end_time": "2022-07-09T23:26:03.114560",
     "exception": false,
     "start_time": "2022-07-09T23:26:03.098297",
     "status": "completed"
    },
    "tags": []
   },
   "source": [
    "<a id=\"3\" ></a><br>\n",
    "# Basic Data Analysis"
   ]
  },
  {
   "cell_type": "code",
   "execution_count": 9,
   "id": "828ea04f",
   "metadata": {
    "execution": {
     "iopub.execute_input": "2022-07-09T23:26:03.147559Z",
     "iopub.status.busy": "2022-07-09T23:26:03.147186Z",
     "iopub.status.idle": "2022-07-09T23:26:03.971999Z",
     "shell.execute_reply": "2022-07-09T23:26:03.970763Z"
    },
    "papermill": {
     "duration": 0.844282,
     "end_time": "2022-07-09T23:26:03.974533",
     "exception": false,
     "start_time": "2022-07-09T23:26:03.130251",
     "status": "completed"
    },
    "tags": []
   },
   "outputs": [
    {
     "data": {
      "text/plain": [
       "Id                         0\n",
       "Name                       0\n",
       "Short description      67900\n",
       "Gender                133646\n",
       "Country               335509\n",
       "Occupation            206914\n",
       "Birth year                 0\n",
       "Death year                 1\n",
       "Manner of death      1169406\n",
       "Age of death               1\n",
       "dtype: int64"
      ]
     },
     "execution_count": 9,
     "metadata": {},
     "output_type": "execute_result"
    }
   ],
   "source": [
    "Data.isnull().sum()"
   ]
  },
  {
   "cell_type": "code",
   "execution_count": 10,
   "id": "a0a5aa5f",
   "metadata": {
    "execution": {
     "iopub.execute_input": "2022-07-09T23:26:04.008720Z",
     "iopub.status.busy": "2022-07-09T23:26:04.007748Z",
     "iopub.status.idle": "2022-07-09T23:26:04.031780Z",
     "shell.execute_reply": "2022-07-09T23:26:04.030636Z"
    },
    "papermill": {
     "duration": 0.044015,
     "end_time": "2022-07-09T23:26:04.034584",
     "exception": false,
     "start_time": "2022-07-09T23:26:03.990569",
     "status": "completed"
    },
    "tags": []
   },
   "outputs": [],
   "source": [
    "\n",
    "Data['Age of death']=Data['Age of death'].fillna(0)\n",
    "Data['Death year']=Data['Death year'].fillna(0)"
   ]
  },
  {
   "cell_type": "code",
   "execution_count": 11,
   "id": "9b658818",
   "metadata": {
    "execution": {
     "iopub.execute_input": "2022-07-09T23:26:04.068720Z",
     "iopub.status.busy": "2022-07-09T23:26:04.068339Z",
     "iopub.status.idle": "2022-07-09T23:26:04.081463Z",
     "shell.execute_reply": "2022-07-09T23:26:04.080324Z"
    },
    "papermill": {
     "duration": 0.03324,
     "end_time": "2022-07-09T23:26:04.083869",
     "exception": false,
     "start_time": "2022-07-09T23:26:04.050629",
     "status": "completed"
    },
    "tags": []
   },
   "outputs": [
    {
     "data": {
      "text/plain": [
       "0"
      ]
     },
     "execution_count": 11,
     "metadata": {},
     "output_type": "execute_result"
    }
   ],
   "source": [
    "Data['Age of death'].isnull().sum()\n",
    "Data['Death year'].isnull().sum()"
   ]
  },
  {
   "cell_type": "code",
   "execution_count": 12,
   "id": "14e6d54d",
   "metadata": {
    "execution": {
     "iopub.execute_input": "2022-07-09T23:26:04.118147Z",
     "iopub.status.busy": "2022-07-09T23:26:04.117494Z",
     "iopub.status.idle": "2022-07-09T23:26:04.922247Z",
     "shell.execute_reply": "2022-07-09T23:26:04.921123Z"
    },
    "papermill": {
     "duration": 0.824885,
     "end_time": "2022-07-09T23:26:04.924713",
     "exception": false,
     "start_time": "2022-07-09T23:26:04.099828",
     "status": "completed"
    },
    "tags": []
   },
   "outputs": [
    {
     "data": {
      "text/plain": [
       "Id                         0\n",
       "Name                       0\n",
       "Short description      67900\n",
       "Gender                133646\n",
       "Country               335509\n",
       "Occupation            206914\n",
       "Birth year                 0\n",
       "Death year                 0\n",
       "Manner of death      1169406\n",
       "Age of death               0\n",
       "dtype: int64"
      ]
     },
     "execution_count": 12,
     "metadata": {},
     "output_type": "execute_result"
    }
   ],
   "source": [
    "Data.isnull().sum()"
   ]
  },
  {
   "cell_type": "code",
   "execution_count": 13,
   "id": "9d7fa432",
   "metadata": {
    "execution": {
     "iopub.execute_input": "2022-07-09T23:26:04.958755Z",
     "iopub.status.busy": "2022-07-09T23:26:04.958350Z",
     "iopub.status.idle": "2022-07-09T23:26:04.983666Z",
     "shell.execute_reply": "2022-07-09T23:26:04.982570Z"
    },
    "papermill": {
     "duration": 0.045467,
     "end_time": "2022-07-09T23:26:04.986319",
     "exception": false,
     "start_time": "2022-07-09T23:26:04.940852",
     "status": "completed"
    },
    "tags": []
   },
   "outputs": [
    {
     "data": {
      "text/html": [
       "<div>\n",
       "<style scoped>\n",
       "    .dataframe tbody tr th:only-of-type {\n",
       "        vertical-align: middle;\n",
       "    }\n",
       "\n",
       "    .dataframe tbody tr th {\n",
       "        vertical-align: top;\n",
       "    }\n",
       "\n",
       "    .dataframe thead th {\n",
       "        text-align: right;\n",
       "    }\n",
       "</style>\n",
       "<table border=\"1\" class=\"dataframe\">\n",
       "  <thead>\n",
       "    <tr style=\"text-align: right;\">\n",
       "      <th></th>\n",
       "      <th>Gender</th>\n",
       "      <th>Age of death</th>\n",
       "    </tr>\n",
       "  </thead>\n",
       "  <tbody>\n",
       "    <tr>\n",
       "      <th>0</th>\n",
       "      <td>Male</td>\n",
       "      <td>67.0</td>\n",
       "    </tr>\n",
       "    <tr>\n",
       "      <th>1</th>\n",
       "      <td>Male</td>\n",
       "      <td>49.0</td>\n",
       "    </tr>\n",
       "    <tr>\n",
       "      <th>2</th>\n",
       "      <td>Male</td>\n",
       "      <td>56.0</td>\n",
       "    </tr>\n",
       "    <tr>\n",
       "      <th>3</th>\n",
       "      <td>Male</td>\n",
       "      <td>35.0</td>\n",
       "    </tr>\n",
       "    <tr>\n",
       "      <th>4</th>\n",
       "      <td>Male</td>\n",
       "      <td>57.0</td>\n",
       "    </tr>\n",
       "    <tr>\n",
       "      <th>...</th>\n",
       "      <td>...</td>\n",
       "      <td>...</td>\n",
       "    </tr>\n",
       "    <tr>\n",
       "      <th>1223004</th>\n",
       "      <td>NaN</td>\n",
       "      <td>89.0</td>\n",
       "    </tr>\n",
       "    <tr>\n",
       "      <th>1223005</th>\n",
       "      <td>NaN</td>\n",
       "      <td>56.0</td>\n",
       "    </tr>\n",
       "    <tr>\n",
       "      <th>1223006</th>\n",
       "      <td>NaN</td>\n",
       "      <td>24.0</td>\n",
       "    </tr>\n",
       "    <tr>\n",
       "      <th>1223007</th>\n",
       "      <td>Male</td>\n",
       "      <td>28.0</td>\n",
       "    </tr>\n",
       "    <tr>\n",
       "      <th>1223008</th>\n",
       "      <td>Male</td>\n",
       "      <td>79.0</td>\n",
       "    </tr>\n",
       "  </tbody>\n",
       "</table>\n",
       "<p>1223009 rows × 2 columns</p>\n",
       "</div>"
      ],
      "text/plain": [
       "        Gender  Age of death\n",
       "0         Male          67.0\n",
       "1         Male          49.0\n",
       "2         Male          56.0\n",
       "3         Male          35.0\n",
       "4         Male          57.0\n",
       "...        ...           ...\n",
       "1223004    NaN          89.0\n",
       "1223005    NaN          56.0\n",
       "1223006    NaN          24.0\n",
       "1223007   Male          28.0\n",
       "1223008   Male          79.0\n",
       "\n",
       "[1223009 rows x 2 columns]"
      ]
     },
     "execution_count": 13,
     "metadata": {},
     "output_type": "execute_result"
    }
   ],
   "source": [
    "Data[['Gender','Age of death']]"
   ]
  },
  {
   "cell_type": "code",
   "execution_count": 14,
   "id": "b83c58b7",
   "metadata": {
    "execution": {
     "iopub.execute_input": "2022-07-09T23:26:05.020983Z",
     "iopub.status.busy": "2022-07-09T23:26:05.020261Z",
     "iopub.status.idle": "2022-07-09T23:26:05.240893Z",
     "shell.execute_reply": "2022-07-09T23:26:05.239755Z"
    },
    "papermill": {
     "duration": 0.240773,
     "end_time": "2022-07-09T23:26:05.243369",
     "exception": false,
     "start_time": "2022-07-09T23:26:05.002596",
     "status": "completed"
    },
    "tags": []
   },
   "outputs": [
    {
     "data": {
      "text/html": [
       "<div>\n",
       "<style scoped>\n",
       "    .dataframe tbody tr th:only-of-type {\n",
       "        vertical-align: middle;\n",
       "    }\n",
       "\n",
       "    .dataframe tbody tr th {\n",
       "        vertical-align: top;\n",
       "    }\n",
       "\n",
       "    .dataframe thead th {\n",
       "        text-align: right;\n",
       "    }\n",
       "</style>\n",
       "<table border=\"1\" class=\"dataframe\">\n",
       "  <thead>\n",
       "    <tr style=\"text-align: right;\">\n",
       "      <th></th>\n",
       "      <th>Gender</th>\n",
       "      <th>Age of death</th>\n",
       "    </tr>\n",
       "  </thead>\n",
       "  <tbody>\n",
       "    <tr>\n",
       "      <th>11</th>\n",
       "      <td>Non-Binary; Intersex</td>\n",
       "      <td>22.000000</td>\n",
       "    </tr>\n",
       "    <tr>\n",
       "      <th>15</th>\n",
       "      <td>Transgender Female; Male</td>\n",
       "      <td>37.000000</td>\n",
       "    </tr>\n",
       "    <tr>\n",
       "      <th>12</th>\n",
       "      <td>Transgender Female</td>\n",
       "      <td>49.810127</td>\n",
       "    </tr>\n",
       "    <tr>\n",
       "      <th>0</th>\n",
       "      <td>Eunuch</td>\n",
       "      <td>51.333333</td>\n",
       "    </tr>\n",
       "    <tr>\n",
       "      <th>7</th>\n",
       "      <td>Intersex; Male</td>\n",
       "      <td>55.500000</td>\n",
       "    </tr>\n",
       "    <tr>\n",
       "      <th>16</th>\n",
       "      <td>Transgender Male</td>\n",
       "      <td>57.111111</td>\n",
       "    </tr>\n",
       "    <tr>\n",
       "      <th>5</th>\n",
       "      <td>Intersex</td>\n",
       "      <td>59.000000</td>\n",
       "    </tr>\n",
       "    <tr>\n",
       "      <th>14</th>\n",
       "      <td>Transgender Female; Intersex</td>\n",
       "      <td>61.000000</td>\n",
       "    </tr>\n",
       "    <tr>\n",
       "      <th>10</th>\n",
       "      <td>Non-Binary</td>\n",
       "      <td>61.000000</td>\n",
       "    </tr>\n",
       "    <tr>\n",
       "      <th>17</th>\n",
       "      <td>Transgender Male; Female</td>\n",
       "      <td>62.000000</td>\n",
       "    </tr>\n",
       "    <tr>\n",
       "      <th>1</th>\n",
       "      <td>Eunuch; Male</td>\n",
       "      <td>63.611111</td>\n",
       "    </tr>\n",
       "    <tr>\n",
       "      <th>6</th>\n",
       "      <td>Intersex; Female</td>\n",
       "      <td>64.000000</td>\n",
       "    </tr>\n",
       "    <tr>\n",
       "      <th>13</th>\n",
       "      <td>Transgender Female; Female</td>\n",
       "      <td>65.000000</td>\n",
       "    </tr>\n",
       "    <tr>\n",
       "      <th>18</th>\n",
       "      <td>Transgender Male; Male</td>\n",
       "      <td>67.000000</td>\n",
       "    </tr>\n",
       "    <tr>\n",
       "      <th>9</th>\n",
       "      <td>Male</td>\n",
       "      <td>69.185586</td>\n",
       "    </tr>\n",
       "    <tr>\n",
       "      <th>19</th>\n",
       "      <td>Transgender Person; Intersex; Transgender Male</td>\n",
       "      <td>71.000000</td>\n",
       "    </tr>\n",
       "    <tr>\n",
       "      <th>2</th>\n",
       "      <td>Female</td>\n",
       "      <td>71.307846</td>\n",
       "    </tr>\n",
       "    <tr>\n",
       "      <th>4</th>\n",
       "      <td>Female; Male</td>\n",
       "      <td>71.428571</td>\n",
       "    </tr>\n",
       "    <tr>\n",
       "      <th>3</th>\n",
       "      <td>Female; Female</td>\n",
       "      <td>75.000000</td>\n",
       "    </tr>\n",
       "    <tr>\n",
       "      <th>8</th>\n",
       "      <td>Intersex; Transgender Male</td>\n",
       "      <td>79.000000</td>\n",
       "    </tr>\n",
       "  </tbody>\n",
       "</table>\n",
       "</div>"
      ],
      "text/plain": [
       "                                            Gender  Age of death\n",
       "11                            Non-Binary; Intersex     22.000000\n",
       "15                        Transgender Female; Male     37.000000\n",
       "12                              Transgender Female     49.810127\n",
       "0                                           Eunuch     51.333333\n",
       "7                                   Intersex; Male     55.500000\n",
       "16                                Transgender Male     57.111111\n",
       "5                                         Intersex     59.000000\n",
       "14                    Transgender Female; Intersex     61.000000\n",
       "10                                      Non-Binary     61.000000\n",
       "17                        Transgender Male; Female     62.000000\n",
       "1                                     Eunuch; Male     63.611111\n",
       "6                                 Intersex; Female     64.000000\n",
       "13                      Transgender Female; Female     65.000000\n",
       "18                          Transgender Male; Male     67.000000\n",
       "9                                             Male     69.185586\n",
       "19  Transgender Person; Intersex; Transgender Male     71.000000\n",
       "2                                           Female     71.307846\n",
       "4                                     Female; Male     71.428571\n",
       "3                                   Female; Female     75.000000\n",
       "8                       Intersex; Transgender Male     79.000000"
      ]
     },
     "execution_count": 14,
     "metadata": {},
     "output_type": "execute_result"
    }
   ],
   "source": [
    "Data[[\"Gender\",'Age of death']].groupby(['Gender'],as_index=False).mean().sort_values(by='Age of death',ascending=True)"
   ]
  },
  {
   "cell_type": "markdown",
   "id": "983edd12",
   "metadata": {
    "papermill": {
     "duration": 0.016217,
     "end_time": "2022-07-09T23:26:05.276073",
     "exception": false,
     "start_time": "2022-07-09T23:26:05.259856",
     "status": "completed"
    },
    "tags": []
   },
   "source": [
    "<a id=\"4\" ></a><br>\n",
    "# Data cleaning"
   ]
  },
  {
   "cell_type": "code",
   "execution_count": 15,
   "id": "4a0d98c9",
   "metadata": {
    "execution": {
     "iopub.execute_input": "2022-07-09T23:26:05.311074Z",
     "iopub.status.busy": "2022-07-09T23:26:05.310628Z",
     "iopub.status.idle": "2022-07-09T23:26:06.124864Z",
     "shell.execute_reply": "2022-07-09T23:26:06.123754Z"
    },
    "papermill": {
     "duration": 0.83472,
     "end_time": "2022-07-09T23:26:06.127258",
     "exception": false,
     "start_time": "2022-07-09T23:26:05.292538",
     "status": "completed"
    },
    "tags": []
   },
   "outputs": [
    {
     "data": {
      "text/plain": [
       "Id                         0\n",
       "Name                       0\n",
       "Short description      67900\n",
       "Gender                133646\n",
       "Country               335509\n",
       "Occupation            206914\n",
       "Birth year                 0\n",
       "Death year                 0\n",
       "Manner of death      1169406\n",
       "Age of death               0\n",
       "dtype: int64"
      ]
     },
     "execution_count": 15,
     "metadata": {},
     "output_type": "execute_result"
    }
   ],
   "source": [
    "Data.isnull().sum()"
   ]
  },
  {
   "cell_type": "code",
   "execution_count": 16,
   "id": "90eb996b",
   "metadata": {
    "execution": {
     "iopub.execute_input": "2022-07-09T23:26:06.163495Z",
     "iopub.status.busy": "2022-07-09T23:26:06.162321Z",
     "iopub.status.idle": "2022-07-09T23:26:06.887382Z",
     "shell.execute_reply": "2022-07-09T23:26:06.886313Z"
    },
    "papermill": {
     "duration": 0.745801,
     "end_time": "2022-07-09T23:26:06.890073",
     "exception": false,
     "start_time": "2022-07-09T23:26:06.144272",
     "status": "completed"
    },
    "tags": []
   },
   "outputs": [],
   "source": [
    "Data['Short description']=Data['Short description'].fillna('null')\n",
    "Data['Gender']=Data['Gender'].fillna('null')\n",
    "Data['Country']=Data['Country'].fillna('null')\n",
    "Data['Occupation']=Data['Occupation'].fillna('null')\n",
    "Data['Manner of death']=Data['Manner of death'].fillna('null')"
   ]
  },
  {
   "cell_type": "code",
   "execution_count": 17,
   "id": "42430da7",
   "metadata": {
    "execution": {
     "iopub.execute_input": "2022-07-09T23:26:06.928622Z",
     "iopub.status.busy": "2022-07-09T23:26:06.928205Z",
     "iopub.status.idle": "2022-07-09T23:26:07.854044Z",
     "shell.execute_reply": "2022-07-09T23:26:07.852886Z"
    },
    "papermill": {
     "duration": 0.948173,
     "end_time": "2022-07-09T23:26:07.856756",
     "exception": false,
     "start_time": "2022-07-09T23:26:06.908583",
     "status": "completed"
    },
    "tags": []
   },
   "outputs": [
    {
     "data": {
      "text/plain": [
       "Id                   0\n",
       "Name                 0\n",
       "Short description    0\n",
       "Gender               0\n",
       "Country              0\n",
       "Occupation           0\n",
       "Birth year           0\n",
       "Death year           0\n",
       "Manner of death      0\n",
       "Age of death         0\n",
       "dtype: int64"
      ]
     },
     "execution_count": 17,
     "metadata": {},
     "output_type": "execute_result"
    }
   ],
   "source": [
    "Data.isnull().sum()"
   ]
  },
  {
   "cell_type": "code",
   "execution_count": 18,
   "id": "9b04212a",
   "metadata": {
    "execution": {
     "iopub.execute_input": "2022-07-09T23:26:07.892394Z",
     "iopub.status.busy": "2022-07-09T23:26:07.891989Z",
     "iopub.status.idle": "2022-07-09T23:26:07.991186Z",
     "shell.execute_reply": "2022-07-09T23:26:07.990009Z"
    },
    "papermill": {
     "duration": 0.119615,
     "end_time": "2022-07-09T23:26:07.993642",
     "exception": false,
     "start_time": "2022-07-09T23:26:07.874027",
     "status": "completed"
    },
    "tags": []
   },
   "outputs": [
    {
     "data": {
      "text/plain": [
       "array(['Male', 'Female', 'null', 'Transgender Female', 'Intersex',\n",
       "       'Transgender Person; Intersex; Transgender Male', 'Non-Binary',\n",
       "       'Eunuch; Male', 'Transgender Male', 'Eunuch', 'Intersex; Male',\n",
       "       'Transgender Female; Female', 'Transgender Female; Male',\n",
       "       'Female; Male', 'Intersex; Transgender Male',\n",
       "       'Transgender Male; Female', 'Transgender Male; Male',\n",
       "       'Intersex; Female', 'Transgender Female; Intersex',\n",
       "       'Female; Female', 'Non-Binary; Intersex'], dtype=object)"
      ]
     },
     "execution_count": 18,
     "metadata": {},
     "output_type": "execute_result"
    }
   ],
   "source": [
    "Data['Gender'].unique()"
   ]
  },
  {
   "cell_type": "code",
   "execution_count": 19,
   "id": "217927a8",
   "metadata": {
    "execution": {
     "iopub.execute_input": "2022-07-09T23:26:08.029517Z",
     "iopub.status.busy": "2022-07-09T23:26:08.029120Z",
     "iopub.status.idle": "2022-07-09T23:26:08.552319Z",
     "shell.execute_reply": "2022-07-09T23:26:08.551157Z"
    },
    "papermill": {
     "duration": 0.544017,
     "end_time": "2022-07-09T23:26:08.554894",
     "exception": false,
     "start_time": "2022-07-09T23:26:08.010877",
     "status": "completed"
    },
    "tags": []
   },
   "outputs": [],
   "source": [
    "#  remove the null\n",
    "Data=Data[Data['Gender']!='null']\n",
    "Data=Data[Data['Manner of death']!='null']\n"
   ]
  },
  {
   "cell_type": "markdown",
   "id": "cefbfa21",
   "metadata": {
    "papermill": {
     "duration": 0.016776,
     "end_time": "2022-07-09T23:26:08.588884",
     "exception": false,
     "start_time": "2022-07-09T23:26:08.572108",
     "status": "completed"
    },
    "tags": []
   },
   "source": [
    "<a id=\"5\" ></a><br>\n",
    "# Data Visualization"
   ]
  },
  {
   "cell_type": "code",
   "execution_count": 20,
   "id": "f7be834f",
   "metadata": {
    "execution": {
     "iopub.execute_input": "2022-07-09T23:26:08.625225Z",
     "iopub.status.busy": "2022-07-09T23:26:08.624796Z",
     "iopub.status.idle": "2022-07-09T23:26:08.901943Z",
     "shell.execute_reply": "2022-07-09T23:26:08.900833Z"
    },
    "papermill": {
     "duration": 0.297983,
     "end_time": "2022-07-09T23:26:08.904378",
     "exception": false,
     "start_time": "2022-07-09T23:26:08.606395",
     "status": "completed"
    },
    "tags": []
   },
   "outputs": [
    {
     "data": {
      "text/plain": [
       "<AxesSubplot:>"
      ]
     },
     "execution_count": 20,
     "metadata": {},
     "output_type": "execute_result"
    },
    {
     "data": {
      "image/png": "[encoded data removed]",
      "text/plain": [
       "<Figure size 360x360 with 2 Axes>"
      ]
     },
     "metadata": {
      "needs_background": "light"
     },
     "output_type": "display_data"
    }
   ],
   "source": [
    "#correlation map\n",
    "f,ax=plt.subplots(figsize=(5,5))\n",
    "sns.heatmap(Data.corr(),annot=True,linewidths=0.5,linecolor=\"red\", fmt= '.1f',ax=ax)"
   ]
  },
  {
   "cell_type": "code",
   "execution_count": 21,
   "id": "e7a2186b",
   "metadata": {
    "execution": {
     "iopub.execute_input": "2022-07-09T23:26:08.941405Z",
     "iopub.status.busy": "2022-07-09T23:26:08.941006Z",
     "iopub.status.idle": "2022-07-09T23:26:08.958334Z",
     "shell.execute_reply": "2022-07-09T23:26:08.957421Z"
    },
    "papermill": {
     "duration": 0.038284,
     "end_time": "2022-07-09T23:26:08.960399",
     "exception": false,
     "start_time": "2022-07-09T23:26:08.922115",
     "status": "completed"
    },
    "tags": []
   },
   "outputs": [
    {
     "data": {
      "text/plain": [
       "Male                          43691\n",
       "Female                         8365\n",
       "Transgender Female               26\n",
       "Transgender Male                 13\n",
       "Eunuch; Male                      6\n",
       "Intersex                          2\n",
       "Transgender Female; Female        1\n",
       "Eunuch                            1\n",
       "Name: Gender, dtype: int64"
      ]
     },
     "execution_count": 21,
     "metadata": {},
     "output_type": "execute_result"
    }
   ],
   "source": [
    "\n",
    "Data['Gender'].value_counts()\n"
   ]
  },
  {
   "cell_type": "code",
   "execution_count": 22,
   "id": "8dbb07cb",
   "metadata": {
    "execution": {
     "iopub.execute_input": "2022-07-09T23:26:08.998461Z",
     "iopub.status.busy": "2022-07-09T23:26:08.997729Z",
     "iopub.status.idle": "2022-07-09T23:26:09.259521Z",
     "shell.execute_reply": "2022-07-09T23:26:09.258606Z"
    },
    "papermill": {
     "duration": 0.283706,
     "end_time": "2022-07-09T23:26:09.261781",
     "exception": false,
     "start_time": "2022-07-09T23:26:08.978075",
     "status": "completed"
    },
    "tags": []
   },
   "outputs": [
    {
     "name": "stderr",
     "output_type": "stream",
     "text": [
      "/opt/conda/lib/python3.7/site-packages/seaborn/_decorators.py:43: FutureWarning: Pass the following variable as a keyword arg: x. From version 0.12, the only valid positional argument will be `data`, and passing other arguments without an explicit keyword will result in an error or misinterpretation.\n",
      "  FutureWarning\n"
     ]
    },
    {
     "data": {
      "image/png": "[encoded data removed]",
      "text/plain": [
       "<Figure size 432x288 with 1 Axes>"
      ]
     },
     "metadata": {
      "needs_background": "light"
     },
     "output_type": "display_data"
    }
   ],
   "source": [
    "#count plot\n",
    "sns.countplot(Data['Gender'])\n",
    "\n",
    "plt.xticks(rotation=90)\n",
    "\n",
    "plt.show()"
   ]
  },
  {
   "cell_type": "code",
   "execution_count": 23,
   "id": "58844d5c",
   "metadata": {
    "execution": {
     "iopub.execute_input": "2022-07-09T23:26:09.299821Z",
     "iopub.status.busy": "2022-07-09T23:26:09.298993Z",
     "iopub.status.idle": "2022-07-09T23:26:09.309919Z",
     "shell.execute_reply": "2022-07-09T23:26:09.308893Z"
    },
    "papermill": {
     "duration": 0.03224,
     "end_time": "2022-07-09T23:26:09.312168",
     "exception": false,
     "start_time": "2022-07-09T23:26:09.279928",
     "status": "completed"
    },
    "tags": []
   },
   "outputs": [
    {
     "data": {
      "text/plain": [
       "8"
      ]
     },
     "execution_count": 23,
     "metadata": {},
     "output_type": "execute_result"
    }
   ],
   "source": [
    "Data['Gender'].unique().size"
   ]
  },
  {
   "cell_type": "code",
   "execution_count": 24,
   "id": "7521f84f",
   "metadata": {
    "execution": {
     "iopub.execute_input": "2022-07-09T23:26:09.351324Z",
     "iopub.status.busy": "2022-07-09T23:26:09.350862Z",
     "iopub.status.idle": "2022-07-09T23:26:09.598025Z",
     "shell.execute_reply": "2022-07-09T23:26:09.596707Z"
    },
    "papermill": {
     "duration": 0.271883,
     "end_time": "2022-07-09T23:26:09.602311",
     "exception": false,
     "start_time": "2022-07-09T23:26:09.330428",
     "status": "completed"
    },
    "tags": []
   },
   "outputs": [
    {
     "data": {
      "text/plain": [
       "Text(0.5, 1.0, 'Number of people by gender')"
      ]
     },
     "execution_count": 24,
     "metadata": {},
     "output_type": "execute_result"
    },
    {
     "data": {
      "image/png": "[encoded data removed]",
      "text/plain": [
       "<Figure size 720x720 with 1 Axes>"
      ]
     },
     "metadata": {},
     "output_type": "display_data"
    }
   ],
   "source": [
    "#pie plot \n",
    "label=Data['Gender'].value_counts().index\n",
    "colors=['red','blue','silver']\n",
    "explode = [0,0,0,0,0,0,0,0]\n",
    "sizes=Data['Gender'].value_counts().values\n",
    "\n",
    "#visual\n",
    "plt.figure(figsize=(10,10))\n",
    "plt.pie(sizes,explode=explode,labels=label,colors=colors,autopct='%1.1f%%')\n",
    "plt.title('Number of people by gender',color = 'blue',fontsize = 15)\n"
   ]
  },
  {
   "cell_type": "code",
   "execution_count": 25,
   "id": "533f04e8",
   "metadata": {
    "execution": {
     "iopub.execute_input": "2022-07-09T23:26:09.647195Z",
     "iopub.status.busy": "2022-07-09T23:26:09.646504Z",
     "iopub.status.idle": "2022-07-09T23:26:09.664980Z",
     "shell.execute_reply": "2022-07-09T23:26:09.663402Z"
    },
    "papermill": {
     "duration": 0.042287,
     "end_time": "2022-07-09T23:26:09.668055",
     "exception": false,
     "start_time": "2022-07-09T23:26:09.625768",
     "status": "completed"
    },
    "tags": []
   },
   "outputs": [
    {
     "data": {
      "text/plain": [
       "natural causes                            33532\n",
       "suicide                                    5318\n",
       "accident                                   4803\n",
       "homicide                                   4358\n",
       "capital punishment                         3017\n",
       "                                          ...  \n",
       "unnatural death; execution by shooting        1\n",
       "rape                                          1\n",
       "chronic obstructive pulmonary disease         1\n",
       "suicide; substance abuse                      1\n",
       "White Terror                                  1\n",
       "Name: Manner of death, Length: 198, dtype: int64"
      ]
     },
     "execution_count": 25,
     "metadata": {},
     "output_type": "execute_result"
    }
   ],
   "source": [
    "Data['Manner of death'].value_counts()"
   ]
  },
  {
   "cell_type": "code",
   "execution_count": 26,
   "id": "46c3baf6",
   "metadata": {
    "execution": {
     "iopub.execute_input": "2022-07-09T23:26:09.708029Z",
     "iopub.status.busy": "2022-07-09T23:26:09.707256Z",
     "iopub.status.idle": "2022-07-09T23:26:09.719358Z",
     "shell.execute_reply": "2022-07-09T23:26:09.718390Z"
    },
    "papermill": {
     "duration": 0.034482,
     "end_time": "2022-07-09T23:26:09.721660",
     "exception": false,
     "start_time": "2022-07-09T23:26:09.687178",
     "status": "completed"
    },
    "tags": []
   },
   "outputs": [
    {
     "data": {
      "text/plain": [
       "198"
      ]
     },
     "execution_count": 26,
     "metadata": {},
     "output_type": "execute_result"
    }
   ],
   "source": [
    "Data['Manner of death'].unique().size"
   ]
  },
  {
   "cell_type": "code",
   "execution_count": 27,
   "id": "43ffcd41",
   "metadata": {
    "execution": {
     "iopub.execute_input": "2022-07-09T23:26:09.761780Z",
     "iopub.status.busy": "2022-07-09T23:26:09.761039Z",
     "iopub.status.idle": "2022-07-09T23:26:13.298067Z",
     "shell.execute_reply": "2022-07-09T23:26:13.296770Z"
    },
    "papermill": {
     "duration": 3.563035,
     "end_time": "2022-07-09T23:26:13.303822",
     "exception": false,
     "start_time": "2022-07-09T23:26:09.740787",
     "status": "completed"
    },
    "tags": []
   },
   "outputs": [
    {
     "name": "stderr",
     "output_type": "stream",
     "text": [
      "/opt/conda/lib/python3.7/site-packages/seaborn/_decorators.py:43: FutureWarning: Pass the following variable as a keyword arg: x. From version 0.12, the only valid positional argument will be `data`, and passing other arguments without an explicit keyword will result in an error or misinterpretation.\n",
      "  FutureWarning\n"
     ]
    },
    {
     "data": {
      "image/png": "[encoded data removed]",
      "text/plain": [
       "<Figure size 3600x3600 with 1 Axes>"
      ]
     },
     "metadata": {
      "needs_background": "light"
     },
     "output_type": "display_data"
    }
   ],
   "source": [
    "#count plot\n",
    "plt.figure(figsize=(50,50))\n",
    "sns.countplot(Data['Manner of death'])\n",
    "\n",
    "plt.xticks(rotation=90)\n",
    "\n",
    "plt.show()"
   ]
  },
  {
   "cell_type": "code",
   "execution_count": 28,
   "id": "d9eb4a24",
   "metadata": {
    "execution": {
     "iopub.execute_input": "2022-07-09T23:26:13.352856Z",
     "iopub.status.busy": "2022-07-09T23:26:13.352044Z",
     "iopub.status.idle": "2022-07-09T23:26:16.228326Z",
     "shell.execute_reply": "2022-07-09T23:26:16.227090Z"
    },
    "papermill": {
     "duration": 2.903477,
     "end_time": "2022-07-09T23:26:16.231020",
     "exception": false,
     "start_time": "2022-07-09T23:26:13.327543",
     "status": "completed"
    },
    "tags": []
   },
   "outputs": [
    {
     "data": {
      "text/plain": [
       "Text(0.5, 1.0, 'Manner of death')"
      ]
     },
     "execution_count": 28,
     "metadata": {},
     "output_type": "execute_result"
    },
    {
     "data": {
      "image/png": "[encoded data removed]",
      "text/plain": [
       "<Figure size 720x720 with 1 Axes>"
      ]
     },
     "metadata": {},
     "output_type": "display_data"
    }
   ],
   "source": [
    "#pie plot \n",
    "label=Data['Manner of death'].value_counts().index\n",
    "colors=['red','blue','silver','green','brown','pink','black','yellow','purple','orange','white']\n",
    "explode = [0,0,0,0,0,0,0,0,0,0,0,0,0,0,0,0,0,0,0,0,0,0,0,0,0,0,0,0,0,0,0,0,0,0,0,0,0,0,0,0,0,0,0,0,0,0,0,0,0,0,0,0,0,0,0,0,0,0,0,0,0,0,0,0,0,0,0,0,0,0,0,0,0,0,0,0,0,0,0,0,0,0,0,0,0,0,0,0,0,0,0,0,0,0,0,0,0,0,0,0,0,0,0,0,0,0,0,0,0,0,0,0,0,0,0,0,0,0,0,0,0,0,0,0,0,0,0,0,0,0,0,0,0,0,0,0,0,0,0,0,0,0,0,0,0,0,0,0,0,0,0,0,0,0,0,0,0,0,0,0,0,0,0,0,0,0,0,0,0,0,0,0,0,0,0,0,0,0,0,0,0,0,0,0,0,0,0,0,0,0,0,0,0,0,0,0,0,0]\n",
    "sizes=Data['Manner of death'].value_counts().values\n",
    "\n",
    "#visual\n",
    "plt.figure(figsize=(10,10))\n",
    "plt.pie(sizes,explode=explode,labels=label,colors=colors,autopct='%1.1f%%')\n",
    "plt.title('Manner of death',color = 'blue',fontsize = 15)"
   ]
  },
  {
   "cell_type": "markdown",
   "id": "5f1ab0f5",
   "metadata": {
    "papermill": {
     "duration": 0.024087,
     "end_time": "2022-07-09T23:26:16.279843",
     "exception": false,
     "start_time": "2022-07-09T23:26:16.255756",
     "status": "completed"
    },
    "tags": []
   },
   "source": [
    "<a id=\"6\" ></a><br>\n",
    "\n",
    "## Politician "
   ]
  },
  {
   "cell_type": "code",
   "execution_count": 29,
   "id": "569fece9",
   "metadata": {
    "execution": {
     "iopub.execute_input": "2022-07-09T23:26:16.332074Z",
     "iopub.status.busy": "2022-07-09T23:26:16.331061Z",
     "iopub.status.idle": "2022-07-09T23:26:16.364846Z",
     "shell.execute_reply": "2022-07-09T23:26:16.363747Z"
    },
    "papermill": {
     "duration": 0.062669,
     "end_time": "2022-07-09T23:26:16.367201",
     "exception": false,
     "start_time": "2022-07-09T23:26:16.304532",
     "status": "completed"
    },
    "tags": []
   },
   "outputs": [
    {
     "data": {
      "text/html": [
       "<div>\n",
       "<style scoped>\n",
       "    .dataframe tbody tr th:only-of-type {\n",
       "        vertical-align: middle;\n",
       "    }\n",
       "\n",
       "    .dataframe tbody tr th {\n",
       "        vertical-align: top;\n",
       "    }\n",
       "\n",
       "    .dataframe thead th {\n",
       "        text-align: right;\n",
       "    }\n",
       "</style>\n",
       "<table border=\"1\" class=\"dataframe\">\n",
       "  <thead>\n",
       "    <tr style=\"text-align: right;\">\n",
       "      <th></th>\n",
       "      <th>Id</th>\n",
       "      <th>Name</th>\n",
       "      <th>Short description</th>\n",
       "      <th>Gender</th>\n",
       "      <th>Country</th>\n",
       "      <th>Occupation</th>\n",
       "      <th>Birth year</th>\n",
       "      <th>Death year</th>\n",
       "      <th>Manner of death</th>\n",
       "      <th>Age of death</th>\n",
       "    </tr>\n",
       "  </thead>\n",
       "  <tbody>\n",
       "    <tr>\n",
       "      <th>0</th>\n",
       "      <td>Q23</td>\n",
       "      <td>George Washington</td>\n",
       "      <td>1st president of the United States (1732–1799)</td>\n",
       "      <td>Male</td>\n",
       "      <td>United States of America; Kingdom of Great Bri...</td>\n",
       "      <td>Politician</td>\n",
       "      <td>1732</td>\n",
       "      <td>1799.0</td>\n",
       "      <td>natural causes</td>\n",
       "      <td>67.0</td>\n",
       "    </tr>\n",
       "    <tr>\n",
       "      <th>2</th>\n",
       "      <td>Q91</td>\n",
       "      <td>Abraham Lincoln</td>\n",
       "      <td>16th president of the United States (1809-1865)</td>\n",
       "      <td>Male</td>\n",
       "      <td>United States of America</td>\n",
       "      <td>Politician</td>\n",
       "      <td>1809</td>\n",
       "      <td>1865.0</td>\n",
       "      <td>homicide</td>\n",
       "      <td>56.0</td>\n",
       "    </tr>\n",
       "    <tr>\n",
       "      <th>17</th>\n",
       "      <td>Q368</td>\n",
       "      <td>Augusto Pinochet</td>\n",
       "      <td>General, politician of Chile (1915-2006)</td>\n",
       "      <td>Male</td>\n",
       "      <td>Chile</td>\n",
       "      <td>Politician</td>\n",
       "      <td>1915</td>\n",
       "      <td>2006.0</td>\n",
       "      <td>natural causes</td>\n",
       "      <td>91.0</td>\n",
       "    </tr>\n",
       "    <tr>\n",
       "      <th>23</th>\n",
       "      <td>Q440</td>\n",
       "      <td>Salvador Allende</td>\n",
       "      <td>28th president of Chile (1908–1973)</td>\n",
       "      <td>Male</td>\n",
       "      <td>Chile</td>\n",
       "      <td>Politician</td>\n",
       "      <td>1908</td>\n",
       "      <td>1973.0</td>\n",
       "      <td>suicide</td>\n",
       "      <td>65.0</td>\n",
       "    </tr>\n",
       "    <tr>\n",
       "      <th>27</th>\n",
       "      <td>Q475</td>\n",
       "      <td>Eduardo Frei Montalva</td>\n",
       "      <td>President of Chile (1911-1982)</td>\n",
       "      <td>Male</td>\n",
       "      <td>Chile</td>\n",
       "      <td>Politician</td>\n",
       "      <td>1911</td>\n",
       "      <td>1982.0</td>\n",
       "      <td>homicide</td>\n",
       "      <td>71.0</td>\n",
       "    </tr>\n",
       "    <tr>\n",
       "      <th>...</th>\n",
       "      <td>...</td>\n",
       "      <td>...</td>\n",
       "      <td>...</td>\n",
       "      <td>...</td>\n",
       "      <td>...</td>\n",
       "      <td>...</td>\n",
       "      <td>...</td>\n",
       "      <td>...</td>\n",
       "      <td>...</td>\n",
       "      <td>...</td>\n",
       "    </tr>\n",
       "    <tr>\n",
       "      <th>1203269</th>\n",
       "      <td>Q65044674</td>\n",
       "      <td>Patrick Anthony Mwewa Chikusu</td>\n",
       "      <td>Zambian politician</td>\n",
       "      <td>Male</td>\n",
       "      <td>Zambia</td>\n",
       "      <td>Politician</td>\n",
       "      <td>1951</td>\n",
       "      <td>2013.0</td>\n",
       "      <td>natural causes</td>\n",
       "      <td>62.0</td>\n",
       "    </tr>\n",
       "    <tr>\n",
       "      <th>1206347</th>\n",
       "      <td>Q66117665</td>\n",
       "      <td>Paul John Hilbert</td>\n",
       "      <td>American politician</td>\n",
       "      <td>Male</td>\n",
       "      <td>null</td>\n",
       "      <td>Politician</td>\n",
       "      <td>1949</td>\n",
       "      <td>2001.0</td>\n",
       "      <td>natural causes</td>\n",
       "      <td>52.0</td>\n",
       "    </tr>\n",
       "    <tr>\n",
       "      <th>1207380</th>\n",
       "      <td>Q66629129</td>\n",
       "      <td>Akhilesh Singh</td>\n",
       "      <td>Indian politician</td>\n",
       "      <td>Male</td>\n",
       "      <td>India</td>\n",
       "      <td>Politician</td>\n",
       "      <td>1959</td>\n",
       "      <td>2019.0</td>\n",
       "      <td>natural causes</td>\n",
       "      <td>60.0</td>\n",
       "    </tr>\n",
       "    <tr>\n",
       "      <th>1210994</th>\n",
       "      <td>Q69417231</td>\n",
       "      <td>Enrique Riaza</td>\n",
       "      <td>Spaans dierenarts (1890-1940)</td>\n",
       "      <td>Male</td>\n",
       "      <td>Spain</td>\n",
       "      <td>Politician</td>\n",
       "      <td>1890</td>\n",
       "      <td>1940.0</td>\n",
       "      <td>White Terror</td>\n",
       "      <td>50.0</td>\n",
       "    </tr>\n",
       "    <tr>\n",
       "      <th>1211984</th>\n",
       "      <td>Q70706427</td>\n",
       "      <td>Hevrin Khalaf</td>\n",
       "      <td>Syrian Kurdish politician and civil engineer</td>\n",
       "      <td>Female</td>\n",
       "      <td>Syria</td>\n",
       "      <td>Politician</td>\n",
       "      <td>1984</td>\n",
       "      <td>2019.0</td>\n",
       "      <td>homicide</td>\n",
       "      <td>35.0</td>\n",
       "    </tr>\n",
       "  </tbody>\n",
       "</table>\n",
       "<p>7894 rows × 10 columns</p>\n",
       "</div>"
      ],
      "text/plain": [
       "                Id                           Name  \\\n",
       "0              Q23              George Washington   \n",
       "2              Q91                Abraham Lincoln   \n",
       "17            Q368               Augusto Pinochet   \n",
       "23            Q440               Salvador Allende   \n",
       "27            Q475          Eduardo Frei Montalva   \n",
       "...            ...                            ...   \n",
       "1203269  Q65044674  Patrick Anthony Mwewa Chikusu   \n",
       "1206347  Q66117665              Paul John Hilbert   \n",
       "1207380  Q66629129                 Akhilesh Singh   \n",
       "1210994  Q69417231                  Enrique Riaza   \n",
       "1211984  Q70706427                  Hevrin Khalaf   \n",
       "\n",
       "                                       Short description  Gender  \\\n",
       "0         1st president of the United States (1732–1799)    Male   \n",
       "2        16th president of the United States (1809-1865)    Male   \n",
       "17              General, politician of Chile (1915-2006)    Male   \n",
       "23                   28th president of Chile (1908–1973)    Male   \n",
       "27                        President of Chile (1911-1982)    Male   \n",
       "...                                                  ...     ...   \n",
       "1203269                               Zambian politician    Male   \n",
       "1206347                              American politician    Male   \n",
       "1207380                                Indian politician    Male   \n",
       "1210994                    Spaans dierenarts (1890-1940)    Male   \n",
       "1211984     Syrian Kurdish politician and civil engineer  Female   \n",
       "\n",
       "                                                   Country  Occupation  \\\n",
       "0        United States of America; Kingdom of Great Bri...  Politician   \n",
       "2                                 United States of America  Politician   \n",
       "17                                                   Chile  Politician   \n",
       "23                                                   Chile  Politician   \n",
       "27                                                   Chile  Politician   \n",
       "...                                                    ...         ...   \n",
       "1203269                                             Zambia  Politician   \n",
       "1206347                                               null  Politician   \n",
       "1207380                                              India  Politician   \n",
       "1210994                                              Spain  Politician   \n",
       "1211984                                              Syria  Politician   \n",
       "\n",
       "         Birth year  Death year Manner of death  Age of death  \n",
       "0              1732      1799.0  natural causes          67.0  \n",
       "2              1809      1865.0        homicide          56.0  \n",
       "17             1915      2006.0  natural causes          91.0  \n",
       "23             1908      1973.0         suicide          65.0  \n",
       "27             1911      1982.0        homicide          71.0  \n",
       "...             ...         ...             ...           ...  \n",
       "1203269        1951      2013.0  natural causes          62.0  \n",
       "1206347        1949      2001.0  natural causes          52.0  \n",
       "1207380        1959      2019.0  natural causes          60.0  \n",
       "1210994        1890      1940.0    White Terror          50.0  \n",
       "1211984        1984      2019.0        homicide          35.0  \n",
       "\n",
       "[7894 rows x 10 columns]"
      ]
     },
     "execution_count": 29,
     "metadata": {},
     "output_type": "execute_result"
    }
   ],
   "source": [
    "politicians=Data[Data['Occupation']=='Politician']\n",
    "politicians"
   ]
  },
  {
   "cell_type": "code",
   "execution_count": 30,
   "id": "06dcb561",
   "metadata": {
    "execution": {
     "iopub.execute_input": "2022-07-09T23:26:16.419362Z",
     "iopub.status.busy": "2022-07-09T23:26:16.418470Z",
     "iopub.status.idle": "2022-07-09T23:26:16.434140Z",
     "shell.execute_reply": "2022-07-09T23:26:16.433308Z"
    },
    "papermill": {
     "duration": 0.044425,
     "end_time": "2022-07-09T23:26:16.436424",
     "exception": false,
     "start_time": "2022-07-09T23:26:16.391999",
     "status": "completed"
    },
    "tags": []
   },
   "outputs": [
    {
     "data": {
      "text/html": [
       "<div>\n",
       "<style scoped>\n",
       "    .dataframe tbody tr th:only-of-type {\n",
       "        vertical-align: middle;\n",
       "    }\n",
       "\n",
       "    .dataframe tbody tr th {\n",
       "        vertical-align: top;\n",
       "    }\n",
       "\n",
       "    .dataframe thead th {\n",
       "        text-align: right;\n",
       "    }\n",
       "</style>\n",
       "<table border=\"1\" class=\"dataframe\">\n",
       "  <thead>\n",
       "    <tr style=\"text-align: right;\">\n",
       "      <th></th>\n",
       "      <th>Gender</th>\n",
       "      <th>Age of death</th>\n",
       "    </tr>\n",
       "  </thead>\n",
       "  <tbody>\n",
       "    <tr>\n",
       "      <th>3</th>\n",
       "      <td>Transgender Female</td>\n",
       "      <td>45.000000</td>\n",
       "    </tr>\n",
       "    <tr>\n",
       "      <th>1</th>\n",
       "      <td>Female</td>\n",
       "      <td>59.462334</td>\n",
       "    </tr>\n",
       "    <tr>\n",
       "      <th>4</th>\n",
       "      <td>Transgender Male</td>\n",
       "      <td>60.000000</td>\n",
       "    </tr>\n",
       "    <tr>\n",
       "      <th>2</th>\n",
       "      <td>Male</td>\n",
       "      <td>60.262516</td>\n",
       "    </tr>\n",
       "    <tr>\n",
       "      <th>0</th>\n",
       "      <td>Eunuch; Male</td>\n",
       "      <td>72.500000</td>\n",
       "    </tr>\n",
       "  </tbody>\n",
       "</table>\n",
       "</div>"
      ],
      "text/plain": [
       "               Gender  Age of death\n",
       "3  Transgender Female     45.000000\n",
       "1              Female     59.462334\n",
       "4    Transgender Male     60.000000\n",
       "2                Male     60.262516\n",
       "0        Eunuch; Male     72.500000"
      ]
     },
     "execution_count": 30,
     "metadata": {},
     "output_type": "execute_result"
    }
   ],
   "source": [
    "politicians[[\"Gender\",'Age of death']].groupby(['Gender'],as_index=False).mean().sort_values(by='Age of death',ascending=True)"
   ]
  },
  {
   "cell_type": "code",
   "execution_count": 31,
   "id": "3e8261de",
   "metadata": {
    "execution": {
     "iopub.execute_input": "2022-07-09T23:26:16.488994Z",
     "iopub.status.busy": "2022-07-09T23:26:16.487949Z",
     "iopub.status.idle": "2022-07-09T23:26:16.508012Z",
     "shell.execute_reply": "2022-07-09T23:26:16.506817Z"
    },
    "papermill": {
     "duration": 0.04883,
     "end_time": "2022-07-09T23:26:16.510589",
     "exception": false,
     "start_time": "2022-07-09T23:26:16.461759",
     "status": "completed"
    },
    "tags": []
   },
   "outputs": [
    {
     "data": {
      "text/html": [
       "<div>\n",
       "<style scoped>\n",
       "    .dataframe tbody tr th:only-of-type {\n",
       "        vertical-align: middle;\n",
       "    }\n",
       "\n",
       "    .dataframe tbody tr th {\n",
       "        vertical-align: top;\n",
       "    }\n",
       "\n",
       "    .dataframe thead th {\n",
       "        text-align: right;\n",
       "    }\n",
       "</style>\n",
       "<table border=\"1\" class=\"dataframe\">\n",
       "  <thead>\n",
       "    <tr style=\"text-align: right;\">\n",
       "      <th></th>\n",
       "      <th>Manner of death</th>\n",
       "      <th>Age of death</th>\n",
       "    </tr>\n",
       "  </thead>\n",
       "  <tbody>\n",
       "    <tr>\n",
       "      <th>38</th>\n",
       "      <td>public execution</td>\n",
       "      <td>20.000000</td>\n",
       "    </tr>\n",
       "    <tr>\n",
       "      <th>31</th>\n",
       "      <td>homicide; police action</td>\n",
       "      <td>27.000000</td>\n",
       "    </tr>\n",
       "    <tr>\n",
       "      <th>30</th>\n",
       "      <td>homicide; magnicide</td>\n",
       "      <td>29.000000</td>\n",
       "    </tr>\n",
       "    <tr>\n",
       "      <th>3</th>\n",
       "      <td>Siege of Danzig</td>\n",
       "      <td>35.000000</td>\n",
       "    </tr>\n",
       "    <tr>\n",
       "      <th>27</th>\n",
       "      <td>homicide; death in absentia</td>\n",
       "      <td>35.000000</td>\n",
       "    </tr>\n",
       "    <tr>\n",
       "      <th>28</th>\n",
       "      <td>homicide; duel</td>\n",
       "      <td>37.000000</td>\n",
       "    </tr>\n",
       "    <tr>\n",
       "      <th>37</th>\n",
       "      <td>pending investigation</td>\n",
       "      <td>40.000000</td>\n",
       "    </tr>\n",
       "    <tr>\n",
       "      <th>43</th>\n",
       "      <td>torture</td>\n",
       "      <td>41.000000</td>\n",
       "    </tr>\n",
       "    <tr>\n",
       "      <th>13</th>\n",
       "      <td>capital punishment; suicide</td>\n",
       "      <td>41.250000</td>\n",
       "    </tr>\n",
       "    <tr>\n",
       "      <th>17</th>\n",
       "      <td>duel</td>\n",
       "      <td>41.500000</td>\n",
       "    </tr>\n",
       "    <tr>\n",
       "      <th>1</th>\n",
       "      <td>Eastern Front of World War II</td>\n",
       "      <td>42.000000</td>\n",
       "    </tr>\n",
       "    <tr>\n",
       "      <th>0</th>\n",
       "      <td>Atentado para uno suizo Zollinger</td>\n",
       "      <td>44.000000</td>\n",
       "    </tr>\n",
       "    <tr>\n",
       "      <th>16</th>\n",
       "      <td>death in battle</td>\n",
       "      <td>44.900000</td>\n",
       "    </tr>\n",
       "    <tr>\n",
       "      <th>14</th>\n",
       "      <td>capital punishment; suicide; nan</td>\n",
       "      <td>45.000000</td>\n",
       "    </tr>\n",
       "    <tr>\n",
       "      <th>9</th>\n",
       "      <td>capital punishment in the United States</td>\n",
       "      <td>46.000000</td>\n",
       "    </tr>\n",
       "    <tr>\n",
       "      <th>10</th>\n",
       "      <td>capital punishment; People's court</td>\n",
       "      <td>47.000000</td>\n",
       "    </tr>\n",
       "    <tr>\n",
       "      <th>20</th>\n",
       "      <td>extrajudicial killing</td>\n",
       "      <td>48.333333</td>\n",
       "    </tr>\n",
       "    <tr>\n",
       "      <th>8</th>\n",
       "      <td>capital punishment</td>\n",
       "      <td>48.371681</td>\n",
       "    </tr>\n",
       "    <tr>\n",
       "      <th>22</th>\n",
       "      <td>homicide</td>\n",
       "      <td>48.955056</td>\n",
       "    </tr>\n",
       "    <tr>\n",
       "      <th>34</th>\n",
       "      <td>killing</td>\n",
       "      <td>49.000000</td>\n",
       "    </tr>\n",
       "    <tr>\n",
       "      <th>11</th>\n",
       "      <td>capital punishment; homicide</td>\n",
       "      <td>49.210526</td>\n",
       "    </tr>\n",
       "    <tr>\n",
       "      <th>44</th>\n",
       "      <td>unnatural death</td>\n",
       "      <td>49.698925</td>\n",
       "    </tr>\n",
       "    <tr>\n",
       "      <th>4</th>\n",
       "      <td>White Terror</td>\n",
       "      <td>50.000000</td>\n",
       "    </tr>\n",
       "    <tr>\n",
       "      <th>15</th>\n",
       "      <td>capital punishment; unnatural death</td>\n",
       "      <td>50.514286</td>\n",
       "    </tr>\n",
       "    <tr>\n",
       "      <th>2</th>\n",
       "      <td>Israeli targeted killings</td>\n",
       "      <td>51.500000</td>\n",
       "    </tr>\n",
       "    <tr>\n",
       "      <th>41</th>\n",
       "      <td>suicide; homicide</td>\n",
       "      <td>52.333333</td>\n",
       "    </tr>\n",
       "    <tr>\n",
       "      <th>29</th>\n",
       "      <td>homicide; homicide</td>\n",
       "      <td>53.500000</td>\n",
       "    </tr>\n",
       "    <tr>\n",
       "      <th>12</th>\n",
       "      <td>capital punishment; nan</td>\n",
       "      <td>54.000000</td>\n",
       "    </tr>\n",
       "    <tr>\n",
       "      <th>40</th>\n",
       "      <td>suicide</td>\n",
       "      <td>54.052564</td>\n",
       "    </tr>\n",
       "    <tr>\n",
       "      <th>25</th>\n",
       "      <td>homicide; ballistic trauma</td>\n",
       "      <td>55.000000</td>\n",
       "    </tr>\n",
       "    <tr>\n",
       "      <th>5</th>\n",
       "      <td>accident</td>\n",
       "      <td>57.551555</td>\n",
       "    </tr>\n",
       "    <tr>\n",
       "      <th>26</th>\n",
       "      <td>homicide; bomb attack</td>\n",
       "      <td>59.000000</td>\n",
       "    </tr>\n",
       "    <tr>\n",
       "      <th>21</th>\n",
       "      <td>femicide</td>\n",
       "      <td>59.000000</td>\n",
       "    </tr>\n",
       "    <tr>\n",
       "      <th>23</th>\n",
       "      <td>homicide; Atentado para uno suizo Zollinger</td>\n",
       "      <td>60.000000</td>\n",
       "    </tr>\n",
       "    <tr>\n",
       "      <th>35</th>\n",
       "      <td>magnicide</td>\n",
       "      <td>61.000000</td>\n",
       "    </tr>\n",
       "    <tr>\n",
       "      <th>32</th>\n",
       "      <td>homicide; regicide</td>\n",
       "      <td>63.000000</td>\n",
       "    </tr>\n",
       "    <tr>\n",
       "      <th>39</th>\n",
       "      <td>sinking of the SS Ville-du-Havre</td>\n",
       "      <td>64.000000</td>\n",
       "    </tr>\n",
       "    <tr>\n",
       "      <th>18</th>\n",
       "      <td>eating</td>\n",
       "      <td>65.000000</td>\n",
       "    </tr>\n",
       "    <tr>\n",
       "      <th>24</th>\n",
       "      <td>homicide; accident; natural causes</td>\n",
       "      <td>65.000000</td>\n",
       "    </tr>\n",
       "    <tr>\n",
       "      <th>36</th>\n",
       "      <td>natural causes</td>\n",
       "      <td>66.956071</td>\n",
       "    </tr>\n",
       "    <tr>\n",
       "      <th>7</th>\n",
       "      <td>ballistic trauma</td>\n",
       "      <td>67.000000</td>\n",
       "    </tr>\n",
       "    <tr>\n",
       "      <th>33</th>\n",
       "      <td>immurement</td>\n",
       "      <td>69.000000</td>\n",
       "    </tr>\n",
       "    <tr>\n",
       "      <th>42</th>\n",
       "      <td>suicide; natural causes</td>\n",
       "      <td>72.000000</td>\n",
       "    </tr>\n",
       "    <tr>\n",
       "      <th>6</th>\n",
       "      <td>accident; natural causes</td>\n",
       "      <td>75.000000</td>\n",
       "    </tr>\n",
       "    <tr>\n",
       "      <th>19</th>\n",
       "      <td>euthanasia</td>\n",
       "      <td>78.000000</td>\n",
       "    </tr>\n",
       "  </tbody>\n",
       "</table>\n",
       "</div>"
      ],
      "text/plain": [
       "                                Manner of death  Age of death\n",
       "38                             public execution     20.000000\n",
       "31                      homicide; police action     27.000000\n",
       "30                          homicide; magnicide     29.000000\n",
       "3                               Siege of Danzig     35.000000\n",
       "27                  homicide; death in absentia     35.000000\n",
       "28                               homicide; duel     37.000000\n",
       "37                        pending investigation     40.000000\n",
       "43                                      torture     41.000000\n",
       "13                  capital punishment; suicide     41.250000\n",
       "17                                         duel     41.500000\n",
       "1                 Eastern Front of World War II     42.000000\n",
       "0             Atentado para uno suizo Zollinger     44.000000\n",
       "16                              death in battle     44.900000\n",
       "14             capital punishment; suicide; nan     45.000000\n",
       "9       capital punishment in the United States     46.000000\n",
       "10           capital punishment; People's court     47.000000\n",
       "20                        extrajudicial killing     48.333333\n",
       "8                            capital punishment     48.371681\n",
       "22                                     homicide     48.955056\n",
       "34                                      killing     49.000000\n",
       "11                 capital punishment; homicide     49.210526\n",
       "44                              unnatural death     49.698925\n",
       "4                                  White Terror     50.000000\n",
       "15          capital punishment; unnatural death     50.514286\n",
       "2                     Israeli targeted killings     51.500000\n",
       "41                            suicide; homicide     52.333333\n",
       "29                           homicide; homicide     53.500000\n",
       "12                      capital punishment; nan     54.000000\n",
       "40                                      suicide     54.052564\n",
       "25                   homicide; ballistic trauma     55.000000\n",
       "5                                      accident     57.551555\n",
       "26                        homicide; bomb attack     59.000000\n",
       "21                                     femicide     59.000000\n",
       "23  homicide; Atentado para uno suizo Zollinger     60.000000\n",
       "35                                    magnicide     61.000000\n",
       "32                           homicide; regicide     63.000000\n",
       "39             sinking of the SS Ville-du-Havre     64.000000\n",
       "18                                       eating     65.000000\n",
       "24           homicide; accident; natural causes     65.000000\n",
       "36                               natural causes     66.956071\n",
       "7                              ballistic trauma     67.000000\n",
       "33                                   immurement     69.000000\n",
       "42                      suicide; natural causes     72.000000\n",
       "6                      accident; natural causes     75.000000\n",
       "19                                   euthanasia     78.000000"
      ]
     },
     "execution_count": 31,
     "metadata": {},
     "output_type": "execute_result"
    }
   ],
   "source": [
    "politicians[[\"Manner of death\",'Age of death']].groupby(['Manner of death'],as_index=False).mean().sort_values(by='Age of death',ascending=True)"
   ]
  },
  {
   "cell_type": "code",
   "execution_count": 32,
   "id": "943014ba",
   "metadata": {
    "execution": {
     "iopub.execute_input": "2022-07-09T23:26:16.563513Z",
     "iopub.status.busy": "2022-07-09T23:26:16.562773Z",
     "iopub.status.idle": "2022-07-09T23:26:16.570999Z",
     "shell.execute_reply": "2022-07-09T23:26:16.570062Z"
    },
    "papermill": {
     "duration": 0.03716,
     "end_time": "2022-07-09T23:26:16.573183",
     "exception": false,
     "start_time": "2022-07-09T23:26:16.536023",
     "status": "completed"
    },
    "tags": []
   },
   "outputs": [
    {
     "data": {
      "text/plain": [
       "5"
      ]
     },
     "execution_count": 32,
     "metadata": {},
     "output_type": "execute_result"
    }
   ],
   "source": [
    "politicians['Gender'].unique().size"
   ]
  },
  {
   "cell_type": "code",
   "execution_count": 33,
   "id": "60523e1c",
   "metadata": {
    "execution": {
     "iopub.execute_input": "2022-07-09T23:26:16.627309Z",
     "iopub.status.busy": "2022-07-09T23:26:16.626509Z",
     "iopub.status.idle": "2022-07-09T23:26:16.827860Z",
     "shell.execute_reply": "2022-07-09T23:26:16.826132Z"
    },
    "papermill": {
     "duration": 0.231217,
     "end_time": "2022-07-09T23:26:16.830382",
     "exception": false,
     "start_time": "2022-07-09T23:26:16.599165",
     "status": "completed"
    },
    "tags": []
   },
   "outputs": [
    {
     "name": "stderr",
     "output_type": "stream",
     "text": [
      "/opt/conda/lib/python3.7/site-packages/seaborn/_decorators.py:43: FutureWarning: Pass the following variable as a keyword arg: x. From version 0.12, the only valid positional argument will be `data`, and passing other arguments without an explicit keyword will result in an error or misinterpretation.\n",
      "  FutureWarning\n"
     ]
    },
    {
     "data": {
      "image/png": "[encoded data removed]",
      "text/plain": [
       "<Figure size 432x288 with 1 Axes>"
      ]
     },
     "metadata": {
      "needs_background": "light"
     },
     "output_type": "display_data"
    }
   ],
   "source": [
    "sns.countplot(politicians['Gender'])\n",
    "plt.xticks(rotation=90)\n",
    "plt.show()"
   ]
  },
  {
   "cell_type": "code",
   "execution_count": 34,
   "id": "39127efc",
   "metadata": {
    "execution": {
     "iopub.execute_input": "2022-07-09T23:26:16.885861Z",
     "iopub.status.busy": "2022-07-09T23:26:16.885091Z",
     "iopub.status.idle": "2022-07-09T23:26:17.070529Z",
     "shell.execute_reply": "2022-07-09T23:26:17.068845Z"
    },
    "papermill": {
     "duration": 0.217427,
     "end_time": "2022-07-09T23:26:17.074237",
     "exception": false,
     "start_time": "2022-07-09T23:26:16.856810",
     "status": "completed"
    },
    "tags": []
   },
   "outputs": [
    {
     "data": {
      "text/plain": [
       "Text(0.5, 1.0, 'Number of politicians by gender')"
      ]
     },
     "execution_count": 34,
     "metadata": {},
     "output_type": "execute_result"
    },
    {
     "data": {
      "image/png": "[encoded data removed]",
      "text/plain": [
       "<Figure size 720x720 with 1 Axes>"
      ]
     },
     "metadata": {},
     "output_type": "display_data"
    }
   ],
   "source": [
    "#pie plot \n",
    "label=politicians['Gender'].value_counts().index\n",
    "colors=['red','blue','silver']\n",
    "explode = [0,0,0,0,0]\n",
    "sizes=politicians['Gender'].value_counts().values\n",
    "\n",
    "#visual\n",
    "plt.figure(figsize=(10,10))\n",
    "plt.pie(sizes,explode=explode,labels=label,colors=colors,autopct='%1.1f%%')\n",
    "plt.title('Number of politicians by gender',color = 'blue',fontsize = 15)"
   ]
  },
  {
   "cell_type": "code",
   "execution_count": 35,
   "id": "766c8e01",
   "metadata": {
    "execution": {
     "iopub.execute_input": "2022-07-09T23:26:17.142477Z",
     "iopub.status.busy": "2022-07-09T23:26:17.141347Z",
     "iopub.status.idle": "2022-07-09T23:26:17.780317Z",
     "shell.execute_reply": "2022-07-09T23:26:17.779187Z"
    },
    "papermill": {
     "duration": 0.670574,
     "end_time": "2022-07-09T23:26:17.783460",
     "exception": false,
     "start_time": "2022-07-09T23:26:17.112886",
     "status": "completed"
    },
    "tags": []
   },
   "outputs": [
    {
     "name": "stderr",
     "output_type": "stream",
     "text": [
      "/opt/conda/lib/python3.7/site-packages/seaborn/_decorators.py:43: FutureWarning: Pass the following variable as a keyword arg: x. From version 0.12, the only valid positional argument will be `data`, and passing other arguments without an explicit keyword will result in an error or misinterpretation.\n",
      "  FutureWarning\n"
     ]
    },
    {
     "data": {
      "image/png": "[encoded data removed]",
      "text/plain": [
       "<Figure size 1080x720 with 1 Axes>"
      ]
     },
     "metadata": {
      "needs_background": "light"
     },
     "output_type": "display_data"
    }
   ],
   "source": [
    "plt.figure(figsize=(15,10))\n",
    "sns.countplot(politicians['Manner of death'])\n",
    "plt.xticks(rotation=90)\n",
    "plt.show()"
   ]
  },
  {
   "cell_type": "code",
   "execution_count": 36,
   "id": "7081adc1",
   "metadata": {
    "execution": {
     "iopub.execute_input": "2022-07-09T23:26:17.842443Z",
     "iopub.status.busy": "2022-07-09T23:26:17.842061Z",
     "iopub.status.idle": "2022-07-09T23:26:17.849254Z",
     "shell.execute_reply": "2022-07-09T23:26:17.848496Z"
    },
    "papermill": {
     "duration": 0.039864,
     "end_time": "2022-07-09T23:26:17.851361",
     "exception": false,
     "start_time": "2022-07-09T23:26:17.811497",
     "status": "completed"
    },
    "tags": []
   },
   "outputs": [
    {
     "data": {
      "text/plain": [
       "45"
      ]
     },
     "execution_count": 36,
     "metadata": {},
     "output_type": "execute_result"
    }
   ],
   "source": [
    "politicians['Manner of death'].unique().size"
   ]
  },
  {
   "cell_type": "code",
   "execution_count": 37,
   "id": "ff0e64e3",
   "metadata": {
    "execution": {
     "iopub.execute_input": "2022-07-09T23:26:17.908981Z",
     "iopub.status.busy": "2022-07-09T23:26:17.908213Z",
     "iopub.status.idle": "2022-07-09T23:26:18.665434Z",
     "shell.execute_reply": "2022-07-09T23:26:18.664215Z"
    },
    "papermill": {
     "duration": 0.78916,
     "end_time": "2022-07-09T23:26:18.668202",
     "exception": false,
     "start_time": "2022-07-09T23:26:17.879042",
     "status": "completed"
    },
    "tags": []
   },
   "outputs": [
    {
     "data": {
      "text/plain": [
       "Text(0.5, 1.0, 'cause of death of politicians')"
      ]
     },
     "execution_count": 37,
     "metadata": {},
     "output_type": "execute_result"
    },
    {
     "data": {
      "image/png": "[encoded data removed]",
      "text/plain": [
       "<Figure size 720x720 with 1 Axes>"
      ]
     },
     "metadata": {},
     "output_type": "display_data"
    }
   ],
   "source": [
    "#pie plot \n",
    "label=politicians['Manner of death'].value_counts().index\n",
    "colors=['red','blue','silver','green','brown','pink','black','yellow','purple','orange']\n",
    "explode = [0,0,0,0,0,0,0,0,0,0,0,0,0,0,0,0,0,0,0,0,0,0,0,0,0,0,0,0,0,0,0,0,0,0,0,0,0,0,0,0,0,0,0,0,0]\n",
    "sizes=politicians['Manner of death'].value_counts().values\n",
    "\n",
    "#visual\n",
    "plt.figure(figsize=(10,10))\n",
    "plt.pie(sizes,explode=explode,labels=label,colors=colors,autopct='%1.1f%%')\n",
    "plt.title('cause of death of politicians',color = 'blue',fontsize = 15)"
   ]
  },
  {
   "cell_type": "markdown",
   "id": "18dff11c",
   "metadata": {
    "papermill": {
     "duration": 0.032605,
     "end_time": "2022-07-09T23:26:18.731018",
     "exception": false,
     "start_time": "2022-07-09T23:26:18.698413",
     "status": "completed"
    },
    "tags": []
   },
   "source": [
    "<a id=\"7\" ></a><br>\n",
    "## Serial killer"
   ]
  },
  {
   "cell_type": "code",
   "execution_count": 38,
   "id": "30e08b93",
   "metadata": {
    "execution": {
     "iopub.execute_input": "2022-07-09T23:26:18.792267Z",
     "iopub.status.busy": "2022-07-09T23:26:18.791819Z",
     "iopub.status.idle": "2022-07-09T23:26:18.826348Z",
     "shell.execute_reply": "2022-07-09T23:26:18.825216Z"
    },
    "papermill": {
     "duration": 0.06855,
     "end_time": "2022-07-09T23:26:18.828622",
     "exception": false,
     "start_time": "2022-07-09T23:26:18.760072",
     "status": "completed"
    },
    "tags": []
   },
   "outputs": [
    {
     "data": {
      "text/html": [
       "<div>\n",
       "<style scoped>\n",
       "    .dataframe tbody tr th:only-of-type {\n",
       "        vertical-align: middle;\n",
       "    }\n",
       "\n",
       "    .dataframe tbody tr th {\n",
       "        vertical-align: top;\n",
       "    }\n",
       "\n",
       "    .dataframe thead th {\n",
       "        text-align: right;\n",
       "    }\n",
       "</style>\n",
       "<table border=\"1\" class=\"dataframe\">\n",
       "  <thead>\n",
       "    <tr style=\"text-align: right;\">\n",
       "      <th></th>\n",
       "      <th>Id</th>\n",
       "      <th>Name</th>\n",
       "      <th>Short description</th>\n",
       "      <th>Gender</th>\n",
       "      <th>Country</th>\n",
       "      <th>Occupation</th>\n",
       "      <th>Birth year</th>\n",
       "      <th>Death year</th>\n",
       "      <th>Manner of death</th>\n",
       "      <th>Age of death</th>\n",
       "    </tr>\n",
       "  </thead>\n",
       "  <tbody>\n",
       "    <tr>\n",
       "      <th>5351</th>\n",
       "      <td>Q61887</td>\n",
       "      <td>Fritz Haarmann</td>\n",
       "      <td>German serial killer</td>\n",
       "      <td>Male</td>\n",
       "      <td>Weimar Republic</td>\n",
       "      <td>Serial killer</td>\n",
       "      <td>1879</td>\n",
       "      <td>1925.0</td>\n",
       "      <td>capital punishment</td>\n",
       "      <td>46.0</td>\n",
       "    </tr>\n",
       "    <tr>\n",
       "      <th>5528</th>\n",
       "      <td>Q62256</td>\n",
       "      <td>Bruno Lüdke</td>\n",
       "      <td>German serial killer</td>\n",
       "      <td>Male</td>\n",
       "      <td>Germany</td>\n",
       "      <td>Serial killer</td>\n",
       "      <td>1908</td>\n",
       "      <td>1944.0</td>\n",
       "      <td>capital punishment</td>\n",
       "      <td>36.0</td>\n",
       "    </tr>\n",
       "    <tr>\n",
       "      <th>6076</th>\n",
       "      <td>Q63443</td>\n",
       "      <td>Eugen Weidmann</td>\n",
       "      <td>German serial killer, last person to be public...</td>\n",
       "      <td>Male</td>\n",
       "      <td>Germany</td>\n",
       "      <td>Serial killer</td>\n",
       "      <td>1908</td>\n",
       "      <td>1939.0</td>\n",
       "      <td>capital punishment</td>\n",
       "      <td>31.0</td>\n",
       "    </tr>\n",
       "    <tr>\n",
       "      <th>7497</th>\n",
       "      <td>Q67370</td>\n",
       "      <td>Anna Maria Zwanziger</td>\n",
       "      <td>German serial killer</td>\n",
       "      <td>Female</td>\n",
       "      <td>null</td>\n",
       "      <td>Serial killer</td>\n",
       "      <td>1760</td>\n",
       "      <td>1811.0</td>\n",
       "      <td>capital punishment</td>\n",
       "      <td>51.0</td>\n",
       "    </tr>\n",
       "    <tr>\n",
       "      <th>8072</th>\n",
       "      <td>Q68963</td>\n",
       "      <td>Jürgen Bartsch</td>\n",
       "      <td>Serial killer</td>\n",
       "      <td>Male</td>\n",
       "      <td>Germany</td>\n",
       "      <td>Serial killer</td>\n",
       "      <td>1946</td>\n",
       "      <td>1976.0</td>\n",
       "      <td>accident</td>\n",
       "      <td>30.0</td>\n",
       "    </tr>\n",
       "    <tr>\n",
       "      <th>...</th>\n",
       "      <td>...</td>\n",
       "      <td>...</td>\n",
       "      <td>...</td>\n",
       "      <td>...</td>\n",
       "      <td>...</td>\n",
       "      <td>...</td>\n",
       "      <td>...</td>\n",
       "      <td>...</td>\n",
       "      <td>...</td>\n",
       "      <td>...</td>\n",
       "    </tr>\n",
       "    <tr>\n",
       "      <th>1027462</th>\n",
       "      <td>Q27786421</td>\n",
       "      <td>Robert Francis Burns</td>\n",
       "      <td>Irish Australian convicted murder</td>\n",
       "      <td>Male</td>\n",
       "      <td>null</td>\n",
       "      <td>Serial killer</td>\n",
       "      <td>1840</td>\n",
       "      <td>1883.0</td>\n",
       "      <td>capital punishment</td>\n",
       "      <td>43.0</td>\n",
       "    </tr>\n",
       "    <tr>\n",
       "      <th>1030402</th>\n",
       "      <td>Q27942465</td>\n",
       "      <td>John \"Rocky\" Whelan</td>\n",
       "      <td>null</td>\n",
       "      <td>Male</td>\n",
       "      <td>null</td>\n",
       "      <td>Serial killer</td>\n",
       "      <td>1800</td>\n",
       "      <td>1855.0</td>\n",
       "      <td>capital punishment</td>\n",
       "      <td>55.0</td>\n",
       "    </tr>\n",
       "    <tr>\n",
       "      <th>1043799</th>\n",
       "      <td>Q28874209</td>\n",
       "      <td>Zhang Jun</td>\n",
       "      <td>null</td>\n",
       "      <td>Male</td>\n",
       "      <td>null</td>\n",
       "      <td>Serial killer</td>\n",
       "      <td>1966</td>\n",
       "      <td>2000.0</td>\n",
       "      <td>capital punishment</td>\n",
       "      <td>34.0</td>\n",
       "    </tr>\n",
       "    <tr>\n",
       "      <th>1055612</th>\n",
       "      <td>Q30323892</td>\n",
       "      <td>Louise Vermilya</td>\n",
       "      <td>null</td>\n",
       "      <td>Female</td>\n",
       "      <td>null</td>\n",
       "      <td>Serial killer</td>\n",
       "      <td>1868</td>\n",
       "      <td>1910.0</td>\n",
       "      <td>suicide</td>\n",
       "      <td>42.0</td>\n",
       "    </tr>\n",
       "    <tr>\n",
       "      <th>1156461</th>\n",
       "      <td>Q56952569</td>\n",
       "      <td>Robert Eugene Brashers</td>\n",
       "      <td>American serial killer and rapist</td>\n",
       "      <td>Male</td>\n",
       "      <td>null</td>\n",
       "      <td>Serial killer</td>\n",
       "      <td>1958</td>\n",
       "      <td>1999.0</td>\n",
       "      <td>suicide</td>\n",
       "      <td>41.0</td>\n",
       "    </tr>\n",
       "  </tbody>\n",
       "</table>\n",
       "<p>160 rows × 10 columns</p>\n",
       "</div>"
      ],
      "text/plain": [
       "                Id                    Name  \\\n",
       "5351        Q61887          Fritz Haarmann   \n",
       "5528        Q62256             Bruno Lüdke   \n",
       "6076        Q63443          Eugen Weidmann   \n",
       "7497        Q67370    Anna Maria Zwanziger   \n",
       "8072        Q68963          Jürgen Bartsch   \n",
       "...            ...                     ...   \n",
       "1027462  Q27786421    Robert Francis Burns   \n",
       "1030402  Q27942465     John \"Rocky\" Whelan   \n",
       "1043799  Q28874209               Zhang Jun   \n",
       "1055612  Q30323892         Louise Vermilya   \n",
       "1156461  Q56952569  Robert Eugene Brashers   \n",
       "\n",
       "                                         Short description  Gender  \\\n",
       "5351                                  German serial killer    Male   \n",
       "5528                                  German serial killer    Male   \n",
       "6076     German serial killer, last person to be public...    Male   \n",
       "7497                                  German serial killer  Female   \n",
       "8072                                         Serial killer    Male   \n",
       "...                                                    ...     ...   \n",
       "1027462                  Irish Australian convicted murder    Male   \n",
       "1030402                                               null    Male   \n",
       "1043799                                               null    Male   \n",
       "1055612                                               null  Female   \n",
       "1156461                  American serial killer and rapist    Male   \n",
       "\n",
       "                 Country     Occupation  Birth year  Death year  \\\n",
       "5351     Weimar Republic  Serial killer        1879      1925.0   \n",
       "5528             Germany  Serial killer        1908      1944.0   \n",
       "6076             Germany  Serial killer        1908      1939.0   \n",
       "7497                null  Serial killer        1760      1811.0   \n",
       "8072             Germany  Serial killer        1946      1976.0   \n",
       "...                  ...            ...         ...         ...   \n",
       "1027462             null  Serial killer        1840      1883.0   \n",
       "1030402             null  Serial killer        1800      1855.0   \n",
       "1043799             null  Serial killer        1966      2000.0   \n",
       "1055612             null  Serial killer        1868      1910.0   \n",
       "1156461             null  Serial killer        1958      1999.0   \n",
       "\n",
       "            Manner of death  Age of death  \n",
       "5351     capital punishment          46.0  \n",
       "5528     capital punishment          36.0  \n",
       "6076     capital punishment          31.0  \n",
       "7497     capital punishment          51.0  \n",
       "8072               accident          30.0  \n",
       "...                     ...           ...  \n",
       "1027462  capital punishment          43.0  \n",
       "1030402  capital punishment          55.0  \n",
       "1043799  capital punishment          34.0  \n",
       "1055612             suicide          42.0  \n",
       "1156461             suicide          41.0  \n",
       "\n",
       "[160 rows x 10 columns]"
      ]
     },
     "execution_count": 38,
     "metadata": {},
     "output_type": "execute_result"
    }
   ],
   "source": [
    "serial_killer=Data[(Data['Occupation']=='Serial killer') ]\n",
    "serial_killer"
   ]
  },
  {
   "cell_type": "code",
   "execution_count": 39,
   "id": "155579e5",
   "metadata": {
    "execution": {
     "iopub.execute_input": "2022-07-09T23:26:18.888872Z",
     "iopub.status.busy": "2022-07-09T23:26:18.888457Z",
     "iopub.status.idle": "2022-07-09T23:26:18.905094Z",
     "shell.execute_reply": "2022-07-09T23:26:18.903894Z"
    },
    "papermill": {
     "duration": 0.049721,
     "end_time": "2022-07-09T23:26:18.907608",
     "exception": false,
     "start_time": "2022-07-09T23:26:18.857887",
     "status": "completed"
    },
    "tags": []
   },
   "outputs": [
    {
     "data": {
      "text/html": [
       "<div>\n",
       "<style scoped>\n",
       "    .dataframe tbody tr th:only-of-type {\n",
       "        vertical-align: middle;\n",
       "    }\n",
       "\n",
       "    .dataframe tbody tr th {\n",
       "        vertical-align: top;\n",
       "    }\n",
       "\n",
       "    .dataframe thead th {\n",
       "        text-align: right;\n",
       "    }\n",
       "</style>\n",
       "<table border=\"1\" class=\"dataframe\">\n",
       "  <thead>\n",
       "    <tr style=\"text-align: right;\">\n",
       "      <th></th>\n",
       "      <th>Gender</th>\n",
       "      <th>Age of death</th>\n",
       "    </tr>\n",
       "  </thead>\n",
       "  <tbody>\n",
       "    <tr>\n",
       "      <th>1</th>\n",
       "      <td>Male</td>\n",
       "      <td>42.394161</td>\n",
       "    </tr>\n",
       "    <tr>\n",
       "      <th>0</th>\n",
       "      <td>Female</td>\n",
       "      <td>48.043478</td>\n",
       "    </tr>\n",
       "  </tbody>\n",
       "</table>\n",
       "</div>"
      ],
      "text/plain": [
       "   Gender  Age of death\n",
       "1    Male     42.394161\n",
       "0  Female     48.043478"
      ]
     },
     "execution_count": 39,
     "metadata": {},
     "output_type": "execute_result"
    }
   ],
   "source": [
    "serial_killer[[\"Gender\",'Age of death']].groupby(['Gender'],as_index=False).mean().sort_values(by='Age of death',ascending=True)"
   ]
  },
  {
   "cell_type": "code",
   "execution_count": 40,
   "id": "7607e4b1",
   "metadata": {
    "execution": {
     "iopub.execute_input": "2022-07-09T23:26:18.973497Z",
     "iopub.status.busy": "2022-07-09T23:26:18.973100Z",
     "iopub.status.idle": "2022-07-09T23:26:18.989478Z",
     "shell.execute_reply": "2022-07-09T23:26:18.988386Z"
    },
    "papermill": {
     "duration": 0.054241,
     "end_time": "2022-07-09T23:26:18.991719",
     "exception": false,
     "start_time": "2022-07-09T23:26:18.937478",
     "status": "completed"
    },
    "tags": []
   },
   "outputs": [
    {
     "data": {
      "text/html": [
       "<div>\n",
       "<style scoped>\n",
       "    .dataframe tbody tr th:only-of-type {\n",
       "        vertical-align: middle;\n",
       "    }\n",
       "\n",
       "    .dataframe tbody tr th {\n",
       "        vertical-align: top;\n",
       "    }\n",
       "\n",
       "    .dataframe thead th {\n",
       "        text-align: right;\n",
       "    }\n",
       "</style>\n",
       "<table border=\"1\" class=\"dataframe\">\n",
       "  <thead>\n",
       "    <tr style=\"text-align: right;\">\n",
       "      <th></th>\n",
       "      <th>Manner of death</th>\n",
       "      <th>Age of death</th>\n",
       "    </tr>\n",
       "  </thead>\n",
       "  <tbody>\n",
       "    <tr>\n",
       "      <th>0</th>\n",
       "      <td>accident</td>\n",
       "      <td>30.000000</td>\n",
       "    </tr>\n",
       "    <tr>\n",
       "      <th>10</th>\n",
       "      <td>unnatural death</td>\n",
       "      <td>31.833333</td>\n",
       "    </tr>\n",
       "    <tr>\n",
       "      <th>5</th>\n",
       "      <td>homicide; ballistic trauma</td>\n",
       "      <td>33.000000</td>\n",
       "    </tr>\n",
       "    <tr>\n",
       "      <th>2</th>\n",
       "      <td>capital punishment; unnatural death</td>\n",
       "      <td>34.333333</td>\n",
       "    </tr>\n",
       "    <tr>\n",
       "      <th>3</th>\n",
       "      <td>gunshot</td>\n",
       "      <td>39.000000</td>\n",
       "    </tr>\n",
       "    <tr>\n",
       "      <th>1</th>\n",
       "      <td>capital punishment</td>\n",
       "      <td>39.469136</td>\n",
       "    </tr>\n",
       "    <tr>\n",
       "      <th>8</th>\n",
       "      <td>stabbing</td>\n",
       "      <td>42.000000</td>\n",
       "    </tr>\n",
       "    <tr>\n",
       "      <th>4</th>\n",
       "      <td>homicide</td>\n",
       "      <td>42.166667</td>\n",
       "    </tr>\n",
       "    <tr>\n",
       "      <th>9</th>\n",
       "      <td>suicide</td>\n",
       "      <td>42.812500</td>\n",
       "    </tr>\n",
       "    <tr>\n",
       "      <th>6</th>\n",
       "      <td>lethal injection</td>\n",
       "      <td>46.000000</td>\n",
       "    </tr>\n",
       "    <tr>\n",
       "      <th>7</th>\n",
       "      <td>natural causes</td>\n",
       "      <td>59.592593</td>\n",
       "    </tr>\n",
       "  </tbody>\n",
       "</table>\n",
       "</div>"
      ],
      "text/plain": [
       "                        Manner of death  Age of death\n",
       "0                              accident     30.000000\n",
       "10                      unnatural death     31.833333\n",
       "5            homicide; ballistic trauma     33.000000\n",
       "2   capital punishment; unnatural death     34.333333\n",
       "3                               gunshot     39.000000\n",
       "1                    capital punishment     39.469136\n",
       "8                              stabbing     42.000000\n",
       "4                              homicide     42.166667\n",
       "9                               suicide     42.812500\n",
       "6                      lethal injection     46.000000\n",
       "7                        natural causes     59.592593"
      ]
     },
     "execution_count": 40,
     "metadata": {},
     "output_type": "execute_result"
    }
   ],
   "source": [
    "serial_killer[[\"Manner of death\",'Age of death']].groupby(['Manner of death'],as_index=False).mean().sort_values(by='Age of death',ascending=True)"
   ]
  },
  {
   "cell_type": "code",
   "execution_count": 41,
   "id": "567f8f7b",
   "metadata": {
    "execution": {
     "iopub.execute_input": "2022-07-09T23:26:19.055399Z",
     "iopub.status.busy": "2022-07-09T23:26:19.054971Z",
     "iopub.status.idle": "2022-07-09T23:26:19.220692Z",
     "shell.execute_reply": "2022-07-09T23:26:19.219808Z"
    },
    "papermill": {
     "duration": 0.200537,
     "end_time": "2022-07-09T23:26:19.223570",
     "exception": false,
     "start_time": "2022-07-09T23:26:19.023033",
     "status": "completed"
    },
    "tags": []
   },
   "outputs": [
    {
     "name": "stderr",
     "output_type": "stream",
     "text": [
      "/opt/conda/lib/python3.7/site-packages/seaborn/_decorators.py:43: FutureWarning: Pass the following variable as a keyword arg: x. From version 0.12, the only valid positional argument will be `data`, and passing other arguments without an explicit keyword will result in an error or misinterpretation.\n",
      "  FutureWarning\n"
     ]
    },
    {
     "data": {
      "image/png": "[encoded data removed]",
      "text/plain": [
       "<Figure size 432x288 with 1 Axes>"
      ]
     },
     "metadata": {
      "needs_background": "light"
     },
     "output_type": "display_data"
    }
   ],
   "source": [
    "sns.countplot(serial_killer['Gender'])\n",
    "plt.xticks(rotation=90)\n",
    "plt.show()"
   ]
  },
  {
   "cell_type": "code",
   "execution_count": 42,
   "id": "65e12aa5",
   "metadata": {
    "execution": {
     "iopub.execute_input": "2022-07-09T23:26:19.285984Z",
     "iopub.status.busy": "2022-07-09T23:26:19.285567Z",
     "iopub.status.idle": "2022-07-09T23:26:19.430839Z",
     "shell.execute_reply": "2022-07-09T23:26:19.429222Z"
    },
    "papermill": {
     "duration": 0.180964,
     "end_time": "2022-07-09T23:26:19.434648",
     "exception": false,
     "start_time": "2022-07-09T23:26:19.253684",
     "status": "completed"
    },
    "tags": []
   },
   "outputs": [
    {
     "data": {
      "text/plain": [
       "Text(0.5, 1.0, 'Number of serial killer by gender')"
      ]
     },
     "execution_count": 42,
     "metadata": {},
     "output_type": "execute_result"
    },
    {
     "data": {
      "image/png": "[encoded data removed]",
      "text/plain": [
       "<Figure size 720x720 with 1 Axes>"
      ]
     },
     "metadata": {},
     "output_type": "display_data"
    }
   ],
   "source": [
    "#pie plot \n",
    "label=serial_killer['Gender'].value_counts().index\n",
    "colors=['red','blue']\n",
    "explode = [0,0]\n",
    "sizes=serial_killer['Gender'].value_counts().values\n",
    "\n",
    "#visual\n",
    "plt.figure(figsize=(10,10))\n",
    "plt.pie(sizes,explode=explode,labels=label,colors=colors,autopct='%1.1f%%')\n",
    "plt.title('Number of serial killer by gender',color = 'blue',fontsize = 15)"
   ]
  },
  {
   "cell_type": "code",
   "execution_count": 43,
   "id": "ccd2c637",
   "metadata": {
    "execution": {
     "iopub.execute_input": "2022-07-09T23:26:19.521127Z",
     "iopub.status.busy": "2022-07-09T23:26:19.520707Z",
     "iopub.status.idle": "2022-07-09T23:26:19.768123Z",
     "shell.execute_reply": "2022-07-09T23:26:19.766319Z"
    },
    "papermill": {
     "duration": 0.282922,
     "end_time": "2022-07-09T23:26:19.770774",
     "exception": false,
     "start_time": "2022-07-09T23:26:19.487852",
     "status": "completed"
    },
    "tags": []
   },
   "outputs": [
    {
     "name": "stderr",
     "output_type": "stream",
     "text": [
      "/opt/conda/lib/python3.7/site-packages/seaborn/_decorators.py:43: FutureWarning: Pass the following variable as a keyword arg: x. From version 0.12, the only valid positional argument will be `data`, and passing other arguments without an explicit keyword will result in an error or misinterpretation.\n",
      "  FutureWarning\n"
     ]
    },
    {
     "data": {
      "image/png": "[encoded data removed]",
      "text/plain": [
       "<Figure size 432x288 with 1 Axes>"
      ]
     },
     "metadata": {
      "needs_background": "light"
     },
     "output_type": "display_data"
    }
   ],
   "source": [
    "sns.countplot(serial_killer['Manner of death'])\n",
    "plt.xticks(rotation=90)\n",
    "plt.show()"
   ]
  },
  {
   "cell_type": "code",
   "execution_count": 44,
   "id": "ef4642fc",
   "metadata": {
    "execution": {
     "iopub.execute_input": "2022-07-09T23:26:19.836211Z",
     "iopub.status.busy": "2022-07-09T23:26:19.835658Z",
     "iopub.status.idle": "2022-07-09T23:26:20.087380Z",
     "shell.execute_reply": "2022-07-09T23:26:20.086458Z"
    },
    "papermill": {
     "duration": 0.28725,
     "end_time": "2022-07-09T23:26:20.089744",
     "exception": false,
     "start_time": "2022-07-09T23:26:19.802494",
     "status": "completed"
    },
    "tags": []
   },
   "outputs": [
    {
     "data": {
      "text/plain": [
       "Text(0.5, 1.0, 'cause of death of serial killer')"
      ]
     },
     "execution_count": 44,
     "metadata": {},
     "output_type": "execute_result"
    },
    {
     "data": {
      "image/png": "[encoded data removed]",
      "text/plain": [
       "<Figure size 720x720 with 1 Axes>"
      ]
     },
     "metadata": {},
     "output_type": "display_data"
    }
   ],
   "source": [
    "#pie plot \n",
    "label=serial_killer['Manner of death'].value_counts().index\n",
    "colors=['red','blue','silver','green','brown','pink','black','yellow','purple','orange','white']\n",
    "explode = [0,0,0,0,0,0,0,0,0,0,0]\n",
    "sizes=serial_killer['Manner of death'].value_counts().values\n",
    "\n",
    "#visual\n",
    "plt.figure(figsize=(10,10))\n",
    "plt.pie(sizes,explode=explode,labels=label,colors=colors,autopct='%1.1f%%')\n",
    "plt.title('cause of death of serial killer',color = 'blue',fontsize = 15)"
   ]
  }
 ],
 "metadata": {
  "kernelspec": {
   "display_name": "Python 3",
   "language": "python",
   "name": "python3"
  },
  "language_info": {
   "codemirror_mode": {
    "name": "ipython",
    "version": 3
   },
   "file_extension": ".py",
   "mimetype": "text/x-python",
   "name": "python",
   "nbconvert_exporter": "python",
   "pygments_lexer": "ipython3",
   "version": "3.7.12"
  },
  "papermill": {
   "default_parameters": {},
   "duration": 36.839108,
   "end_time": "2022-07-09T23:26:21.146362",
   "environment_variables": {},
   "exception": null,
   "input_path": "__notebook__.ipynb",
   "output_path": "__notebook__.ipynb",
   "parameters": {},
   "start_time": "2022-07-09T23:25:44.307254",
   "version": "2.3.4"
  }
 },
 "nbformat": 4,
 "nbformat_minor": 5
}
